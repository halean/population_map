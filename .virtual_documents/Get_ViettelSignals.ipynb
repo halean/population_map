import time
import requests
import ast
import pandas as pd
from tqdm import tqdm


session = requests.Session()
def get_signals(lat, long):
  n = 1
  while n<300:
    try:
      print(f"https://opennetwork.viettel.vn/user-ws/troubleshoot/tile/stats/l4/{lat}/{long}")
      response = session.get(
          f"https://opennetwork.viettel.vn/user-ws/troubleshoot/tile/stats/l4/{lat}/{long}",
          timeout=10
      )
      #time.sleep(1)
      print(response.text)
      return response.text
    except KeyboardInterrupt:
        raise
    except Exception as e:
      print(e)
      n = n * 1.5
      time.sleep(n)
  raise




df = pd.read_csv("data/Processing/10_11_2023_danso_toado.csv")
# only usable columns
df = df[['ADM1', 'ADM2', 'ADM3', 'Pop', 'Mã', 'Tên Tiếng Anh',
       'Cấp', 'Mã QH', 'Mã TP', 'lat', 'lon']]


signals = [None] * len(df)



signals[i]


while any(s is None for s in signals):
    for i,(lat, lon) in enumerate(tqdm(df[["lat", "lon"]].values)):
        if signals[i] is None:
            signals[i] = get_signals(lat, lon)
        break
    break


df_signals = pd.DataFrame([
    ast.literal_eval(signal) if signal is not None
    else {"x": None, "y": None, "level": None, "label": None, "colorCode": None}
    for signal in signals
])
df_signals


df_final = pd.concat([df, df_signals], axis=1)
df_final.to_csv(filenam)



