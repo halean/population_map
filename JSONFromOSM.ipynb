{
 "cells": [
  {
   "cell_type": "code",
   "execution_count": 2,
   "id": "abbfecda-7f68-48bd-a5c8-520c803cd8ec",
   "metadata": {
    "tags": []
   },
   "outputs": [],
   "source": [
    "import json\n",
    "tmp = json.load(open(\"./export (1).geojson\", encoding=\"utf8\"))\n"
   ]
  },
  {
   "cell_type": "code",
   "execution_count": 11,
   "id": "88b5c2ab-94a0-4609-9855-70a404f12ae1",
   "metadata": {
    "tags": []
   },
   "outputs": [],
   "source": [
    "from shapely.geometry import Polygon\n"
   ]
  },
  {
   "cell_type": "code",
   "execution_count": 39,
   "id": "77699852-8e55-4112-85ea-a16ef7380be5",
   "metadata": {
    "tags": []
   },
   "outputs": [
    {
     "data": {
      "text/plain": [
       "0.0006944281236397974"
      ]
     },
     "execution_count": 39,
     "metadata": {},
     "output_type": "execute_result"
    }
   ],
   "source": [
    "polygon_coords = tmp[\"features\"][0][\"geometry\"][\"coordinates\"][0]\n",
    "poly = Polygon(polygon_coords)\n",
    "import geopandas as gpd\n",
    "\n",
    "# Create a GeoDataFrame\n",
    "gdf = gpd.GeoDataFrame([1], geometry=[poly], crs=\"EPSG:3\")\n",
    "area = gdf.to_crs(epsg=3406).geometry.area.iloc[0]  # EPSG:3857 is a projected CRS\n",
    "area"
   ]
  },
  {
   "cell_type": "code",
   "execution_count": 38,
   "id": "c055483e-a390-41db-b124-a4a447f10d72",
   "metadata": {
    "tags": []
   },
   "outputs": [
    {
     "data": {
      "text/plain": [
       "<Projected CRS: EPSG:3406>\n",
       "Name: VN-2000 / UTM zone 49N\n",
       "Axis Info [cartesian]:\n",
       "- E[east]: Easting (metre)\n",
       "- N[north]: Northing (metre)\n",
       "Area of Use:\n",
       "- name: Vietnam - onshore east of 108°E.\n",
       "- bounds: (108.0, 10.43, 109.53, 21.56)\n",
       "Coordinate Operation:\n",
       "- name: UTM zone 49N\n",
       "- method: Transverse Mercator\n",
       "Datum: Vietnam 2000\n",
       "- Ellipsoid: WGS 84\n",
       "- Prime Meridian: Greenwich"
      ]
     },
     "execution_count": 38,
     "metadata": {},
     "output_type": "execute_result"
    }
   ],
   "source": [
    "gdf.crs"
   ]
  },
  {
   "cell_type": "code",
   "execution_count": null,
   "id": "f683150e-81b4-460c-8057-c590f3dea455",
   "metadata": {},
   "outputs": [],
   "source": []
  }
 ],
 "metadata": {
  "kernelspec": {
   "display_name": "Python 3 (ipykernel)",
   "language": "python",
   "name": "python3"
  },
  "language_info": {
   "codemirror_mode": {
    "name": "ipython",
    "version": 3
   },
   "file_extension": ".py",
   "mimetype": "text/x-python",
   "name": "python",
   "nbconvert_exporter": "python",
   "pygments_lexer": "ipython3",
   "version": "3.8.0"
  }
 },
 "nbformat": 4,
 "nbformat_minor": 5
}
