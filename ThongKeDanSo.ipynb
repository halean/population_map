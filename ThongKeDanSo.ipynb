{
 "cells": [
  {
   "cell_type": "markdown",
   "id": "947c9b2a-aace-4472-8b76-8752e99254fc",
   "metadata": {},
   "source": [
    "This script does some automaton on http://portal.thongke.gov.vn/khodulieudanso2019/ to get the population of phuong xa. \n",
    "http://portal.thongke.gov.vn/khodulieudanso2019/ does not normally allow one to download this infomation. The script will expand all the Tinh\n",
    "thanhh quan huyen nodes. Some manual work remains.\n"
   ]
  },
  {
   "cell_type": "markdown",
   "id": "9d4a2df4-b084-4ed1-8115-e1a4b05bd1c2",
   "metadata": {},
   "source": [
    "[ChatGPT4]\n",
    "This script is using Selenium, a web automation tool, to interact with a web page. Here's a breakdown of what it does:\n",
    "\n",
    "Importing Required Exception Class:\n",
    "\n",
    "from selenium.common.exceptions import StaleElementReferenceException: This imports an exception class used to handle situations where a web element referenced by Selenium is no longer present in the DOM (Document Object Model).\n",
    "Defining the expanded Function:\n",
    "\n",
    "The expanded function is an expectation, a Selenium concept used in explicit waits. It's designed to wait for a specific condition to become true.\n",
    "The function checks if an element, known to be present on the DOM, is visible. An element is considered visible if it is displayed and has a height and width greater than 0.\n",
    "The function returns a nested _predicate function, which is called by Selenium's wait utility.\n",
    "The _predicate function tries to get the \"alt\" attribute of the element and checks if it equals \"[Collapse]\". If the element has become stale (i.e., it's no longer in the DOM, which throws a StaleElementReferenceException), the function returns True.\n",
    "Defining Delay and Finding Elements:\n",
    "\n",
    "delay = 60: This sets a delay of 60 seconds, which is used in the wait condition later.\n",
    "eall = list(driver.find_elements(By.XPATH,f\"//img[@alt='[Expand]']\")): This line finds all elements in the web page that are images with an \"alt\" attribute of \"[Expand]\" and stores them in a list.\n",
    "Iterative Click and Wait Process:\n",
    "\n",
    "The script enters a while loop, which continues as long as there are elements in eall.\n",
    "Inside the loop, the script clicks the last element in the eall list. This element is likely a button or a link that expands some content when clicked.\n",
    "WebDriverWait(driver, delay).until(expanded(e)): This line waits up to 60 seconds for the clicked element to become \"expanded\" (i.e., its \"alt\" attribute changes to \"[Collapse]\").\n",
    "After the wait, it refreshes the list eall by finding all elements that are still expandable.\n",
    "In summary, the script automates the process of clicking all expandable elements on a web page and waiting for each to expand before moving on to the next. This could be useful, for example, in expanding all sections of a dynamically-loaded web page."
   ]
  },
  {
   "cell_type": "code",
   "execution_count": 1,
   "id": "d76776ed-ed5c-4ae6-96df-63a979a665df",
   "metadata": {
    "tags": []
   },
   "outputs": [],
   "source": [
    "import time\n",
    "\n",
    "from selenium import webdriver\n",
    "\n",
    "\n",
    "\n",
    "driver = webdriver.Chrome()  # Optional argument, if not specified will search path.\n",
    "\n",
    "driver.get('http://portal.thongke.gov.vn/khodulieudanso2019/CubeDetail.aspx?CN=Cube1a_DansoChung&M=1&C=1');\n",
    "\n",
    "from selenium.webdriver.support.ui import WebDriverWait\n",
    "from selenium.webdriver.support import expected_conditions as EC\n",
    "from selenium.webdriver.common.by import By\n",
    "from selenium.common.exceptions import TimeoutException"
   ]
  },
  {
   "cell_type": "code",
   "execution_count": 20,
   "id": "c722dd4d-9d65-48ec-94e8-16eb9df60a3c",
   "metadata": {
    "tags": []
   },
   "outputs": [],
   "source": [
    "from selenium.common.exceptions import StaleElementReferenceException\n",
    "def expanded(element):\n",
    "    \"\"\"An expectation for checking that an element, known to be present on the\n",
    "    DOM of a page, whose alt attribute is still not \"Collapse\" (indicates that \n",
    "    it has expanded already)\n",
    "    Visibility means that the element is not only displayed but also has\n",
    "    a height and width that is greater than 0. element is the WebElement\n",
    "    returns the (same) WebElement once it is visible\n",
    "    \"\"\"\n",
    "\n",
    "    def _predicate(_):\n",
    "        try:\n",
    "            return element.get_attribute(\"alt\")==\"[Collapse]\"\n",
    "        except StaleElementReferenceException:\n",
    "            return True\n",
    "\n",
    "    return _predicate\n",
    "\n",
    "delay = 60\n",
    "can_expand = list(driver.find_elements(By.XPATH,f\"//img[@alt='[Expand]']\"))\n",
    "while len(can_expand)>0:\n",
    "    # trick: expand the last element, which make less paging problem\n",
    "    e = can_expand[-1]\n",
    "    e.click()\n",
    "    WebDriverWait(driver, delay).until(\n",
    "        expanded(e)\n",
    "    )\n",
    "    can_expand = list(driver.find_elements(By.XPATH,f\"//img[@alt='[Expand]']\"))"
   ]
  },
  {
   "cell_type": "code",
   "execution_count": 7,
   "id": "b9155988-0e7a-4d8c-a643-4b836a4ea9f1",
   "metadata": {
    "tags": []
   },
   "outputs": [
    {
     "ename": "WebDriverException",
     "evalue": "Message: unknown error: result.webdriverValue.value list is missing or empty in Runtime.callFunctionOn response\n  (Session info: chrome=119.0.6045.106)\nStacktrace:\n\tGetHandleVerifier [0x00EF4DE3+43907]\n\t(No symbol) [0x00E80741]\n\t(No symbol) [0x00D733ED]\n\t(No symbol) [0x00D76E26]\n\t(No symbol) [0x00D7879A]\n\t(No symbol) [0x00D78840]\n\t(No symbol) [0x00DA68C7]\n\t(No symbol) [0x00DA6C2B]\n\t(No symbol) [0x00DD6F9C]\n\t(No symbol) [0x00DC2BA4]\n\t(No symbol) [0x00DD55CA]\n\t(No symbol) [0x00DC2956]\n\t(No symbol) [0x00D9E17E]\n\t(No symbol) [0x00D9F32D]\n\tGetHandleVerifier [0x011A5AF9+2865305]\n\tGetHandleVerifier [0x011EE78B+3163435]\n\tGetHandleVerifier [0x011E8441+3138017]\n\tGetHandleVerifier [0x00F7E0F0+605840]\n\t(No symbol) [0x00E8A64C]\n\t(No symbol) [0x00E86638]\n\t(No symbol) [0x00E8675F]\n\t(No symbol) [0x00E78DB7]\n\tBaseThreadInitThunk [0x7757FCC9+25]\n\tRtlGetAppContainerNamedObjectPath [0x77BA7C6E+286]\n\tRtlGetAppContainerNamedObjectPath [0x77BA7C3E+238]\n",
     "output_type": "error",
     "traceback": [
      "\u001b[1;31m---------------------------------------------------------------------------\u001b[0m",
      "\u001b[1;31mWebDriverException\u001b[0m                        Traceback (most recent call last)",
      "Cell \u001b[1;32mIn[7], line 1\u001b[0m\n\u001b[1;32m----> 1\u001b[0m \u001b[43mdriver\u001b[49m\u001b[38;5;241;43m.\u001b[39;49m\u001b[43mfind_elements\u001b[49m\u001b[43m(\u001b[49m\u001b[43mBy\u001b[49m\u001b[38;5;241;43m.\u001b[39;49m\u001b[43mXPATH\u001b[49m\u001b[43m,\u001b[49m\u001b[38;5;124;43mf\u001b[39;49m\u001b[38;5;124;43m\"\u001b[39;49m\u001b[38;5;124;43m//img[@alt=\u001b[39;49m\u001b[38;5;124;43m'\u001b[39;49m\u001b[38;5;124;43m[Expand]\u001b[39;49m\u001b[38;5;124;43m'\u001b[39;49m\u001b[38;5;124;43m]\u001b[39;49m\u001b[38;5;124;43m\"\u001b[39;49m\u001b[43m)\u001b[49m\n",
      "File \u001b[1;32md:\\stable_baselines3_env\\lib\\site-packages\\selenium\\webdriver\\remote\\webdriver.py:768\u001b[0m, in \u001b[0;36mWebDriver.find_elements\u001b[1;34m(self, by, value)\u001b[0m\n\u001b[0;32m    764\u001b[0m     value \u001b[38;5;241m=\u001b[39m \u001b[38;5;124mf\u001b[39m\u001b[38;5;124m'\u001b[39m\u001b[38;5;124m[name=\u001b[39m\u001b[38;5;124m\"\u001b[39m\u001b[38;5;132;01m{\u001b[39;00mvalue\u001b[38;5;132;01m}\u001b[39;00m\u001b[38;5;124m\"\u001b[39m\u001b[38;5;124m]\u001b[39m\u001b[38;5;124m'\u001b[39m\n\u001b[0;32m    766\u001b[0m \u001b[38;5;66;03m# Return empty list if driver returns null\u001b[39;00m\n\u001b[0;32m    767\u001b[0m \u001b[38;5;66;03m# See https://github.com/SeleniumHQ/selenium/issues/4555\u001b[39;00m\n\u001b[1;32m--> 768\u001b[0m \u001b[38;5;28;01mreturn\u001b[39;00m \u001b[38;5;28;43mself\u001b[39;49m\u001b[38;5;241;43m.\u001b[39;49m\u001b[43mexecute\u001b[49m\u001b[43m(\u001b[49m\u001b[43mCommand\u001b[49m\u001b[38;5;241;43m.\u001b[39;49m\u001b[43mFIND_ELEMENTS\u001b[49m\u001b[43m,\u001b[49m\u001b[43m \u001b[49m\u001b[43m{\u001b[49m\u001b[38;5;124;43m\"\u001b[39;49m\u001b[38;5;124;43musing\u001b[39;49m\u001b[38;5;124;43m\"\u001b[39;49m\u001b[43m:\u001b[49m\u001b[43m \u001b[49m\u001b[43mby\u001b[49m\u001b[43m,\u001b[49m\u001b[43m \u001b[49m\u001b[38;5;124;43m\"\u001b[39;49m\u001b[38;5;124;43mvalue\u001b[39;49m\u001b[38;5;124;43m\"\u001b[39;49m\u001b[43m:\u001b[49m\u001b[43m \u001b[49m\u001b[43mvalue\u001b[49m\u001b[43m}\u001b[49m\u001b[43m)\u001b[49m[\u001b[38;5;124m\"\u001b[39m\u001b[38;5;124mvalue\u001b[39m\u001b[38;5;124m\"\u001b[39m] \u001b[38;5;129;01mor\u001b[39;00m []\n",
      "File \u001b[1;32md:\\stable_baselines3_env\\lib\\site-packages\\selenium\\webdriver\\remote\\webdriver.py:344\u001b[0m, in \u001b[0;36mWebDriver.execute\u001b[1;34m(self, driver_command, params)\u001b[0m\n\u001b[0;32m    342\u001b[0m response \u001b[38;5;241m=\u001b[39m \u001b[38;5;28mself\u001b[39m\u001b[38;5;241m.\u001b[39mcommand_executor\u001b[38;5;241m.\u001b[39mexecute(driver_command, params)\n\u001b[0;32m    343\u001b[0m \u001b[38;5;28;01mif\u001b[39;00m response:\n\u001b[1;32m--> 344\u001b[0m     \u001b[38;5;28;43mself\u001b[39;49m\u001b[38;5;241;43m.\u001b[39;49m\u001b[43merror_handler\u001b[49m\u001b[38;5;241;43m.\u001b[39;49m\u001b[43mcheck_response\u001b[49m\u001b[43m(\u001b[49m\u001b[43mresponse\u001b[49m\u001b[43m)\u001b[49m\n\u001b[0;32m    345\u001b[0m     response[\u001b[38;5;124m\"\u001b[39m\u001b[38;5;124mvalue\u001b[39m\u001b[38;5;124m\"\u001b[39m] \u001b[38;5;241m=\u001b[39m \u001b[38;5;28mself\u001b[39m\u001b[38;5;241m.\u001b[39m_unwrap_value(response\u001b[38;5;241m.\u001b[39mget(\u001b[38;5;124m\"\u001b[39m\u001b[38;5;124mvalue\u001b[39m\u001b[38;5;124m\"\u001b[39m, \u001b[38;5;28;01mNone\u001b[39;00m))\n\u001b[0;32m    346\u001b[0m     \u001b[38;5;28;01mreturn\u001b[39;00m response\n",
      "File \u001b[1;32md:\\stable_baselines3_env\\lib\\site-packages\\selenium\\webdriver\\remote\\errorhandler.py:229\u001b[0m, in \u001b[0;36mErrorHandler.check_response\u001b[1;34m(self, response)\u001b[0m\n\u001b[0;32m    227\u001b[0m         alert_text \u001b[38;5;241m=\u001b[39m value[\u001b[38;5;124m\"\u001b[39m\u001b[38;5;124malert\u001b[39m\u001b[38;5;124m\"\u001b[39m]\u001b[38;5;241m.\u001b[39mget(\u001b[38;5;124m\"\u001b[39m\u001b[38;5;124mtext\u001b[39m\u001b[38;5;124m\"\u001b[39m)\n\u001b[0;32m    228\u001b[0m     \u001b[38;5;28;01mraise\u001b[39;00m exception_class(message, screen, stacktrace, alert_text)  \u001b[38;5;66;03m# type: ignore[call-arg]  # mypy is not smart enough here\u001b[39;00m\n\u001b[1;32m--> 229\u001b[0m \u001b[38;5;28;01mraise\u001b[39;00m exception_class(message, screen, stacktrace)\n",
      "\u001b[1;31mWebDriverException\u001b[0m: Message: unknown error: result.webdriverValue.value list is missing or empty in Runtime.callFunctionOn response\n  (Session info: chrome=119.0.6045.106)\nStacktrace:\n\tGetHandleVerifier [0x00EF4DE3+43907]\n\t(No symbol) [0x00E80741]\n\t(No symbol) [0x00D733ED]\n\t(No symbol) [0x00D76E26]\n\t(No symbol) [0x00D7879A]\n\t(No symbol) [0x00D78840]\n\t(No symbol) [0x00DA68C7]\n\t(No symbol) [0x00DA6C2B]\n\t(No symbol) [0x00DD6F9C]\n\t(No symbol) [0x00DC2BA4]\n\t(No symbol) [0x00DD55CA]\n\t(No symbol) [0x00DC2956]\n\t(No symbol) [0x00D9E17E]\n\t(No symbol) [0x00D9F32D]\n\tGetHandleVerifier [0x011A5AF9+2865305]\n\tGetHandleVerifier [0x011EE78B+3163435]\n\tGetHandleVerifier [0x011E8441+3138017]\n\tGetHandleVerifier [0x00F7E0F0+605840]\n\t(No symbol) [0x00E8A64C]\n\t(No symbol) [0x00E86638]\n\t(No symbol) [0x00E8675F]\n\t(No symbol) [0x00E78DB7]\n\tBaseThreadInitThunk [0x7757FCC9+25]\n\tRtlGetAppContainerNamedObjectPath [0x77BA7C6E+286]\n\tRtlGetAppContainerNamedObjectPath [0x77BA7C3E+238]\n"
     ]
    }
   ],
   "source": [
    "Still nee "
   ]
  },
  {
   "cell_type": "code",
   "execution_count": null,
   "id": "22ba4409-8011-472f-8ef2-662723988a1e",
   "metadata": {},
   "outputs": [],
   "source": []
  }
 ],
 "metadata": {
  "kernelspec": {
   "display_name": "Python 3 (ipykernel)",
   "language": "python",
   "name": "python3"
  },
  "language_info": {
   "codemirror_mode": {
    "name": "ipython",
    "version": 3
   },
   "file_extension": ".py",
   "mimetype": "text/x-python",
   "name": "python",
   "nbconvert_exporter": "python",
   "pygments_lexer": "ipython3",
   "version": "3.8.0"
  }
 },
 "nbformat": 4,
 "nbformat_minor": 5
}
