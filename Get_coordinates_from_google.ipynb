{
 "cells": [
  {
   "cell_type": "code",
   "execution_count": 24,
   "id": "d0cc8ba4-c457-4c00-aec9-73e8c419f23d",
   "metadata": {
    "tags": []
   },
   "outputs": [],
   "source": [
    "import time\n",
    "\n",
    "from selenium import webdriver\n",
    "\n",
    "\n",
    "\n",
    "driver = webdriver.Chrome()  # Optional argument, if not specified will search path.\n",
    "\n",
    "\n",
    "\n",
    "from selenium.webdriver.support.ui import WebDriverWait\n",
    "from selenium.webdriver.support import expected_conditions as EC\n",
    "from selenium.webdriver.common.by import By\n",
    "from selenium.common.exceptions import TimeoutException"
   ]
  },
  {
   "cell_type": "code",
   "execution_count": 26,
   "id": "4009855d-7ddb-43a5-8c69-76402ba92f1f",
   "metadata": {
    "tags": []
   },
   "outputs": [
    {
     "data": {
      "text/plain": [
       "'X%C3%A3%20Nam%20S%C6%A1n%2C%20Huy%E1%BB%87n%20S%C3%B3c%20S%C6%A1n%2C%20Th%C3%A0nh%20ph%E1%BB%91%20H%C3%A0%20N%E1%BB%99i'"
      ]
     },
     "execution_count": 26,
     "metadata": {},
     "output_type": "execute_result"
    }
   ],
   "source": [
    "import json\n",
    "to_be_done = json.load(open(\"for_google.json\"))\n",
    "import urllib.parse\n",
    "urllib.parse.quote(to_be_done[0])"
   ]
  },
  {
   "cell_type": "code",
   "execution_count": 7,
   "id": "85421dd6-377d-4b1d-8f32-0c5c13ae0c31",
   "metadata": {
    "tags": []
   },
   "outputs": [],
   "source": [
    "driver.get(f'https://www.google.com/maps/search/{urllib.parse.quote(to_be_done[0])}');"
   ]
  },
  {
   "cell_type": "code",
   "execution_count": 8,
   "id": "d8974b88-0594-4f81-9966-b1dde5528989",
   "metadata": {
    "tags": []
   },
   "outputs": [
    {
     "data": {
      "text/plain": [
       "'Nam Sơn - Google Maps'"
      ]
     },
     "execution_count": 8,
     "metadata": {},
     "output_type": "execute_result"
    }
   ],
   "source": [
    "driver.title"
   ]
  },
  {
   "cell_type": "code",
   "execution_count": 31,
   "id": "73f0e83f-5e3a-47f9-b244-88efaf9ca1c5",
   "metadata": {
    "tags": []
   },
   "outputs": [],
   "source": [
    "import re\n",
    "if re.search(r\"(?P<lat>[1-2][0-9]\\.[0-9]+),(?P<long>[0-9]{2,3}\\.[0-9]+)\",driver.current_url):\n",
    "    print (re.search(r\"(?P<lat>[1-2][0-9]\\.[0-9]+),(?P<long>[0-9]{2,3}\\.[0-9]+)\",driver.current_url).groups())"
   ]
  },
  {
   "cell_type": "code",
   "execution_count": 34,
   "id": "f54f9bfb-6292-45bd-9c9c-6b9f95190d21",
   "metadata": {
    "tags": []
   },
   "outputs": [
    {
     "name": "stderr",
     "output_type": "stream",
     "text": [
      "100%|████████████████████████████████████████████████████████████████████████████████| 574/574 [00:28<00:00, 20.41it/s]\n"
     ]
    }
   ],
   "source": [
    "#results_google = [None]*len(to_be_done)\n",
    "from tqdm import tqdm\n",
    "for i in tqdm(range(len(to_be_done))):\n",
    "    if results_google[i] is not None:\n",
    "        continue\n",
    "    driver.get(\n",
    "        f'https://www.google.com/maps/search/{urllib.parse.quote(replace_prefix(to_be_done[i]))}'\n",
    "    )\n",
    "    time.sleep(2)\n",
    "    while driver.current_url == f'https://www.google.com/maps/search/{urllib.parse.quote(replace_prefix(to_be_done[i]))}':\n",
    "        time.sleep(1)\n",
    "    if re.search(r\"(?P<lat>[1-2]?[0-9]\\.[0-9]+),(?P<long>[0-9]{2,3}\\.[0-9]+)\",driver.current_url):\n",
    "        results_google[i] = re.search(r\"(?P<lat>[1-2]?[0-9]\\.[0-9]+),(?P<long>[0-9]{2,3}\\.[0-9]+)\",driver.current_url).groups()\n",
    "\n"
   ]
  },
  {
   "cell_type": "code",
   "execution_count": 28,
   "id": "dea80fa2-60b8-45d4-8aea-10a78c6f9697",
   "metadata": {
    "tags": []
   },
   "outputs": [],
   "source": [
    "def replace_prefix(x):\n",
    "  if isinstance(x, str):\n",
    "    x = x.replace(\"Xã \",\"\")\n",
    "    x = x.replace(\"Thị trấn \",\"\")\n",
    "    x = x.replace(\"Phường \",\"\")\n",
    "    x = x.replace(\"Thị Trấn \",\"\")\n",
    "    x = x.replace(\"Huyện \",\"\")\n",
    "    x = x.replace(\"Thành phố \",\"\")\n",
    "    x = x.replace(\"Thị xã \",\"\")\n",
    "    x = x.replace(\"Tỉnh \",\"\")\n",
    "  return x\n",
    "def replace_prefixADM3(x):\n",
    "  if isinstance(x, str):\n",
    "    x = x.replace(\"Xã \",\"\")\n",
    "    x = x.replace(\"Thị trấn \",\"\")\n",
    "    x = x.replace(\"Phường \",\"\")\n",
    "  return x"
   ]
  },
  {
   "cell_type": "code",
   "execution_count": 35,
   "id": "2dcdb0ae-435a-4dfb-a3b9-af59feae1d92",
   "metadata": {
    "tags": []
   },
   "outputs": [
    {
     "data": {
      "text/plain": [
       "[('Mường Nhà, Huyện Điện Biên, Tỉnh Điện Biên', 110),\n",
       " ('Mường Tè, Huyện Mường Tè, Tỉnh Lai Châu', 130),\n",
       " ('Mường Tè, Huyện Mường Tè, Tỉnh Lai Châu', 133),\n",
       " ('Pá Lau, Huyện Trạm Tấu, Tỉnh Yên Bái', 180),\n",
       " ('Quế Phước, Huyện Nông Sơn, Tỉnh Quảng Nam', 433)]"
      ]
     },
     "execution_count": 35,
     "metadata": {},
     "output_type": "execute_result"
    }
   ],
   "source": [
    "[(to_be_done[i],i) for i, result_google in enumerate(results_google) if result_google is None]"
   ]
  },
  {
   "cell_type": "code",
   "execution_count": 36,
   "id": "a2747611-6388-46b1-b18f-d0f543e00e1a",
   "metadata": {
    "tags": []
   },
   "outputs": [],
   "source": [
    "results_google[110] = (21.1152557,102.9046317)\n",
    "results_google[130] = (22.4743497,102.619003)\n",
    "results_google[133] = (22.4743497,102.619003)\n",
    "results_google[180] = (21.5522409,104.3494914)\n",
    "results_google[433] = (15.6708064,107.9903052)\n",
    "\n",
    "\n"
   ]
  },
  {
   "cell_type": "code",
   "execution_count": 79,
   "id": "ab40e600-f975-408f-8e7c-f20169bffb8a",
   "metadata": {
    "tags": []
   },
   "outputs": [
    {
     "data": {
      "text/html": [
       "<div>\n",
       "<style scoped>\n",
       "    .dataframe tbody tr th:only-of-type {\n",
       "        vertical-align: middle;\n",
       "    }\n",
       "\n",
       "    .dataframe tbody tr th {\n",
       "        vertical-align: top;\n",
       "    }\n",
       "\n",
       "    .dataframe thead th {\n",
       "        text-align: right;\n",
       "    }\n",
       "</style>\n",
       "<table border=\"1\" class=\"dataframe\">\n",
       "  <thead>\n",
       "    <tr style=\"text-align: right;\">\n",
       "      <th></th>\n",
       "      <th>0</th>\n",
       "      <th>lat</th>\n",
       "      <th>long</th>\n",
       "    </tr>\n",
       "  </thead>\n",
       "  <tbody>\n",
       "    <tr>\n",
       "      <th>0</th>\n",
       "      <td>Cao Đại, Huyện Vĩnh Tường, Tỉnh Vĩnh Phúc</td>\n",
       "      <td>21.252934</td>\n",
       "      <td>105.436049</td>\n",
       "    </tr>\n",
       "    <tr>\n",
       "      <th>1</th>\n",
       "      <td>Hợp Thành, Huyện Thuỷ Nguyên, Thành phố Hải Phòng</td>\n",
       "      <td>20.947612</td>\n",
       "      <td>106.601758</td>\n",
       "    </tr>\n",
       "    <tr>\n",
       "      <th>2</th>\n",
       "      <td>Cao Nhân, Huyện Thuỷ Nguyên, Thành phố Hải Phòng</td>\n",
       "      <td>20.937472</td>\n",
       "      <td>106.617980</td>\n",
       "    </tr>\n",
       "    <tr>\n",
       "      <th>3</th>\n",
       "      <td>Mỹ Đồng, Huyện Thuỷ Nguyên, Thành phố Hải Phòng</td>\n",
       "      <td>20.939892</td>\n",
       "      <td>106.631745</td>\n",
       "    </tr>\n",
       "    <tr>\n",
       "      <th>4</th>\n",
       "      <td>Đông Sơn, Huyện Thuỷ Nguyên, Thành phố Hải Phòng</td>\n",
       "      <td>20.940438</td>\n",
       "      <td>106.656137</td>\n",
       "    </tr>\n",
       "    <tr>\n",
       "      <th>...</th>\n",
       "      <td>...</td>\n",
       "      <td>...</td>\n",
       "      <td>...</td>\n",
       "    </tr>\n",
       "    <tr>\n",
       "      <th>923</th>\n",
       "      <td>Liên Nghĩa, Huyện Đức Trọng, Tỉnh Lâm Đồng</td>\n",
       "      <td>11.730075</td>\n",
       "      <td>108.361888</td>\n",
       "    </tr>\n",
       "    <tr>\n",
       "      <th>924</th>\n",
       "      <td>Tân Thành, Huyện Đức Trọng, Tỉnh Lâm Đồng</td>\n",
       "      <td>11.702067</td>\n",
       "      <td>108.269091</td>\n",
       "    </tr>\n",
       "    <tr>\n",
       "      <th>925</th>\n",
       "      <td>Di Linh, Huyện Di Linh, Tỉnh Lâm Đồng</td>\n",
       "      <td>11.518790</td>\n",
       "      <td>108.090486</td>\n",
       "    </tr>\n",
       "    <tr>\n",
       "      <th>926</th>\n",
       "      <td>Lục Sỹ Thành, Huyện Trà Ôn, Tỉnh Vĩnh Long</td>\n",
       "      <td>9.928776</td>\n",
       "      <td>105.937686</td>\n",
       "    </tr>\n",
       "    <tr>\n",
       "      <th>927</th>\n",
       "      <td>Ô Long Vỹ, Huyện Châu Phú, Tỉnh An Giang</td>\n",
       "      <td>10.587855</td>\n",
       "      <td>105.119537</td>\n",
       "    </tr>\n",
       "  </tbody>\n",
       "</table>\n",
       "<p>928 rows × 3 columns</p>\n",
       "</div>"
      ],
      "text/plain": [
       "                                                     0        lat        long\n",
       "0            Cao Đại, Huyện Vĩnh Tường, Tỉnh Vĩnh Phúc  21.252934  105.436049\n",
       "1    Hợp Thành, Huyện Thuỷ Nguyên, Thành phố Hải Phòng  20.947612  106.601758\n",
       "2     Cao Nhân, Huyện Thuỷ Nguyên, Thành phố Hải Phòng  20.937472  106.617980\n",
       "3      Mỹ Đồng, Huyện Thuỷ Nguyên, Thành phố Hải Phòng  20.939892  106.631745\n",
       "4     Đông Sơn, Huyện Thuỷ Nguyên, Thành phố Hải Phòng  20.940438  106.656137\n",
       "..                                                 ...        ...         ...\n",
       "923         Liên Nghĩa, Huyện Đức Trọng, Tỉnh Lâm Đồng  11.730075  108.361888\n",
       "924          Tân Thành, Huyện Đức Trọng, Tỉnh Lâm Đồng  11.702067  108.269091\n",
       "925              Di Linh, Huyện Di Linh, Tỉnh Lâm Đồng  11.518790  108.090486\n",
       "926         Lục Sỹ Thành, Huyện Trà Ôn, Tỉnh Vĩnh Long   9.928776  105.937686\n",
       "927           Ô Long Vỹ, Huyện Châu Phú, Tỉnh An Giang  10.587855  105.119537\n",
       "\n",
       "[928 rows x 3 columns]"
      ]
     },
     "execution_count": 79,
     "metadata": {},
     "output_type": "execute_result"
    }
   ],
   "source": [
    "import pandas as pd\n",
    "\n",
    "df = pd.DataFrame(to_be_done)\n",
    "df[[\"lat\",\"long\"]] = [[float(x[0]),float(x[1])] if x is not None else [None, None] for x in results_google]\n",
    "df"
   ]
  },
  {
   "cell_type": "code",
   "execution_count": 80,
   "id": "1a01ac44-c981-422a-96c0-be908a9b0651",
   "metadata": {
    "tags": []
   },
   "outputs": [],
   "source": [
    "df.to_csv(\"from_google_lat_long_4.csv\")"
   ]
  },
  {
   "cell_type": "code",
   "execution_count": 83,
   "id": "370762d9-6ddd-44cb-8c5e-03927cc76895",
   "metadata": {
    "tags": []
   },
   "outputs": [
    {
     "data": {
      "text/html": [
       "<div>\n",
       "<style scoped>\n",
       "    .dataframe tbody tr th:only-of-type {\n",
       "        vertical-align: middle;\n",
       "    }\n",
       "\n",
       "    .dataframe tbody tr th {\n",
       "        vertical-align: top;\n",
       "    }\n",
       "\n",
       "    .dataframe thead th {\n",
       "        text-align: right;\n",
       "    }\n",
       "</style>\n",
       "<table border=\"1\" class=\"dataframe\">\n",
       "  <thead>\n",
       "    <tr style=\"text-align: right;\">\n",
       "      <th></th>\n",
       "      <th>0</th>\n",
       "      <th>lat</th>\n",
       "      <th>long</th>\n",
       "    </tr>\n",
       "  </thead>\n",
       "  <tbody>\n",
       "    <tr>\n",
       "      <th>0</th>\n",
       "      <td>Cao Đại, Huyện Vĩnh Tường, Tỉnh Vĩnh Phúc</td>\n",
       "      <td>21.252934</td>\n",
       "      <td>105.436049</td>\n",
       "    </tr>\n",
       "    <tr>\n",
       "      <th>1</th>\n",
       "      <td>Hợp Thành, Huyện Thuỷ Nguyên, Thành phố Hải Phòng</td>\n",
       "      <td>20.947612</td>\n",
       "      <td>106.601758</td>\n",
       "    </tr>\n",
       "    <tr>\n",
       "      <th>2</th>\n",
       "      <td>Cao Nhân, Huyện Thuỷ Nguyên, Thành phố Hải Phòng</td>\n",
       "      <td>20.937472</td>\n",
       "      <td>106.617980</td>\n",
       "    </tr>\n",
       "    <tr>\n",
       "      <th>3</th>\n",
       "      <td>Mỹ Đồng, Huyện Thuỷ Nguyên, Thành phố Hải Phòng</td>\n",
       "      <td>20.939892</td>\n",
       "      <td>106.631745</td>\n",
       "    </tr>\n",
       "    <tr>\n",
       "      <th>4</th>\n",
       "      <td>Đông Sơn, Huyện Thuỷ Nguyên, Thành phố Hải Phòng</td>\n",
       "      <td>20.940438</td>\n",
       "      <td>106.656137</td>\n",
       "    </tr>\n",
       "    <tr>\n",
       "      <th>...</th>\n",
       "      <td>...</td>\n",
       "      <td>...</td>\n",
       "      <td>...</td>\n",
       "    </tr>\n",
       "    <tr>\n",
       "      <th>923</th>\n",
       "      <td>Liên Nghĩa, Huyện Đức Trọng, Tỉnh Lâm Đồng</td>\n",
       "      <td>11.730075</td>\n",
       "      <td>108.361888</td>\n",
       "    </tr>\n",
       "    <tr>\n",
       "      <th>924</th>\n",
       "      <td>Tân Thành, Huyện Đức Trọng, Tỉnh Lâm Đồng</td>\n",
       "      <td>11.702067</td>\n",
       "      <td>108.269091</td>\n",
       "    </tr>\n",
       "    <tr>\n",
       "      <th>925</th>\n",
       "      <td>Di Linh, Huyện Di Linh, Tỉnh Lâm Đồng</td>\n",
       "      <td>11.518790</td>\n",
       "      <td>108.090486</td>\n",
       "    </tr>\n",
       "    <tr>\n",
       "      <th>926</th>\n",
       "      <td>Lục Sỹ Thành, Huyện Trà Ôn, Tỉnh Vĩnh Long</td>\n",
       "      <td>9.928776</td>\n",
       "      <td>105.937686</td>\n",
       "    </tr>\n",
       "    <tr>\n",
       "      <th>927</th>\n",
       "      <td>Ô Long Vỹ, Huyện Châu Phú, Tỉnh An Giang</td>\n",
       "      <td>10.587855</td>\n",
       "      <td>105.119537</td>\n",
       "    </tr>\n",
       "  </tbody>\n",
       "</table>\n",
       "<p>928 rows × 3 columns</p>\n",
       "</div>"
      ],
      "text/plain": [
       "                                                     0        lat        long\n",
       "0            Cao Đại, Huyện Vĩnh Tường, Tỉnh Vĩnh Phúc  21.252934  105.436049\n",
       "1    Hợp Thành, Huyện Thuỷ Nguyên, Thành phố Hải Phòng  20.947612  106.601758\n",
       "2     Cao Nhân, Huyện Thuỷ Nguyên, Thành phố Hải Phòng  20.937472  106.617980\n",
       "3      Mỹ Đồng, Huyện Thuỷ Nguyên, Thành phố Hải Phòng  20.939892  106.631745\n",
       "4     Đông Sơn, Huyện Thuỷ Nguyên, Thành phố Hải Phòng  20.940438  106.656137\n",
       "..                                                 ...        ...         ...\n",
       "923         Liên Nghĩa, Huyện Đức Trọng, Tỉnh Lâm Đồng  11.730075  108.361888\n",
       "924          Tân Thành, Huyện Đức Trọng, Tỉnh Lâm Đồng  11.702067  108.269091\n",
       "925              Di Linh, Huyện Di Linh, Tỉnh Lâm Đồng  11.518790  108.090486\n",
       "926         Lục Sỹ Thành, Huyện Trà Ôn, Tỉnh Vĩnh Long   9.928776  105.937686\n",
       "927           Ô Long Vỹ, Huyện Châu Phú, Tỉnh An Giang  10.587855  105.119537\n",
       "\n",
       "[928 rows x 3 columns]"
      ]
     },
     "execution_count": 83,
     "metadata": {},
     "output_type": "execute_result"
    }
   ],
   "source": [
    "df"
   ]
  },
  {
   "cell_type": "code",
   "execution_count": 53,
   "id": "32dd4f73-7b68-4bd7-81c6-797562af0adb",
   "metadata": {
    "tags": []
   },
   "outputs": [],
   "source": [
    "df = pd.read_csv(\"for_google_2.csv\")\n",
    "to_be_done = df.apply(\n",
    "    lambda x: f\"{x['ADM3']}, {x['ADM2']}, {x['ADM1']}\",\n",
    "    axis=1\n",
    ").values\n"
   ]
  },
  {
   "cell_type": "code",
   "execution_count": 91,
   "id": "9d49e2e4-3159-426b-8fc7-ab55dafc00ed",
   "metadata": {
    "tags": []
   },
   "outputs": [
    {
     "data": {
      "text/plain": [
       "level\n",
       "Khá                   35524493\n",
       "Không có thông tin     1564997\n",
       "Rất tốt               38090372\n",
       "Tốt                   19430003\n",
       "Yếu                     320155\n",
       "Name: Pop, dtype: int64"
      ]
     },
     "execution_count": 91,
     "metadata": {},
     "output_type": "execute_result"
    }
   ],
   "source": [
    "df = pd.read_csv(\"09_11_2023_xa_ds_latlong.csv\")\n",
    "df.groupby(\"level\")[\"Pop\"].sum()"
   ]
  },
  {
   "cell_type": "code",
   "execution_count": 81,
   "id": "51546e4f-6f3e-40f1-b5ee-4823ad5ac133",
   "metadata": {
    "tags": []
   },
   "outputs": [],
   "source": [
    "import pandas as pd\n",
    "\n",
    "df_google_done = pd.read_csv(\"./from_google_lat_long.csv\")\n",
    "df_google_done_2 = pd.read_csv(\"./from_google_lat_long_2.csv\")\n",
    "df_google_done_3 = pd.read_csv(\"./from_google_lat_long_3.csv\")\n",
    "df_google_done_4 = pd.read_csv(\"./from_google_lat_long_4.csv\")"
   ]
  },
  {
   "cell_type": "code",
   "execution_count": 90,
   "id": "bd4b54d3-0197-4ebb-9749-6b1fdb23ff62",
   "metadata": {
    "tags": []
   },
   "outputs": [
    {
     "data": {
      "text/html": [
       "<div>\n",
       "<style scoped>\n",
       "    .dataframe tbody tr th:only-of-type {\n",
       "        vertical-align: middle;\n",
       "    }\n",
       "\n",
       "    .dataframe tbody tr th {\n",
       "        vertical-align: top;\n",
       "    }\n",
       "\n",
       "    .dataframe thead th {\n",
       "        text-align: right;\n",
       "    }\n",
       "</style>\n",
       "<table border=\"1\" class=\"dataframe\">\n",
       "  <thead>\n",
       "    <tr style=\"text-align: right;\">\n",
       "      <th></th>\n",
       "      <th>Unnamed: 0</th>\n",
       "      <th>0</th>\n",
       "      <th>lat</th>\n",
       "      <th>long</th>\n",
       "    </tr>\n",
       "  </thead>\n",
       "  <tbody>\n",
       "    <tr>\n",
       "      <th>0</th>\n",
       "      <td>0</td>\n",
       "      <td>Nam Sơn, Huyện Sóc Sơn, Thành phố Hà Nội</td>\n",
       "      <td>21.305125</td>\n",
       "      <td>105.815446</td>\n",
       "    </tr>\n",
       "    <tr>\n",
       "      <th>1</th>\n",
       "      <td>1</td>\n",
       "      <td>Trung Giã, Huyện Sóc Sơn, Thành phố Hà Nội</td>\n",
       "      <td>21.311264</td>\n",
       "      <td>105.880587</td>\n",
       "    </tr>\n",
       "    <tr>\n",
       "      <th>2</th>\n",
       "      <td>2</td>\n",
       "      <td>Đức Hoà, Huyện Sóc Sơn, Thành phố Hà Nội</td>\n",
       "      <td>21.228395</td>\n",
       "      <td>105.883181</td>\n",
       "    </tr>\n",
       "    <tr>\n",
       "      <th>3</th>\n",
       "      <td>3</td>\n",
       "      <td>Thuỵ Lâm, Huyện Đông Anh, Thành phố Hà Nội</td>\n",
       "      <td>21.177094</td>\n",
       "      <td>105.897037</td>\n",
       "    </tr>\n",
       "    <tr>\n",
       "      <th>4</th>\n",
       "      <td>4</td>\n",
       "      <td>Uy Nỗ, Huyện Đông Anh, Thành phố Hà Nội</td>\n",
       "      <td>21.146066</td>\n",
       "      <td>105.857227</td>\n",
       "    </tr>\n",
       "    <tr>\n",
       "      <th>...</th>\n",
       "      <td>...</td>\n",
       "      <td>...</td>\n",
       "      <td>...</td>\n",
       "      <td>...</td>\n",
       "    </tr>\n",
       "    <tr>\n",
       "      <th>4649</th>\n",
       "      <td>923</td>\n",
       "      <td>Liên Nghĩa, Huyện Đức Trọng, Tỉnh Lâm Đồng</td>\n",
       "      <td>11.730075</td>\n",
       "      <td>108.361888</td>\n",
       "    </tr>\n",
       "    <tr>\n",
       "      <th>4650</th>\n",
       "      <td>924</td>\n",
       "      <td>Tân Thành, Huyện Đức Trọng, Tỉnh Lâm Đồng</td>\n",
       "      <td>11.702067</td>\n",
       "      <td>108.269091</td>\n",
       "    </tr>\n",
       "    <tr>\n",
       "      <th>4651</th>\n",
       "      <td>925</td>\n",
       "      <td>Di Linh, Huyện Di Linh, Tỉnh Lâm Đồng</td>\n",
       "      <td>11.518790</td>\n",
       "      <td>108.090486</td>\n",
       "    </tr>\n",
       "    <tr>\n",
       "      <th>4652</th>\n",
       "      <td>926</td>\n",
       "      <td>Lục Sỹ Thành, Huyện Trà Ôn, Tỉnh Vĩnh Long</td>\n",
       "      <td>9.928776</td>\n",
       "      <td>105.937686</td>\n",
       "    </tr>\n",
       "    <tr>\n",
       "      <th>4653</th>\n",
       "      <td>927</td>\n",
       "      <td>Ô Long Vỹ, Huyện Châu Phú, Tỉnh An Giang</td>\n",
       "      <td>10.587855</td>\n",
       "      <td>105.119537</td>\n",
       "    </tr>\n",
       "  </tbody>\n",
       "</table>\n",
       "<p>3726 rows × 4 columns</p>\n",
       "</div>"
      ],
      "text/plain": [
       "      Unnamed: 0                                           0        lat  \\\n",
       "0              0    Nam Sơn, Huyện Sóc Sơn, Thành phố Hà Nội  21.305125   \n",
       "1              1  Trung Giã, Huyện Sóc Sơn, Thành phố Hà Nội  21.311264   \n",
       "2              2    Đức Hoà, Huyện Sóc Sơn, Thành phố Hà Nội  21.228395   \n",
       "3              3  Thuỵ Lâm, Huyện Đông Anh, Thành phố Hà Nội  21.177094   \n",
       "4              4     Uy Nỗ, Huyện Đông Anh, Thành phố Hà Nội  21.146066   \n",
       "...          ...                                         ...        ...   \n",
       "4649         923  Liên Nghĩa, Huyện Đức Trọng, Tỉnh Lâm Đồng  11.730075   \n",
       "4650         924   Tân Thành, Huyện Đức Trọng, Tỉnh Lâm Đồng  11.702067   \n",
       "4651         925       Di Linh, Huyện Di Linh, Tỉnh Lâm Đồng  11.518790   \n",
       "4652         926  Lục Sỹ Thành, Huyện Trà Ôn, Tỉnh Vĩnh Long   9.928776   \n",
       "4653         927    Ô Long Vỹ, Huyện Châu Phú, Tỉnh An Giang  10.587855   \n",
       "\n",
       "            long  \n",
       "0     105.815446  \n",
       "1     105.880587  \n",
       "2     105.883181  \n",
       "3     105.897037  \n",
       "4     105.857227  \n",
       "...          ...  \n",
       "4649  108.361888  \n",
       "4650  108.269091  \n",
       "4651  108.090486  \n",
       "4652  105.937686  \n",
       "4653  105.119537  \n",
       "\n",
       "[3726 rows x 4 columns]"
      ]
     },
     "execution_count": 90,
     "metadata": {},
     "output_type": "execute_result"
    }
   ],
   "source": [
    "df_google_done['0'] = df_google_done['0'].apply(\n",
    "    lambda x: replace_prefixADM3(x)\n",
    ")\n",
    "df_google = pd.concat([df_google_done,df_google_done_2, df_google_done_3, df_google_done_4], ignore_index=True)\n",
    "df_google = df_google[~df_google.lat.isna()]\n",
    "df_google"
   ]
  },
  {
   "cell_type": "code",
   "execution_count": 102,
   "id": "397ab6b0-3725-4e5d-af75-812c65e355a9",
   "metadata": {
    "tags": []
   },
   "outputs": [
    {
     "data": {
      "text/plain": [
       "86       [[21.0173704, 105.8461033]]\n",
       "87       [[21.0152786, 105.8560824]]\n",
       "132      [[21.3051245, 105.8154465]]\n",
       "133      [[21.3112643, 105.8805872]]\n",
       "146        [[21.228395, 105.883181]]\n",
       "                    ...             \n",
       "10700     [[9.2951537, 103.5008085]]\n",
       "10706    [[10.0390281, 105.7851005]]\n",
       "10708    [[10.0282098, 105.7832604]]\n",
       "10767     [[9.9917585, 105.6631536]]\n",
       "10813      [[9.9480635, 105.794553]]\n",
       "Length: 3701, dtype: object"
      ]
     },
     "execution_count": 102,
     "metadata": {},
     "output_type": "execute_result"
    }
   ],
   "source": [
    "df[df[\"lat\"].isna()].apply(lambda x: df_google[df_google['0']==f\"{x['ADM3']}, {x['ADM2']}, {x['ADM1']}\"][[\"lat\",\"long\"]].values, axis=1)"
   ]
  },
  {
   "cell_type": "code",
   "execution_count": 93,
   "id": "8e017fc2-a767-4e54-8ba5-9fd4594dd187",
   "metadata": {
    "tags": []
   },
   "outputs": [],
   "source": [
    "to_be_done = df[df[\"lat\"].isna() & df.apply(lambda x: f\"{x['ADM3']}, {x['ADM2']}, {x['ADM1']}\" not in df_google['0'].values, axis=1)].apply(\n",
    "    lambda x: f\"{x['ADM3']}, {x['ADM2']}, {x['ADM1']}\",\n",
    "    axis=1\n",
    ").values"
   ]
  },
  {
   "cell_type": "code",
   "execution_count": 116,
   "id": "6581bb8b-78e9-4eae-ad68-684dafef7abf",
   "metadata": {
    "tags": []
   },
   "outputs": [],
   "source": [
    "tmp = df[df[\"lat\"].isna()].apply(lambda x: df_google[df_google['0']==f\"{x['ADM3']}, {x['ADM2']}, {x['ADM1']}\"][[\"lat\",\"long\"]].values[0], axis=1)"
   ]
  },
  {
   "cell_type": "code",
   "execution_count": 128,
   "id": "4d54699d-54af-4adf-b068-bb1e65733f1b",
   "metadata": {},
   "outputs": [],
   "source": [
    "df[[\"lat\",\"lon\"]] = df.apply(\n",
    "    lambda x: x[[\"lat\",\"lon\"]] if not pd.isna(x.lat) else df_google[df_google['0']==f\"{x['ADM3']}, {x['ADM2']}, {x['ADM1']}\"][[\"lat\",\"long\"]].values[0],\n",
    "    axis=1\n",
    ")"
   ]
  },
  {
   "cell_type": "code",
   "execution_count": 17,
   "id": "8202aa28-e11b-4001-8e1c-3590032831b4",
   "metadata": {
    "tags": []
   },
   "outputs": [],
   "source": [
    "import pandas as pd\n",
    "df = pd.read_csv(\"10_11_2023_danso_toado.csv\")\n"
   ]
  },
  {
   "cell_type": "code",
   "execution_count": 58,
   "id": "af2695d6-87ff-4036-8ef8-50f4695efd0d",
   "metadata": {
    "tags": []
   },
   "outputs": [
    {
     "name": "stderr",
     "output_type": "stream",
     "text": [
      "  0%|                                                                                          | 0/574 [00:00<?, ?it/s]"
     ]
    },
    {
     "name": "stdout",
     "output_type": "stream",
     "text": [
      "https://opennetwork.viettel.vn/user-ws/troubleshoot/tile/stats/l4/21.278081/105.899904\n"
     ]
    },
    {
     "name": "stderr",
     "output_type": "stream",
     "text": [
      "  0%|▏                                                                                 | 1/574 [00:02<20:21,  2.13s/it]"
     ]
    },
    {
     "name": "stdout",
     "output_type": "stream",
     "text": [
      "{\"x\":416371,\"y\":230417,\"level\":\"layout4signalLv2\",\"label\":\"Tốt\",\"colorCode\":\"A6DBA0\"}\n",
      "https://opennetwork.viettel.vn/user-ws/troubleshoot/tile/stats/l4/21.1694837/105.6851291\n"
     ]
    },
    {
     "name": "stderr",
     "output_type": "stream",
     "text": [
      "  0%|▎                                                                                 | 2/574 [00:02<09:48,  1.03s/it]"
     ]
    },
    {
     "name": "stdout",
     "output_type": "stream",
     "text": [
      "{\"x\":416059,\"y\":230587,\"level\":\"layout4signalLv3\",\"label\":\"Khá\",\"colorCode\":\"FDB863\"}\n",
      "https://opennetwork.viettel.vn/user-ws/troubleshoot/tile/stats/l4/21.2012169/105.6273007\n"
     ]
    },
    {
     "name": "stderr",
     "output_type": "stream",
     "text": [
      "  1%|▍                                                                                 | 3/574 [00:03<10:24,  1.09s/it]"
     ]
    },
    {
     "name": "stdout",
     "output_type": "stream",
     "text": [
      "{\"x\":415974,\"y\":230537,\"level\":\"layout4signalLv3\",\"label\":\"Khá\",\"colorCode\":\"FDB863\"}\n",
      "https://opennetwork.viettel.vn/user-ws/troubleshoot/tile/stats/l4/21.161498/105.684461\n"
     ]
    },
    {
     "name": "stderr",
     "output_type": "stream",
     "text": [
      "  1%|▌                                                                                 | 4/574 [00:03<07:49,  1.21it/s]"
     ]
    },
    {
     "name": "stdout",
     "output_type": "stream",
     "text": [
      "{\"x\":416058,\"y\":230599,\"level\":\"layout4signalLv1\",\"label\":\"Rất tốt\",\"colorCode\":\"008837\"}\n",
      "https://opennetwork.viettel.vn/user-ws/troubleshoot/tile/stats/l4/23.1534326/105.3875629\n"
     ]
    },
    {
     "name": "stderr",
     "output_type": "stream",
     "text": [
      "  1%|▋                                                                                 | 5/574 [00:04<06:37,  1.43it/s]"
     ]
    },
    {
     "name": "stdout",
     "output_type": "stream",
     "text": [
      "{\"level\":\"signalLv0\",\"label\":\"Không có thông tin\",\"colorCode\":\"000000\"}\n",
      "https://opennetwork.viettel.vn/user-ws/troubleshoot/tile/stats/l4/22.9892003/105.3239535\n"
     ]
    },
    {
     "name": "stderr",
     "output_type": "stream",
     "text": [
      "  1%|▊                                                                                 | 6/574 [00:04<05:30,  1.72it/s]"
     ]
    },
    {
     "name": "stdout",
     "output_type": "stream",
     "text": [
      "{\"level\":\"signalLv0\",\"label\":\"Không có thông tin\",\"colorCode\":\"000000\"}\n",
      "https://opennetwork.viettel.vn/user-ws/troubleshoot/tile/stats/l4/22.9231565/105.2887875\n"
     ]
    },
    {
     "name": "stderr",
     "output_type": "stream",
     "text": [
      "  1%|█                                                                                 | 7/574 [00:05<04:47,  1.97it/s]"
     ]
    },
    {
     "name": "stdout",
     "output_type": "stream",
     "text": [
      "{\"level\":\"signalLv0\",\"label\":\"Không có thông tin\",\"colorCode\":\"000000\"}\n",
      "https://opennetwork.viettel.vn/user-ws/troubleshoot/tile/stats/l4/23.024995/105.0336849\n"
     ]
    },
    {
     "name": "stderr",
     "output_type": "stream",
     "text": [
      "  1%|█▏                                                                                | 8/574 [00:05<04:43,  2.00it/s]"
     ]
    },
    {
     "name": "stdout",
     "output_type": "stream",
     "text": [
      "{\"x\":415110,\"y\":227670,\"level\":\"layout4signalLv3\",\"label\":\"Khá\",\"colorCode\":\"FDB863\"}\n",
      "https://opennetwork.viettel.vn/user-ws/troubleshoot/tile/stats/l4/22.969828/104.908095\n"
     ]
    },
    {
     "name": "stderr",
     "output_type": "stream",
     "text": [
      "  2%|█▎                                                                                | 9/574 [00:06<04:23,  2.15it/s]"
     ]
    },
    {
     "name": "stdout",
     "output_type": "stream",
     "text": [
      "{\"level\":\"signalLv0\",\"label\":\"Không có thông tin\",\"colorCode\":\"000000\"}\n",
      "https://opennetwork.viettel.vn/user-ws/troubleshoot/tile/stats/l4/22.8902878/104.8074246\n"
     ]
    },
    {
     "name": "stderr",
     "output_type": "stream",
     "text": [
      "  2%|█▍                                                                               | 10/574 [00:06<04:24,  2.13it/s]"
     ]
    },
    {
     "name": "stdout",
     "output_type": "stream",
     "text": [
      "{\"x\":414780,\"y\":227883,\"level\":\"layout4signalLv2\",\"label\":\"Tốt\",\"colorCode\":\"A6DBA0\"}\n",
      "https://opennetwork.viettel.vn/user-ws/troubleshoot/tile/stats/l4/22.5646566/105.0592304\n"
     ]
    },
    {
     "name": "stderr",
     "output_type": "stream",
     "text": [
      "  2%|█▌                                                                               | 11/574 [00:06<04:03,  2.31it/s]"
     ]
    },
    {
     "name": "stdout",
     "output_type": "stream",
     "text": [
      "{\"level\":\"signalLv0\",\"label\":\"Không có thông tin\",\"colorCode\":\"000000\"}\n",
      "https://opennetwork.viettel.vn/user-ws/troubleshoot/tile/stats/l4/22.629649/105.3049865\n"
     ]
    },
    {
     "name": "stderr",
     "output_type": "stream",
     "text": [
      "  2%|█▋                                                                               | 12/574 [00:07<03:45,  2.49it/s]"
     ]
    },
    {
     "name": "stdout",
     "output_type": "stream",
     "text": [
      "{\"level\":\"signalLv0\",\"label\":\"Không có thông tin\",\"colorCode\":\"000000\"}\n",
      "https://opennetwork.viettel.vn/user-ws/troubleshoot/tile/stats/l4/22.6640739/104.5695877\n"
     ]
    },
    {
     "name": "stderr",
     "output_type": "stream",
     "text": [
      "  2%|█▊                                                                               | 13/574 [00:07<04:00,  2.34it/s]"
     ]
    },
    {
     "name": "stdout",
     "output_type": "stream",
     "text": [
      "{\"level\":\"signalLv0\",\"label\":\"Không có thông tin\",\"colorCode\":\"000000\"}\n",
      "https://opennetwork.viettel.vn/user-ws/troubleshoot/tile/stats/l4/22.5178096/104.8293676\n"
     ]
    },
    {
     "name": "stderr",
     "output_type": "stream",
     "text": [
      "  2%|█▉                                                                               | 14/574 [00:08<04:16,  2.18it/s]"
     ]
    },
    {
     "name": "stdout",
     "output_type": "stream",
     "text": [
      "{\"x\":414812,\"y\":228471,\"level\":\"layout4signalLv3\",\"label\":\"Khá\",\"colorCode\":\"FDB863\"}\n",
      "https://opennetwork.viettel.vn/user-ws/troubleshoot/tile/stats/l4/22.4386605/105.070501\n"
     ]
    },
    {
     "name": "stderr",
     "output_type": "stream",
     "text": [
      "  3%|██                                                                               | 15/574 [00:08<03:59,  2.33it/s]"
     ]
    },
    {
     "name": "stdout",
     "output_type": "stream",
     "text": [
      "{\"level\":\"signalLv0\",\"label\":\"Không có thông tin\",\"colorCode\":\"000000\"}\n",
      "https://opennetwork.viettel.vn/user-ws/troubleshoot/tile/stats/l4/22.2163745/104.8670429\n"
     ]
    },
    {
     "name": "stderr",
     "output_type": "stream",
     "text": [
      "  3%|██▎                                                                              | 16/574 [00:09<04:06,  2.26it/s]"
     ]
    },
    {
     "name": "stdout",
     "output_type": "stream",
     "text": [
      "{\"x\":414867,\"y\":228946,\"level\":\"layout4signalLv3\",\"label\":\"Khá\",\"colorCode\":\"FDB863\"}\n",
      "https://opennetwork.viettel.vn/user-ws/troubleshoot/tile/stats/l4/22.5010058/104.7518491\n"
     ]
    },
    {
     "name": "stderr",
     "output_type": "stream",
     "text": [
      "  3%|██▍                                                                              | 17/574 [00:10<06:19,  1.47it/s]"
     ]
    },
    {
     "name": "stdout",
     "output_type": "stream",
     "text": [
      "{\"level\":\"signalLv0\",\"label\":\"Không có thông tin\",\"colorCode\":\"000000\"}\n",
      "https://opennetwork.viettel.vn/user-ws/troubleshoot/tile/stats/l4/22.5016359/104.6691084\n"
     ]
    },
    {
     "name": "stderr",
     "output_type": "stream",
     "text": [
      "  3%|██▌                                                                              | 18/574 [00:10<05:28,  1.69it/s]"
     ]
    },
    {
     "name": "stdout",
     "output_type": "stream",
     "text": [
      "{\"level\":\"signalLv0\",\"label\":\"Không có thông tin\",\"colorCode\":\"000000\"}\n",
      "https://opennetwork.viettel.vn/user-ws/troubleshoot/tile/stats/l4/22.4925445/104.585934\n"
     ]
    },
    {
     "name": "stderr",
     "output_type": "stream",
     "text": [
      "  3%|██▋                                                                              | 19/574 [00:10<04:31,  2.04it/s]"
     ]
    },
    {
     "name": "stdout",
     "output_type": "stream",
     "text": [
      "{\"x\":414458,\"y\":228511,\"level\":\"layout4signalLv3\",\"label\":\"Khá\",\"colorCode\":\"FDB863\"}\n",
      "https://opennetwork.viettel.vn/user-ws/troubleshoot/tile/stats/l4/22.4503075/104.48414\n"
     ]
    },
    {
     "name": "stderr",
     "output_type": "stream",
     "text": [
      "  3%|██▊                                                                              | 20/574 [00:12<06:19,  1.46it/s]"
     ]
    },
    {
     "name": "stdout",
     "output_type": "stream",
     "text": [
      "{\"level\":\"signalLv0\",\"label\":\"Không có thông tin\",\"colorCode\":\"000000\"}\n",
      "https://opennetwork.viettel.vn/user-ws/troubleshoot/tile/stats/l4/22.8321749/105.3756811\n"
     ]
    },
    {
     "name": "stderr",
     "output_type": "stream",
     "text": [
      "  4%|██▉                                                                              | 21/574 [00:12<06:06,  1.51it/s]"
     ]
    },
    {
     "name": "stdout",
     "output_type": "stream",
     "text": [
      "{\"x\":415608,\"y\":227975,\"level\":\"layout4signalLv3\",\"label\":\"Khá\",\"colorCode\":\"FDB863\"}\n",
      "https://opennetwork.viettel.vn/user-ws/troubleshoot/tile/stats/l4/22.877484/105.3769824\n"
     ]
    },
    {
     "name": "stderr",
     "output_type": "stream",
     "text": [
      "  4%|███                                                                              | 22/574 [00:13<05:40,  1.62it/s]"
     ]
    },
    {
     "name": "stdout",
     "output_type": "stream",
     "text": [
      "{\"x\":415610,\"y\":227903,\"level\":\"layout4signalLv3\",\"label\":\"Khá\",\"colorCode\":\"FDB863\"}\n",
      "https://opennetwork.viettel.vn/user-ws/troubleshoot/tile/stats/l4/22.8104946/105.5401984\n"
     ]
    },
    {
     "name": "stderr",
     "output_type": "stream",
     "text": [
      "  4%|███▏                                                                             | 23/574 [00:13<05:44,  1.60it/s]"
     ]
    },
    {
     "name": "stdout",
     "output_type": "stream",
     "text": [
      "{\"level\":\"signalLv0\",\"label\":\"Không có thông tin\",\"colorCode\":\"000000\"}\n",
      "https://opennetwork.viettel.vn/user-ws/troubleshoot/tile/stats/l4/22.7463365/105.5842781\n"
     ]
    },
    {
     "name": "stderr",
     "output_type": "stream",
     "text": [
      "  4%|███▍                                                                             | 24/574 [00:14<04:57,  1.85it/s]"
     ]
    },
    {
     "name": "stdout",
     "output_type": "stream",
     "text": [
      "{\"level\":\"signalLv0\",\"label\":\"Không có thông tin\",\"colorCode\":\"000000\"}\n",
      "https://opennetwork.viettel.vn/user-ws/troubleshoot/tile/stats/l4/22.9541674/105.769875\n"
     ]
    },
    {
     "name": "stderr",
     "output_type": "stream",
     "text": [
      "  4%|███▌                                                                             | 25/574 [00:14<05:16,  1.74it/s]"
     ]
    },
    {
     "name": "stdout",
     "output_type": "stream",
     "text": [
      "{\"x\":416182,\"y\":227782,\"level\":\"layout4signalLv3\",\"label\":\"Khá\",\"colorCode\":\"FDB863\"}\n",
      "https://opennetwork.viettel.vn/user-ws/troubleshoot/tile/stats/l4/22.8658067/105.6619978\n"
     ]
    },
    {
     "name": "stderr",
     "output_type": "stream",
     "text": [
      "  5%|███▋                                                                             | 26/574 [00:16<07:36,  1.20it/s]"
     ]
    },
    {
     "name": "stdout",
     "output_type": "stream",
     "text": [
      "{\"x\":416025,\"y\":227922,\"level\":\"layout4signalLv3\",\"label\":\"Khá\",\"colorCode\":\"FDB863\"}\n",
      "https://opennetwork.viettel.vn/user-ws/troubleshoot/tile/stats/l4/22.8398516/105.8370091\n"
     ]
    },
    {
     "name": "stderr",
     "output_type": "stream",
     "text": [
      "  5%|███▊                                                                             | 27/574 [00:16<06:16,  1.45it/s]"
     ]
    },
    {
     "name": "stdout",
     "output_type": "stream",
     "text": [
      "{\"level\":\"signalLv0\",\"label\":\"Không có thông tin\",\"colorCode\":\"000000\"}\n",
      "https://opennetwork.viettel.vn/user-ws/troubleshoot/tile/stats/l4/22.7089764/105.6173069\n"
     ]
    },
    {
     "name": "stderr",
     "output_type": "stream",
     "text": [
      "  5%|███▉                                                                             | 28/574 [00:16<05:23,  1.69it/s]"
     ]
    },
    {
     "name": "stdout",
     "output_type": "stream",
     "text": [
      "{\"level\":\"signalLv0\",\"label\":\"Không có thông tin\",\"colorCode\":\"000000\"}\n",
      "https://opennetwork.viettel.vn/user-ws/troubleshoot/tile/stats/l4/22.754591/105.6854869\n"
     ]
    },
    {
     "name": "stderr",
     "output_type": "stream",
     "text": [
      "  5%|████                                                                             | 29/574 [00:18<08:04,  1.12it/s]"
     ]
    },
    {
     "name": "stdout",
     "output_type": "stream",
     "text": [
      "{\"x\":416059,\"y\":228098,\"level\":\"layout4signalLv3\",\"label\":\"Khá\",\"colorCode\":\"FDB863\"}\n",
      "https://opennetwork.viettel.vn/user-ws/troubleshoot/tile/stats/l4/22.7811935/105.8959816\n"
     ]
    },
    {
     "name": "stderr",
     "output_type": "stream",
     "text": [
      "  5%|████▏                                                                            | 30/574 [00:18<06:39,  1.36it/s]"
     ]
    },
    {
     "name": "stdout",
     "output_type": "stream",
     "text": [
      "{\"level\":\"signalLv0\",\"label\":\"Không có thông tin\",\"colorCode\":\"000000\"}\n",
      "https://opennetwork.viettel.vn/user-ws/troubleshoot/tile/stats/l4/22.8301514/106.245064\n"
     ]
    },
    {
     "name": "stderr",
     "output_type": "stream",
     "text": [
      "  5%|████▎                                                                            | 31/574 [00:19<05:37,  1.61it/s]"
     ]
    },
    {
     "name": "stdout",
     "output_type": "stream",
     "text": [
      "{\"level\":\"signalLv0\",\"label\":\"Không có thông tin\",\"colorCode\":\"000000\"}\n",
      "https://opennetwork.viettel.vn/user-ws/troubleshoot/tile/stats/l4/22.9202129/106.548028\n"
     ]
    },
    {
     "name": "stderr",
     "output_type": "stream",
     "text": [
      "  6%|████▌                                                                            | 32/574 [00:19<05:34,  1.62it/s]"
     ]
    },
    {
     "name": "stdout",
     "output_type": "stream",
     "text": [
      "{\"x\":417315,\"y\":227836,\"level\":\"layout4signalLv2\",\"label\":\"Tốt\",\"colorCode\":\"A6DBA0\"}\n",
      "https://opennetwork.viettel.vn/user-ws/troubleshoot/tile/stats/l4/22.8979444/106.5210129\n"
     ]
    },
    {
     "name": "stderr",
     "output_type": "stream",
     "text": [
      "  6%|████▋                                                                            | 33/574 [00:20<04:51,  1.86it/s]"
     ]
    },
    {
     "name": "stdout",
     "output_type": "stream",
     "text": [
      "{\"level\":\"signalLv0\",\"label\":\"Không có thông tin\",\"colorCode\":\"000000\"}\n",
      "https://opennetwork.viettel.vn/user-ws/troubleshoot/tile/stats/l4/22.8822615/106.4627767\n"
     ]
    },
    {
     "name": "stderr",
     "output_type": "stream",
     "text": [
      "  6%|████▊                                                                            | 34/574 [00:20<04:20,  2.07it/s]"
     ]
    },
    {
     "name": "stdout",
     "output_type": "stream",
     "text": [
      "{\"level\":\"signalLv0\",\"label\":\"Không có thông tin\",\"colorCode\":\"000000\"}\n",
      "https://opennetwork.viettel.vn/user-ws/troubleshoot/tile/stats/l4/22.8581394/106.4382505\n"
     ]
    },
    {
     "name": "stderr",
     "output_type": "stream",
     "text": [
      "  6%|████▉                                                                            | 35/574 [00:21<04:11,  2.14it/s]"
     ]
    },
    {
     "name": "stdout",
     "output_type": "stream",
     "text": [
      "{\"level\":\"signalLv0\",\"label\":\"Không có thông tin\",\"colorCode\":\"000000\"}\n",
      "https://opennetwork.viettel.vn/user-ws/troubleshoot/tile/stats/l4/22.8131688/106.7509747\n"
     ]
    },
    {
     "name": "stderr",
     "output_type": "stream",
     "text": [
      "  6%|█████                                                                            | 36/574 [00:21<03:53,  2.30it/s]"
     ]
    },
    {
     "name": "stdout",
     "output_type": "stream",
     "text": [
      "{\"level\":\"signalLv0\",\"label\":\"Không có thông tin\",\"colorCode\":\"000000\"}\n",
      "https://opennetwork.viettel.vn/user-ws/troubleshoot/tile/stats/l4/22.7123154/106.4319235\n"
     ]
    },
    {
     "name": "stderr",
     "output_type": "stream",
     "text": [
      "  6%|█████▏                                                                           | 37/574 [00:21<03:38,  2.46it/s]"
     ]
    },
    {
     "name": "stdout",
     "output_type": "stream",
     "text": [
      "{\"level\":\"signalLv0\",\"label\":\"Không có thông tin\",\"colorCode\":\"000000\"}\n",
      "https://opennetwork.viettel.vn/user-ws/troubleshoot/tile/stats/l4/22.708476/106.0308971\n"
     ]
    },
    {
     "name": "stderr",
     "output_type": "stream",
     "text": [
      "  7%|█████▎                                                                           | 38/574 [00:22<03:25,  2.61it/s]"
     ]
    },
    {
     "name": "stdout",
     "output_type": "stream",
     "text": [
      "{\"level\":\"signalLv0\",\"label\":\"Không có thông tin\",\"colorCode\":\"000000\"}\n",
      "https://opennetwork.viettel.vn/user-ws/troubleshoot/tile/stats/l4/22.6216909/106.1447524\n"
     ]
    },
    {
     "name": "stderr",
     "output_type": "stream",
     "text": [
      "  7%|█████▌                                                                           | 39/574 [00:22<03:27,  2.58it/s]"
     ]
    },
    {
     "name": "stdout",
     "output_type": "stream",
     "text": [
      "{\"level\":\"signalLv0\",\"label\":\"Không có thông tin\",\"colorCode\":\"000000\"}\n",
      "https://opennetwork.viettel.vn/user-ws/troubleshoot/tile/stats/l4/22.659461/105.9662455\n"
     ]
    },
    {
     "name": "stderr",
     "output_type": "stream",
     "text": [
      "  7%|█████▋                                                                           | 40/574 [00:22<03:41,  2.41it/s]"
     ]
    },
    {
     "name": "stdout",
     "output_type": "stream",
     "text": [
      "{\"x\":416468,\"y\":228248,\"level\":\"layout4signalLv2\",\"label\":\"Tốt\",\"colorCode\":\"A6DBA0\"}\n",
      "https://opennetwork.viettel.vn/user-ws/troubleshoot/tile/stats/l4/22.64432/105.7825221\n"
     ]
    },
    {
     "name": "stderr",
     "output_type": "stream",
     "text": [
      "  7%|█████▊                                                                           | 41/574 [00:23<03:29,  2.55it/s]"
     ]
    },
    {
     "name": "stdout",
     "output_type": "stream",
     "text": [
      "{\"level\":\"signalLv0\",\"label\":\"Không có thông tin\",\"colorCode\":\"000000\"}\n",
      "https://opennetwork.viettel.vn/user-ws/troubleshoot/tile/stats/l4/22.5928315/106.0752789\n"
     ]
    },
    {
     "name": "stderr",
     "output_type": "stream",
     "text": [
      "  7%|█████▉                                                                           | 42/574 [00:23<03:06,  2.85it/s]"
     ]
    },
    {
     "name": "stdout",
     "output_type": "stream",
     "text": [
      "{\"x\":416627,\"y\":228353,\"level\":\"layout4signalLv2\",\"label\":\"Tốt\",\"colorCode\":\"A6DBA0\"}\n",
      "https://opennetwork.viettel.vn/user-ws/troubleshoot/tile/stats/l4/22.556273/106.248305\n"
     ]
    },
    {
     "name": "stderr",
     "output_type": "stream",
     "text": [
      "  7%|██████                                                                           | 43/574 [00:23<03:05,  2.86it/s]"
     ]
    },
    {
     "name": "stdout",
     "output_type": "stream",
     "text": [
      "{\"level\":\"signalLv0\",\"label\":\"Không có thông tin\",\"colorCode\":\"000000\"}\n",
      "https://opennetwork.viettel.vn/user-ws/troubleshoot/tile/stats/l4/22.4391848/106.1544514\n"
     ]
    },
    {
     "name": "stderr",
     "output_type": "stream",
     "text": [
      "  8%|██████▏                                                                          | 44/574 [00:24<03:07,  2.83it/s]"
     ]
    },
    {
     "name": "stdout",
     "output_type": "stream",
     "text": [
      "{\"level\":\"signalLv0\",\"label\":\"Không có thông tin\",\"colorCode\":\"000000\"}\n",
      "https://opennetwork.viettel.vn/user-ws/troubleshoot/tile/stats/l4/22.6638338/105.6245113\n"
     ]
    },
    {
     "name": "stderr",
     "output_type": "stream",
     "text": [
      "  8%|██████▎                                                                          | 45/574 [00:25<05:33,  1.59it/s]"
     ]
    },
    {
     "name": "stdout",
     "output_type": "stream",
     "text": [
      "{\"level\":\"signalLv0\",\"label\":\"Không có thông tin\",\"colorCode\":\"000000\"}\n",
      "https://opennetwork.viettel.vn/user-ws/troubleshoot/tile/stats/l4/22.6261544/105.6567359\n"
     ]
    },
    {
     "name": "stderr",
     "output_type": "stream",
     "text": [
      "  8%|██████▍                                                                          | 46/574 [00:25<04:48,  1.83it/s]"
     ]
    },
    {
     "name": "stdout",
     "output_type": "stream",
     "text": [
      "{\"level\":\"signalLv0\",\"label\":\"Không có thông tin\",\"colorCode\":\"000000\"}\n",
      "https://opennetwork.viettel.vn/user-ws/troubleshoot/tile/stats/l4/22.6149519/105.5672835\n"
     ]
    },
    {
     "name": "stderr",
     "output_type": "stream",
     "text": [
      "  8%|██████▋                                                                          | 47/574 [00:27<06:30,  1.35it/s]"
     ]
    },
    {
     "name": "stdout",
     "output_type": "stream",
     "text": [
      "{\"level\":\"signalLv0\",\"label\":\"Không có thông tin\",\"colorCode\":\"000000\"}\n",
      "https://opennetwork.viettel.vn/user-ws/troubleshoot/tile/stats/l4/22.3753057/106.0661317\n"
     ]
    },
    {
     "name": "stderr",
     "output_type": "stream",
     "text": [
      "  8%|██████▊                                                                          | 48/574 [00:27<05:35,  1.57it/s]"
     ]
    },
    {
     "name": "stdout",
     "output_type": "stream",
     "text": [
      "{\"level\":\"signalLv0\",\"label\":\"Không có thông tin\",\"colorCode\":\"000000\"}\n",
      "https://opennetwork.viettel.vn/user-ws/troubleshoot/tile/stats/l4/22.254657/105.9401795\n"
     ]
    },
    {
     "name": "stderr",
     "output_type": "stream",
     "text": [
      "  9%|██████▉                                                                          | 49/574 [00:27<04:51,  1.80it/s]"
     ]
    },
    {
     "name": "stdout",
     "output_type": "stream",
     "text": [
      "{\"level\":\"signalLv0\",\"label\":\"Không có thông tin\",\"colorCode\":\"000000\"}\n",
      "https://opennetwork.viettel.vn/user-ws/troubleshoot/tile/stats/l4/22.212977/105.746069\n"
     ]
    },
    {
     "name": "stderr",
     "output_type": "stream",
     "text": [
      "  9%|███████                                                                          | 50/574 [00:28<04:14,  2.06it/s]"
     ]
    },
    {
     "name": "stdout",
     "output_type": "stream",
     "text": [
      "{\"level\":\"signalLv0\",\"label\":\"Không có thông tin\",\"colorCode\":\"000000\"}\n",
      "https://opennetwork.viettel.vn/user-ws/troubleshoot/tile/stats/l4/22.283928/105.6240615\n"
     ]
    },
    {
     "name": "stderr",
     "output_type": "stream",
     "text": [
      "  9%|███████▏                                                                         | 51/574 [00:28<04:09,  2.09it/s]"
     ]
    },
    {
     "name": "stdout",
     "output_type": "stream",
     "text": [
      "{\"level\":\"signalLv0\",\"label\":\"Không có thông tin\",\"colorCode\":\"000000\"}\n",
      "https://opennetwork.viettel.vn/user-ws/troubleshoot/tile/stats/l4/22.2163204/105.4714965\n"
     ]
    },
    {
     "name": "stderr",
     "output_type": "stream",
     "text": [
      "  9%|███████▎                                                                         | 52/574 [00:28<03:54,  2.23it/s]"
     ]
    },
    {
     "name": "stdout",
     "output_type": "stream",
     "text": [
      "{\"level\":\"signalLv0\",\"label\":\"Không có thông tin\",\"colorCode\":\"000000\"}\n",
      "https://opennetwork.viettel.vn/user-ws/troubleshoot/tile/stats/l4/22.0145163/105.8733559\n"
     ]
    },
    {
     "name": "stderr",
     "output_type": "stream",
     "text": [
      "  9%|███████▍                                                                         | 53/574 [00:29<03:38,  2.38it/s]"
     ]
    },
    {
     "name": "stdout",
     "output_type": "stream",
     "text": [
      "{\"level\":\"signalLv0\",\"label\":\"Không có thông tin\",\"colorCode\":\"000000\"}\n",
      "https://opennetwork.viettel.vn/user-ws/troubleshoot/tile/stats/l4/22.3343445/106.165587\n"
     ]
    },
    {
     "name": "stderr",
     "output_type": "stream",
     "text": [
      "  9%|███████▌                                                                         | 54/574 [00:29<03:28,  2.50it/s]"
     ]
    },
    {
     "name": "stdout",
     "output_type": "stream",
     "text": [
      "{\"level\":\"signalLv0\",\"label\":\"Không có thông tin\",\"colorCode\":\"000000\"}\n",
      "https://opennetwork.viettel.vn/user-ws/troubleshoot/tile/stats/l4/22.2445185/106.0196113\n"
     ]
    },
    {
     "name": "stderr",
     "output_type": "stream",
     "text": [
      " 10%|███████▊                                                                         | 55/574 [00:30<05:43,  1.51it/s]"
     ]
    },
    {
     "name": "stdout",
     "output_type": "stream",
     "text": [
      "{\"level\":\"signalLv0\",\"label\":\"Không có thông tin\",\"colorCode\":\"000000\"}\n",
      "https://opennetwork.viettel.vn/user-ws/troubleshoot/tile/stats/l4/22.282651/106.150205\n"
     ]
    },
    {
     "name": "stderr",
     "output_type": "stream",
     "text": [
      " 10%|███████▉                                                                         | 56/574 [00:31<05:10,  1.67it/s]"
     ]
    },
    {
     "name": "stdout",
     "output_type": "stream",
     "text": [
      "{\"level\":\"signalLv0\",\"label\":\"Không có thông tin\",\"colorCode\":\"000000\"}\n",
      "https://opennetwork.viettel.vn/user-ws/troubleshoot/tile/stats/l4/22.2036044/106.2054347\n"
     ]
    },
    {
     "name": "stderr",
     "output_type": "stream",
     "text": [
      " 10%|████████                                                                         | 57/574 [00:31<04:31,  1.91it/s]"
     ]
    },
    {
     "name": "stdout",
     "output_type": "stream",
     "text": [
      "{\"level\":\"signalLv0\",\"label\":\"Không có thông tin\",\"colorCode\":\"000000\"}\n",
      "https://opennetwork.viettel.vn/user-ws/troubleshoot/tile/stats/l4/22.2036916/106.0824395\n"
     ]
    },
    {
     "name": "stderr",
     "output_type": "stream",
     "text": [
      " 10%|████████▏                                                                        | 58/574 [00:32<03:59,  2.15it/s]"
     ]
    },
    {
     "name": "stdout",
     "output_type": "stream",
     "text": [
      "{\"level\":\"signalLv0\",\"label\":\"Không có thông tin\",\"colorCode\":\"000000\"}\n",
      "https://opennetwork.viettel.vn/user-ws/troubleshoot/tile/stats/l4/22.178422/106.101583\n"
     ]
    },
    {
     "name": "stderr",
     "output_type": "stream",
     "text": [
      " 10%|████████▎                                                                        | 59/574 [00:32<03:42,  2.32it/s]"
     ]
    },
    {
     "name": "stdout",
     "output_type": "stream",
     "text": [
      "{\"level\":\"signalLv0\",\"label\":\"Không có thông tin\",\"colorCode\":\"000000\"}\n",
      "https://opennetwork.viettel.vn/user-ws/troubleshoot/tile/stats/l4/22.139779/106.002691\n"
     ]
    },
    {
     "name": "stderr",
     "output_type": "stream",
     "text": [
      " 10%|████████▍                                                                        | 60/574 [00:32<03:37,  2.37it/s]"
     ]
    },
    {
     "name": "stdout",
     "output_type": "stream",
     "text": [
      "{\"level\":\"signalLv0\",\"label\":\"Không có thông tin\",\"colorCode\":\"000000\"}\n",
      "https://opennetwork.viettel.vn/user-ws/troubleshoot/tile/stats/l4/22.59351/105.1946394\n"
     ]
    },
    {
     "name": "stderr",
     "output_type": "stream",
     "text": [
      " 11%|████████▌                                                                        | 61/574 [00:33<03:53,  2.20it/s]"
     ]
    },
    {
     "name": "stdout",
     "output_type": "stream",
     "text": [
      "{\"level\":\"signalLv0\",\"label\":\"Không có thông tin\",\"colorCode\":\"000000\"}\n",
      "https://opennetwork.viettel.vn/user-ws/troubleshoot/tile/stats/l4/22.5280475/105.152409\n"
     ]
    },
    {
     "name": "stderr",
     "output_type": "stream",
     "text": [
      " 11%|████████▋                                                                        | 62/574 [00:33<03:34,  2.38it/s]"
     ]
    },
    {
     "name": "stdout",
     "output_type": "stream",
     "text": [
      "{\"level\":\"signalLv0\",\"label\":\"Không có thông tin\",\"colorCode\":\"000000\"}\n",
      "https://opennetwork.viettel.vn/user-ws/troubleshoot/tile/stats/l4/22.5537076/105.2941254\n"
     ]
    },
    {
     "name": "stderr",
     "output_type": "stream",
     "text": [
      " 11%|████████▉                                                                        | 63/574 [00:34<03:24,  2.50it/s]"
     ]
    },
    {
     "name": "stdout",
     "output_type": "stream",
     "text": [
      "{\"level\":\"signalLv0\",\"label\":\"Không có thông tin\",\"colorCode\":\"000000\"}\n",
      "https://opennetwork.viettel.vn/user-ws/troubleshoot/tile/stats/l4/22.4761255/105.339977\n"
     ]
    },
    {
     "name": "stderr",
     "output_type": "stream",
     "text": [
      " 11%|█████████                                                                        | 64/574 [00:34<03:15,  2.61it/s]"
     ]
    },
    {
     "name": "stdout",
     "output_type": "stream",
     "text": [
      "{\"level\":\"signalLv0\",\"label\":\"Không có thông tin\",\"colorCode\":\"000000\"}\n",
      "https://opennetwork.viettel.vn/user-ws/troubleshoot/tile/stats/l4/22.3530459/105.3979827\n"
     ]
    },
    {
     "name": "stderr",
     "output_type": "stream",
     "text": [
      " 11%|█████████▏                                                                       | 65/574 [00:35<04:31,  1.87it/s]"
     ]
    },
    {
     "name": "stdout",
     "output_type": "stream",
     "text": [
      "{\"x\":415640,\"y\":228731,\"level\":\"layout4signalLv2\",\"label\":\"Tốt\",\"colorCode\":\"A6DBA0\"}\n",
      "https://opennetwork.viettel.vn/user-ws/troubleshoot/tile/stats/l4/22.439775/105.4394645\n"
     ]
    },
    {
     "name": "stderr",
     "output_type": "stream",
     "text": [
      " 11%|█████████▎                                                                       | 66/574 [00:35<04:00,  2.11it/s]"
     ]
    },
    {
     "name": "stdout",
     "output_type": "stream",
     "text": [
      "{\"level\":\"signalLv0\",\"label\":\"Không có thông tin\",\"colorCode\":\"000000\"}\n",
      "https://opennetwork.viettel.vn/user-ws/troubleshoot/tile/stats/l4/22.2362289/105.2888419\n"
     ]
    },
    {
     "name": "stderr",
     "output_type": "stream",
     "text": [
      " 12%|█████████▍                                                                       | 67/574 [00:35<03:26,  2.45it/s]"
     ]
    },
    {
     "name": "stdout",
     "output_type": "stream",
     "text": [
      "{\"x\":415481,\"y\":228915,\"level\":\"layout4signalLv3\",\"label\":\"Khá\",\"colorCode\":\"FDB863\"}\n",
      "https://opennetwork.viettel.vn/user-ws/troubleshoot/tile/stats/l4/22.1498629/104.9021715\n"
     ]
    },
    {
     "name": "stderr",
     "output_type": "stream",
     "text": [
      " 12%|█████████▌                                                                       | 68/574 [00:36<03:13,  2.61it/s]"
     ]
    },
    {
     "name": "stdout",
     "output_type": "stream",
     "text": [
      "{\"level\":\"signalLv0\",\"label\":\"Không có thông tin\",\"colorCode\":\"000000\"}\n",
      "https://opennetwork.viettel.vn/user-ws/troubleshoot/tile/stats/l4/22.3768202/103.9564991\n"
     ]
    },
    {
     "name": "stderr",
     "output_type": "stream",
     "text": [
      " 12%|█████████▋                                                                       | 69/574 [00:36<03:09,  2.67it/s]"
     ]
    },
    {
     "name": "stdout",
     "output_type": "stream",
     "text": [
      "{\"level\":\"signalLv0\",\"label\":\"Không có thông tin\",\"colorCode\":\"000000\"}\n",
      "https://opennetwork.viettel.vn/user-ws/troubleshoot/tile/stats/l4/22.6268385/103.6033058\n"
     ]
    },
    {
     "name": "stderr",
     "output_type": "stream",
     "text": [
      " 12%|█████████▉                                                                       | 70/574 [00:36<03:02,  2.77it/s]"
     ]
    },
    {
     "name": "stdout",
     "output_type": "stream",
     "text": [
      "{\"level\":\"signalLv0\",\"label\":\"Không có thông tin\",\"colorCode\":\"000000\"}\n",
      "https://opennetwork.viettel.vn/user-ws/troubleshoot/tile/stats/l4/22.5578575/103.6301279\n"
     ]
    },
    {
     "name": "stderr",
     "output_type": "stream",
     "text": [
      " 12%|██████████                                                                       | 71/574 [00:37<03:00,  2.79it/s]"
     ]
    },
    {
     "name": "stdout",
     "output_type": "stream",
     "text": [
      "{\"level\":\"signalLv0\",\"label\":\"Không có thông tin\",\"colorCode\":\"000000\"}\n",
      "https://opennetwork.viettel.vn/user-ws/troubleshoot/tile/stats/l4/22.4614541/103.6345636\n"
     ]
    },
    {
     "name": "stderr",
     "output_type": "stream",
     "text": [
      " 13%|██████████▏                                                                      | 72/574 [00:37<02:55,  2.86it/s]"
     ]
    },
    {
     "name": "stdout",
     "output_type": "stream",
     "text": [
      "{\"level\":\"signalLv0\",\"label\":\"Không có thông tin\",\"colorCode\":\"000000\"}\n",
      "https://opennetwork.viettel.vn/user-ws/troubleshoot/tile/stats/l4/22.4903541/103.775471\n"
     ]
    },
    {
     "name": "stderr",
     "output_type": "stream",
     "text": [
      " 13%|██████████▎                                                                      | 73/574 [00:37<02:55,  2.86it/s]"
     ]
    },
    {
     "name": "stdout",
     "output_type": "stream",
     "text": [
      "{\"level\":\"signalLv0\",\"label\":\"Không có thông tin\",\"colorCode\":\"000000\"}\n",
      "https://opennetwork.viettel.vn/user-ws/troubleshoot/tile/stats/l4/22.460949/103.7212099\n"
     ]
    },
    {
     "name": "stderr",
     "output_type": "stream",
     "text": [
      " 13%|██████████▍                                                                      | 74/574 [00:38<02:51,  2.92it/s]"
     ]
    },
    {
     "name": "stdout",
     "output_type": "stream",
     "text": [
      "{\"level\":\"signalLv0\",\"label\":\"Không có thông tin\",\"colorCode\":\"000000\"}\n",
      "https://opennetwork.viettel.vn/user-ws/troubleshoot/tile/stats/l4/22.5627979/104.23195\n"
     ]
    },
    {
     "name": "stderr",
     "output_type": "stream",
     "text": [
      " 13%|██████████▌                                                                      | 75/574 [00:38<03:00,  2.76it/s]"
     ]
    },
    {
     "name": "stdout",
     "output_type": "stream",
     "text": [
      "{\"level\":\"signalLv0\",\"label\":\"Không có thông tin\",\"colorCode\":\"000000\"}\n",
      "https://opennetwork.viettel.vn/user-ws/troubleshoot/tile/stats/l4/22.3668309/104.5143735\n"
     ]
    },
    {
     "name": "stderr",
     "output_type": "stream",
     "text": [
      " 13%|██████████▋                                                                      | 76/574 [00:39<03:04,  2.70it/s]"
     ]
    },
    {
     "name": "stdout",
     "output_type": "stream",
     "text": [
      "{\"level\":\"signalLv0\",\"label\":\"Không có thông tin\",\"colorCode\":\"000000\"}\n",
      "https://opennetwork.viettel.vn/user-ws/troubleshoot/tile/stats/l4/22.1862682/104.5433793\n"
     ]
    },
    {
     "name": "stderr",
     "output_type": "stream",
     "text": [
      " 13%|██████████▊                                                                      | 77/574 [00:39<04:29,  1.85it/s]"
     ]
    },
    {
     "name": "stdout",
     "output_type": "stream",
     "text": [
      "{\"x\":414396,\"y\":228993,\"level\":\"layout4signalLv3\",\"label\":\"Khá\",\"colorCode\":\"FDB863\"}\n",
      "https://opennetwork.viettel.vn/user-ws/troubleshoot/tile/stats/l4/22.141294/104.539645\n"
     ]
    },
    {
     "name": "stderr",
     "output_type": "stream",
     "text": [
      " 14%|███████████                                                                      | 78/574 [00:40<04:07,  2.00it/s]"
     ]
    },
    {
     "name": "stdout",
     "output_type": "stream",
     "text": [
      "{\"level\":\"signalLv0\",\"label\":\"Không có thông tin\",\"colorCode\":\"000000\"}\n",
      "https://opennetwork.viettel.vn/user-ws/troubleshoot/tile/stats/l4/22.243959/103.8847495\n"
     ]
    },
    {
     "name": "stderr",
     "output_type": "stream",
     "text": [
      " 14%|███████████▏                                                                     | 79/574 [00:40<03:45,  2.20it/s]"
     ]
    },
    {
     "name": "stdout",
     "output_type": "stream",
     "text": [
      "{\"level\":\"signalLv0\",\"label\":\"Không có thông tin\",\"colorCode\":\"000000\"}\n",
      "https://opennetwork.viettel.vn/user-ws/troubleshoot/tile/stats/l4/22.2103475/103.930938\n"
     ]
    },
    {
     "name": "stderr",
     "output_type": "stream",
     "text": [
      " 14%|███████████▎                                                                     | 80/574 [00:41<03:28,  2.37it/s]"
     ]
    },
    {
     "name": "stdout",
     "output_type": "stream",
     "text": [
      "{\"level\":\"signalLv0\",\"label\":\"Không có thông tin\",\"colorCode\":\"000000\"}\n",
      "https://opennetwork.viettel.vn/user-ws/troubleshoot/tile/stats/l4/22.1835107/104.0239191\n"
     ]
    },
    {
     "name": "stderr",
     "output_type": "stream",
     "text": [
      " 14%|███████████▍                                                                     | 81/574 [00:42<05:20,  1.54it/s]"
     ]
    },
    {
     "name": "stdout",
     "output_type": "stream",
     "text": [
      "{\"level\":\"signalLv0\",\"label\":\"Không có thông tin\",\"colorCode\":\"000000\"}\n",
      "https://opennetwork.viettel.vn/user-ws/troubleshoot/tile/stats/l4/22.165629/104.134433\n"
     ]
    },
    {
     "name": "stderr",
     "output_type": "stream",
     "text": [
      " 14%|███████████▌                                                                     | 82/574 [00:42<04:38,  1.76it/s]"
     ]
    },
    {
     "name": "stdout",
     "output_type": "stream",
     "text": [
      "{\"level\":\"signalLv0\",\"label\":\"Không có thông tin\",\"colorCode\":\"000000\"}\n",
      "https://opennetwork.viettel.vn/user-ws/troubleshoot/tile/stats/l4/22.0282855/104.2602264\n"
     ]
    },
    {
     "name": "stderr",
     "output_type": "stream",
     "text": [
      " 14%|███████████▋                                                                     | 83/574 [00:43<04:22,  1.87it/s]"
     ]
    },
    {
     "name": "stdout",
     "output_type": "stream",
     "text": [
      "{\"level\":\"signalLv0\",\"label\":\"Không có thông tin\",\"colorCode\":\"000000\"}\n",
      "https://opennetwork.viettel.vn/user-ws/troubleshoot/tile/stats/l4/22.0083265/104.2683199\n"
     ]
    },
    {
     "name": "stderr",
     "output_type": "stream",
     "text": [
      " 15%|███████████▊                                                                     | 84/574 [00:43<03:51,  2.11it/s]"
     ]
    },
    {
     "name": "stdout",
     "output_type": "stream",
     "text": [
      "{\"level\":\"signalLv0\",\"label\":\"Không có thông tin\",\"colorCode\":\"000000\"}\n",
      "https://opennetwork.viettel.vn/user-ws/troubleshoot/tile/stats/l4/22.0241455/104.1801089\n"
     ]
    },
    {
     "name": "stderr",
     "output_type": "stream",
     "text": [
      " 15%|███████████▉                                                                     | 85/574 [00:43<03:33,  2.29it/s]"
     ]
    },
    {
     "name": "stdout",
     "output_type": "stream",
     "text": [
      "{\"level\":\"signalLv0\",\"label\":\"Không có thông tin\",\"colorCode\":\"000000\"}\n",
      "https://opennetwork.viettel.vn/user-ws/troubleshoot/tile/stats/l4/21.9735098/104.3782299\n"
     ]
    },
    {
     "name": "stderr",
     "output_type": "stream",
     "text": [
      " 15%|████████████▏                                                                    | 86/574 [00:44<03:17,  2.48it/s]"
     ]
    },
    {
     "name": "stdout",
     "output_type": "stream",
     "text": [
      "{\"level\":\"signalLv0\",\"label\":\"Không có thông tin\",\"colorCode\":\"000000\"}\n",
      "https://opennetwork.viettel.vn/user-ws/troubleshoot/tile/stats/l4/22.0269806/104.1099754\n"
     ]
    },
    {
     "name": "stderr",
     "output_type": "stream",
     "text": [
      " 15%|████████████▎                                                                    | 87/574 [00:44<03:31,  2.31it/s]"
     ]
    },
    {
     "name": "stdout",
     "output_type": "stream",
     "text": [
      "{\"level\":\"signalLv0\",\"label\":\"Không có thông tin\",\"colorCode\":\"000000\"}\n",
      "https://opennetwork.viettel.vn/user-ws/troubleshoot/tile/stats/l4/21.9780915/104.3166295\n"
     ]
    },
    {
     "name": "stderr",
     "output_type": "stream",
     "text": [
      " 15%|████████████▍                                                                    | 88/574 [00:44<03:15,  2.48it/s]"
     ]
    },
    {
     "name": "stdout",
     "output_type": "stream",
     "text": [
      "{\"level\":\"signalLv0\",\"label\":\"Không có thông tin\",\"colorCode\":\"000000\"}\n",
      "https://opennetwork.viettel.vn/user-ws/troubleshoot/tile/stats/l4/22.042482/103.9992361\n"
     ]
    },
    {
     "name": "stderr",
     "output_type": "stream",
     "text": [
      " 16%|████████████▌                                                                    | 89/574 [00:46<05:47,  1.39it/s]"
     ]
    },
    {
     "name": "stdout",
     "output_type": "stream",
     "text": [
      "{\"x\":413603,\"y\":229219,\"level\":\"layout4signalLv3\",\"label\":\"Khá\",\"colorCode\":\"FDB863\"}\n",
      "https://opennetwork.viettel.vn/user-ws/troubleshoot/tile/stats/l4/22.4520938/102.3233985\n"
     ]
    },
    {
     "name": "stderr",
     "output_type": "stream",
     "text": [
      " 16%|████████████▋                                                                    | 90/574 [00:46<04:50,  1.67it/s]"
     ]
    },
    {
     "name": "stdout",
     "output_type": "stream",
     "text": [
      "{\"level\":\"signalLv0\",\"label\":\"Không có thông tin\",\"colorCode\":\"000000\"}\n",
      "https://opennetwork.viettel.vn/user-ws/troubleshoot/tile/stats/l4/22.2757276/102.3776436\n"
     ]
    },
    {
     "name": "stderr",
     "output_type": "stream",
     "text": [
      " 16%|████████████▊                                                                    | 91/574 [00:47<04:26,  1.81it/s]"
     ]
    },
    {
     "name": "stdout",
     "output_type": "stream",
     "text": [
      "{\"level\":\"signalLv0\",\"label\":\"Không có thông tin\",\"colorCode\":\"000000\"}\n",
      "https://opennetwork.viettel.vn/user-ws/troubleshoot/tile/stats/l4/22.3512664/102.3468946\n"
     ]
    },
    {
     "name": "stderr",
     "output_type": "stream",
     "text": [
      " 16%|████████████▉                                                                    | 92/574 [00:47<03:53,  2.06it/s]"
     ]
    },
    {
     "name": "stdout",
     "output_type": "stream",
     "text": [
      "{\"level\":\"signalLv0\",\"label\":\"Không có thông tin\",\"colorCode\":\"000000\"}\n",
      "https://opennetwork.viettel.vn/user-ws/troubleshoot/tile/stats/l4/22.2184702/102.5106383\n"
     ]
    },
    {
     "name": "stderr",
     "output_type": "stream",
     "text": [
      " 16%|█████████████                                                                    | 93/574 [00:48<05:32,  1.45it/s]"
     ]
    },
    {
     "name": "stdout",
     "output_type": "stream",
     "text": [
      "{\"level\":\"signalLv0\",\"label\":\"Không có thông tin\",\"colorCode\":\"000000\"}\n",
      "https://opennetwork.viettel.vn/user-ws/troubleshoot/tile/stats/l4/22.0018106/103.2248353\n"
     ]
    },
    {
     "name": "stderr",
     "output_type": "stream",
     "text": [
      " 16%|█████████████▎                                                                   | 94/574 [00:48<04:40,  1.71it/s]"
     ]
    },
    {
     "name": "stdout",
     "output_type": "stream",
     "text": [
      "{\"level\":\"signalLv0\",\"label\":\"Không có thông tin\",\"colorCode\":\"000000\"}\n",
      "https://opennetwork.viettel.vn/user-ws/troubleshoot/tile/stats/l4/21.981266/103.0810099\n"
     ]
    },
    {
     "name": "stderr",
     "output_type": "stream",
     "text": [
      " 17%|█████████████▍                                                                   | 95/574 [00:49<04:07,  1.94it/s]"
     ]
    },
    {
     "name": "stdout",
     "output_type": "stream",
     "text": [
      "{\"level\":\"signalLv0\",\"label\":\"Không có thông tin\",\"colorCode\":\"000000\"}\n",
      "https://opennetwork.viettel.vn/user-ws/troubleshoot/tile/stats/l4/21.8421225/103.200202\n"
     ]
    },
    {
     "name": "stderr",
     "output_type": "stream",
     "text": [
      " 17%|█████████████▌                                                                   | 96/574 [00:49<03:47,  2.10it/s]"
     ]
    },
    {
     "name": "stdout",
     "output_type": "stream",
     "text": [
      "{\"level\":\"signalLv0\",\"label\":\"Không có thông tin\",\"colorCode\":\"000000\"}\n",
      "https://opennetwork.viettel.vn/user-ws/troubleshoot/tile/stats/l4/21.8074705/103.129735\n"
     ]
    },
    {
     "name": "stderr",
     "output_type": "stream",
     "text": [
      " 17%|█████████████▋                                                                   | 97/574 [00:50<04:22,  1.82it/s]"
     ]
    },
    {
     "name": "stdout",
     "output_type": "stream",
     "text": [
      "{\"x\":412337,\"y\":229588,\"level\":\"layout4signalLv3\",\"label\":\"Khá\",\"colorCode\":\"FDB863\"}\n",
      "https://opennetwork.viettel.vn/user-ws/troubleshoot/tile/stats/l4/21.9016116/103.0966472\n"
     ]
    },
    {
     "name": "stderr",
     "output_type": "stream",
     "text": [
      " 17%|█████████████▊                                                                   | 98/574 [00:50<03:52,  2.05it/s]"
     ]
    },
    {
     "name": "stdout",
     "output_type": "stream",
     "text": [
      "{\"level\":\"signalLv0\",\"label\":\"Không có thông tin\",\"colorCode\":\"000000\"}\n",
      "https://opennetwork.viettel.vn/user-ws/troubleshoot/tile/stats/l4/21.803997/103.0250506\n"
     ]
    },
    {
     "name": "stderr",
     "output_type": "stream",
     "text": [
      " 17%|█████████████▉                                                                   | 99/574 [00:51<04:42,  1.68it/s]"
     ]
    },
    {
     "name": "stdout",
     "output_type": "stream",
     "text": [
      "{\"x\":412185,\"y\":229594,\"level\":\"layout4signalLv3\",\"label\":\"Khá\",\"colorCode\":\"FDB863\"}\n",
      "https://opennetwork.viettel.vn/user-ws/troubleshoot/tile/stats/l4/21.884152/103.4795929\n"
     ]
    },
    {
     "name": "stderr",
     "output_type": "stream",
     "text": [
      " 17%|█████████████▉                                                                  | 100/574 [00:52<04:08,  1.91it/s]"
     ]
    },
    {
     "name": "stdout",
     "output_type": "stream",
     "text": [
      "{\"level\":\"signalLv0\",\"label\":\"Không có thông tin\",\"colorCode\":\"000000\"}\n",
      "https://opennetwork.viettel.vn/user-ws/troubleshoot/tile/stats/l4/21.7233185/103.2676164\n"
     ]
    },
    {
     "name": "stderr",
     "output_type": "stream",
     "text": [
      " 18%|██████████████                                                                  | 101/574 [00:53<05:33,  1.42it/s]"
     ]
    },
    {
     "name": "stdout",
     "output_type": "stream",
     "text": [
      "{\"level\":\"signalLv0\",\"label\":\"Không có thông tin\",\"colorCode\":\"000000\"}\n",
      "https://opennetwork.viettel.vn/user-ws/troubleshoot/tile/stats/l4/21.7453994/103.288629\n"
     ]
    },
    {
     "name": "stderr",
     "output_type": "stream",
     "text": [
      " 18%|██████████████▏                                                                 | 102/574 [00:53<04:39,  1.69it/s]"
     ]
    },
    {
     "name": "stdout",
     "output_type": "stream",
     "text": [
      "{\"level\":\"signalLv0\",\"label\":\"Không có thông tin\",\"colorCode\":\"000000\"}\n",
      "https://opennetwork.viettel.vn/user-ws/troubleshoot/tile/stats/l4/21.617618/103.262653\n"
     ]
    },
    {
     "name": "stderr",
     "output_type": "stream",
     "text": [
      " 18%|██████████████▎                                                                 | 103/574 [00:54<05:00,  1.57it/s]"
     ]
    },
    {
     "name": "stdout",
     "output_type": "stream",
     "text": [
      "{\"x\":412531,\"y\":229886,\"level\":\"layout4signalLv3\",\"label\":\"Khá\",\"colorCode\":\"FDB863\"}\n",
      "https://opennetwork.viettel.vn/user-ws/troubleshoot/tile/stats/l4/21.4974775/103.425529\n"
     ]
    },
    {
     "name": "stderr",
     "output_type": "stream",
     "text": [
      " 18%|██████████████▍                                                                 | 104/574 [00:55<06:20,  1.24it/s]"
     ]
    },
    {
     "name": "stdout",
     "output_type": "stream",
     "text": [
      "{\"level\":\"signalLv0\",\"label\":\"Không có thông tin\",\"colorCode\":\"000000\"}\n",
      "https://opennetwork.viettel.vn/user-ws/troubleshoot/tile/stats/l4/21.551577/102.9894232\n"
     ]
    },
    {
     "name": "stderr",
     "output_type": "stream",
     "text": [
      " 18%|██████████████▋                                                                 | 105/574 [00:55<05:16,  1.48it/s]"
     ]
    },
    {
     "name": "stdout",
     "output_type": "stream",
     "text": [
      "{\"level\":\"signalLv0\",\"label\":\"Không có thông tin\",\"colorCode\":\"000000\"}\n",
      "https://opennetwork.viettel.vn/user-ws/troubleshoot/tile/stats/l4/21.4533817/102.95228\n"
     ]
    },
    {
     "name": "stderr",
     "output_type": "stream",
     "text": [
      " 18%|██████████████▊                                                                 | 106/574 [00:57<06:40,  1.17it/s]"
     ]
    },
    {
     "name": "stdout",
     "output_type": "stream",
     "text": [
      "{\"level\":\"signalLv0\",\"label\":\"Không có thông tin\",\"colorCode\":\"000000\"}\n",
      "https://opennetwork.viettel.vn/user-ws/troubleshoot/tile/stats/l4/21.4144751/102.9569149\n"
     ]
    },
    {
     "name": "stderr",
     "output_type": "stream",
     "text": [
      " 19%|██████████████▉                                                                 | 107/574 [00:57<05:29,  1.42it/s]"
     ]
    },
    {
     "name": "stdout",
     "output_type": "stream",
     "text": [
      "{\"level\":\"signalLv0\",\"label\":\"Không có thông tin\",\"colorCode\":\"000000\"}\n",
      "https://opennetwork.viettel.vn/user-ws/troubleshoot/tile/stats/l4/21.3800354/102.9568094\n"
     ]
    },
    {
     "name": "stderr",
     "output_type": "stream",
     "text": [
      " 19%|███████████████                                                                 | 108/574 [00:57<04:24,  1.76it/s]"
     ]
    },
    {
     "name": "stdout",
     "output_type": "stream",
     "text": [
      "{\"x\":412085,\"y\":230258,\"level\":\"layout4signalLv3\",\"label\":\"Khá\",\"colorCode\":\"FDB863\"}\n",
      "https://opennetwork.viettel.vn/user-ws/troubleshoot/tile/stats/l4/21.3642495/102.9478383\n"
     ]
    },
    {
     "name": "stderr",
     "output_type": "stream",
     "text": [
      " 19%|███████████████▏                                                                | 109/574 [00:58<04:10,  1.86it/s]"
     ]
    },
    {
     "name": "stdout",
     "output_type": "stream",
     "text": [
      "{\"level\":\"signalLv0\",\"label\":\"Không có thông tin\",\"colorCode\":\"000000\"}\n",
      "https://opennetwork.viettel.vn/user-ws/troubleshoot/tile/stats/l4/21.2000922/102.9286336\n"
     ]
    },
    {
     "name": "stderr",
     "output_type": "stream",
     "text": [
      " 19%|███████████████▎                                                                | 110/574 [00:58<04:00,  1.93it/s]"
     ]
    },
    {
     "name": "stdout",
     "output_type": "stream",
     "text": [
      "{\"level\":\"signalLv0\",\"label\":\"Không có thông tin\",\"colorCode\":\"000000\"}\n",
      "https://opennetwork.viettel.vn/user-ws/troubleshoot/tile/stats/l4/21.1152557/102.9046317\n"
     ]
    },
    {
     "name": "stderr",
     "output_type": "stream",
     "text": [
      " 19%|███████████████▍                                                                | 111/574 [00:58<03:38,  2.12it/s]"
     ]
    },
    {
     "name": "stdout",
     "output_type": "stream",
     "text": [
      "{\"level\":\"signalLv0\",\"label\":\"Không có thông tin\",\"colorCode\":\"000000\"}\n",
      "https://opennetwork.viettel.vn/user-ws/troubleshoot/tile/stats/l4/21.2178431/103.0297039\n"
     ]
    },
    {
     "name": "stderr",
     "output_type": "stream",
     "text": [
      " 20%|███████████████▌                                                                | 112/574 [00:59<03:58,  1.94it/s]"
     ]
    },
    {
     "name": "stdout",
     "output_type": "stream",
     "text": [
      "{\"x\":412191,\"y\":230511,\"level\":\"layout4signalLv2\",\"label\":\"Tốt\",\"colorCode\":\"A6DBA0\"}\n",
      "https://opennetwork.viettel.vn/user-ws/troubleshoot/tile/stats/l4/21.3793465/103.1516965\n"
     ]
    },
    {
     "name": "stderr",
     "output_type": "stream",
     "text": [
      " 20%|███████████████▋                                                                | 113/574 [01:00<03:54,  1.97it/s]"
     ]
    },
    {
     "name": "stdout",
     "output_type": "stream",
     "text": [
      "{\"level\":\"signalLv0\",\"label\":\"Không có thông tin\",\"colorCode\":\"000000\"}\n",
      "https://opennetwork.viettel.vn/user-ws/troubleshoot/tile/stats/l4/21.2026509/103.3918404\n"
     ]
    },
    {
     "name": "stderr",
     "output_type": "stream",
     "text": [
      " 20%|███████████████▉                                                                | 114/574 [01:00<03:27,  2.21it/s]"
     ]
    },
    {
     "name": "stdout",
     "output_type": "stream",
     "text": [
      "{\"level\":\"signalLv0\",\"label\":\"Không có thông tin\",\"colorCode\":\"000000\"}\n",
      "https://opennetwork.viettel.vn/user-ws/troubleshoot/tile/stats/l4/21.1701539/103.2073816\n"
     ]
    },
    {
     "name": "stderr",
     "output_type": "stream",
     "text": [
      " 20%|████████████████                                                                | 115/574 [01:00<03:37,  2.11it/s]"
     ]
    },
    {
     "name": "stdout",
     "output_type": "stream",
     "text": [
      "{\"level\":\"signalLv0\",\"label\":\"Không có thông tin\",\"colorCode\":\"000000\"}\n",
      "https://opennetwork.viettel.vn/user-ws/troubleshoot/tile/stats/l4/21.0868276/103.2211074\n"
     ]
    },
    {
     "name": "stderr",
     "output_type": "stream",
     "text": [
      " 20%|████████████████▏                                                               | 116/574 [01:01<03:16,  2.33it/s]"
     ]
    },
    {
     "name": "stdout",
     "output_type": "stream",
     "text": [
      "{\"level\":\"signalLv0\",\"label\":\"Không có thông tin\",\"colorCode\":\"000000\"}\n",
      "https://opennetwork.viettel.vn/user-ws/troubleshoot/tile/stats/l4/21.57788/103.1559745\n"
     ]
    },
    {
     "name": "stderr",
     "output_type": "stream",
     "text": [
      " 20%|████████████████▎                                                               | 117/574 [01:01<03:07,  2.44it/s]"
     ]
    },
    {
     "name": "stdout",
     "output_type": "stream",
     "text": [
      "{\"level\":\"signalLv0\",\"label\":\"Không có thông tin\",\"colorCode\":\"000000\"}\n",
      "https://opennetwork.viettel.vn/user-ws/troubleshoot/tile/stats/l4/21.5873769/103.2157054\n"
     ]
    },
    {
     "name": "stderr",
     "output_type": "stream",
     "text": [
      " 21%|████████████████▍                                                               | 118/574 [01:01<02:56,  2.58it/s]"
     ]
    },
    {
     "name": "stdout",
     "output_type": "stream",
     "text": [
      "{\"level\":\"signalLv0\",\"label\":\"Không có thông tin\",\"colorCode\":\"000000\"}\n",
      "https://opennetwork.viettel.vn/user-ws/troubleshoot/tile/stats/l4/21.528456/103.311307\n"
     ]
    },
    {
     "name": "stderr",
     "output_type": "stream",
     "text": [
      " 21%|████████████████▌                                                               | 119/574 [01:02<03:03,  2.48it/s]"
     ]
    },
    {
     "name": "stdout",
     "output_type": "stream",
     "text": [
      "{\"level\":\"signalLv0\",\"label\":\"Không có thông tin\",\"colorCode\":\"000000\"}\n",
      "https://opennetwork.viettel.vn/user-ws/troubleshoot/tile/stats/l4/21.462385/103.264107\n"
     ]
    },
    {
     "name": "stderr",
     "output_type": "stream",
     "text": [
      " 21%|████████████████▋                                                               | 120/574 [01:03<05:47,  1.31it/s]"
     ]
    },
    {
     "name": "stdout",
     "output_type": "stream",
     "text": [
      "{\"level\":\"signalLv0\",\"label\":\"Không có thông tin\",\"colorCode\":\"000000\"}\n",
      "https://opennetwork.viettel.vn/user-ws/troubleshoot/tile/stats/l4/21.9779326/102.5889373\n"
     ]
    },
    {
     "name": "stderr",
     "output_type": "stream",
     "text": [
      " 21%|████████████████▊                                                               | 121/574 [01:04<04:50,  1.56it/s]"
     ]
    },
    {
     "name": "stdout",
     "output_type": "stream",
     "text": [
      "{\"level\":\"signalLv0\",\"label\":\"Không có thông tin\",\"colorCode\":\"000000\"}\n",
      "https://opennetwork.viettel.vn/user-ws/troubleshoot/tile/stats/l4/21.8773001/102.6854789\n"
     ]
    },
    {
     "name": "stderr",
     "output_type": "stream",
     "text": [
      " 21%|█████████████████                                                               | 122/574 [01:04<04:07,  1.83it/s]"
     ]
    },
    {
     "name": "stdout",
     "output_type": "stream",
     "text": [
      "{\"level\":\"signalLv0\",\"label\":\"Không có thông tin\",\"colorCode\":\"000000\"}\n",
      "https://opennetwork.viettel.vn/user-ws/troubleshoot/tile/stats/l4/21.725087/102.7297085\n"
     ]
    },
    {
     "name": "stderr",
     "output_type": "stream",
     "text": [
      " 21%|█████████████████▏                                                              | 123/574 [01:05<03:45,  2.00it/s]"
     ]
    },
    {
     "name": "stdout",
     "output_type": "stream",
     "text": [
      "{\"level\":\"signalLv0\",\"label\":\"Không có thông tin\",\"colorCode\":\"000000\"}\n",
      "https://opennetwork.viettel.vn/user-ws/troubleshoot/tile/stats/l4/21.8916759/102.6644684\n"
     ]
    },
    {
     "name": "stderr",
     "output_type": "stream",
     "text": [
      " 22%|█████████████████▎                                                              | 124/574 [01:05<03:52,  1.94it/s]"
     ]
    },
    {
     "name": "stdout",
     "output_type": "stream",
     "text": [
      "{\"level\":\"signalLv0\",\"label\":\"Không có thông tin\",\"colorCode\":\"000000\"}\n",
      "https://opennetwork.viettel.vn/user-ws/troubleshoot/tile/stats/l4/22.0431532/102.907161\n"
     ]
    },
    {
     "name": "stderr",
     "output_type": "stream",
     "text": [
      " 22%|█████████████████▍                                                              | 125/574 [01:05<03:34,  2.10it/s]"
     ]
    },
    {
     "name": "stdout",
     "output_type": "stream",
     "text": [
      "{\"level\":\"signalLv0\",\"label\":\"Không có thông tin\",\"colorCode\":\"000000\"}\n",
      "https://opennetwork.viettel.vn/user-ws/troubleshoot/tile/stats/l4/21.9530146/102.948358\n"
     ]
    },
    {
     "name": "stderr",
     "output_type": "stream",
     "text": [
      " 22%|█████████████████▌                                                              | 126/574 [01:06<03:12,  2.32it/s]"
     ]
    },
    {
     "name": "stdout",
     "output_type": "stream",
     "text": [
      "{\"level\":\"signalLv0\",\"label\":\"Không có thông tin\",\"colorCode\":\"000000\"}\n",
      "https://opennetwork.viettel.vn/user-ws/troubleshoot/tile/stats/l4/21.7618839/102.927781\n"
     ]
    },
    {
     "name": "stderr",
     "output_type": "stream",
     "text": [
      " 22%|█████████████████▋                                                              | 127/574 [01:06<03:42,  2.01it/s]"
     ]
    },
    {
     "name": "stdout",
     "output_type": "stream",
     "text": [
      "{\"x\":412043,\"y\":229660,\"level\":\"layout4signalLv2\",\"label\":\"Tốt\",\"colorCode\":\"A6DBA0\"}\n",
      "https://opennetwork.viettel.vn/user-ws/troubleshoot/tile/stats/l4/21.9037856/102.8759356\n"
     ]
    },
    {
     "name": "stderr",
     "output_type": "stream",
     "text": [
      " 22%|█████████████████▊                                                              | 128/574 [01:07<03:36,  2.06it/s]"
     ]
    },
    {
     "name": "stdout",
     "output_type": "stream",
     "text": [
      "{\"level\":\"signalLv0\",\"label\":\"Không có thông tin\",\"colorCode\":\"000000\"}\n",
      "https://opennetwork.viettel.vn/user-ws/troubleshoot/tile/stats/l4/22.3973755/103.3976555\n"
     ]
    },
    {
     "name": "stderr",
     "output_type": "stream",
     "text": [
      " 22%|█████████████████▉                                                              | 129/574 [01:07<03:28,  2.13it/s]"
     ]
    },
    {
     "name": "stdout",
     "output_type": "stream",
     "text": [
      "{\"level\":\"signalLv0\",\"label\":\"Không có thông tin\",\"colorCode\":\"000000\"}\n",
      "https://opennetwork.viettel.vn/user-ws/troubleshoot/tile/stats/l4/22.229722/103.5955114\n"
     ]
    },
    {
     "name": "stderr",
     "output_type": "stream",
     "text": [
      " 23%|██████████████████                                                              | 130/574 [01:08<03:09,  2.34it/s]"
     ]
    },
    {
     "name": "stdout",
     "output_type": "stream",
     "text": [
      "{\"level\":\"signalLv0\",\"label\":\"Không có thông tin\",\"colorCode\":\"000000\"}\n",
      "https://opennetwork.viettel.vn/user-ws/troubleshoot/tile/stats/l4/22.4743497/102.619003\n"
     ]
    },
    {
     "name": "stderr",
     "output_type": "stream",
     "text": [
      " 23%|██████████████████▎                                                             | 131/574 [01:08<03:44,  1.97it/s]"
     ]
    },
    {
     "name": "stdout",
     "output_type": "stream",
     "text": [
      "{\"x\":411593,\"y\":228540,\"level\":\"layout4signalLv1\",\"label\":\"Rất tốt\",\"colorCode\":\"008837\"}\n",
      "https://opennetwork.viettel.vn/user-ws/troubleshoot/tile/stats/l4/22.6318851/102.5543497\n"
     ]
    },
    {
     "name": "stderr",
     "output_type": "stream",
     "text": [
      " 23%|██████████████████▍                                                             | 132/574 [01:10<05:56,  1.24it/s]"
     ]
    },
    {
     "name": "stdout",
     "output_type": "stream",
     "text": [
      "{\"x\":411499,\"y\":228291,\"level\":\"layout4signalLv3\",\"label\":\"Khá\",\"colorCode\":\"FDB863\"}\n",
      "https://opennetwork.viettel.vn/user-ws/troubleshoot/tile/stats/l4/22.6125802/102.6854325\n"
     ]
    },
    {
     "name": "stderr",
     "output_type": "stream",
     "text": [
      " 23%|██████████████████▌                                                             | 133/574 [01:10<04:56,  1.49it/s]"
     ]
    },
    {
     "name": "stdout",
     "output_type": "stream",
     "text": [
      "{\"level\":\"signalLv0\",\"label\":\"Không có thông tin\",\"colorCode\":\"000000\"}\n",
      "https://opennetwork.viettel.vn/user-ws/troubleshoot/tile/stats/l4/22.4743497/102.619003\n"
     ]
    },
    {
     "name": "stderr",
     "output_type": "stream",
     "text": [
      " 23%|██████████████████▋                                                             | 134/574 [01:11<04:00,  1.83it/s]"
     ]
    },
    {
     "name": "stdout",
     "output_type": "stream",
     "text": [
      "{\"x\":411593,\"y\":228540,\"level\":\"layout4signalLv1\",\"label\":\"Rất tốt\",\"colorCode\":\"008837\"}\n",
      "https://opennetwork.viettel.vn/user-ws/troubleshoot/tile/stats/l4/22.466205/102.4757755\n"
     ]
    },
    {
     "name": "stderr",
     "output_type": "stream",
     "text": [
      " 24%|██████████████████▊                                                             | 135/574 [01:12<05:22,  1.36it/s]"
     ]
    },
    {
     "name": "stdout",
     "output_type": "stream",
     "text": [
      "{\"level\":\"signalLv0\",\"label\":\"Không có thông tin\",\"colorCode\":\"000000\"}\n",
      "https://opennetwork.viettel.vn/user-ws/troubleshoot/tile/stats/l4/22.2764025/103.216137\n"
     ]
    },
    {
     "name": "stderr",
     "output_type": "stream",
     "text": [
      " 24%|██████████████████▉                                                             | 136/574 [01:12<04:39,  1.57it/s]"
     ]
    },
    {
     "name": "stdout",
     "output_type": "stream",
     "text": [
      "{\"level\":\"signalLv0\",\"label\":\"Không có thông tin\",\"colorCode\":\"000000\"}\n",
      "https://opennetwork.viettel.vn/user-ws/troubleshoot/tile/stats/l4/21.923996/103.7503819\n"
     ]
    },
    {
     "name": "stderr",
     "output_type": "stream",
     "text": [
      " 24%|███████████████████                                                             | 137/574 [01:12<04:00,  1.82it/s]"
     ]
    },
    {
     "name": "stdout",
     "output_type": "stream",
     "text": [
      "{\"level\":\"signalLv0\",\"label\":\"Không có thông tin\",\"colorCode\":\"000000\"}\n",
      "https://opennetwork.viettel.vn/user-ws/troubleshoot/tile/stats/l4/22.1878715/103.660172\n"
     ]
    },
    {
     "name": "stderr",
     "output_type": "stream",
     "text": [
      " 24%|███████████████████▏                                                            | 138/574 [01:13<03:31,  2.06it/s]"
     ]
    },
    {
     "name": "stdout",
     "output_type": "stream",
     "text": [
      "{\"level\":\"signalLv0\",\"label\":\"Không có thông tin\",\"colorCode\":\"000000\"}\n",
      "https://opennetwork.viettel.vn/user-ws/troubleshoot/tile/stats/l4/22.254658/103.7683844\n"
     ]
    },
    {
     "name": "stderr",
     "output_type": "stream",
     "text": [
      " 24%|███████████████████▎                                                            | 139/574 [01:13<03:13,  2.25it/s]"
     ]
    },
    {
     "name": "stdout",
     "output_type": "stream",
     "text": [
      "{\"level\":\"signalLv0\",\"label\":\"Không có thông tin\",\"colorCode\":\"000000\"}\n",
      "https://opennetwork.viettel.vn/user-ws/troubleshoot/tile/stats/l4/22.128365/103.8921204\n"
     ]
    },
    {
     "name": "stderr",
     "output_type": "stream",
     "text": [
      " 24%|███████████████████▌                                                            | 140/574 [01:13<03:01,  2.39it/s]"
     ]
    },
    {
     "name": "stdout",
     "output_type": "stream",
     "text": [
      "{\"level\":\"signalLv0\",\"label\":\"Không có thông tin\",\"colorCode\":\"000000\"}\n",
      "https://opennetwork.viettel.vn/user-ws/troubleshoot/tile/stats/l4/22.3697922/103.0116487\n"
     ]
    },
    {
     "name": "stderr",
     "output_type": "stream",
     "text": [
      " 25%|███████████████████▋                                                            | 141/574 [01:14<02:54,  2.47it/s]"
     ]
    },
    {
     "name": "stdout",
     "output_type": "stream",
     "text": [
      "{\"level\":\"signalLv0\",\"label\":\"Không có thông tin\",\"colorCode\":\"000000\"}\n",
      "https://opennetwork.viettel.vn/user-ws/troubleshoot/tile/stats/l4/22.161334/103.1203245\n"
     ]
    },
    {
     "name": "stderr",
     "output_type": "stream",
     "text": [
      " 25%|███████████████████▊                                                            | 142/574 [01:14<02:46,  2.59it/s]"
     ]
    },
    {
     "name": "stdout",
     "output_type": "stream",
     "text": [
      "{\"level\":\"signalLv0\",\"label\":\"Không có thông tin\",\"colorCode\":\"000000\"}\n",
      "https://opennetwork.viettel.vn/user-ws/troubleshoot/tile/stats/l4/21.395809/103.85687\n"
     ]
    },
    {
     "name": "stderr",
     "output_type": "stream",
     "text": [
      " 25%|███████████████████▉                                                            | 143/574 [01:15<02:49,  2.54it/s]"
     ]
    },
    {
     "name": "stdout",
     "output_type": "stream",
     "text": [
      "{\"level\":\"signalLv0\",\"label\":\"Không có thông tin\",\"colorCode\":\"000000\"}\n",
      "https://opennetwork.viettel.vn/user-ws/troubleshoot/tile/stats/l4/21.9179541/103.6523152\n"
     ]
    },
    {
     "name": "stderr",
     "output_type": "stream",
     "text": [
      " 25%|████████████████████                                                            | 144/574 [01:15<02:42,  2.65it/s]"
     ]
    },
    {
     "name": "stdout",
     "output_type": "stream",
     "text": [
      "{\"level\":\"signalLv0\",\"label\":\"Không có thông tin\",\"colorCode\":\"000000\"}\n",
      "https://opennetwork.viettel.vn/user-ws/troubleshoot/tile/stats/l4/21.7489128/103.7209797\n"
     ]
    },
    {
     "name": "stderr",
     "output_type": "stream",
     "text": [
      " 25%|████████████████████▏                                                           | 145/574 [01:15<02:44,  2.61it/s]"
     ]
    },
    {
     "name": "stdout",
     "output_type": "stream",
     "text": [
      "{\"level\":\"signalLv0\",\"label\":\"Không có thông tin\",\"colorCode\":\"000000\"}\n",
      "https://opennetwork.viettel.vn/user-ws/troubleshoot/tile/stats/l4/21.6556078/103.6943722\n"
     ]
    },
    {
     "name": "stderr",
     "output_type": "stream",
     "text": [
      " 25%|████████████████████▎                                                           | 146/574 [01:16<03:24,  2.09it/s]"
     ]
    },
    {
     "name": "stdout",
     "output_type": "stream",
     "text": [
      "{\"x\":413159,\"y\":229826,\"level\":\"layout4signalLv3\",\"label\":\"Khá\",\"colorCode\":\"FDB863\"}\n",
      "https://opennetwork.viettel.vn/user-ws/troubleshoot/tile/stats/l4/21.3221251/103.7051868\n"
     ]
    },
    {
     "name": "stderr",
     "output_type": "stream",
     "text": [
      " 26%|████████████████████▍                                                           | 147/574 [01:16<03:10,  2.25it/s]"
     ]
    },
    {
     "name": "stdout",
     "output_type": "stream",
     "text": [
      "{\"level\":\"signalLv0\",\"label\":\"Không có thông tin\",\"colorCode\":\"000000\"}\n",
      "https://opennetwork.viettel.vn/user-ws/troubleshoot/tile/stats/l4/21.258338/103.7903675\n"
     ]
    },
    {
     "name": "stderr",
     "output_type": "stream",
     "text": [
      " 26%|████████████████████▋                                                           | 148/574 [01:17<03:04,  2.31it/s]"
     ]
    },
    {
     "name": "stdout",
     "output_type": "stream",
     "text": [
      "{\"level\":\"signalLv0\",\"label\":\"Không có thông tin\",\"colorCode\":\"000000\"}\n",
      "https://opennetwork.viettel.vn/user-ws/troubleshoot/tile/stats/l4/21.526372/104.1310105\n"
     ]
    },
    {
     "name": "stderr",
     "output_type": "stream",
     "text": [
      " 26%|████████████████████▊                                                           | 149/574 [01:18<04:41,  1.51it/s]"
     ]
    },
    {
     "name": "stdout",
     "output_type": "stream",
     "text": [
      "{\"level\":\"signalLv0\",\"label\":\"Không có thông tin\",\"colorCode\":\"000000\"}\n",
      "https://opennetwork.viettel.vn/user-ws/troubleshoot/tile/stats/l4/21.5040527/104.2153859\n"
     ]
    },
    {
     "name": "stderr",
     "output_type": "stream",
     "text": [
      " 26%|████████████████████▉                                                           | 150/574 [01:18<03:58,  1.78it/s]"
     ]
    },
    {
     "name": "stdout",
     "output_type": "stream",
     "text": [
      "{\"level\":\"signalLv0\",\"label\":\"Không có thông tin\",\"colorCode\":\"000000\"}\n",
      "https://opennetwork.viettel.vn/user-ws/troubleshoot/tile/stats/l4/21.3687695/104.2896295\n"
     ]
    },
    {
     "name": "stderr",
     "output_type": "stream",
     "text": [
      " 26%|█████████████████████                                                           | 151/574 [01:19<03:32,  1.99it/s]"
     ]
    },
    {
     "name": "stdout",
     "output_type": "stream",
     "text": [
      "{\"level\":\"signalLv0\",\"label\":\"Không có thông tin\",\"colorCode\":\"000000\"}\n",
      "https://opennetwork.viettel.vn/user-ws/troubleshoot/tile/stats/l4/21.2876965/104.4765534\n"
     ]
    },
    {
     "name": "stderr",
     "output_type": "stream",
     "text": [
      " 26%|█████████████████████▏                                                          | 152/574 [01:19<03:30,  2.00it/s]"
     ]
    },
    {
     "name": "stdout",
     "output_type": "stream",
     "text": [
      "{\"x\":414299,\"y\":230402,\"level\":\"layout4signalLv3\",\"label\":\"Khá\",\"colorCode\":\"FDB863\"}\n",
      "https://opennetwork.viettel.vn/user-ws/troubleshoot/tile/stats/l4/21.3404875/104.5004175\n"
     ]
    },
    {
     "name": "stderr",
     "output_type": "stream",
     "text": [
      " 27%|█████████████████████▎                                                          | 153/574 [01:20<03:15,  2.16it/s]"
     ]
    },
    {
     "name": "stdout",
     "output_type": "stream",
     "text": [
      "{\"level\":\"signalLv0\",\"label\":\"Không có thông tin\",\"colorCode\":\"000000\"}\n",
      "https://opennetwork.viettel.vn/user-ws/troubleshoot/tile/stats/l4/21.2848516/104.369645\n"
     ]
    },
    {
     "name": "stderr",
     "output_type": "stream",
     "text": [
      " 27%|█████████████████████▍                                                          | 154/574 [01:20<03:04,  2.28it/s]"
     ]
    },
    {
     "name": "stdout",
     "output_type": "stream",
     "text": [
      "{\"level\":\"signalLv0\",\"label\":\"Không có thông tin\",\"colorCode\":\"000000\"}\n",
      "https://opennetwork.viettel.vn/user-ws/troubleshoot/tile/stats/l4/21.0846905/104.4308785\n"
     ]
    },
    {
     "name": "stderr",
     "output_type": "stream",
     "text": [
      " 27%|█████████████████████▌                                                          | 155/574 [01:20<02:52,  2.43it/s]"
     ]
    },
    {
     "name": "stdout",
     "output_type": "stream",
     "text": [
      "{\"level\":\"signalLv0\",\"label\":\"Không có thông tin\",\"colorCode\":\"000000\"}\n",
      "https://opennetwork.viettel.vn/user-ws/troubleshoot/tile/stats/l4/21.3222501/104.5838549\n"
     ]
    },
    {
     "name": "stderr",
     "output_type": "stream",
     "text": [
      " 27%|█████████████████████▋                                                          | 156/574 [01:21<02:42,  2.57it/s]"
     ]
    },
    {
     "name": "stdout",
     "output_type": "stream",
     "text": [
      "{\"level\":\"signalLv0\",\"label\":\"Không có thông tin\",\"colorCode\":\"000000\"}\n",
      "https://opennetwork.viettel.vn/user-ws/troubleshoot/tile/stats/l4/21.2634695/104.6035955\n"
     ]
    },
    {
     "name": "stderr",
     "output_type": "stream",
     "text": [
      " 27%|█████████████████████▉                                                          | 157/574 [01:21<02:24,  2.88it/s]"
     ]
    },
    {
     "name": "stdout",
     "output_type": "stream",
     "text": [
      "{\"x\":414484,\"y\":230440,\"level\":\"layout4signalLv4\",\"label\":\"Yếu\",\"colorCode\":\"E66101\"}\n",
      "https://opennetwork.viettel.vn/user-ws/troubleshoot/tile/stats/l4/20.832906/104.4782335\n"
     ]
    },
    {
     "name": "stderr",
     "output_type": "stream",
     "text": [
      " 28%|██████████████████████                                                          | 158/574 [01:21<02:28,  2.80it/s]"
     ]
    },
    {
     "name": "stdout",
     "output_type": "stream",
     "text": [
      "{\"level\":\"signalLv0\",\"label\":\"Không có thông tin\",\"colorCode\":\"000000\"}\n",
      "https://opennetwork.viettel.vn/user-ws/troubleshoot/tile/stats/l4/21.0000965/104.4944954\n"
     ]
    },
    {
     "name": "stderr",
     "output_type": "stream",
     "text": [
      " 28%|██████████████████████▏                                                         | 159/574 [01:22<02:32,  2.73it/s]"
     ]
    },
    {
     "name": "stdout",
     "output_type": "stream",
     "text": [
      "{\"level\":\"signalLv0\",\"label\":\"Không có thông tin\",\"colorCode\":\"000000\"}\n",
      "https://opennetwork.viettel.vn/user-ws/troubleshoot/tile/stats/l4/21.0079364/104.3093276\n"
     ]
    },
    {
     "name": "stderr",
     "output_type": "stream",
     "text": [
      " 28%|██████████████████████▎                                                         | 160/574 [01:22<02:29,  2.76it/s]"
     ]
    },
    {
     "name": "stdout",
     "output_type": "stream",
     "text": [
      "{\"level\":\"signalLv0\",\"label\":\"Không có thông tin\",\"colorCode\":\"000000\"}\n",
      "https://opennetwork.viettel.vn/user-ws/troubleshoot/tile/stats/l4/21.1055699/103.8808655\n"
     ]
    },
    {
     "name": "stderr",
     "output_type": "stream",
     "text": [
      " 28%|██████████████████████▍                                                         | 161/574 [01:22<02:27,  2.80it/s]"
     ]
    },
    {
     "name": "stdout",
     "output_type": "stream",
     "text": [
      "{\"level\":\"signalLv0\",\"label\":\"Không có thông tin\",\"colorCode\":\"000000\"}\n",
      "https://opennetwork.viettel.vn/user-ws/troubleshoot/tile/stats/l4/21.1128315/103.471824\n"
     ]
    },
    {
     "name": "stderr",
     "output_type": "stream",
     "text": [
      " 28%|██████████████████████▌                                                         | 162/574 [01:23<02:13,  3.08it/s]"
     ]
    },
    {
     "name": "stdout",
     "output_type": "stream",
     "text": [
      "{\"x\":412835,\"y\":230675,\"level\":\"layout4signalLv4\",\"label\":\"Yếu\",\"colorCode\":\"E66101\"}\n",
      "https://opennetwork.viettel.vn/user-ws/troubleshoot/tile/stats/l4/21.1320195/103.5593814\n"
     ]
    },
    {
     "name": "stderr",
     "output_type": "stream",
     "text": [
      " 28%|██████████████████████▋                                                         | 163/574 [01:23<02:17,  2.98it/s]"
     ]
    },
    {
     "name": "stdout",
     "output_type": "stream",
     "text": [
      "{\"level\":\"signalLv0\",\"label\":\"Không có thông tin\",\"colorCode\":\"000000\"}\n",
      "https://opennetwork.viettel.vn/user-ws/troubleshoot/tile/stats/l4/21.0614667/103.5864402\n"
     ]
    },
    {
     "name": "stderr",
     "output_type": "stream",
     "text": [
      " 29%|██████████████████████▊                                                         | 164/574 [01:23<02:06,  3.23it/s]"
     ]
    },
    {
     "name": "stdout",
     "output_type": "stream",
     "text": [
      "{\"x\":413002,\"y\":230755,\"level\":\"layout4signalLv3\",\"label\":\"Khá\",\"colorCode\":\"FDB863\"}\n",
      "https://opennetwork.viettel.vn/user-ws/troubleshoot/tile/stats/l4/20.9851562/104.0097785\n"
     ]
    },
    {
     "name": "stderr",
     "output_type": "stream",
     "text": [
      " 29%|██████████████████████▉                                                         | 165/574 [01:24<02:17,  2.98it/s]"
     ]
    },
    {
     "name": "stdout",
     "output_type": "stream",
     "text": [
      "{\"level\":\"signalLv0\",\"label\":\"Không có thông tin\",\"colorCode\":\"000000\"}\n",
      "https://opennetwork.viettel.vn/user-ws/troubleshoot/tile/stats/l4/20.913289/103.7357515\n"
     ]
    },
    {
     "name": "stderr",
     "output_type": "stream",
     "text": [
      " 29%|███████████████████████▏                                                        | 166/574 [01:25<04:24,  1.54it/s]"
     ]
    },
    {
     "name": "stdout",
     "output_type": "stream",
     "text": [
      "{\"level\":\"signalLv0\",\"label\":\"Không có thông tin\",\"colorCode\":\"000000\"}\n",
      "https://opennetwork.viettel.vn/user-ws/troubleshoot/tile/stats/l4/20.863901/103.515895\n"
     ]
    },
    {
     "name": "stderr",
     "output_type": "stream",
     "text": [
      " 29%|███████████████████████▎                                                        | 167/574 [01:25<03:58,  1.71it/s]"
     ]
    },
    {
     "name": "stdout",
     "output_type": "stream",
     "text": [
      "{\"level\":\"signalLv0\",\"label\":\"Không có thông tin\",\"colorCode\":\"000000\"}\n",
      "https://opennetwork.viettel.vn/user-ws/troubleshoot/tile/stats/l4/20.8986164/103.3354234\n"
     ]
    },
    {
     "name": "stderr",
     "output_type": "stream",
     "text": [
      " 29%|███████████████████████▍                                                        | 168/574 [01:27<05:21,  1.26it/s]"
     ]
    },
    {
     "name": "stdout",
     "output_type": "stream",
     "text": [
      "{\"level\":\"signalLv0\",\"label\":\"Không có thông tin\",\"colorCode\":\"000000\"}\n",
      "https://opennetwork.viettel.vn/user-ws/troubleshoot/tile/stats/l4/20.8636162/104.9554842\n"
     ]
    },
    {
     "name": "stderr",
     "output_type": "stream",
     "text": [
      " 29%|███████████████████████▌                                                        | 169/574 [01:27<04:33,  1.48it/s]"
     ]
    },
    {
     "name": "stdout",
     "output_type": "stream",
     "text": [
      "{\"level\":\"signalLv0\",\"label\":\"Không có thông tin\",\"colorCode\":\"000000\"}\n",
      "https://opennetwork.viettel.vn/user-ws/troubleshoot/tile/stats/l4/20.7115944/104.7816662\n"
     ]
    },
    {
     "name": "stderr",
     "output_type": "stream",
     "text": [
      " 30%|███████████████████████▋                                                        | 170/574 [01:28<04:20,  1.55it/s]"
     ]
    },
    {
     "name": "stdout",
     "output_type": "stream",
     "text": [
      "{\"x\":414743,\"y\":231301,\"level\":\"layout4signalLv3\",\"label\":\"Khá\",\"colorCode\":\"FDB863\"}\n",
      "https://opennetwork.viettel.vn/user-ws/troubleshoot/tile/stats/l4/20.6301017/104.7393531\n"
     ]
    },
    {
     "name": "stderr",
     "output_type": "stream",
     "text": [
      " 30%|███████████████████████▊                                                        | 171/574 [01:28<03:53,  1.73it/s]"
     ]
    },
    {
     "name": "stdout",
     "output_type": "stream",
     "text": [
      "{\"level\":\"signalLv0\",\"label\":\"Không có thông tin\",\"colorCode\":\"000000\"}\n",
      "https://opennetwork.viettel.vn/user-ws/troubleshoot/tile/stats/l4/22.1797518/104.7206068\n"
     ]
    },
    {
     "name": "stderr",
     "output_type": "stream",
     "text": [
      " 30%|███████████████████████▉                                                        | 172/574 [01:28<03:13,  2.08it/s]"
     ]
    },
    {
     "name": "stdout",
     "output_type": "stream",
     "text": [
      "{\"x\":414654,\"y\":229004,\"level\":\"layout4signalLv2\",\"label\":\"Tốt\",\"colorCode\":\"A6DBA0\"}\n",
      "https://opennetwork.viettel.vn/user-ws/troubleshoot/tile/stats/l4/21.8813811/104.5184541\n"
     ]
    },
    {
     "name": "stderr",
     "output_type": "stream",
     "text": [
      " 30%|████████████████████████                                                        | 173/574 [01:29<02:58,  2.25it/s]"
     ]
    },
    {
     "name": "stdout",
     "output_type": "stream",
     "text": [
      "{\"level\":\"signalLv0\",\"label\":\"Không có thông tin\",\"colorCode\":\"000000\"}\n",
      "https://opennetwork.viettel.vn/user-ws/troubleshoot/tile/stats/l4/21.8208616/104.5842401\n"
     ]
    },
    {
     "name": "stderr",
     "output_type": "stream",
     "text": [
      " 30%|████████████████████████▎                                                       | 174/574 [01:29<03:02,  2.19it/s]"
     ]
    },
    {
     "name": "stdout",
     "output_type": "stream",
     "text": [
      "{\"x\":414455,\"y\":229567,\"level\":\"layout4signalLv4\",\"label\":\"Yếu\",\"colorCode\":\"E66101\"}\n",
      "https://opennetwork.viettel.vn/user-ws/troubleshoot/tile/stats/l4/21.7355248/104.6444749\n"
     ]
    },
    {
     "name": "stderr",
     "output_type": "stream",
     "text": [
      " 30%|████████████████████████▍                                                       | 175/574 [01:30<04:38,  1.43it/s]"
     ]
    },
    {
     "name": "stdout",
     "output_type": "stream",
     "text": [
      "{\"level\":\"signalLv0\",\"label\":\"Không có thông tin\",\"colorCode\":\"000000\"}\n",
      "https://opennetwork.viettel.vn/user-ws/troubleshoot/tile/stats/l4/21.8591486/104.306293\n"
     ]
    },
    {
     "name": "stderr",
     "output_type": "stream",
     "text": [
      " 31%|████████████████████████▌                                                       | 176/574 [01:31<03:57,  1.67it/s]"
     ]
    },
    {
     "name": "stdout",
     "output_type": "stream",
     "text": [
      "{\"level\":\"signalLv0\",\"label\":\"Không có thông tin\",\"colorCode\":\"000000\"}\n",
      "https://opennetwork.viettel.vn/user-ws/troubleshoot/tile/stats/l4/21.8238965/104.0788694\n"
     ]
    },
    {
     "name": "stderr",
     "output_type": "stream",
     "text": [
      " 31%|████████████████████████▋                                                       | 177/574 [01:31<03:31,  1.87it/s]"
     ]
    },
    {
     "name": "stdout",
     "output_type": "stream",
     "text": [
      "{\"level\":\"signalLv0\",\"label\":\"Không có thông tin\",\"colorCode\":\"000000\"}\n",
      "https://opennetwork.viettel.vn/user-ws/troubleshoot/tile/stats/l4/21.78217/104.1295221\n"
     ]
    },
    {
     "name": "stderr",
     "output_type": "stream",
     "text": [
      " 31%|████████████████████████▊                                                       | 178/574 [01:32<03:09,  2.09it/s]"
     ]
    },
    {
     "name": "stdout",
     "output_type": "stream",
     "text": [
      "{\"level\":\"signalLv0\",\"label\":\"Không có thông tin\",\"colorCode\":\"000000\"}\n",
      "https://opennetwork.viettel.vn/user-ws/troubleshoot/tile/stats/l4/21.707437/104.02874\n"
     ]
    },
    {
     "name": "stderr",
     "output_type": "stream",
     "text": [
      " 31%|████████████████████████▉                                                       | 179/574 [01:32<02:54,  2.27it/s]"
     ]
    },
    {
     "name": "stdout",
     "output_type": "stream",
     "text": [
      "{\"level\":\"signalLv0\",\"label\":\"Không có thông tin\",\"colorCode\":\"000000\"}\n",
      "https://opennetwork.viettel.vn/user-ws/troubleshoot/tile/stats/l4/21.6089658/104.371233\n"
     ]
    },
    {
     "name": "stderr",
     "output_type": "stream",
     "text": [
      " 31%|█████████████████████████                                                       | 180/574 [01:32<02:42,  2.43it/s]"
     ]
    },
    {
     "name": "stdout",
     "output_type": "stream",
     "text": [
      "{\"level\":\"signalLv0\",\"label\":\"Không có thông tin\",\"colorCode\":\"000000\"}\n",
      "https://opennetwork.viettel.vn/user-ws/troubleshoot/tile/stats/l4/21.5522409/104.3494914\n"
     ]
    },
    {
     "name": "stderr",
     "output_type": "stream",
     "text": [
      " 32%|█████████████████████████▏                                                      | 181/574 [01:33<02:34,  2.55it/s]"
     ]
    },
    {
     "name": "stdout",
     "output_type": "stream",
     "text": [
      "{\"level\":\"signalLv0\",\"label\":\"Không có thông tin\",\"colorCode\":\"000000\"}\n",
      "https://opennetwork.viettel.vn/user-ws/troubleshoot/tile/stats/l4/21.5273394/104.555018\n"
     ]
    },
    {
     "name": "stderr",
     "output_type": "stream",
     "text": [
      " 32%|█████████████████████████▎                                                      | 182/574 [01:33<02:32,  2.57it/s]"
     ]
    },
    {
     "name": "stdout",
     "output_type": "stream",
     "text": [
      "{\"level\":\"signalLv0\",\"label\":\"Không có thông tin\",\"colorCode\":\"000000\"}\n",
      "https://opennetwork.viettel.vn/user-ws/troubleshoot/tile/stats/l4/21.4706891/104.6028256\n"
     ]
    },
    {
     "name": "stderr",
     "output_type": "stream",
     "text": [
      " 32%|█████████████████████████▌                                                      | 183/574 [01:33<02:27,  2.65it/s]"
     ]
    },
    {
     "name": "stdout",
     "output_type": "stream",
     "text": [
      "{\"level\":\"signalLv0\",\"label\":\"Không có thông tin\",\"colorCode\":\"000000\"}\n",
      "https://opennetwork.viettel.vn/user-ws/troubleshoot/tile/stats/l4/21.484015/104.4569135\n"
     ]
    },
    {
     "name": "stderr",
     "output_type": "stream",
     "text": [
      " 32%|█████████████████████████▋                                                      | 184/574 [01:34<02:20,  2.77it/s]"
     ]
    },
    {
     "name": "stdout",
     "output_type": "stream",
     "text": [
      "{\"level\":\"signalLv0\",\"label\":\"Không có thông tin\",\"colorCode\":\"000000\"}\n",
      "https://opennetwork.viettel.vn/user-ws/troubleshoot/tile/stats/l4/21.4635233/104.5177889\n"
     ]
    },
    {
     "name": "stderr",
     "output_type": "stream",
     "text": [
      " 32%|█████████████████████████▊                                                      | 185/574 [01:34<02:20,  2.77it/s]"
     ]
    },
    {
     "name": "stdout",
     "output_type": "stream",
     "text": [
      "{\"level\":\"signalLv0\",\"label\":\"Không có thông tin\",\"colorCode\":\"000000\"}\n",
      "https://opennetwork.viettel.vn/user-ws/troubleshoot/tile/stats/l4/21.4149455/104.4551754\n"
     ]
    },
    {
     "name": "stderr",
     "output_type": "stream",
     "text": [
      " 32%|█████████████████████████▉                                                      | 186/574 [01:34<02:15,  2.86it/s]"
     ]
    },
    {
     "name": "stdout",
     "output_type": "stream",
     "text": [
      "{\"level\":\"signalLv0\",\"label\":\"Không có thông tin\",\"colorCode\":\"000000\"}\n",
      "https://opennetwork.viettel.vn/user-ws/troubleshoot/tile/stats/l4/21.6627428/104.4150067\n"
     ]
    },
    {
     "name": "stderr",
     "output_type": "stream",
     "text": [
      " 33%|██████████████████████████                                                      | 187/574 [01:35<02:14,  2.88it/s]"
     ]
    },
    {
     "name": "stdout",
     "output_type": "stream",
     "text": [
      "{\"level\":\"signalLv0\",\"label\":\"Không có thông tin\",\"colorCode\":\"000000\"}\n",
      "https://opennetwork.viettel.vn/user-ws/troubleshoot/tile/stats/l4/21.4644315/104.6760195\n"
     ]
    },
    {
     "name": "stderr",
     "output_type": "stream",
     "text": [
      " 33%|██████████████████████████▏                                                     | 188/574 [01:35<02:12,  2.92it/s]"
     ]
    },
    {
     "name": "stdout",
     "output_type": "stream",
     "text": [
      "{\"level\":\"signalLv0\",\"label\":\"Không có thông tin\",\"colorCode\":\"000000\"}\n",
      "https://opennetwork.viettel.vn/user-ws/troubleshoot/tile/stats/l4/22.0235815/104.91203\n"
     ]
    },
    {
     "name": "stderr",
     "output_type": "stream",
     "text": [
      " 33%|██████████████████████████▎                                                     | 189/574 [01:35<02:17,  2.80it/s]"
     ]
    },
    {
     "name": "stdout",
     "output_type": "stream",
     "text": [
      "{\"level\":\"signalLv0\",\"label\":\"Không có thông tin\",\"colorCode\":\"000000\"}\n",
      "https://opennetwork.viettel.vn/user-ws/troubleshoot/tile/stats/l4/21.0711998/104.8884487\n"
     ]
    },
    {
     "name": "stderr",
     "output_type": "stream",
     "text": [
      " 33%|██████████████████████████▍                                                     | 190/574 [01:36<02:13,  2.87it/s]"
     ]
    },
    {
     "name": "stdout",
     "output_type": "stream",
     "text": [
      "{\"level\":\"signalLv0\",\"label\":\"Không có thông tin\",\"colorCode\":\"000000\"}\n",
      "https://opennetwork.viettel.vn/user-ws/troubleshoot/tile/stats/l4/21.0204147/104.9817467\n"
     ]
    },
    {
     "name": "stderr",
     "output_type": "stream",
     "text": [
      " 33%|██████████████████████████▌                                                     | 191/574 [01:36<02:36,  2.45it/s]"
     ]
    },
    {
     "name": "stdout",
     "output_type": "stream",
     "text": [
      "{\"level\":\"signalLv0\",\"label\":\"Không có thông tin\",\"colorCode\":\"000000\"}\n",
      "https://opennetwork.viettel.vn/user-ws/troubleshoot/tile/stats/l4/20.9823705/105.045383\n"
     ]
    },
    {
     "name": "stderr",
     "output_type": "stream",
     "text": [
      " 33%|██████████████████████████▊                                                     | 192/574 [01:37<02:26,  2.62it/s]"
     ]
    },
    {
     "name": "stdout",
     "output_type": "stream",
     "text": [
      "{\"level\":\"signalLv0\",\"label\":\"Không có thông tin\",\"colorCode\":\"000000\"}\n",
      "https://opennetwork.viettel.vn/user-ws/troubleshoot/tile/stats/l4/20.9053191/105.005436\n"
     ]
    },
    {
     "name": "stderr",
     "output_type": "stream",
     "text": [
      " 34%|██████████████████████████▉                                                     | 193/574 [01:37<02:41,  2.36it/s]"
     ]
    },
    {
     "name": "stdout",
     "output_type": "stream",
     "text": [
      "{\"level\":\"signalLv0\",\"label\":\"Không có thông tin\",\"colorCode\":\"000000\"}\n",
      "https://opennetwork.viettel.vn/user-ws/troubleshoot/tile/stats/l4/20.851863/105.0518255\n"
     ]
    },
    {
     "name": "stderr",
     "output_type": "stream",
     "text": [
      " 34%|███████████████████████████                                                     | 194/574 [01:37<02:32,  2.49it/s]"
     ]
    },
    {
     "name": "stdout",
     "output_type": "stream",
     "text": [
      "{\"level\":\"signalLv0\",\"label\":\"Không có thông tin\",\"colorCode\":\"000000\"}\n",
      "https://opennetwork.viettel.vn/user-ws/troubleshoot/tile/stats/l4/20.6480545/105.4395906\n"
     ]
    },
    {
     "name": "stderr",
     "output_type": "stream",
     "text": [
      " 34%|███████████████████████████▏                                                    | 195/574 [01:38<02:28,  2.55it/s]"
     ]
    },
    {
     "name": "stdout",
     "output_type": "stream",
     "text": [
      "{\"level\":\"signalLv0\",\"label\":\"Không có thông tin\",\"colorCode\":\"000000\"}\n",
      "https://opennetwork.viettel.vn/user-ws/troubleshoot/tile/stats/l4/20.651214/105.5018699\n"
     ]
    },
    {
     "name": "stderr",
     "output_type": "stream",
     "text": [
      " 34%|███████████████████████████▎                                                    | 196/574 [01:38<02:27,  2.56it/s]"
     ]
    },
    {
     "name": "stdout",
     "output_type": "stream",
     "text": [
      "{\"level\":\"signalLv0\",\"label\":\"Không có thông tin\",\"colorCode\":\"000000\"}\n",
      "https://opennetwork.viettel.vn/user-ws/troubleshoot/tile/stats/l4/20.8255958/105.0459479\n"
     ]
    },
    {
     "name": "stderr",
     "output_type": "stream",
     "text": [
      " 34%|███████████████████████████▍                                                    | 197/574 [01:39<02:23,  2.63it/s]"
     ]
    },
    {
     "name": "stdout",
     "output_type": "stream",
     "text": [
      "{\"level\":\"signalLv0\",\"label\":\"Không có thông tin\",\"colorCode\":\"000000\"}\n",
      "https://opennetwork.viettel.vn/user-ws/troubleshoot/tile/stats/l4/20.6915661/104.8864746\n"
     ]
    },
    {
     "name": "stderr",
     "output_type": "stream",
     "text": [
      " 34%|███████████████████████████▌                                                    | 198/574 [01:39<02:18,  2.72it/s]"
     ]
    },
    {
     "name": "stdout",
     "output_type": "stream",
     "text": [
      "{\"level\":\"signalLv0\",\"label\":\"Không có thông tin\",\"colorCode\":\"000000\"}\n",
      "https://opennetwork.viettel.vn/user-ws/troubleshoot/tile/stats/l4/20.3644125/105.6099254\n"
     ]
    },
    {
     "name": "stderr",
     "output_type": "stream",
     "text": [
      " 35%|███████████████████████████▋                                                    | 199/574 [01:39<02:15,  2.76it/s]"
     ]
    },
    {
     "name": "stdout",
     "output_type": "stream",
     "text": [
      "{\"level\":\"signalLv0\",\"label\":\"Không có thông tin\",\"colorCode\":\"000000\"}\n",
      "https://opennetwork.viettel.vn/user-ws/troubleshoot/tile/stats/l4/21.836767/105.9004209\n"
     ]
    },
    {
     "name": "stderr",
     "output_type": "stream",
     "text": [
      " 35%|███████████████████████████▊                                                    | 200/574 [01:40<02:17,  2.71it/s]"
     ]
    },
    {
     "name": "stdout",
     "output_type": "stream",
     "text": [
      "{\"level\":\"signalLv0\",\"label\":\"Không có thông tin\",\"colorCode\":\"000000\"}\n",
      "https://opennetwork.viettel.vn/user-ws/troubleshoot/tile/stats/l4/21.6253335/105.5379724\n"
     ]
    },
    {
     "name": "stderr",
     "output_type": "stream",
     "text": [
      " 35%|████████████████████████████                                                    | 201/574 [01:41<03:37,  1.72it/s]"
     ]
    },
    {
     "name": "stdout",
     "output_type": "stream",
     "text": [
      "{\"level\":\"signalLv0\",\"label\":\"Không có thông tin\",\"colorCode\":\"000000\"}\n",
      "https://opennetwork.viettel.vn/user-ws/troubleshoot/tile/stats/l4/21.5708085/105.5846565\n"
     ]
    },
    {
     "name": "stderr",
     "output_type": "stream",
     "text": [
      " 35%|████████████████████████████▏                                                   | 202/574 [01:41<03:24,  1.82it/s]"
     ]
    },
    {
     "name": "stdout",
     "output_type": "stream",
     "text": [
      "{\"level\":\"signalLv0\",\"label\":\"Không có thông tin\",\"colorCode\":\"000000\"}\n",
      "https://opennetwork.viettel.vn/user-ws/troubleshoot/tile/stats/l4/21.519874/105.6701517\n"
     ]
    },
    {
     "name": "stderr",
     "output_type": "stream",
     "text": [
      " 35%|████████████████████████████▎                                                   | 203/574 [01:42<03:04,  2.01it/s]"
     ]
    },
    {
     "name": "stdout",
     "output_type": "stream",
     "text": [
      "{\"level\":\"signalLv0\",\"label\":\"Không có thông tin\",\"colorCode\":\"000000\"}\n",
      "https://opennetwork.viettel.vn/user-ws/troubleshoot/tile/stats/l4/22.3897675/106.2442676\n"
     ]
    },
    {
     "name": "stderr",
     "output_type": "stream",
     "text": [
      " 36%|████████████████████████████▍                                                   | 204/574 [01:42<02:47,  2.21it/s]"
     ]
    },
    {
     "name": "stdout",
     "output_type": "stream",
     "text": [
      "{\"level\":\"signalLv0\",\"label\":\"Không có thông tin\",\"colorCode\":\"000000\"}\n",
      "https://opennetwork.viettel.vn/user-ws/troubleshoot/tile/stats/l4/22.368043/106.2338836\n"
     ]
    },
    {
     "name": "stderr",
     "output_type": "stream",
     "text": [
      " 36%|████████████████████████████▌                                                   | 205/574 [01:42<02:37,  2.34it/s]"
     ]
    },
    {
     "name": "stdout",
     "output_type": "stream",
     "text": [
      "{\"level\":\"signalLv0\",\"label\":\"Không có thông tin\",\"colorCode\":\"000000\"}\n",
      "https://opennetwork.viettel.vn/user-ws/troubleshoot/tile/stats/l4/22.2963224/106.638408\n"
     ]
    },
    {
     "name": "stderr",
     "output_type": "stream",
     "text": [
      " 36%|████████████████████████████▋                                                   | 206/574 [01:43<02:33,  2.40it/s]"
     ]
    },
    {
     "name": "stdout",
     "output_type": "stream",
     "text": [
      "{\"level\":\"signalLv0\",\"label\":\"Không có thông tin\",\"colorCode\":\"000000\"}\n",
      "https://opennetwork.viettel.vn/user-ws/troubleshoot/tile/stats/l4/22.2115005/106.4392935\n"
     ]
    },
    {
     "name": "stderr",
     "output_type": "stream",
     "text": [
      " 36%|████████████████████████████▊                                                   | 207/574 [01:43<02:30,  2.45it/s]"
     ]
    },
    {
     "name": "stdout",
     "output_type": "stream",
     "text": [
      "{\"level\":\"signalLv0\",\"label\":\"Không có thông tin\",\"colorCode\":\"000000\"}\n",
      "https://opennetwork.viettel.vn/user-ws/troubleshoot/tile/stats/l4/22.1983205/106.4757339\n"
     ]
    },
    {
     "name": "stderr",
     "output_type": "stream",
     "text": [
      " 36%|████████████████████████████▉                                                   | 208/574 [01:43<02:24,  2.54it/s]"
     ]
    },
    {
     "name": "stdout",
     "output_type": "stream",
     "text": [
      "{\"level\":\"signalLv0\",\"label\":\"Không có thông tin\",\"colorCode\":\"000000\"}\n",
      "https://opennetwork.viettel.vn/user-ws/troubleshoot/tile/stats/l4/22.2033425/106.2630195\n"
     ]
    },
    {
     "name": "stderr",
     "output_type": "stream",
     "text": [
      " 36%|█████████████████████████████▏                                                  | 209/574 [01:44<02:17,  2.66it/s]"
     ]
    },
    {
     "name": "stdout",
     "output_type": "stream",
     "text": [
      "{\"level\":\"signalLv0\",\"label\":\"Không có thông tin\",\"colorCode\":\"000000\"}\n",
      "https://opennetwork.viettel.vn/user-ws/troubleshoot/tile/stats/l4/22.168644/106.3858016\n"
     ]
    },
    {
     "name": "stderr",
     "output_type": "stream",
     "text": [
      " 37%|█████████████████████████████▎                                                  | 210/574 [01:44<02:19,  2.61it/s]"
     ]
    },
    {
     "name": "stdout",
     "output_type": "stream",
     "text": [
      "{\"level\":\"signalLv0\",\"label\":\"Không có thông tin\",\"colorCode\":\"000000\"}\n",
      "https://opennetwork.viettel.vn/user-ws/troubleshoot/tile/stats/l4/22.1471835/106.274954\n"
     ]
    },
    {
     "name": "stderr",
     "output_type": "stream",
     "text": [
      " 37%|█████████████████████████████▍                                                  | 211/574 [01:45<02:13,  2.71it/s]"
     ]
    },
    {
     "name": "stdout",
     "output_type": "stream",
     "text": [
      "{\"level\":\"signalLv0\",\"label\":\"Không có thông tin\",\"colorCode\":\"000000\"}\n",
      "https://opennetwork.viettel.vn/user-ws/troubleshoot/tile/stats/l4/22.1083535/106.4144044\n"
     ]
    },
    {
     "name": "stderr",
     "output_type": "stream",
     "text": [
      " 37%|█████████████████████████████▌                                                  | 212/574 [01:45<02:20,  2.58it/s]"
     ]
    },
    {
     "name": "stdout",
     "output_type": "stream",
     "text": [
      "{\"level\":\"signalLv0\",\"label\":\"Không có thông tin\",\"colorCode\":\"000000\"}\n",
      "https://opennetwork.viettel.vn/user-ws/troubleshoot/tile/stats/l4/22.1000249/106.2574405\n"
     ]
    },
    {
     "name": "stderr",
     "output_type": "stream",
     "text": [
      " 37%|█████████████████████████████▋                                                  | 213/574 [01:45<02:13,  2.70it/s]"
     ]
    },
    {
     "name": "stdout",
     "output_type": "stream",
     "text": [
      "{\"level\":\"signalLv0\",\"label\":\"Không có thông tin\",\"colorCode\":\"000000\"}\n",
      "https://opennetwork.viettel.vn/user-ws/troubleshoot/tile/stats/l4/22.064538/106.1679885\n"
     ]
    },
    {
     "name": "stderr",
     "output_type": "stream",
     "text": [
      " 37%|█████████████████████████████▊                                                  | 214/574 [01:46<02:18,  2.61it/s]"
     ]
    },
    {
     "name": "stdout",
     "output_type": "stream",
     "text": [
      "{\"level\":\"signalLv0\",\"label\":\"Không có thông tin\",\"colorCode\":\"000000\"}\n",
      "https://opennetwork.viettel.vn/user-ws/troubleshoot/tile/stats/l4/22.0630699/106.346204\n"
     ]
    },
    {
     "name": "stderr",
     "output_type": "stream",
     "text": [
      " 37%|█████████████████████████████▉                                                  | 215/574 [01:46<02:22,  2.51it/s]"
     ]
    },
    {
     "name": "stdout",
     "output_type": "stream",
     "text": [
      "{\"level\":\"signalLv0\",\"label\":\"Không có thông tin\",\"colorCode\":\"000000\"}\n",
      "https://opennetwork.viettel.vn/user-ws/troubleshoot/tile/stats/l4/21.9476055/106.1587196\n"
     ]
    },
    {
     "name": "stderr",
     "output_type": "stream",
     "text": [
      " 38%|██████████████████████████████                                                  | 216/574 [01:46<02:18,  2.59it/s]"
     ]
    },
    {
     "name": "stdout",
     "output_type": "stream",
     "text": [
      "{\"level\":\"signalLv0\",\"label\":\"Không có thông tin\",\"colorCode\":\"000000\"}\n",
      "https://opennetwork.viettel.vn/user-ws/troubleshoot/tile/stats/l4/21.9598305/106.6142745\n"
     ]
    },
    {
     "name": "stderr",
     "output_type": "stream",
     "text": [
      " 38%|██████████████████████████████▏                                                 | 217/574 [01:47<02:04,  2.87it/s]"
     ]
    },
    {
     "name": "stdout",
     "output_type": "stream",
     "text": [
      "{\"x\":417412,\"y\":229349,\"level\":\"layout4signalLv3\",\"label\":\"Khá\",\"colorCode\":\"FDB863\"}\n",
      "https://opennetwork.viettel.vn/user-ws/troubleshoot/tile/stats/l4/21.9622955/106.5187629\n"
     ]
    },
    {
     "name": "stderr",
     "output_type": "stream",
     "text": [
      " 38%|██████████████████████████████▍                                                 | 218/574 [01:48<03:43,  1.59it/s]"
     ]
    },
    {
     "name": "stdout",
     "output_type": "stream",
     "text": [
      "{\"level\":\"signalLv0\",\"label\":\"Không có thông tin\",\"colorCode\":\"000000\"}\n",
      "https://opennetwork.viettel.vn/user-ws/troubleshoot/tile/stats/l4/21.8572526/106.485276\n"
     ]
    },
    {
     "name": "stderr",
     "output_type": "stream",
     "text": [
      " 38%|██████████████████████████████▌                                                 | 219/574 [01:48<03:18,  1.79it/s]"
     ]
    },
    {
     "name": "stdout",
     "output_type": "stream",
     "text": [
      "{\"level\":\"signalLv0\",\"label\":\"Không có thông tin\",\"colorCode\":\"000000\"}\n",
      "https://opennetwork.viettel.vn/user-ws/troubleshoot/tile/stats/l4/21.867078/106.6511925\n"
     ]
    },
    {
     "name": "stderr",
     "output_type": "stream",
     "text": [
      " 38%|██████████████████████████████▋                                                 | 220/574 [01:49<03:38,  1.62it/s]"
     ]
    },
    {
     "name": "stdout",
     "output_type": "stream",
     "text": [
      "{\"x\":417466,\"y\":229495,\"level\":\"layout4signalLv3\",\"label\":\"Khá\",\"colorCode\":\"FDB863\"}\n",
      "https://opennetwork.viettel.vn/user-ws/troubleshoot/tile/stats/l4/21.8265275/106.6473534\n"
     ]
    },
    {
     "name": "stderr",
     "output_type": "stream",
     "text": [
      " 39%|██████████████████████████████▊                                                 | 221/574 [01:49<03:00,  1.95it/s]"
     ]
    },
    {
     "name": "stdout",
     "output_type": "stream",
     "text": [
      "{\"x\":417460,\"y\":229558,\"level\":\"layout4signalLv3\",\"label\":\"Khá\",\"colorCode\":\"FDB863\"}\n",
      "https://opennetwork.viettel.vn/user-ws/troubleshoot/tile/stats/l4/21.609538/106.4122115\n"
     ]
    },
    {
     "name": "stderr",
     "output_type": "stream",
     "text": [
      " 39%|██████████████████████████████▉                                                 | 222/574 [01:50<02:46,  2.11it/s]"
     ]
    },
    {
     "name": "stdout",
     "output_type": "stream",
     "text": [
      "{\"level\":\"signalLv0\",\"label\":\"Không có thông tin\",\"colorCode\":\"000000\"}\n",
      "https://opennetwork.viettel.vn/user-ws/troubleshoot/tile/stats/l4/21.6862227/106.517601\n"
     ]
    },
    {
     "name": "stderr",
     "output_type": "stream",
     "text": [
      " 39%|███████████████████████████████                                                 | 223/574 [01:50<03:04,  1.90it/s]"
     ]
    },
    {
     "name": "stdout",
     "output_type": "stream",
     "text": [
      "{\"x\":417271,\"y\":229778,\"level\":\"layout4signalLv3\",\"label\":\"Khá\",\"colorCode\":\"FDB863\"}\n",
      "https://opennetwork.viettel.vn/user-ws/troubleshoot/tile/stats/l4/21.710816/107.081014\n"
     ]
    },
    {
     "name": "stderr",
     "output_type": "stream",
     "text": [
      " 39%|███████████████████████████████▏                                                | 224/574 [01:51<02:53,  2.02it/s]"
     ]
    },
    {
     "name": "stdout",
     "output_type": "stream",
     "text": [
      "{\"level\":\"signalLv0\",\"label\":\"Không có thông tin\",\"colorCode\":\"000000\"}\n",
      "https://opennetwork.viettel.vn/user-ws/troubleshoot/tile/stats/l4/21.7218539/106.922342\n"
     ]
    },
    {
     "name": "stderr",
     "output_type": "stream",
     "text": [
      " 39%|███████████████████████████████▎                                                | 225/574 [01:51<02:46,  2.10it/s]"
     ]
    },
    {
     "name": "stdout",
     "output_type": "stream",
     "text": [
      "{\"level\":\"signalLv0\",\"label\":\"Không có thông tin\",\"colorCode\":\"000000\"}\n",
      "https://opennetwork.viettel.vn/user-ws/troubleshoot/tile/stats/l4/21.6778509/107.0126355\n"
     ]
    },
    {
     "name": "stderr",
     "output_type": "stream",
     "text": [
      " 39%|███████████████████████████████▍                                                | 226/574 [01:52<02:40,  2.17it/s]"
     ]
    },
    {
     "name": "stdout",
     "output_type": "stream",
     "text": [
      "{\"level\":\"signalLv0\",\"label\":\"Không có thông tin\",\"colorCode\":\"000000\"}\n",
      "https://opennetwork.viettel.vn/user-ws/troubleshoot/tile/stats/l4/21.6277935/106.8055105\n"
     ]
    },
    {
     "name": "stderr",
     "output_type": "stream",
     "text": [
      " 40%|███████████████████████████████▋                                                | 227/574 [01:52<02:43,  2.12it/s]"
     ]
    },
    {
     "name": "stdout",
     "output_type": "stream",
     "text": [
      "{\"level\":\"signalLv0\",\"label\":\"Không có thông tin\",\"colorCode\":\"000000\"}\n",
      "https://opennetwork.viettel.vn/user-ws/troubleshoot/tile/stats/l4/21.616918/106.9795075\n"
     ]
    },
    {
     "name": "stderr",
     "output_type": "stream",
     "text": [
      " 40%|███████████████████████████████▊                                                | 228/574 [01:53<02:37,  2.20it/s]"
     ]
    },
    {
     "name": "stdout",
     "output_type": "stream",
     "text": [
      "{\"level\":\"signalLv0\",\"label\":\"Không có thông tin\",\"colorCode\":\"000000\"}\n",
      "https://opennetwork.viettel.vn/user-ws/troubleshoot/tile/stats/l4/21.5835544/106.8479494\n"
     ]
    },
    {
     "name": "stderr",
     "output_type": "stream",
     "text": [
      " 40%|███████████████████████████████▉                                                | 229/574 [01:53<02:36,  2.21it/s]"
     ]
    },
    {
     "name": "stdout",
     "output_type": "stream",
     "text": [
      "{\"level\":\"signalLv0\",\"label\":\"Không có thông tin\",\"colorCode\":\"000000\"}\n",
      "https://opennetwork.viettel.vn/user-ws/troubleshoot/tile/stats/l4/21.4990396/106.975217\n"
     ]
    },
    {
     "name": "stderr",
     "output_type": "stream",
     "text": [
      " 40%|████████████████████████████████                                                | 230/574 [01:54<02:37,  2.18it/s]"
     ]
    },
    {
     "name": "stdout",
     "output_type": "stream",
     "text": [
      "{\"level\":\"signalLv0\",\"label\":\"Không có thông tin\",\"colorCode\":\"000000\"}\n",
      "https://opennetwork.viettel.vn/user-ws/troubleshoot/tile/stats/l4/21.4908151/107.1015\n"
     ]
    },
    {
     "name": "stderr",
     "output_type": "stream",
     "text": [
      " 40%|████████████████████████████████▏                                               | 231/574 [01:54<02:32,  2.26it/s]"
     ]
    },
    {
     "name": "stdout",
     "output_type": "stream",
     "text": [
      "{\"level\":\"signalLv0\",\"label\":\"Không có thông tin\",\"colorCode\":\"000000\"}\n",
      "https://opennetwork.viettel.vn/user-ws/troubleshoot/tile/stats/l4/21.4095976/107.1383555\n"
     ]
    },
    {
     "name": "stderr",
     "output_type": "stream",
     "text": [
      " 40%|████████████████████████████████▎                                               | 232/574 [01:54<02:26,  2.33it/s]"
     ]
    },
    {
     "name": "stdout",
     "output_type": "stream",
     "text": [
      "{\"level\":\"signalLv0\",\"label\":\"Không có thông tin\",\"colorCode\":\"000000\"}\n",
      "https://opennetwork.viettel.vn/user-ws/troubleshoot/tile/stats/l4/21.3241782/107.9712724\n"
     ]
    },
    {
     "name": "stderr",
     "output_type": "stream",
     "text": [
      " 41%|████████████████████████████████▍                                               | 233/574 [01:55<02:20,  2.43it/s]"
     ]
    },
    {
     "name": "stdout",
     "output_type": "stream",
     "text": [
      "{\"level\":\"signalLv0\",\"label\":\"Không có thông tin\",\"colorCode\":\"000000\"}\n",
      "https://opennetwork.viettel.vn/user-ws/troubleshoot/tile/stats/l4/21.4780651/107.2737539\n"
     ]
    },
    {
     "name": "stderr",
     "output_type": "stream",
     "text": [
      " 41%|████████████████████████████████▌                                               | 234/574 [01:55<02:18,  2.46it/s]"
     ]
    },
    {
     "name": "stdout",
     "output_type": "stream",
     "text": [
      "{\"level\":\"signalLv0\",\"label\":\"Không có thông tin\",\"colorCode\":\"000000\"}\n",
      "https://opennetwork.viettel.vn/user-ws/troubleshoot/tile/stats/l4/21.4182749/107.447827\n"
     ]
    },
    {
     "name": "stderr",
     "output_type": "stream",
     "text": [
      " 41%|████████████████████████████████▊                                               | 235/574 [01:56<02:31,  2.24it/s]"
     ]
    },
    {
     "name": "stdout",
     "output_type": "stream",
     "text": [
      "{\"level\":\"signalLv0\",\"label\":\"Không có thông tin\",\"colorCode\":\"000000\"}\n",
      "https://opennetwork.viettel.vn/user-ws/troubleshoot/tile/stats/l4/21.3620165/107.2980355\n"
     ]
    },
    {
     "name": "stderr",
     "output_type": "stream",
     "text": [
      " 41%|████████████████████████████████▉                                               | 236/574 [01:56<02:17,  2.47it/s]"
     ]
    },
    {
     "name": "stdout",
     "output_type": "stream",
     "text": [
      "{\"x\":418408,\"y\":230286,\"level\":\"layout4signalLv3\",\"label\":\"Khá\",\"colorCode\":\"FDB863\"}\n",
      "https://opennetwork.viettel.vn/user-ws/troubleshoot/tile/stats/l4/21.4136285/107.519801\n"
     ]
    },
    {
     "name": "stderr",
     "output_type": "stream",
     "text": [
      " 41%|█████████████████████████████████                                               | 237/574 [01:56<02:14,  2.50it/s]"
     ]
    },
    {
     "name": "stdout",
     "output_type": "stream",
     "text": [
      "{\"level\":\"signalLv0\",\"label\":\"Không có thông tin\",\"colorCode\":\"000000\"}\n",
      "https://opennetwork.viettel.vn/user-ws/troubleshoot/tile/stats/l4/21.285734/107.5872485\n"
     ]
    },
    {
     "name": "stderr",
     "output_type": "stream",
     "text": [
      " 41%|█████████████████████████████████▏                                              | 238/574 [01:57<02:19,  2.41it/s]"
     ]
    },
    {
     "name": "stdout",
     "output_type": "stream",
     "text": [
      "{\"level\":\"signalLv0\",\"label\":\"Không có thông tin\",\"colorCode\":\"000000\"}\n",
      "https://opennetwork.viettel.vn/user-ws/troubleshoot/tile/stats/l4/21.2829801/107.5464534\n"
     ]
    },
    {
     "name": "stderr",
     "output_type": "stream",
     "text": [
      " 42%|█████████████████████████████████▎                                              | 239/574 [01:58<03:21,  1.66it/s]"
     ]
    },
    {
     "name": "stdout",
     "output_type": "stream",
     "text": [
      "{\"level\":\"signalLv0\",\"label\":\"Không có thông tin\",\"colorCode\":\"000000\"}\n",
      "https://opennetwork.viettel.vn/user-ws/troubleshoot/tile/stats/l4/21.5236416/107.6112181\n"
     ]
    },
    {
     "name": "stderr",
     "output_type": "stream",
     "text": [
      " 42%|█████████████████████████████████▍                                              | 240/574 [01:58<03:02,  1.83it/s]"
     ]
    },
    {
     "name": "stdout",
     "output_type": "stream",
     "text": [
      "{\"level\":\"signalLv0\",\"label\":\"Không có thông tin\",\"colorCode\":\"000000\"}\n",
      "https://opennetwork.viettel.vn/user-ws/troubleshoot/tile/stats/l4/21.306779/107.749958\n"
     ]
    },
    {
     "name": "stderr",
     "output_type": "stream",
     "text": [
      " 42%|█████████████████████████████████▌                                              | 241/574 [01:59<02:45,  2.01it/s]"
     ]
    },
    {
     "name": "stdout",
     "output_type": "stream",
     "text": [
      "{\"level\":\"signalLv0\",\"label\":\"Không có thông tin\",\"colorCode\":\"000000\"}\n",
      "https://opennetwork.viettel.vn/user-ws/troubleshoot/tile/stats/l4/21.2032709/107.2463015\n"
     ]
    },
    {
     "name": "stderr",
     "output_type": "stream",
     "text": [
      " 42%|█████████████████████████████████▋                                              | 242/574 [01:59<02:48,  1.97it/s]"
     ]
    },
    {
     "name": "stdout",
     "output_type": "stream",
     "text": [
      "{\"level\":\"signalLv0\",\"label\":\"Không có thông tin\",\"colorCode\":\"000000\"}\n",
      "https://opennetwork.viettel.vn/user-ws/troubleshoot/tile/stats/l4/21.2222355/107.4848975\n"
     ]
    },
    {
     "name": "stderr",
     "output_type": "stream",
     "text": [
      " 42%|█████████████████████████████████▊                                              | 243/574 [02:00<02:36,  2.12it/s]"
     ]
    },
    {
     "name": "stdout",
     "output_type": "stream",
     "text": [
      "{\"level\":\"signalLv0\",\"label\":\"Không có thông tin\",\"colorCode\":\"000000\"}\n",
      "https://opennetwork.viettel.vn/user-ws/troubleshoot/tile/stats/l4/21.0267423/107.6085948\n"
     ]
    },
    {
     "name": "stderr",
     "output_type": "stream",
     "text": [
      " 43%|██████████████████████████████████                                              | 244/574 [02:00<02:33,  2.15it/s]"
     ]
    },
    {
     "name": "stdout",
     "output_type": "stream",
     "text": [
      "{\"level\":\"signalLv0\",\"label\":\"Không có thông tin\",\"colorCode\":\"000000\"}\n",
      "https://opennetwork.viettel.vn/user-ws/troubleshoot/tile/stats/l4/20.973723/107.4641\n"
     ]
    },
    {
     "name": "stderr",
     "output_type": "stream",
     "text": [
      " 43%|██████████████████████████████████▏                                             | 245/574 [02:00<02:27,  2.22it/s]"
     ]
    },
    {
     "name": "stdout",
     "output_type": "stream",
     "text": [
      "{\"level\":\"signalLv0\",\"label\":\"Không có thông tin\",\"colorCode\":\"000000\"}\n",
      "https://opennetwork.viettel.vn/user-ws/troubleshoot/tile/stats/l4/20.7656705/107.3414898\n"
     ]
    },
    {
     "name": "stderr",
     "output_type": "stream",
     "text": [
      " 43%|██████████████████████████████████▎                                             | 246/574 [02:01<02:25,  2.26it/s]"
     ]
    },
    {
     "name": "stdout",
     "output_type": "stream",
     "text": [
      "{\"level\":\"signalLv0\",\"label\":\"Không có thông tin\",\"colorCode\":\"000000\"}\n",
      "https://opennetwork.viettel.vn/user-ws/troubleshoot/tile/stats/l4/21.1858631/107.1526622\n"
     ]
    },
    {
     "name": "stderr",
     "output_type": "stream",
     "text": [
      " 43%|██████████████████████████████████▍                                             | 247/574 [02:01<02:22,  2.29it/s]"
     ]
    },
    {
     "name": "stdout",
     "output_type": "stream",
     "text": [
      "{\"level\":\"signalLv0\",\"label\":\"Không có thông tin\",\"colorCode\":\"000000\"}\n",
      "https://opennetwork.viettel.vn/user-ws/troubleshoot/tile/stats/l4/21.1146598/107.0146525\n"
     ]
    },
    {
     "name": "stderr",
     "output_type": "stream",
     "text": [
      " 43%|██████████████████████████████████▌                                             | 248/574 [02:02<02:22,  2.29it/s]"
     ]
    },
    {
     "name": "stdout",
     "output_type": "stream",
     "text": [
      "{\"level\":\"signalLv0\",\"label\":\"Không có thông tin\",\"colorCode\":\"000000\"}\n",
      "https://opennetwork.viettel.vn/user-ws/troubleshoot/tile/stats/l4/21.1694905/106.5341495\n"
     ]
    },
    {
     "name": "stderr",
     "output_type": "stream",
     "text": [
      " 43%|██████████████████████████████████▋                                             | 249/574 [02:02<02:22,  2.28it/s]"
     ]
    },
    {
     "name": "stdout",
     "output_type": "stream",
     "text": [
      "{\"level\":\"signalLv0\",\"label\":\"Không có thông tin\",\"colorCode\":\"000000\"}\n",
      "https://opennetwork.viettel.vn/user-ws/troubleshoot/tile/stats/l4/21.5441795/106.738659\n"
     ]
    },
    {
     "name": "stderr",
     "output_type": "stream",
     "text": [
      " 44%|██████████████████████████████████▊                                             | 250/574 [02:03<02:23,  2.25it/s]"
     ]
    },
    {
     "name": "stdout",
     "output_type": "stream",
     "text": [
      "{\"level\":\"signalLv0\",\"label\":\"Không có thông tin\",\"colorCode\":\"000000\"}\n",
      "https://opennetwork.viettel.vn/user-ws/troubleshoot/tile/stats/l4/21.3012955/106.7106311\n"
     ]
    },
    {
     "name": "stderr",
     "output_type": "stream",
     "text": [
      " 44%|██████████████████████████████████▉                                             | 251/574 [02:03<02:19,  2.32it/s]"
     ]
    },
    {
     "name": "stdout",
     "output_type": "stream",
     "text": [
      "{\"level\":\"signalLv0\",\"label\":\"Không có thông tin\",\"colorCode\":\"000000\"}\n",
      "https://opennetwork.viettel.vn/user-ws/troubleshoot/tile/stats/l4/21.4196311/106.8688202\n"
     ]
    },
    {
     "name": "stderr",
     "output_type": "stream",
     "text": [
      " 44%|███████████████████████████████████                                             | 252/574 [02:04<02:27,  2.18it/s]"
     ]
    },
    {
     "name": "stdout",
     "output_type": "stream",
     "text": [
      "{\"level\":\"signalLv0\",\"label\":\"Không có thông tin\",\"colorCode\":\"000000\"}\n",
      "https://opennetwork.viettel.vn/user-ws/troubleshoot/tile/stats/l4/21.407244/106.963706\n"
     ]
    },
    {
     "name": "stderr",
     "output_type": "stream",
     "text": [
      " 44%|███████████████████████████████████▎                                            | 253/574 [02:04<02:37,  2.04it/s]"
     ]
    },
    {
     "name": "stdout",
     "output_type": "stream",
     "text": [
      "{\"level\":\"signalLv0\",\"label\":\"Không có thông tin\",\"colorCode\":\"000000\"}\n",
      "https://opennetwork.viettel.vn/user-ws/troubleshoot/tile/stats/l4/21.568148/104.900144\n"
     ]
    },
    {
     "name": "stderr",
     "output_type": "stream",
     "text": [
      " 44%|███████████████████████████████████▍                                            | 254/574 [02:05<02:32,  2.10it/s]"
     ]
    },
    {
     "name": "stdout",
     "output_type": "stream",
     "text": [
      "{\"level\":\"signalLv0\",\"label\":\"Không có thông tin\",\"colorCode\":\"000000\"}\n",
      "https://opennetwork.viettel.vn/user-ws/troubleshoot/tile/stats/l4/21.3243764/105.0597238\n"
     ]
    },
    {
     "name": "stderr",
     "output_type": "stream",
     "text": [
      " 44%|███████████████████████████████████▌                                            | 255/574 [02:05<02:16,  2.33it/s]"
     ]
    },
    {
     "name": "stdout",
     "output_type": "stream",
     "text": [
      "{\"x\":415148,\"y\":230345,\"level\":\"layout4signalLv2\",\"label\":\"Tốt\",\"colorCode\":\"A6DBA0\"}\n",
      "https://opennetwork.viettel.vn/user-ws/troubleshoot/tile/stats/l4/21.290881/105.124753\n"
     ]
    },
    {
     "name": "stderr",
     "output_type": "stream",
     "text": [
      " 45%|███████████████████████████████████▋                                            | 256/574 [02:05<02:26,  2.17it/s]"
     ]
    },
    {
     "name": "stdout",
     "output_type": "stream",
     "text": [
      "{\"level\":\"signalLv0\",\"label\":\"Không có thông tin\",\"colorCode\":\"000000\"}\n",
      "https://opennetwork.viettel.vn/user-ws/troubleshoot/tile/stats/l4/21.1320899/104.9100545\n"
     ]
    },
    {
     "name": "stderr",
     "output_type": "stream",
     "text": [
      " 45%|███████████████████████████████████▊                                            | 257/574 [02:06<02:21,  2.24it/s]"
     ]
    },
    {
     "name": "stdout",
     "output_type": "stream",
     "text": [
      "{\"level\":\"signalLv0\",\"label\":\"Không có thông tin\",\"colorCode\":\"000000\"}\n",
      "https://opennetwork.viettel.vn/user-ws/troubleshoot/tile/stats/l4/21.0655215/104.9776865\n"
     ]
    },
    {
     "name": "stderr",
     "output_type": "stream",
     "text": [
      " 45%|███████████████████████████████████▉                                            | 258/574 [02:06<02:19,  2.26it/s]"
     ]
    },
    {
     "name": "stdout",
     "output_type": "stream",
     "text": [
      "{\"level\":\"signalLv0\",\"label\":\"Không có thông tin\",\"colorCode\":\"000000\"}\n",
      "https://opennetwork.viettel.vn/user-ws/troubleshoot/tile/stats/l4/20.4942415/106.5834395\n"
     ]
    },
    {
     "name": "stderr",
     "output_type": "stream",
     "text": [
      " 45%|████████████████████████████████████                                            | 259/574 [02:07<02:09,  2.43it/s]"
     ]
    },
    {
     "name": "stdout",
     "output_type": "stream",
     "text": [
      "{\"x\":417367,\"y\":231639,\"level\":\"layout4signalLv2\",\"label\":\"Tốt\",\"colorCode\":\"A6DBA0\"}\n",
      "https://opennetwork.viettel.vn/user-ws/troubleshoot/tile/stats/l4/20.445132/106.5866479\n"
     ]
    },
    {
     "name": "stderr",
     "output_type": "stream",
     "text": [
      " 45%|████████████████████████████████████▏                                           | 260/574 [02:07<02:49,  1.86it/s]"
     ]
    },
    {
     "name": "stdout",
     "output_type": "stream",
     "text": [
      "{\"x\":417372,\"y\":231715,\"level\":\"layout4signalLv1\",\"label\":\"Rất tốt\",\"colorCode\":\"008837\"}\n",
      "https://opennetwork.viettel.vn/user-ws/troubleshoot/tile/stats/l4/19.9318278/106.1317492\n"
     ]
    },
    {
     "name": "stderr",
     "output_type": "stream",
     "text": [
      " 45%|████████████████████████████████████▍                                           | 261/574 [02:08<02:41,  1.94it/s]"
     ]
    },
    {
     "name": "stdout",
     "output_type": "stream",
     "text": [
      "{\"level\":\"signalLv0\",\"label\":\"Không có thông tin\",\"colorCode\":\"000000\"}\n",
      "https://opennetwork.viettel.vn/user-ws/troubleshoot/tile/stats/l4/20.124742/105.9334799\n"
     ]
    },
    {
     "name": "stderr",
     "output_type": "stream",
     "text": [
      " 46%|████████████████████████████████████▌                                           | 262/574 [02:09<03:07,  1.67it/s]"
     ]
    },
    {
     "name": "stdout",
     "output_type": "stream",
     "text": [
      "{\"x\":416420,\"y\":232213,\"level\":\"layout4signalLv3\",\"label\":\"Khá\",\"colorCode\":\"FDB863\"}\n",
      "https://opennetwork.viettel.vn/user-ws/troubleshoot/tile/stats/l4/20.295263/105.6489119\n"
     ]
    },
    {
     "name": "stderr",
     "output_type": "stream",
     "text": [
      " 46%|████████████████████████████████████▋                                           | 263/574 [02:10<04:25,  1.17it/s]"
     ]
    },
    {
     "name": "stdout",
     "output_type": "stream",
     "text": [
      "{\"x\":416006,\"y\":231948,\"level\":\"layout4signalLv2\",\"label\":\"Tốt\",\"colorCode\":\"A6DBA0\"}\n",
      "https://opennetwork.viettel.vn/user-ws/troubleshoot/tile/stats/l4/20.5788156/104.6339286\n"
     ]
    },
    {
     "name": "stderr",
     "output_type": "stream",
     "text": [
      " 46%|████████████████████████████████████▊                                           | 264/574 [02:11<03:41,  1.40it/s]"
     ]
    },
    {
     "name": "stdout",
     "output_type": "stream",
     "text": [
      "{\"level\":\"signalLv0\",\"label\":\"Không có thông tin\",\"colorCode\":\"000000\"}\n",
      "https://opennetwork.viettel.vn/user-ws/troubleshoot/tile/stats/l4/20.5352795/104.5318597\n"
     ]
    },
    {
     "name": "stderr",
     "output_type": "stream",
     "text": [
      " 46%|████████████████████████████████████▉                                           | 265/574 [02:11<03:11,  1.62it/s]"
     ]
    },
    {
     "name": "stdout",
     "output_type": "stream",
     "text": [
      "{\"level\":\"signalLv0\",\"label\":\"Không có thông tin\",\"colorCode\":\"000000\"}\n",
      "https://opennetwork.viettel.vn/user-ws/troubleshoot/tile/stats/l4/20.502965/104.7681785\n"
     ]
    },
    {
     "name": "stderr",
     "output_type": "stream",
     "text": [
      " 46%|█████████████████████████████████████                                           | 266/574 [02:11<02:48,  1.83it/s]"
     ]
    },
    {
     "name": "stdout",
     "output_type": "stream",
     "text": [
      "{\"level\":\"signalLv0\",\"label\":\"Không có thông tin\",\"colorCode\":\"000000\"}\n",
      "https://opennetwork.viettel.vn/user-ws/troubleshoot/tile/stats/l4/20.459918/104.5723559\n"
     ]
    },
    {
     "name": "stderr",
     "output_type": "stream",
     "text": [
      " 47%|█████████████████████████████████████▏                                          | 267/574 [02:12<02:33,  1.99it/s]"
     ]
    },
    {
     "name": "stdout",
     "output_type": "stream",
     "text": [
      "{\"level\":\"signalLv0\",\"label\":\"Không có thông tin\",\"colorCode\":\"000000\"}\n",
      "https://opennetwork.viettel.vn/user-ws/troubleshoot/tile/stats/l4/20.6205104/104.9258066\n"
     ]
    },
    {
     "name": "stderr",
     "output_type": "stream",
     "text": [
      " 47%|█████████████████████████████████████▎                                          | 268/574 [02:12<02:26,  2.08it/s]"
     ]
    },
    {
     "name": "stdout",
     "output_type": "stream",
     "text": [
      "{\"level\":\"signalLv0\",\"label\":\"Không có thông tin\",\"colorCode\":\"000000\"}\n",
      "https://opennetwork.viettel.vn/user-ws/troubleshoot/tile/stats/l4/20.4503695/105.0248036\n"
     ]
    },
    {
     "name": "stderr",
     "output_type": "stream",
     "text": [
      " 47%|█████████████████████████████████████▍                                          | 269/574 [02:13<02:21,  2.16it/s]"
     ]
    },
    {
     "name": "stdout",
     "output_type": "stream",
     "text": [
      "{\"level\":\"signalLv0\",\"label\":\"Không có thông tin\",\"colorCode\":\"000000\"}\n",
      "https://opennetwork.viettel.vn/user-ws/troubleshoot/tile/stats/l4/20.433483/104.764155\n"
     ]
    },
    {
     "name": "stderr",
     "output_type": "stream",
     "text": [
      " 47%|█████████████████████████████████████▋                                          | 270/574 [02:13<02:29,  2.03it/s]"
     ]
    },
    {
     "name": "stdout",
     "output_type": "stream",
     "text": [
      "{\"level\":\"signalLv0\",\"label\":\"Không có thông tin\",\"colorCode\":\"000000\"}\n",
      "https://opennetwork.viettel.vn/user-ws/troubleshoot/tile/stats/l4/20.3803522/104.838903\n"
     ]
    },
    {
     "name": "stderr",
     "output_type": "stream",
     "text": [
      " 47%|█████████████████████████████████████▊                                          | 271/574 [02:14<02:22,  2.12it/s]"
     ]
    },
    {
     "name": "stdout",
     "output_type": "stream",
     "text": [
      "{\"level\":\"signalLv0\",\"label\":\"Không có thông tin\",\"colorCode\":\"000000\"}\n",
      "https://opennetwork.viettel.vn/user-ws/troubleshoot/tile/stats/l4/20.3621985/104.8959803\n"
     ]
    },
    {
     "name": "stderr",
     "output_type": "stream",
     "text": [
      " 47%|█████████████████████████████████████▉                                          | 272/574 [02:14<02:21,  2.14it/s]"
     ]
    },
    {
     "name": "stdout",
     "output_type": "stream",
     "text": [
      "{\"level\":\"signalLv0\",\"label\":\"Không có thông tin\",\"colorCode\":\"000000\"}\n",
      "https://opennetwork.viettel.vn/user-ws/troubleshoot/tile/stats/l4/20.3163946/105.1470566\n"
     ]
    },
    {
     "name": "stderr",
     "output_type": "stream",
     "text": [
      " 48%|██████████████████████████████████████                                          | 273/574 [02:14<02:15,  2.22it/s]"
     ]
    },
    {
     "name": "stdout",
     "output_type": "stream",
     "text": [
      "{\"level\":\"signalLv0\",\"label\":\"Không có thông tin\",\"colorCode\":\"000000\"}\n",
      "https://opennetwork.viettel.vn/user-ws/troubleshoot/tile/stats/l4/20.345096/104.7319794\n"
     ]
    },
    {
     "name": "stderr",
     "output_type": "stream",
     "text": [
      " 48%|██████████████████████████████████████▏                                         | 274/574 [02:16<03:34,  1.40it/s]"
     ]
    },
    {
     "name": "stdout",
     "output_type": "stream",
     "text": [
      "{\"level\":\"signalLv0\",\"label\":\"Không có thông tin\",\"colorCode\":\"000000\"}\n",
      "https://opennetwork.viettel.vn/user-ws/troubleshoot/tile/stats/l4/20.3018885/104.6674675\n"
     ]
    },
    {
     "name": "stderr",
     "output_type": "stream",
     "text": [
      " 48%|██████████████████████████████████████▎                                         | 275/574 [02:16<03:08,  1.59it/s]"
     ]
    },
    {
     "name": "stdout",
     "output_type": "stream",
     "text": [
      "{\"level\":\"signalLv0\",\"label\":\"Không có thông tin\",\"colorCode\":\"000000\"}\n",
      "https://opennetwork.viettel.vn/user-ws/troubleshoot/tile/stats/l4/20.253589/104.7232085\n"
     ]
    },
    {
     "name": "stderr",
     "output_type": "stream",
     "text": [
      " 48%|██████████████████████████████████████▍                                         | 276/574 [02:17<02:59,  1.66it/s]"
     ]
    },
    {
     "name": "stdout",
     "output_type": "stream",
     "text": [
      "{\"level\":\"signalLv0\",\"label\":\"Không có thông tin\",\"colorCode\":\"000000\"}\n",
      "https://opennetwork.viettel.vn/user-ws/troubleshoot/tile/stats/l4/20.1455652/105.0253379\n"
     ]
    },
    {
     "name": "stderr",
     "output_type": "stream",
     "text": [
      " 48%|██████████████████████████████████████▌                                         | 277/574 [02:18<04:07,  1.20it/s]"
     ]
    },
    {
     "name": "stdout",
     "output_type": "stream",
     "text": [
      "{\"level\":\"signalLv0\",\"label\":\"Không có thông tin\",\"colorCode\":\"000000\"}\n",
      "https://opennetwork.viettel.vn/user-ws/troubleshoot/tile/stats/l4/20.0417275/105.2218405\n"
     ]
    },
    {
     "name": "stderr",
     "output_type": "stream",
     "text": [
      " 48%|██████████████████████████████████████▋                                         | 278/574 [02:19<03:29,  1.42it/s]"
     ]
    },
    {
     "name": "stdout",
     "output_type": "stream",
     "text": [
      "{\"level\":\"signalLv0\",\"label\":\"Không có thông tin\",\"colorCode\":\"000000\"}\n",
      "https://opennetwork.viettel.vn/user-ws/troubleshoot/tile/stats/l4/20.173389/105.3213665\n"
     ]
    },
    {
     "name": "stderr",
     "output_type": "stream",
     "text": [
      " 49%|██████████████████████████████████████▉                                         | 279/574 [02:19<03:02,  1.62it/s]"
     ]
    },
    {
     "name": "stdout",
     "output_type": "stream",
     "text": [
      "{\"level\":\"signalLv0\",\"label\":\"Không có thông tin\",\"colorCode\":\"000000\"}\n",
      "https://opennetwork.viettel.vn/user-ws/troubleshoot/tile/stats/l4/20.346053/105.4870369\n"
     ]
    },
    {
     "name": "stderr",
     "output_type": "stream",
     "text": [
      " 49%|███████████████████████████████████████                                         | 280/574 [02:19<02:48,  1.74it/s]"
     ]
    },
    {
     "name": "stdout",
     "output_type": "stream",
     "text": [
      "{\"level\":\"signalLv0\",\"label\":\"Không có thông tin\",\"colorCode\":\"000000\"}\n",
      "https://opennetwork.viettel.vn/user-ws/troubleshoot/tile/stats/l4/20.012972/105.0049329\n"
     ]
    },
    {
     "name": "stderr",
     "output_type": "stream",
     "text": [
      " 49%|███████████████████████████████████████▏                                        | 281/574 [02:20<02:44,  1.78it/s]"
     ]
    },
    {
     "name": "stdout",
     "output_type": "stream",
     "text": [
      "{\"level\":\"signalLv0\",\"label\":\"Không có thông tin\",\"colorCode\":\"000000\"}\n",
      "https://opennetwork.viettel.vn/user-ws/troubleshoot/tile/stats/l4/19.79729/105.1856684\n"
     ]
    },
    {
     "name": "stderr",
     "output_type": "stream",
     "text": [
      " 49%|███████████████████████████████████████▎                                        | 282/574 [02:20<02:40,  1.82it/s]"
     ]
    },
    {
     "name": "stdout",
     "output_type": "stream",
     "text": [
      "{\"level\":\"signalLv0\",\"label\":\"Không có thông tin\",\"colorCode\":\"000000\"}\n",
      "https://opennetwork.viettel.vn/user-ws/troubleshoot/tile/stats/l4/19.8751454/105.230712\n"
     ]
    },
    {
     "name": "stderr",
     "output_type": "stream",
     "text": [
      " 49%|███████████████████████████████████████▍                                        | 283/574 [02:21<02:25,  2.00it/s]"
     ]
    },
    {
     "name": "stdout",
     "output_type": "stream",
     "text": [
      "{\"level\":\"signalLv0\",\"label\":\"Không có thông tin\",\"colorCode\":\"000000\"}\n",
      "https://opennetwork.viettel.vn/user-ws/troubleshoot/tile/stats/l4/19.8921945/105.2875805\n"
     ]
    },
    {
     "name": "stderr",
     "output_type": "stream",
     "text": [
      " 49%|███████████████████████████████████████▌                                        | 284/574 [02:21<02:19,  2.09it/s]"
     ]
    },
    {
     "name": "stdout",
     "output_type": "stream",
     "text": [
      "{\"level\":\"signalLv0\",\"label\":\"Không có thông tin\",\"colorCode\":\"000000\"}\n",
      "https://opennetwork.viettel.vn/user-ws/troubleshoot/tile/stats/l4/19.5447363/105.3635376\n"
     ]
    },
    {
     "name": "stderr",
     "output_type": "stream",
     "text": [
      " 50%|███████████████████████████████████████▋                                        | 285/574 [02:22<02:09,  2.23it/s]"
     ]
    },
    {
     "name": "stdout",
     "output_type": "stream",
     "text": [
      "{\"level\":\"signalLv0\",\"label\":\"Không có thông tin\",\"colorCode\":\"000000\"}\n",
      "https://opennetwork.viettel.vn/user-ws/troubleshoot/tile/stats/l4/19.683643/105.2013665\n"
     ]
    },
    {
     "name": "stderr",
     "output_type": "stream",
     "text": [
      " 50%|███████████████████████████████████████▊                                        | 286/574 [02:22<02:15,  2.12it/s]"
     ]
    },
    {
     "name": "stdout",
     "output_type": "stream",
     "text": [
      "{\"level\":\"signalLv0\",\"label\":\"Không có thông tin\",\"colorCode\":\"000000\"}\n",
      "https://opennetwork.viettel.vn/user-ws/troubleshoot/tile/stats/l4/19.4448961/105.5685362\n"
     ]
    },
    {
     "name": "stderr",
     "output_type": "stream",
     "text": [
      " 50%|████████████████████████████████████████                                        | 287/574 [02:23<02:13,  2.14it/s]"
     ]
    },
    {
     "name": "stdout",
     "output_type": "stream",
     "text": [
      "{\"level\":\"signalLv0\",\"label\":\"Không có thông tin\",\"colorCode\":\"000000\"}\n",
      "https://opennetwork.viettel.vn/user-ws/troubleshoot/tile/stats/l4/19.4922296/105.7391459\n"
     ]
    },
    {
     "name": "stderr",
     "output_type": "stream",
     "text": [
      " 50%|████████████████████████████████████████▏                                       | 288/574 [02:23<02:15,  2.12it/s]"
     ]
    },
    {
     "name": "stdout",
     "output_type": "stream",
     "text": [
      "{\"level\":\"signalLv0\",\"label\":\"Không có thông tin\",\"colorCode\":\"000000\"}\n",
      "https://opennetwork.viettel.vn/user-ws/troubleshoot/tile/stats/l4/19.8456548/105.0795937\n"
     ]
    },
    {
     "name": "stderr",
     "output_type": "stream",
     "text": [
      " 50%|████████████████████████████████████████▎                                       | 289/574 [02:24<02:12,  2.15it/s]"
     ]
    },
    {
     "name": "stdout",
     "output_type": "stream",
     "text": [
      "{\"level\":\"signalLv0\",\"label\":\"Không có thông tin\",\"colorCode\":\"000000\"}\n",
      "https://opennetwork.viettel.vn/user-ws/troubleshoot/tile/stats/l4/19.7142715/104.8537035\n"
     ]
    },
    {
     "name": "stderr",
     "output_type": "stream",
     "text": [
      " 51%|████████████████████████████████████████▍                                       | 290/574 [02:25<03:55,  1.21it/s]"
     ]
    },
    {
     "name": "stdout",
     "output_type": "stream",
     "text": [
      "{\"level\":\"signalLv0\",\"label\":\"Không có thông tin\",\"colorCode\":\"000000\"}\n",
      "https://opennetwork.viettel.vn/user-ws/troubleshoot/tile/stats/l4/19.679366/104.775509\n"
     ]
    },
    {
     "name": "stderr",
     "output_type": "stream",
     "text": [
      " 51%|████████████████████████████████████████▌                                       | 291/574 [02:26<03:20,  1.41it/s]"
     ]
    },
    {
     "name": "stdout",
     "output_type": "stream",
     "text": [
      "{\"level\":\"signalLv0\",\"label\":\"Không có thông tin\",\"colorCode\":\"000000\"}\n",
      "https://opennetwork.viettel.vn/user-ws/troubleshoot/tile/stats/l4/19.6355496/104.7141215\n"
     ]
    },
    {
     "name": "stderr",
     "output_type": "stream",
     "text": [
      " 51%|████████████████████████████████████████▋                                       | 292/574 [02:26<02:57,  1.59it/s]"
     ]
    },
    {
     "name": "stdout",
     "output_type": "stream",
     "text": [
      "{\"level\":\"signalLv0\",\"label\":\"Không có thông tin\",\"colorCode\":\"000000\"}\n",
      "https://opennetwork.viettel.vn/user-ws/troubleshoot/tile/stats/l4/19.589864/104.8682785\n"
     ]
    },
    {
     "name": "stderr",
     "output_type": "stream",
     "text": [
      " 51%|████████████████████████████████████████▊                                       | 293/574 [02:27<02:40,  1.75it/s]"
     ]
    },
    {
     "name": "stdout",
     "output_type": "stream",
     "text": [
      "{\"level\":\"signalLv0\",\"label\":\"Không có thông tin\",\"colorCode\":\"000000\"}\n",
      "https://opennetwork.viettel.vn/user-ws/troubleshoot/tile/stats/l4/19.575753/104.959441\n"
     ]
    },
    {
     "name": "stderr",
     "output_type": "stream",
     "text": [
      " 51%|████████████████████████████████████████▉                                       | 294/574 [02:27<02:27,  1.90it/s]"
     ]
    },
    {
     "name": "stdout",
     "output_type": "stream",
     "text": [
      "{\"level\":\"signalLv0\",\"label\":\"Không có thông tin\",\"colorCode\":\"000000\"}\n",
      "https://opennetwork.viettel.vn/user-ws/troubleshoot/tile/stats/l4/19.4894903/104.8875465\n"
     ]
    },
    {
     "name": "stderr",
     "output_type": "stream",
     "text": [
      " 51%|█████████████████████████████████████████                                       | 295/574 [02:27<02:14,  2.08it/s]"
     ]
    },
    {
     "name": "stdout",
     "output_type": "stream",
     "text": [
      "{\"level\":\"signalLv0\",\"label\":\"Không có thông tin\",\"colorCode\":\"000000\"}\n",
      "https://opennetwork.viettel.vn/user-ws/troubleshoot/tile/stats/l4/19.4973759/104.7785475\n"
     ]
    },
    {
     "name": "stderr",
     "output_type": "stream",
     "text": [
      " 52%|█████████████████████████████████████████▎                                      | 296/574 [02:28<02:08,  2.16it/s]"
     ]
    },
    {
     "name": "stdout",
     "output_type": "stream",
     "text": [
      "{\"level\":\"signalLv0\",\"label\":\"Không có thông tin\",\"colorCode\":\"000000\"}\n",
      "https://opennetwork.viettel.vn/user-ws/troubleshoot/tile/stats/l4/19.486913/105.195647\n"
     ]
    },
    {
     "name": "stderr",
     "output_type": "stream",
     "text": [
      " 52%|█████████████████████████████████████████▍                                      | 297/574 [02:28<02:04,  2.22it/s]"
     ]
    },
    {
     "name": "stdout",
     "output_type": "stream",
     "text": [
      "{\"level\":\"signalLv0\",\"label\":\"Không có thông tin\",\"colorCode\":\"000000\"}\n",
      "https://opennetwork.viettel.vn/user-ws/troubleshoot/tile/stats/l4/19.6017535/105.1744725\n"
     ]
    },
    {
     "name": "stderr",
     "output_type": "stream",
     "text": [
      " 52%|█████████████████████████████████████████▌                                      | 298/574 [02:29<02:02,  2.25it/s]"
     ]
    },
    {
     "name": "stdout",
     "output_type": "stream",
     "text": [
      "{\"level\":\"signalLv0\",\"label\":\"Không có thông tin\",\"colorCode\":\"000000\"}\n",
      "https://opennetwork.viettel.vn/user-ws/troubleshoot/tile/stats/l4/19.562272/105.0226359\n"
     ]
    },
    {
     "name": "stderr",
     "output_type": "stream",
     "text": [
      " 52%|█████████████████████████████████████████▋                                      | 299/574 [02:29<02:00,  2.29it/s]"
     ]
    },
    {
     "name": "stdout",
     "output_type": "stream",
     "text": [
      "{\"level\":\"signalLv0\",\"label\":\"Không có thông tin\",\"colorCode\":\"000000\"}\n",
      "https://opennetwork.viettel.vn/user-ws/troubleshoot/tile/stats/l4/19.4434285/104.9025998\n"
     ]
    },
    {
     "name": "stderr",
     "output_type": "stream",
     "text": [
      " 52%|█████████████████████████████████████████▊                                      | 300/574 [02:29<01:59,  2.29it/s]"
     ]
    },
    {
     "name": "stdout",
     "output_type": "stream",
     "text": [
      "{\"level\":\"signalLv0\",\"label\":\"Không có thông tin\",\"colorCode\":\"000000\"}\n",
      "https://opennetwork.viettel.vn/user-ws/troubleshoot/tile/stats/l4/19.4309006/104.9708461\n"
     ]
    },
    {
     "name": "stderr",
     "output_type": "stream",
     "text": [
      " 52%|█████████████████████████████████████████▉                                      | 301/574 [02:31<03:43,  1.22it/s]"
     ]
    },
    {
     "name": "stdout",
     "output_type": "stream",
     "text": [
      "{\"x\":415018,\"y\":233287,\"level\":\"layout4signalLv3\",\"label\":\"Khá\",\"colorCode\":\"FDB863\"}\n",
      "https://opennetwork.viettel.vn/user-ws/troubleshoot/tile/stats/l4/19.6269858/104.2994356\n"
     ]
    },
    {
     "name": "stderr",
     "output_type": "stream",
     "text": [
      " 53%|██████████████████████████████████████████                                      | 302/574 [02:32<03:25,  1.32it/s]"
     ]
    },
    {
     "name": "stdout",
     "output_type": "stream",
     "text": [
      "{\"level\":\"signalLv0\",\"label\":\"Không có thông tin\",\"colorCode\":\"000000\"}\n",
      "https://opennetwork.viettel.vn/user-ws/troubleshoot/tile/stats/l4/19.5749075/104.15412\n"
     ]
    },
    {
     "name": "stderr",
     "output_type": "stream",
     "text": [
      " 53%|██████████████████████████████████████████▏                                     | 303/574 [02:34<04:47,  1.06s/it]"
     ]
    },
    {
     "name": "stdout",
     "output_type": "stream",
     "text": [
      "{\"x\":413829,\"y\":233064,\"level\":\"layout4signalLv3\",\"label\":\"Khá\",\"colorCode\":\"FDB863\"}\n",
      "https://opennetwork.viettel.vn/user-ws/troubleshoot/tile/stats/l4/19.5093385/104.3546121\n"
     ]
    },
    {
     "name": "stderr",
     "output_type": "stream",
     "text": [
      " 53%|██████████████████████████████████████████▎                                     | 304/574 [02:34<04:00,  1.12it/s]"
     ]
    },
    {
     "name": "stdout",
     "output_type": "stream",
     "text": [
      "{\"level\":\"signalLv0\",\"label\":\"Không có thông tin\",\"colorCode\":\"000000\"}\n",
      "https://opennetwork.viettel.vn/user-ws/troubleshoot/tile/stats/l4/19.4263405/104.2345959\n"
     ]
    },
    {
     "name": "stderr",
     "output_type": "stream",
     "text": [
      " 53%|██████████████████████████████████████████▌                                     | 305/574 [02:35<03:40,  1.22it/s]"
     ]
    },
    {
     "name": "stdout",
     "output_type": "stream",
     "text": [
      "{\"x\":413946,\"y\":233294,\"level\":\"layout4signalLv4\",\"label\":\"Yếu\",\"colorCode\":\"E66101\"}\n",
      "https://opennetwork.viettel.vn/user-ws/troubleshoot/tile/stats/l4/19.3276035/104.020872\n"
     ]
    },
    {
     "name": "stderr",
     "output_type": "stream",
     "text": [
      " 53%|██████████████████████████████████████████▋                                     | 306/574 [02:35<03:11,  1.40it/s]"
     ]
    },
    {
     "name": "stdout",
     "output_type": "stream",
     "text": [
      "{\"level\":\"signalLv0\",\"label\":\"Không có thông tin\",\"colorCode\":\"000000\"}\n",
      "https://opennetwork.viettel.vn/user-ws/troubleshoot/tile/stats/l4/19.4631425/104.139296\n"
     ]
    },
    {
     "name": "stderr",
     "output_type": "stream",
     "text": [
      " 53%|██████████████████████████████████████████▊                                     | 307/574 [02:36<02:57,  1.51it/s]"
     ]
    },
    {
     "name": "stdout",
     "output_type": "stream",
     "text": [
      "{\"x\":413807,\"y\":233237,\"level\":\"layout4signalLv3\",\"label\":\"Khá\",\"colorCode\":\"FDB863\"}\n",
      "https://opennetwork.viettel.vn/user-ws/troubleshoot/tile/stats/l4/19.6102424/104.4435882\n"
     ]
    },
    {
     "name": "stderr",
     "output_type": "stream",
     "text": [
      " 54%|██████████████████████████████████████████▉                                     | 308/574 [02:36<02:37,  1.69it/s]"
     ]
    },
    {
     "name": "stdout",
     "output_type": "stream",
     "text": [
      "{\"level\":\"signalLv0\",\"label\":\"Không có thông tin\",\"colorCode\":\"000000\"}\n",
      "https://opennetwork.viettel.vn/user-ws/troubleshoot/tile/stats/l4/19.578645/104.5531024\n"
     ]
    },
    {
     "name": "stderr",
     "output_type": "stream",
     "text": [
      " 54%|███████████████████████████████████████████                                     | 309/574 [02:37<02:24,  1.83it/s]"
     ]
    },
    {
     "name": "stdout",
     "output_type": "stream",
     "text": [
      "{\"level\":\"signalLv0\",\"label\":\"Không có thông tin\",\"colorCode\":\"000000\"}\n",
      "https://opennetwork.viettel.vn/user-ws/troubleshoot/tile/stats/l4/19.51027/104.648279\n"
     ]
    },
    {
     "name": "stderr",
     "output_type": "stream",
     "text": [
      " 54%|███████████████████████████████████████████▏                                    | 310/574 [02:37<02:15,  1.95it/s]"
     ]
    },
    {
     "name": "stdout",
     "output_type": "stream",
     "text": [
      "{\"level\":\"signalLv0\",\"label\":\"Không có thông tin\",\"colorCode\":\"000000\"}\n",
      "https://opennetwork.viettel.vn/user-ws/troubleshoot/tile/stats/l4/19.391481/104.6715884\n"
     ]
    },
    {
     "name": "stderr",
     "output_type": "stream",
     "text": [
      " 54%|███████████████████████████████████████████▎                                    | 311/574 [02:38<02:23,  1.84it/s]"
     ]
    },
    {
     "name": "stdout",
     "output_type": "stream",
     "text": [
      "{\"level\":\"signalLv0\",\"label\":\"Không có thông tin\",\"colorCode\":\"000000\"}\n",
      "https://opennetwork.viettel.vn/user-ws/troubleshoot/tile/stats/l4/19.3429095/104.815083\n"
     ]
    },
    {
     "name": "stderr",
     "output_type": "stream",
     "text": [
      " 54%|███████████████████████████████████████████▍                                    | 312/574 [02:38<02:09,  2.02it/s]"
     ]
    },
    {
     "name": "stdout",
     "output_type": "stream",
     "text": [
      "{\"level\":\"signalLv0\",\"label\":\"Không có thông tin\",\"colorCode\":\"000000\"}\n",
      "https://opennetwork.viettel.vn/user-ws/troubleshoot/tile/stats/l4/19.3384645/104.4079349\n"
     ]
    },
    {
     "name": "stderr",
     "output_type": "stream",
     "text": [
      " 55%|███████████████████████████████████████████▌                                    | 313/574 [02:38<01:57,  2.22it/s]"
     ]
    },
    {
     "name": "stdout",
     "output_type": "stream",
     "text": [
      "{\"level\":\"signalLv0\",\"label\":\"Không có thông tin\",\"colorCode\":\"000000\"}\n",
      "https://opennetwork.viettel.vn/user-ws/troubleshoot/tile/stats/l4/19.22147/104.5131949\n"
     ]
    },
    {
     "name": "stderr",
     "output_type": "stream",
     "text": [
      " 55%|███████████████████████████████████████████▊                                    | 314/574 [02:39<02:27,  1.76it/s]"
     ]
    },
    {
     "name": "stdout",
     "output_type": "stream",
     "text": [
      "{\"x\":414352,\"y\":233610,\"level\":\"layout4signalLv2\",\"label\":\"Tốt\",\"colorCode\":\"A6DBA0\"}\n",
      "https://opennetwork.viettel.vn/user-ws/troubleshoot/tile/stats/l4/19.0967429/104.564582\n"
     ]
    },
    {
     "name": "stderr",
     "output_type": "stream",
     "text": [
      " 55%|███████████████████████████████████████████▉                                    | 315/574 [02:40<02:11,  1.98it/s]"
     ]
    },
    {
     "name": "stdout",
     "output_type": "stream",
     "text": [
      "{\"level\":\"signalLv0\",\"label\":\"Không có thông tin\",\"colorCode\":\"000000\"}\n",
      "https://opennetwork.viettel.vn/user-ws/troubleshoot/tile/stats/l4/19.133983/104.4002079\n"
     ]
    },
    {
     "name": "stderr",
     "output_type": "stream",
     "text": [
      " 55%|████████████████████████████████████████████                                    | 316/574 [02:40<01:58,  2.18it/s]"
     ]
    },
    {
     "name": "stdout",
     "output_type": "stream",
     "text": [
      "{\"level\":\"signalLv0\",\"label\":\"Không có thông tin\",\"colorCode\":\"000000\"}\n",
      "https://opennetwork.viettel.vn/user-ws/troubleshoot/tile/stats/l4/19.4555986/105.3432495\n"
     ]
    },
    {
     "name": "stderr",
     "output_type": "stream",
     "text": [
      " 55%|████████████████████████████████████████████▏                                   | 317/574 [02:40<01:42,  2.52it/s]"
     ]
    },
    {
     "name": "stdout",
     "output_type": "stream",
     "text": [
      "{\"x\":415561,\"y\":233248,\"level\":\"layout4signalLv3\",\"label\":\"Khá\",\"colorCode\":\"FDB863\"}\n",
      "https://opennetwork.viettel.vn/user-ws/troubleshoot/tile/stats/l4/19.4351405/105.1458985\n"
     ]
    },
    {
     "name": "stderr",
     "output_type": "stream",
     "text": [
      " 55%|████████████████████████████████████████████▎                                   | 318/574 [02:42<02:57,  1.44it/s]"
     ]
    },
    {
     "name": "stdout",
     "output_type": "stream",
     "text": [
      "{\"level\":\"signalLv0\",\"label\":\"Không có thông tin\",\"colorCode\":\"000000\"}\n",
      "https://opennetwork.viettel.vn/user-ws/troubleshoot/tile/stats/l4/19.3908915/105.1578574\n"
     ]
    },
    {
     "name": "stderr",
     "output_type": "stream",
     "text": [
      " 56%|████████████████████████████████████████████▍                                   | 319/574 [02:42<02:33,  1.66it/s]"
     ]
    },
    {
     "name": "stdout",
     "output_type": "stream",
     "text": [
      "{\"level\":\"signalLv0\",\"label\":\"Không có thông tin\",\"colorCode\":\"000000\"}\n",
      "https://opennetwork.viettel.vn/user-ws/troubleshoot/tile/stats/l4/19.3850924/105.2097425\n"
     ]
    },
    {
     "name": "stderr",
     "output_type": "stream",
     "text": [
      " 56%|████████████████████████████████████████████▌                                   | 320/574 [02:42<02:18,  1.84it/s]"
     ]
    },
    {
     "name": "stdout",
     "output_type": "stream",
     "text": [
      "{\"level\":\"signalLv0\",\"label\":\"Không có thông tin\",\"colorCode\":\"000000\"}\n",
      "https://opennetwork.viettel.vn/user-ws/troubleshoot/tile/stats/l4/19.34739/105.0528705\n"
     ]
    },
    {
     "name": "stderr",
     "output_type": "stream",
     "text": [
      " 56%|████████████████████████████████████████████▋                                   | 321/574 [02:43<02:01,  2.07it/s]"
     ]
    },
    {
     "name": "stdout",
     "output_type": "stream",
     "text": [
      "{\"level\":\"signalLv0\",\"label\":\"Không có thông tin\",\"colorCode\":\"000000\"}\n",
      "https://opennetwork.viettel.vn/user-ws/troubleshoot/tile/stats/l4/19.2921794/105.081613\n"
     ]
    },
    {
     "name": "stderr",
     "output_type": "stream",
     "text": [
      " 56%|████████████████████████████████████████████▉                                   | 322/574 [02:43<01:52,  2.25it/s]"
     ]
    },
    {
     "name": "stdout",
     "output_type": "stream",
     "text": [
      "{\"level\":\"signalLv0\",\"label\":\"Không có thông tin\",\"colorCode\":\"000000\"}\n",
      "https://opennetwork.viettel.vn/user-ws/troubleshoot/tile/stats/l4/19.226183/105.014106\n"
     ]
    },
    {
     "name": "stderr",
     "output_type": "stream",
     "text": [
      " 56%|█████████████████████████████████████████████                                   | 323/574 [02:44<01:57,  2.14it/s]"
     ]
    },
    {
     "name": "stdout",
     "output_type": "stream",
     "text": [
      "{\"x\":415081,\"y\":233603,\"level\":\"layout4signalLv3\",\"label\":\"Khá\",\"colorCode\":\"FDB863\"}\n",
      "https://opennetwork.viettel.vn/user-ws/troubleshoot/tile/stats/l4/19.2431499/105.1080095\n"
     ]
    },
    {
     "name": "stderr",
     "output_type": "stream",
     "text": [
      " 56%|█████████████████████████████████████████████▏                                  | 324/574 [02:44<01:52,  2.22it/s]"
     ]
    },
    {
     "name": "stdout",
     "output_type": "stream",
     "text": [
      "{\"level\":\"signalLv0\",\"label\":\"Không có thông tin\",\"colorCode\":\"000000\"}\n",
      "https://opennetwork.viettel.vn/user-ws/troubleshoot/tile/stats/l4/19.2529334/105.2878189\n"
     ]
    },
    {
     "name": "stderr",
     "output_type": "stream",
     "text": [
      " 57%|█████████████████████████████████████████████▎                                  | 325/574 [02:45<02:02,  2.03it/s]"
     ]
    },
    {
     "name": "stdout",
     "output_type": "stream",
     "text": [
      "{\"x\":415480,\"y\":233561,\"level\":\"layout4signalLv3\",\"label\":\"Khá\",\"colorCode\":\"FDB863\"}\n",
      "https://opennetwork.viettel.vn/user-ws/troubleshoot/tile/stats/l4/19.2624494/104.9181462\n"
     ]
    },
    {
     "name": "stderr",
     "output_type": "stream",
     "text": [
      " 57%|█████████████████████████████████████████████▍                                  | 326/574 [02:45<01:57,  2.12it/s]"
     ]
    },
    {
     "name": "stdout",
     "output_type": "stream",
     "text": [
      "{\"level\":\"signalLv0\",\"label\":\"Không có thông tin\",\"colorCode\":\"000000\"}\n",
      "https://opennetwork.viettel.vn/user-ws/troubleshoot/tile/stats/l4/19.1413471/104.899435\n"
     ]
    },
    {
     "name": "stderr",
     "output_type": "stream",
     "text": [
      " 57%|█████████████████████████████████████████████▌                                  | 327/574 [02:45<01:46,  2.32it/s]"
     ]
    },
    {
     "name": "stdout",
     "output_type": "stream",
     "text": [
      "{\"level\":\"signalLv0\",\"label\":\"Không có thông tin\",\"colorCode\":\"000000\"}\n",
      "https://opennetwork.viettel.vn/user-ws/troubleshoot/tile/stats/l4/18.9933322/104.6656323\n"
     ]
    },
    {
     "name": "stderr",
     "output_type": "stream",
     "text": [
      " 57%|█████████████████████████████████████████████▋                                  | 328/574 [02:46<01:42,  2.39it/s]"
     ]
    },
    {
     "name": "stdout",
     "output_type": "stream",
     "text": [
      "{\"level\":\"signalLv0\",\"label\":\"Không có thông tin\",\"colorCode\":\"000000\"}\n",
      "https://opennetwork.viettel.vn/user-ws/troubleshoot/tile/stats/l4/18.951604/104.8612324\n"
     ]
    },
    {
     "name": "stderr",
     "output_type": "stream",
     "text": [
      " 57%|█████████████████████████████████████████████▊                                  | 329/574 [02:46<01:36,  2.54it/s]"
     ]
    },
    {
     "name": "stdout",
     "output_type": "stream",
     "text": [
      "{\"level\":\"signalLv0\",\"label\":\"Không có thông tin\",\"colorCode\":\"000000\"}\n",
      "https://opennetwork.viettel.vn/user-ws/troubleshoot/tile/stats/l4/18.874838/104.8425125\n"
     ]
    },
    {
     "name": "stderr",
     "output_type": "stream",
     "text": [
      " 57%|█████████████████████████████████████████████▉                                  | 330/574 [02:46<01:36,  2.53it/s]"
     ]
    },
    {
     "name": "stdout",
     "output_type": "stream",
     "text": [
      "{\"level\":\"signalLv0\",\"label\":\"Không có thông tin\",\"colorCode\":\"000000\"}\n",
      "https://opennetwork.viettel.vn/user-ws/troubleshoot/tile/stats/l4/19.1194754/105.0370525\n"
     ]
    },
    {
     "name": "stderr",
     "output_type": "stream",
     "text": [
      " 58%|██████████████████████████████████████████████▏                                 | 331/574 [02:47<01:33,  2.60it/s]"
     ]
    },
    {
     "name": "stdout",
     "output_type": "stream",
     "text": [
      "{\"level\":\"signalLv0\",\"label\":\"Không có thông tin\",\"colorCode\":\"000000\"}\n",
      "https://opennetwork.viettel.vn/user-ws/troubleshoot/tile/stats/l4/18.9389258/105.1545667\n"
     ]
    },
    {
     "name": "stderr",
     "output_type": "stream",
     "text": [
      " 58%|██████████████████████████████████████████████▎                                 | 332/574 [02:48<02:36,  1.54it/s]"
     ]
    },
    {
     "name": "stdout",
     "output_type": "stream",
     "text": [
      "{\"x\":415286,\"y\":234045,\"level\":\"layout4signalLv2\",\"label\":\"Tốt\",\"colorCode\":\"A6DBA0\"}\n",
      "https://opennetwork.viettel.vn/user-ws/troubleshoot/tile/stats/l4/19.132304/105.449703\n"
     ]
    },
    {
     "name": "stderr",
     "output_type": "stream",
     "text": [
      " 58%|██████████████████████████████████████████████▍                                 | 333/574 [02:48<02:15,  1.77it/s]"
     ]
    },
    {
     "name": "stdout",
     "output_type": "stream",
     "text": [
      "{\"level\":\"signalLv0\",\"label\":\"Không có thông tin\",\"colorCode\":\"000000\"}\n",
      "https://opennetwork.viettel.vn/user-ws/troubleshoot/tile/stats/l4/18.9269301/105.3048134\n"
     ]
    },
    {
     "name": "stderr",
     "output_type": "stream",
     "text": [
      " 58%|██████████████████████████████████████████████▌                                 | 334/574 [02:49<01:53,  2.12it/s]"
     ]
    },
    {
     "name": "stdout",
     "output_type": "stream",
     "text": [
      "{\"x\":415505,\"y\":234064,\"level\":\"layout4signalLv1\",\"label\":\"Rất tốt\",\"colorCode\":\"008837\"}\n",
      "https://opennetwork.viettel.vn/user-ws/troubleshoot/tile/stats/l4/18.775799/105.112555\n"
     ]
    },
    {
     "name": "stderr",
     "output_type": "stream",
     "text": [
      " 58%|██████████████████████████████████████████████▋                                 | 335/574 [02:49<01:43,  2.32it/s]"
     ]
    },
    {
     "name": "stdout",
     "output_type": "stream",
     "text": [
      "{\"level\":\"signalLv0\",\"label\":\"Không có thông tin\",\"colorCode\":\"000000\"}\n",
      "https://opennetwork.viettel.vn/user-ws/troubleshoot/tile/stats/l4/18.6576704/105.2601254\n"
     ]
    },
    {
     "name": "stderr",
     "output_type": "stream",
     "text": [
      " 59%|██████████████████████████████████████████████▊                                 | 336/574 [02:49<01:37,  2.44it/s]"
     ]
    },
    {
     "name": "stdout",
     "output_type": "stream",
     "text": [
      "{\"level\":\"signalLv0\",\"label\":\"Không có thông tin\",\"colorCode\":\"000000\"}\n",
      "https://opennetwork.viettel.vn/user-ws/troubleshoot/tile/stats/l4/18.8117085/105.0659449\n"
     ]
    },
    {
     "name": "stderr",
     "output_type": "stream",
     "text": [
      " 59%|██████████████████████████████████████████████▉                                 | 337/574 [02:50<01:38,  2.41it/s]"
     ]
    },
    {
     "name": "stdout",
     "output_type": "stream",
     "text": [
      "{\"level\":\"signalLv0\",\"label\":\"Không có thông tin\",\"colorCode\":\"000000\"}\n",
      "https://opennetwork.viettel.vn/user-ws/troubleshoot/tile/stats/l4/18.5657042/105.2266216\n"
     ]
    },
    {
     "name": "stderr",
     "output_type": "stream",
     "text": [
      " 59%|███████████████████████████████████████████████                                 | 338/574 [02:50<01:35,  2.48it/s]"
     ]
    },
    {
     "name": "stdout",
     "output_type": "stream",
     "text": [
      "{\"level\":\"signalLv0\",\"label\":\"Không có thông tin\",\"colorCode\":\"000000\"}\n",
      "https://opennetwork.viettel.vn/user-ws/troubleshoot/tile/stats/l4/18.5310875/105.3298545\n"
     ]
    },
    {
     "name": "stderr",
     "output_type": "stream",
     "text": [
      " 59%|███████████████████████████████████████████████▏                                | 339/574 [02:51<01:33,  2.52it/s]"
     ]
    },
    {
     "name": "stdout",
     "output_type": "stream",
     "text": [
      "{\"level\":\"signalLv0\",\"label\":\"Không có thông tin\",\"colorCode\":\"000000\"}\n",
      "https://opennetwork.viettel.vn/user-ws/troubleshoot/tile/stats/l4/18.3606995/105.278027\n"
     ]
    },
    {
     "name": "stderr",
     "output_type": "stream",
     "text": [
      " 59%|███████████████████████████████████████████████▍                                | 340/574 [02:51<01:36,  2.43it/s]"
     ]
    },
    {
     "name": "stdout",
     "output_type": "stream",
     "text": [
      "{\"level\":\"signalLv0\",\"label\":\"Không có thông tin\",\"colorCode\":\"000000\"}\n",
      "https://opennetwork.viettel.vn/user-ws/troubleshoot/tile/stats/l4/18.465523/105.4014802\n"
     ]
    },
    {
     "name": "stderr",
     "output_type": "stream",
     "text": [
      " 59%|███████████████████████████████████████████████▌                                | 341/574 [02:51<01:25,  2.72it/s]"
     ]
    },
    {
     "name": "stdout",
     "output_type": "stream",
     "text": [
      "{\"x\":415646,\"y\":234773,\"level\":\"layout4signalLv3\",\"label\":\"Khá\",\"colorCode\":\"FDB863\"}\n",
      "https://opennetwork.viettel.vn/user-ws/troubleshoot/tile/stats/l4/18.3577572/105.4828692\n"
     ]
    },
    {
     "name": "stderr",
     "output_type": "stream",
     "text": [
      " 60%|███████████████████████████████████████████████▋                                | 342/574 [02:52<01:28,  2.63it/s]"
     ]
    },
    {
     "name": "stdout",
     "output_type": "stream",
     "text": [
      "{\"level\":\"signalLv0\",\"label\":\"Không có thông tin\",\"colorCode\":\"000000\"}\n",
      "https://opennetwork.viettel.vn/user-ws/troubleshoot/tile/stats/l4/18.3709577/105.432905\n"
     ]
    },
    {
     "name": "stderr",
     "output_type": "stream",
     "text": [
      " 60%|███████████████████████████████████████████████▊                                | 343/574 [02:52<01:25,  2.71it/s]"
     ]
    },
    {
     "name": "stdout",
     "output_type": "stream",
     "text": [
      "{\"level\":\"signalLv0\",\"label\":\"Không có thông tin\",\"colorCode\":\"000000\"}\n",
      "https://opennetwork.viettel.vn/user-ws/troubleshoot/tile/stats/l4/18.2643534/105.37426\n"
     ]
    },
    {
     "name": "stderr",
     "output_type": "stream",
     "text": [
      " 60%|███████████████████████████████████████████████▉                                | 344/574 [02:52<01:24,  2.72it/s]"
     ]
    },
    {
     "name": "stdout",
     "output_type": "stream",
     "text": [
      "{\"level\":\"signalLv0\",\"label\":\"Không có thông tin\",\"colorCode\":\"000000\"}\n",
      "https://opennetwork.viettel.vn/user-ws/troubleshoot/tile/stats/l4/18.6653829/105.8265901\n"
     ]
    },
    {
     "name": "stderr",
     "output_type": "stream",
     "text": [
      " 60%|████████████████████████████████████████████████                                | 345/574 [02:53<01:22,  2.78it/s]"
     ]
    },
    {
     "name": "stdout",
     "output_type": "stream",
     "text": [
      "{\"level\":\"signalLv0\",\"label\":\"Không có thông tin\",\"colorCode\":\"000000\"}\n",
      "https://opennetwork.viettel.vn/user-ws/troubleshoot/tile/stats/l4/18.2597194/105.7249741\n"
     ]
    },
    {
     "name": "stderr",
     "output_type": "stream",
     "text": [
      " 60%|████████████████████████████████████████████████▏                               | 346/574 [02:53<01:22,  2.76it/s]"
     ]
    },
    {
     "name": "stdout",
     "output_type": "stream",
     "text": [
      "{\"level\":\"signalLv0\",\"label\":\"Không có thông tin\",\"colorCode\":\"000000\"}\n",
      "https://opennetwork.viettel.vn/user-ws/troubleshoot/tile/stats/l4/18.2491483/105.5465983\n"
     ]
    },
    {
     "name": "stderr",
     "output_type": "stream",
     "text": [
      " 60%|████████████████████████████████████████████████▎                               | 347/574 [02:53<01:20,  2.80it/s]"
     ]
    },
    {
     "name": "stdout",
     "output_type": "stream",
     "text": [
      "{\"level\":\"signalLv0\",\"label\":\"Không có thông tin\",\"colorCode\":\"000000\"}\n",
      "https://opennetwork.viettel.vn/user-ws/troubleshoot/tile/stats/l4/18.2428595/105.7604645\n"
     ]
    },
    {
     "name": "stderr",
     "output_type": "stream",
     "text": [
      " 61%|████████████████████████████████████████████████▌                               | 348/574 [02:54<01:20,  2.82it/s]"
     ]
    },
    {
     "name": "stdout",
     "output_type": "stream",
     "text": [
      "{\"level\":\"signalLv0\",\"label\":\"Không có thông tin\",\"colorCode\":\"000000\"}\n",
      "https://opennetwork.viettel.vn/user-ws/troubleshoot/tile/stats/l4/18.1993025/105.8014359\n"
     ]
    },
    {
     "name": "stderr",
     "output_type": "stream",
     "text": [
      " 61%|████████████████████████████████████████████████▋                               | 349/574 [02:54<01:19,  2.84it/s]"
     ]
    },
    {
     "name": "stdout",
     "output_type": "stream",
     "text": [
      "{\"level\":\"signalLv0\",\"label\":\"Không có thông tin\",\"colorCode\":\"000000\"}\n",
      "https://opennetwork.viettel.vn/user-ws/troubleshoot/tile/stats/l4/18.223/105.5908455\n"
     ]
    },
    {
     "name": "stderr",
     "output_type": "stream",
     "text": [
      " 61%|████████████████████████████████████████████████▊                               | 350/574 [02:55<01:20,  2.79it/s]"
     ]
    },
    {
     "name": "stdout",
     "output_type": "stream",
     "text": [
      "{\"level\":\"signalLv0\",\"label\":\"Không có thông tin\",\"colorCode\":\"000000\"}\n",
      "https://opennetwork.viettel.vn/user-ws/troubleshoot/tile/stats/l4/18.1452315/105.589724\n"
     ]
    },
    {
     "name": "stderr",
     "output_type": "stream",
     "text": [
      " 61%|████████████████████████████████████████████████▉                               | 351/574 [02:55<01:19,  2.82it/s]"
     ]
    },
    {
     "name": "stdout",
     "output_type": "stream",
     "text": [
      "{\"level\":\"signalLv0\",\"label\":\"Không có thông tin\",\"colorCode\":\"000000\"}\n",
      "https://opennetwork.viettel.vn/user-ws/troubleshoot/tile/stats/l4/18.1141093/105.6232452\n"
     ]
    },
    {
     "name": "stderr",
     "output_type": "stream",
     "text": [
      " 61%|█████████████████████████████████████████████████                               | 352/574 [02:55<01:19,  2.80it/s]"
     ]
    },
    {
     "name": "stdout",
     "output_type": "stream",
     "text": [
      "{\"level\":\"signalLv0\",\"label\":\"Không có thông tin\",\"colorCode\":\"000000\"}\n",
      "https://opennetwork.viettel.vn/user-ws/troubleshoot/tile/stats/l4/18.0888585/105.8374786\n"
     ]
    },
    {
     "name": "stderr",
     "output_type": "stream",
     "text": [
      " 61%|█████████████████████████████████████████████████▏                              | 353/574 [02:57<02:23,  1.54it/s]"
     ]
    },
    {
     "name": "stdout",
     "output_type": "stream",
     "text": [
      "{\"level\":\"signalLv0\",\"label\":\"Không có thông tin\",\"colorCode\":\"000000\"}\n",
      "https://opennetwork.viettel.vn/user-ws/troubleshoot/tile/stats/l4/18.0461205/105.658968\n"
     ]
    },
    {
     "name": "stderr",
     "output_type": "stream",
     "text": [
      " 62%|█████████████████████████████████████████████████▎                              | 354/574 [02:57<02:03,  1.78it/s]"
     ]
    },
    {
     "name": "stdout",
     "output_type": "stream",
     "text": [
      "{\"level\":\"signalLv0\",\"label\":\"Không có thông tin\",\"colorCode\":\"000000\"}\n",
      "https://opennetwork.viettel.vn/user-ws/troubleshoot/tile/stats/l4/18.3040614/105.78993\n"
     ]
    },
    {
     "name": "stderr",
     "output_type": "stream",
     "text": [
      " 62%|█████████████████████████████████████████████████▍                              | 355/574 [02:57<01:47,  2.03it/s]"
     ]
    },
    {
     "name": "stdout",
     "output_type": "stream",
     "text": [
      "{\"level\":\"signalLv0\",\"label\":\"Không có thông tin\",\"colorCode\":\"000000\"}\n",
      "https://opennetwork.viettel.vn/user-ws/troubleshoot/tile/stats/l4/18.2865031/105.8445414\n"
     ]
    },
    {
     "name": "stderr",
     "output_type": "stream",
     "text": [
      " 62%|█████████████████████████████████████████████████▌                              | 356/574 [02:58<01:56,  1.87it/s]"
     ]
    },
    {
     "name": "stdout",
     "output_type": "stream",
     "text": [
      "{\"x\":416291,\"y\":235048,\"level\":\"layout4signalLv1\",\"label\":\"Rất tốt\",\"colorCode\":\"008837\"}\n",
      "https://opennetwork.viettel.vn/user-ws/troubleshoot/tile/stats/l4/18.2268561/105.8817673\n"
     ]
    },
    {
     "name": "stderr",
     "output_type": "stream",
     "text": [
      " 62%|█████████████████████████████████████████████████▊                              | 357/574 [02:58<01:43,  2.10it/s]"
     ]
    },
    {
     "name": "stdout",
     "output_type": "stream",
     "text": [
      "{\"level\":\"signalLv0\",\"label\":\"Không có thông tin\",\"colorCode\":\"000000\"}\n",
      "https://opennetwork.viettel.vn/user-ws/troubleshoot/tile/stats/l4/18.198671/105.9817989\n"
     ]
    },
    {
     "name": "stderr",
     "output_type": "stream",
     "text": [
      " 62%|█████████████████████████████████████████████████▉                              | 358/574 [02:59<01:35,  2.27it/s]"
     ]
    },
    {
     "name": "stdout",
     "output_type": "stream",
     "text": [
      "{\"level\":\"signalLv0\",\"label\":\"Không có thông tin\",\"colorCode\":\"000000\"}\n",
      "https://opennetwork.viettel.vn/user-ws/troubleshoot/tile/stats/l4/18.1430894/106.0148164\n"
     ]
    },
    {
     "name": "stderr",
     "output_type": "stream",
     "text": [
      " 63%|██████████████████████████████████████████████████                              | 359/574 [02:59<01:27,  2.44it/s]"
     ]
    },
    {
     "name": "stdout",
     "output_type": "stream",
     "text": [
      "{\"level\":\"signalLv0\",\"label\":\"Không có thông tin\",\"colorCode\":\"000000\"}\n",
      "https://opennetwork.viettel.vn/user-ws/troubleshoot/tile/stats/l4/18.147672/105.9293574\n"
     ]
    },
    {
     "name": "stderr",
     "output_type": "stream",
     "text": [
      " 63%|██████████████████████████████████████████████████▏                             | 360/574 [02:59<01:25,  2.49it/s]"
     ]
    },
    {
     "name": "stdout",
     "output_type": "stream",
     "text": [
      "{\"level\":\"signalLv0\",\"label\":\"Không có thông tin\",\"colorCode\":\"000000\"}\n",
      "https://opennetwork.viettel.vn/user-ws/troubleshoot/tile/stats/l4/18.1613595/106.0614715\n"
     ]
    },
    {
     "name": "stderr",
     "output_type": "stream",
     "text": [
      " 63%|██████████████████████████████████████████████████▎                             | 361/574 [03:01<02:24,  1.47it/s]"
     ]
    },
    {
     "name": "stdout",
     "output_type": "stream",
     "text": [
      "{\"level\":\"signalLv0\",\"label\":\"Không có thông tin\",\"colorCode\":\"000000\"}\n",
      "https://opennetwork.viettel.vn/user-ws/troubleshoot/tile/stats/l4/18.1643588/106.092782\n"
     ]
    },
    {
     "name": "stderr",
     "output_type": "stream",
     "text": [
      " 63%|██████████████████████████████████████████████████▍                             | 362/574 [03:01<02:06,  1.68it/s]"
     ]
    },
    {
     "name": "stdout",
     "output_type": "stream",
     "text": [
      "{\"level\":\"signalLv0\",\"label\":\"Không có thông tin\",\"colorCode\":\"000000\"}\n",
      "https://opennetwork.viettel.vn/user-ws/troubleshoot/tile/stats/l4/18.0281074/106.0799985\n"
     ]
    },
    {
     "name": "stderr",
     "output_type": "stream",
     "text": [
      " 63%|██████████████████████████████████████████████████▌                             | 363/574 [03:01<01:50,  1.92it/s]"
     ]
    },
    {
     "name": "stdout",
     "output_type": "stream",
     "text": [
      "{\"level\":\"signalLv0\",\"label\":\"Không có thông tin\",\"colorCode\":\"000000\"}\n",
      "https://opennetwork.viettel.vn/user-ws/troubleshoot/tile/stats/l4/17.967178/106.1316815\n"
     ]
    },
    {
     "name": "stderr",
     "output_type": "stream",
     "text": [
      " 63%|██████████████████████████████████████████████████▋                             | 364/574 [03:02<01:43,  2.03it/s]"
     ]
    },
    {
     "name": "stdout",
     "output_type": "stream",
     "text": [
      "{\"level\":\"signalLv0\",\"label\":\"Không có thông tin\",\"colorCode\":\"000000\"}\n",
      "https://opennetwork.viettel.vn/user-ws/troubleshoot/tile/stats/l4/17.4498841/106.5357979\n"
     ]
    },
    {
     "name": "stderr",
     "output_type": "stream",
     "text": [
      " 64%|██████████████████████████████████████████████████▊                             | 365/574 [03:02<01:39,  2.09it/s]"
     ]
    },
    {
     "name": "stdout",
     "output_type": "stream",
     "text": [
      "{\"level\":\"signalLv0\",\"label\":\"Không có thông tin\",\"colorCode\":\"000000\"}\n",
      "https://opennetwork.viettel.vn/user-ws/troubleshoot/tile/stats/l4/17.8871479/105.94247\n"
     ]
    },
    {
     "name": "stderr",
     "output_type": "stream",
     "text": [
      " 64%|███████████████████████████████████████████████████                             | 366/574 [03:03<01:49,  1.90it/s]"
     ]
    },
    {
     "name": "stdout",
     "output_type": "stream",
     "text": [
      "{\"x\":416433,\"y\":235660,\"level\":\"layout4signalLv3\",\"label\":\"Khá\",\"colorCode\":\"FDB863\"}\n",
      "https://opennetwork.viettel.vn/user-ws/troubleshoot/tile/stats/l4/17.7726089/106.0611964\n"
     ]
    },
    {
     "name": "stderr",
     "output_type": "stream",
     "text": [
      " 64%|███████████████████████████████████████████████████▏                            | 367/574 [03:03<01:41,  2.03it/s]"
     ]
    },
    {
     "name": "stdout",
     "output_type": "stream",
     "text": [
      "{\"level\":\"signalLv0\",\"label\":\"Không có thông tin\",\"colorCode\":\"000000\"}\n",
      "https://opennetwork.viettel.vn/user-ws/troubleshoot/tile/stats/l4/17.735757/105.8569781\n"
     ]
    },
    {
     "name": "stderr",
     "output_type": "stream",
     "text": [
      " 64%|███████████████████████████████████████████████████▎                            | 368/574 [03:04<01:35,  2.16it/s]"
     ]
    },
    {
     "name": "stdout",
     "output_type": "stream",
     "text": [
      "{\"level\":\"signalLv0\",\"label\":\"Không có thông tin\",\"colorCode\":\"000000\"}\n",
      "https://opennetwork.viettel.vn/user-ws/troubleshoot/tile/stats/l4/17.6156335/105.981229\n"
     ]
    },
    {
     "name": "stderr",
     "output_type": "stream",
     "text": [
      " 64%|███████████████████████████████████████████████████▍                            | 369/574 [03:04<01:30,  2.25it/s]"
     ]
    },
    {
     "name": "stdout",
     "output_type": "stream",
     "text": [
      "{\"level\":\"signalLv0\",\"label\":\"Không có thông tin\",\"colorCode\":\"000000\"}\n",
      "https://opennetwork.viettel.vn/user-ws/troubleshoot/tile/stats/l4/18.0440268/105.9207343\n"
     ]
    },
    {
     "name": "stderr",
     "output_type": "stream",
     "text": [
      " 64%|███████████████████████████████████████████████████▌                            | 370/574 [03:05<01:33,  2.18it/s]"
     ]
    },
    {
     "name": "stdout",
     "output_type": "stream",
     "text": [
      "{\"level\":\"signalLv0\",\"label\":\"Không có thông tin\",\"colorCode\":\"000000\"}\n",
      "https://opennetwork.viettel.vn/user-ws/troubleshoot/tile/stats/l4/17.9796479/105.9717416\n"
     ]
    },
    {
     "name": "stderr",
     "output_type": "stream",
     "text": [
      " 65%|███████████████████████████████████████████████████▋                            | 371/574 [03:05<01:28,  2.30it/s]"
     ]
    },
    {
     "name": "stdout",
     "output_type": "stream",
     "text": [
      "{\"level\":\"signalLv0\",\"label\":\"Không có thông tin\",\"colorCode\":\"000000\"}\n",
      "https://opennetwork.viettel.vn/user-ws/troubleshoot/tile/stats/l4/17.9799115/105.7487875\n"
     ]
    },
    {
     "name": "stderr",
     "output_type": "stream",
     "text": [
      " 65%|███████████████████████████████████████████████████▊                            | 372/574 [03:05<01:31,  2.20it/s]"
     ]
    },
    {
     "name": "stdout",
     "output_type": "stream",
     "text": [
      "{\"level\":\"signalLv0\",\"label\":\"Không có thông tin\",\"colorCode\":\"000000\"}\n",
      "https://opennetwork.viettel.vn/user-ws/troubleshoot/tile/stats/l4/17.9856074/105.868442\n"
     ]
    },
    {
     "name": "stderr",
     "output_type": "stream",
     "text": [
      " 65%|███████████████████████████████████████████████████▉                            | 373/574 [03:06<01:28,  2.28it/s]"
     ]
    },
    {
     "name": "stdout",
     "output_type": "stream",
     "text": [
      "{\"level\":\"signalLv0\",\"label\":\"Không có thông tin\",\"colorCode\":\"000000\"}\n",
      "https://opennetwork.viettel.vn/user-ws/troubleshoot/tile/stats/l4/17.9384444/106.036366\n"
     ]
    },
    {
     "name": "stderr",
     "output_type": "stream",
     "text": [
      " 65%|████████████████████████████████████████████████████▏                           | 374/574 [03:06<01:33,  2.14it/s]"
     ]
    },
    {
     "name": "stdout",
     "output_type": "stream",
     "text": [
      "{\"level\":\"signalLv0\",\"label\":\"Không có thông tin\",\"colorCode\":\"000000\"}\n",
      "https://opennetwork.viettel.vn/user-ws/troubleshoot/tile/stats/l4/17.934333/105.774849\n"
     ]
    },
    {
     "name": "stderr",
     "output_type": "stream",
     "text": [
      " 65%|████████████████████████████████████████████████████▎                           | 375/574 [03:07<01:30,  2.20it/s]"
     ]
    },
    {
     "name": "stdout",
     "output_type": "stream",
     "text": [
      "{\"level\":\"signalLv0\",\"label\":\"Không có thông tin\",\"colorCode\":\"000000\"}\n",
      "https://opennetwork.viettel.vn/user-ws/troubleshoot/tile/stats/l4/17.8936209/105.9845281\n"
     ]
    },
    {
     "name": "stderr",
     "output_type": "stream",
     "text": [
      " 66%|████████████████████████████████████████████████████▍                           | 376/574 [03:07<01:21,  2.44it/s]"
     ]
    },
    {
     "name": "stdout",
     "output_type": "stream",
     "text": [
      "{\"x\":416495,\"y\":235650,\"level\":\"layout4signalLv3\",\"label\":\"Khá\",\"colorCode\":\"FDB863\"}\n",
      "https://opennetwork.viettel.vn/user-ws/troubleshoot/tile/stats/l4/17.8500244/106.0433865\n"
     ]
    },
    {
     "name": "stderr",
     "output_type": "stream",
     "text": [
      " 66%|████████████████████████████████████████████████████▌                           | 377/574 [03:08<01:19,  2.46it/s]"
     ]
    },
    {
     "name": "stdout",
     "output_type": "stream",
     "text": [
      "{\"level\":\"signalLv0\",\"label\":\"Không có thông tin\",\"colorCode\":\"000000\"}\n",
      "https://opennetwork.viettel.vn/user-ws/troubleshoot/tile/stats/l4/17.8905449/106.0886851\n"
     ]
    },
    {
     "name": "stderr",
     "output_type": "stream",
     "text": [
      " 66%|████████████████████████████████████████████████████▋                           | 378/574 [03:08<01:16,  2.55it/s]"
     ]
    },
    {
     "name": "stdout",
     "output_type": "stream",
     "text": [
      "{\"level\":\"signalLv0\",\"label\":\"Không có thông tin\",\"colorCode\":\"000000\"}\n",
      "https://opennetwork.viettel.vn/user-ws/troubleshoot/tile/stats/l4/17.839254/106.2088036\n"
     ]
    },
    {
     "name": "stderr",
     "output_type": "stream",
     "text": [
      " 66%|████████████████████████████████████████████████████▊                           | 379/574 [03:08<01:17,  2.52it/s]"
     ]
    },
    {
     "name": "stdout",
     "output_type": "stream",
     "text": [
      "{\"level\":\"signalLv0\",\"label\":\"Không có thông tin\",\"colorCode\":\"000000\"}\n",
      "https://opennetwork.viettel.vn/user-ws/troubleshoot/tile/stats/l4/17.9327997/106.4225651\n"
     ]
    },
    {
     "name": "stderr",
     "output_type": "stream",
     "text": [
      " 66%|████████████████████████████████████████████████████▉                           | 380/574 [03:09<01:17,  2.50it/s]"
     ]
    },
    {
     "name": "stdout",
     "output_type": "stream",
     "text": [
      "{\"level\":\"signalLv0\",\"label\":\"Không có thông tin\",\"colorCode\":\"000000\"}\n",
      "https://opennetwork.viettel.vn/user-ws/troubleshoot/tile/stats/l4/17.6710433/106.177454\n"
     ]
    },
    {
     "name": "stderr",
     "output_type": "stream",
     "text": [
      " 66%|█████████████████████████████████████████████████████                           | 381/574 [03:10<02:05,  1.54it/s]"
     ]
    },
    {
     "name": "stdout",
     "output_type": "stream",
     "text": [
      "{\"level\":\"signalLv0\",\"label\":\"Không có thông tin\",\"colorCode\":\"000000\"}\n",
      "https://opennetwork.viettel.vn/user-ws/troubleshoot/tile/stats/l4/17.4480705/106.1411477\n"
     ]
    },
    {
     "name": "stderr",
     "output_type": "stream",
     "text": [
      " 67%|█████████████████████████████████████████████████████▏                          | 382/574 [03:10<01:51,  1.72it/s]"
     ]
    },
    {
     "name": "stdout",
     "output_type": "stream",
     "text": [
      "{\"level\":\"signalLv0\",\"label\":\"Không có thông tin\",\"colorCode\":\"000000\"}\n",
      "https://opennetwork.viettel.vn/user-ws/troubleshoot/tile/stats/l4/17.5759011/106.3678265\n"
     ]
    },
    {
     "name": "stderr",
     "output_type": "stream",
     "text": [
      " 67%|█████████████████████████████████████████████████████▍                          | 383/574 [03:12<02:50,  1.12it/s]"
     ]
    },
    {
     "name": "stdout",
     "output_type": "stream",
     "text": [
      "{\"level\":\"signalLv0\",\"label\":\"Không có thông tin\",\"colorCode\":\"000000\"}\n",
      "https://opennetwork.viettel.vn/user-ws/troubleshoot/tile/stats/l4/17.5705315/106.2762636\n"
     ]
    },
    {
     "name": "stderr",
     "output_type": "stream",
     "text": [
      " 67%|█████████████████████████████████████████████████████▌                          | 384/574 [03:12<02:27,  1.28it/s]"
     ]
    },
    {
     "name": "stdout",
     "output_type": "stream",
     "text": [
      "{\"level\":\"signalLv0\",\"label\":\"Không có thông tin\",\"colorCode\":\"000000\"}\n",
      "https://opennetwork.viettel.vn/user-ws/troubleshoot/tile/stats/l4/17.494839/106.4334405\n"
     ]
    },
    {
     "name": "stderr",
     "output_type": "stream",
     "text": [
      " 67%|█████████████████████████████████████████████████████▋                          | 385/574 [03:13<02:07,  1.48it/s]"
     ]
    },
    {
     "name": "stdout",
     "output_type": "stream",
     "text": [
      "{\"level\":\"signalLv0\",\"label\":\"Không có thông tin\",\"colorCode\":\"000000\"}\n",
      "https://opennetwork.viettel.vn/user-ws/troubleshoot/tile/stats/l4/17.2523961/106.4398305\n"
     ]
    },
    {
     "name": "stderr",
     "output_type": "stream",
     "text": [
      " 67%|█████████████████████████████████████████████████████▊                          | 386/574 [03:13<01:52,  1.67it/s]"
     ]
    },
    {
     "name": "stdout",
     "output_type": "stream",
     "text": [
      "{\"level\":\"signalLv0\",\"label\":\"Không có thông tin\",\"colorCode\":\"000000\"}\n",
      "https://opennetwork.viettel.vn/user-ws/troubleshoot/tile/stats/l4/17.3943988/106.5793776\n"
     ]
    },
    {
     "name": "stderr",
     "output_type": "stream",
     "text": [
      " 67%|█████████████████████████████████████████████████████▉                          | 387/574 [03:14<01:40,  1.86it/s]"
     ]
    },
    {
     "name": "stdout",
     "output_type": "stream",
     "text": [
      "{\"level\":\"signalLv0\",\"label\":\"Không có thông tin\",\"colorCode\":\"000000\"}\n",
      "https://opennetwork.viettel.vn/user-ws/troubleshoot/tile/stats/l4/17.339473/106.5856486\n"
     ]
    },
    {
     "name": "stderr",
     "output_type": "stream",
     "text": [
      " 68%|██████████████████████████████████████████████████████                          | 388/574 [03:14<01:33,  1.98it/s]"
     ]
    },
    {
     "name": "stdout",
     "output_type": "stream",
     "text": [
      "{\"level\":\"signalLv0\",\"label\":\"Không có thông tin\",\"colorCode\":\"000000\"}\n",
      "https://opennetwork.viettel.vn/user-ws/troubleshoot/tile/stats/l4/17.2596477/106.577468\n"
     ]
    },
    {
     "name": "stderr",
     "output_type": "stream",
     "text": [
      " 68%|██████████████████████████████████████████████████████▏                         | 389/574 [03:15<01:29,  2.08it/s]"
     ]
    },
    {
     "name": "stdout",
     "output_type": "stream",
     "text": [
      "{\"level\":\"signalLv0\",\"label\":\"Không có thông tin\",\"colorCode\":\"000000\"}\n",
      "https://opennetwork.viettel.vn/user-ws/troubleshoot/tile/stats/l4/17.0483313/106.705184\n"
     ]
    },
    {
     "name": "stderr",
     "output_type": "stream",
     "text": [
      " 68%|██████████████████████████████████████████████████████▎                         | 390/574 [03:16<02:04,  1.48it/s]"
     ]
    },
    {
     "name": "stdout",
     "output_type": "stream",
     "text": [
      "{\"level\":\"signalLv0\",\"label\":\"Không có thông tin\",\"colorCode\":\"000000\"}\n",
      "https://opennetwork.viettel.vn/user-ws/troubleshoot/tile/stats/l4/17.046533/106.5321766\n"
     ]
    },
    {
     "name": "stderr",
     "output_type": "stream",
     "text": [
      " 68%|██████████████████████████████████████████████████████▍                         | 391/574 [03:16<01:48,  1.69it/s]"
     ]
    },
    {
     "name": "stdout",
     "output_type": "stream",
     "text": [
      "{\"level\":\"signalLv0\",\"label\":\"Không có thông tin\",\"colorCode\":\"000000\"}\n",
      "https://opennetwork.viettel.vn/user-ws/troubleshoot/tile/stats/l4/16.9719219/106.8741524\n"
     ]
    },
    {
     "name": "stderr",
     "output_type": "stream",
     "text": [
      " 68%|██████████████████████████████████████████████████████▋                         | 392/574 [03:17<01:50,  1.65it/s]"
     ]
    },
    {
     "name": "stdout",
     "output_type": "stream",
     "text": [
      "{\"x\":417790,\"y\":237057,\"level\":\"layout4signalLv4\",\"label\":\"Yếu\",\"colorCode\":\"E66101\"}\n",
      "https://opennetwork.viettel.vn/user-ws/troubleshoot/tile/stats/l4/16.9378421/106.760416\n"
     ]
    },
    {
     "name": "stderr",
     "output_type": "stream",
     "text": [
      " 68%|██████████████████████████████████████████████████████▊                         | 393/574 [03:18<02:26,  1.24it/s]"
     ]
    },
    {
     "name": "stdout",
     "output_type": "stream",
     "text": [
      "{\"level\":\"signalLv0\",\"label\":\"Không có thông tin\",\"colorCode\":\"000000\"}\n",
      "https://opennetwork.viettel.vn/user-ws/troubleshoot/tile/stats/l4/16.804899/106.6830624\n"
     ]
    },
    {
     "name": "stderr",
     "output_type": "stream",
     "text": [
      " 69%|██████████████████████████████████████████████████████▉                         | 394/574 [03:18<02:00,  1.49it/s]"
     ]
    },
    {
     "name": "stdout",
     "output_type": "stream",
     "text": [
      "{\"level\":\"signalLv0\",\"label\":\"Không có thông tin\",\"colorCode\":\"000000\"}\n",
      "https://opennetwork.viettel.vn/user-ws/troubleshoot/tile/stats/l4/16.6405826/106.6349745\n"
     ]
    },
    {
     "name": "stderr",
     "output_type": "stream",
     "text": [
      " 69%|███████████████████████████████████████████████████████                         | 395/574 [03:19<01:41,  1.76it/s]"
     ]
    },
    {
     "name": "stdout",
     "output_type": "stream",
     "text": [
      "{\"level\":\"signalLv0\",\"label\":\"Không có thông tin\",\"colorCode\":\"000000\"}\n",
      "https://opennetwork.viettel.vn/user-ws/troubleshoot/tile/stats/l4/16.8720178/106.8276215\n"
     ]
    },
    {
     "name": "stderr",
     "output_type": "stream",
     "text": [
      " 69%|███████████████████████████████████████████████████████▏                        | 396/574 [03:19<01:29,  1.99it/s]"
     ]
    },
    {
     "name": "stdout",
     "output_type": "stream",
     "text": [
      "{\"level\":\"signalLv0\",\"label\":\"Không có thông tin\",\"colorCode\":\"000000\"}\n",
      "https://opennetwork.viettel.vn/user-ws/troubleshoot/tile/stats/l4/16.7623285/106.7986291\n"
     ]
    },
    {
     "name": "stderr",
     "output_type": "stream",
     "text": [
      " 69%|███████████████████████████████████████████████████████▎                        | 397/574 [03:19<01:22,  2.15it/s]"
     ]
    },
    {
     "name": "stdout",
     "output_type": "stream",
     "text": [
      "{\"level\":\"signalLv0\",\"label\":\"Không có thông tin\",\"colorCode\":\"000000\"}\n",
      "https://opennetwork.viettel.vn/user-ws/troubleshoot/tile/stats/l4/16.591049/107.068774\n"
     ]
    },
    {
     "name": "stderr",
     "output_type": "stream",
     "text": [
      " 69%|███████████████████████████████████████████████████████▍                        | 398/574 [03:20<01:15,  2.33it/s]"
     ]
    },
    {
     "name": "stdout",
     "output_type": "stream",
     "text": [
      "{\"level\":\"signalLv0\",\"label\":\"Không có thông tin\",\"colorCode\":\"000000\"}\n",
      "https://opennetwork.viettel.vn/user-ws/troubleshoot/tile/stats/l4/16.4843939/107.0446873\n"
     ]
    },
    {
     "name": "stderr",
     "output_type": "stream",
     "text": [
      " 70%|███████████████████████████████████████████████████████▌                        | 399/574 [03:20<01:09,  2.50it/s]"
     ]
    },
    {
     "name": "stdout",
     "output_type": "stream",
     "text": [
      "{\"level\":\"signalLv0\",\"label\":\"Không có thông tin\",\"colorCode\":\"000000\"}\n",
      "https://opennetwork.viettel.vn/user-ws/troubleshoot/tile/stats/l4/16.7415937/107.0827746\n"
     ]
    },
    {
     "name": "stderr",
     "output_type": "stream",
     "text": [
      " 70%|███████████████████████████████████████████████████████▋                        | 400/574 [03:21<01:24,  2.06it/s]"
     ]
    },
    {
     "name": "stdout",
     "output_type": "stream",
     "text": [
      "{\"x\":418094,\"y\":237407,\"level\":\"layout4signalLv4\",\"label\":\"Yếu\",\"colorCode\":\"E66101\"}\n",
      "https://opennetwork.viettel.vn/user-ws/troubleshoot/tile/stats/l4/16.6174764/107.2281933\n"
     ]
    },
    {
     "name": "stderr",
     "output_type": "stream",
     "text": [
      " 70%|███████████████████████████████████████████████████████▉                        | 401/574 [03:22<01:56,  1.49it/s]"
     ]
    },
    {
     "name": "stdout",
     "output_type": "stream",
     "text": [
      "{\"level\":\"signalLv0\",\"label\":\"Không có thông tin\",\"colorCode\":\"000000\"}\n",
      "https://opennetwork.viettel.vn/user-ws/troubleshoot/tile/stats/l4/17.1585976/107.3400629\n"
     ]
    },
    {
     "name": "stderr",
     "output_type": "stream",
     "text": [
      " 70%|████████████████████████████████████████████████████████                        | 402/574 [03:22<01:37,  1.76it/s]"
     ]
    },
    {
     "name": "stdout",
     "output_type": "stream",
     "text": [
      "{\"level\":\"signalLv0\",\"label\":\"Không có thông tin\",\"colorCode\":\"000000\"}\n",
      "https://opennetwork.viettel.vn/user-ws/troubleshoot/tile/stats/l4/16.4771634/107.202396\n"
     ]
    },
    {
     "name": "stderr",
     "output_type": "stream",
     "text": [
      " 70%|████████████████████████████████████████████████████████▏                       | 403/574 [03:23<01:27,  1.96it/s]"
     ]
    },
    {
     "name": "stdout",
     "output_type": "stream",
     "text": [
      "{\"level\":\"signalLv0\",\"label\":\"Không có thông tin\",\"colorCode\":\"000000\"}\n",
      "https://opennetwork.viettel.vn/user-ws/troubleshoot/tile/stats/l4/16.4437369/107.282331\n"
     ]
    },
    {
     "name": "stderr",
     "output_type": "stream",
     "text": [
      " 70%|████████████████████████████████████████████████████████▎                       | 404/574 [03:23<01:18,  2.16it/s]"
     ]
    },
    {
     "name": "stdout",
     "output_type": "stream",
     "text": [
      "{\"level\":\"signalLv0\",\"label\":\"Không có thông tin\",\"colorCode\":\"000000\"}\n",
      "https://opennetwork.viettel.vn/user-ws/troubleshoot/tile/stats/l4/16.4412503/107.3621106\n"
     ]
    },
    {
     "name": "stderr",
     "output_type": "stream",
     "text": [
      " 71%|████████████████████████████████████████████████████████▍                       | 405/574 [03:23<01:12,  2.32it/s]"
     ]
    },
    {
     "name": "stdout",
     "output_type": "stream",
     "text": [
      "{\"level\":\"signalLv0\",\"label\":\"Không có thông tin\",\"colorCode\":\"000000\"}\n",
      "https://opennetwork.viettel.vn/user-ws/troubleshoot/tile/stats/l4/16.3019177/107.3305034\n"
     ]
    },
    {
     "name": "stderr",
     "output_type": "stream",
     "text": [
      " 71%|████████████████████████████████████████████████████████▌                       | 406/574 [03:24<01:20,  2.08it/s]"
     ]
    },
    {
     "name": "stdout",
     "output_type": "stream",
     "text": [
      "{\"x\":418455,\"y\":238075,\"level\":\"layout4signalLv3\",\"label\":\"Khá\",\"colorCode\":\"FDB863\"}\n",
      "https://opennetwork.viettel.vn/user-ws/troubleshoot/tile/stats/l4/16.3278549/107.2340513\n"
     ]
    },
    {
     "name": "stderr",
     "output_type": "stream",
     "text": [
      " 71%|████████████████████████████████████████████████████████▋                       | 407/574 [03:24<01:13,  2.28it/s]"
     ]
    },
    {
     "name": "stdout",
     "output_type": "stream",
     "text": [
      "{\"level\":\"signalLv0\",\"label\":\"Không có thông tin\",\"colorCode\":\"000000\"}\n",
      "https://opennetwork.viettel.vn/user-ws/troubleshoot/tile/stats/l4/16.1489742/107.4517395\n"
     ]
    },
    {
     "name": "stderr",
     "output_type": "stream",
     "text": [
      " 71%|████████████████████████████████████████████████████████▊                       | 408/574 [03:25<01:07,  2.46it/s]"
     ]
    },
    {
     "name": "stdout",
     "output_type": "stream",
     "text": [
      "{\"level\":\"signalLv0\",\"label\":\"Không có thông tin\",\"colorCode\":\"000000\"}\n",
      "https://opennetwork.viettel.vn/user-ws/troubleshoot/tile/stats/l4/16.1924555/107.194891\n"
     ]
    },
    {
     "name": "stderr",
     "output_type": "stream",
     "text": [
      " 71%|█████████████████████████████████████████████████████████                       | 409/574 [03:25<01:04,  2.57it/s]"
     ]
    },
    {
     "name": "stdout",
     "output_type": "stream",
     "text": [
      "{\"level\":\"signalLv0\",\"label\":\"Không có thông tin\",\"colorCode\":\"000000\"}\n",
      "https://opennetwork.viettel.vn/user-ws/troubleshoot/tile/stats/l4/16.1499793/107.3616815\n"
     ]
    },
    {
     "name": "stderr",
     "output_type": "stream",
     "text": [
      " 71%|█████████████████████████████████████████████████████████▏                      | 410/574 [03:25<01:00,  2.71it/s]"
     ]
    },
    {
     "name": "stdout",
     "output_type": "stream",
     "text": [
      "{\"level\":\"signalLv0\",\"label\":\"Không có thông tin\",\"colorCode\":\"000000\"}\n",
      "https://opennetwork.viettel.vn/user-ws/troubleshoot/tile/stats/l4/16.184714/107.6404365\n"
     ]
    },
    {
     "name": "stderr",
     "output_type": "stream",
     "text": [
      " 72%|█████████████████████████████████████████████████████████▎                      | 411/574 [03:26<00:59,  2.74it/s]"
     ]
    },
    {
     "name": "stdout",
     "output_type": "stream",
     "text": [
      "{\"level\":\"signalLv0\",\"label\":\"Không có thông tin\",\"colorCode\":\"000000\"}\n",
      "https://opennetwork.viettel.vn/user-ws/troubleshoot/tile/stats/l4/16.159837/107.7992677\n"
     ]
    },
    {
     "name": "stderr",
     "output_type": "stream",
     "text": [
      " 72%|█████████████████████████████████████████████████████████▍                      | 412/574 [03:26<00:57,  2.83it/s]"
     ]
    },
    {
     "name": "stdout",
     "output_type": "stream",
     "text": [
      "{\"level\":\"signalLv0\",\"label\":\"Không có thông tin\",\"colorCode\":\"000000\"}\n",
      "https://opennetwork.viettel.vn/user-ws/troubleshoot/tile/stats/l4/16.095034/107.5769234\n"
     ]
    },
    {
     "name": "stderr",
     "output_type": "stream",
     "text": [
      " 72%|█████████████████████████████████████████████████████████▌                      | 413/574 [03:26<00:56,  2.83it/s]"
     ]
    },
    {
     "name": "stdout",
     "output_type": "stream",
     "text": [
      "{\"level\":\"signalLv0\",\"label\":\"Không có thông tin\",\"colorCode\":\"000000\"}\n",
      "https://opennetwork.viettel.vn/user-ws/troubleshoot/tile/stats/l4/16.1037016/107.7826595\n"
     ]
    },
    {
     "name": "stderr",
     "output_type": "stream",
     "text": [
      " 72%|█████████████████████████████████████████████████████████▋                      | 414/574 [03:27<00:55,  2.90it/s]"
     ]
    },
    {
     "name": "stdout",
     "output_type": "stream",
     "text": [
      "{\"level\":\"signalLv0\",\"label\":\"Không có thông tin\",\"colorCode\":\"000000\"}\n",
      "https://opennetwork.viettel.vn/user-ws/troubleshoot/tile/stats/l4/16.083267/107.623612\n"
     ]
    },
    {
     "name": "stderr",
     "output_type": "stream",
     "text": [
      " 72%|█████████████████████████████████████████████████████████▊                      | 415/574 [03:27<00:54,  2.89it/s]"
     ]
    },
    {
     "name": "stdout",
     "output_type": "stream",
     "text": [
      "{\"level\":\"signalLv0\",\"label\":\"Không có thông tin\",\"colorCode\":\"000000\"}\n",
      "https://opennetwork.viettel.vn/user-ws/troubleshoot/tile/stats/l4/16.0696777/107.6987171\n"
     ]
    },
    {
     "name": "stderr",
     "output_type": "stream",
     "text": [
      " 72%|█████████████████████████████████████████████████████████▉                      | 416/574 [03:27<00:55,  2.84it/s]"
     ]
    },
    {
     "name": "stdout",
     "output_type": "stream",
     "text": [
      "{\"level\":\"signalLv0\",\"label\":\"Không có thông tin\",\"colorCode\":\"000000\"}\n",
      "https://opennetwork.viettel.vn/user-ws/troubleshoot/tile/stats/l4/15.8103459/107.2570647\n"
     ]
    },
    {
     "name": "stderr",
     "output_type": "stream",
     "text": [
      " 73%|██████████████████████████████████████████████████████████                      | 417/574 [03:28<00:54,  2.86it/s]"
     ]
    },
    {
     "name": "stdout",
     "output_type": "stream",
     "text": [
      "{\"level\":\"signalLv0\",\"label\":\"Không có thông tin\",\"colorCode\":\"000000\"}\n",
      "https://opennetwork.viettel.vn/user-ws/troubleshoot/tile/stats/l4/15.7556565/107.2663214\n"
     ]
    },
    {
     "name": "stderr",
     "output_type": "stream",
     "text": [
      " 73%|██████████████████████████████████████████████████████████▎                     | 418/574 [03:28<00:56,  2.78it/s]"
     ]
    },
    {
     "name": "stdout",
     "output_type": "stream",
     "text": [
      "{\"level\":\"signalLv0\",\"label\":\"Không có thông tin\",\"colorCode\":\"000000\"}\n",
      "https://opennetwork.viettel.vn/user-ws/troubleshoot/tile/stats/l4/15.8215369/107.3135948\n"
     ]
    },
    {
     "name": "stderr",
     "output_type": "stream",
     "text": [
      " 73%|██████████████████████████████████████████████████████████▍                     | 419/574 [03:28<00:55,  2.81it/s]"
     ]
    },
    {
     "name": "stdout",
     "output_type": "stream",
     "text": [
      "{\"level\":\"signalLv0\",\"label\":\"Không có thông tin\",\"colorCode\":\"000000\"}\n",
      "https://opennetwork.viettel.vn/user-ws/troubleshoot/tile/stats/l4/15.8093674/107.3658442\n"
     ]
    },
    {
     "name": "stderr",
     "output_type": "stream",
     "text": [
      " 73%|██████████████████████████████████████████████████████████▌                     | 420/574 [03:29<00:53,  2.89it/s]"
     ]
    },
    {
     "name": "stdout",
     "output_type": "stream",
     "text": [
      "{\"level\":\"signalLv0\",\"label\":\"Không có thông tin\",\"colorCode\":\"000000\"}\n",
      "https://opennetwork.viettel.vn/user-ws/troubleshoot/tile/stats/l4/15.8089741/107.4757425\n"
     ]
    },
    {
     "name": "stderr",
     "output_type": "stream",
     "text": [
      " 73%|██████████████████████████████████████████████████████████▋                     | 421/574 [03:29<00:55,  2.75it/s]"
     ]
    },
    {
     "name": "stdout",
     "output_type": "stream",
     "text": [
      "{\"level\":\"signalLv0\",\"label\":\"Không có thông tin\",\"colorCode\":\"000000\"}\n",
      "https://opennetwork.viettel.vn/user-ws/troubleshoot/tile/stats/l4/15.9600825/107.6747704\n"
     ]
    },
    {
     "name": "stderr",
     "output_type": "stream",
     "text": [
      " 74%|██████████████████████████████████████████████████████████▊                     | 422/574 [03:29<00:53,  2.83it/s]"
     ]
    },
    {
     "name": "stdout",
     "output_type": "stream",
     "text": [
      "{\"level\":\"signalLv0\",\"label\":\"Không có thông tin\",\"colorCode\":\"000000\"}\n",
      "https://opennetwork.viettel.vn/user-ws/troubleshoot/tile/stats/l4/15.7706676/108.1875229\n"
     ]
    },
    {
     "name": "stderr",
     "output_type": "stream",
     "text": [
      " 74%|██████████████████████████████████████████████████████████▉                     | 423/574 [03:30<00:52,  2.85it/s]"
     ]
    },
    {
     "name": "stdout",
     "output_type": "stream",
     "text": [
      "{\"level\":\"signalLv0\",\"label\":\"Không có thông tin\",\"colorCode\":\"000000\"}\n",
      "https://opennetwork.viettel.vn/user-ws/troubleshoot/tile/stats/l4/15.7556495/107.7700424\n"
     ]
    },
    {
     "name": "stderr",
     "output_type": "stream",
     "text": [
      " 74%|███████████████████████████████████████████████████████████                     | 424/574 [03:30<00:52,  2.88it/s]"
     ]
    },
    {
     "name": "stdout",
     "output_type": "stream",
     "text": [
      "{\"level\":\"signalLv0\",\"label\":\"Không có thông tin\",\"colorCode\":\"000000\"}\n",
      "https://opennetwork.viettel.vn/user-ws/troubleshoot/tile/stats/l4/15.6966989/107.3371197\n"
     ]
    },
    {
     "name": "stderr",
     "output_type": "stream",
     "text": [
      " 74%|███████████████████████████████████████████████████████████▏                    | 425/574 [03:30<00:51,  2.89it/s]"
     ]
    },
    {
     "name": "stdout",
     "output_type": "stream",
     "text": [
      "{\"level\":\"signalLv0\",\"label\":\"Không có thông tin\",\"colorCode\":\"000000\"}\n",
      "https://opennetwork.viettel.vn/user-ws/troubleshoot/tile/stats/l4/15.7122787/107.5255376\n"
     ]
    },
    {
     "name": "stderr",
     "output_type": "stream",
     "text": [
      " 74%|███████████████████████████████████████████████████████████▎                    | 426/574 [03:31<00:50,  2.90it/s]"
     ]
    },
    {
     "name": "stdout",
     "output_type": "stream",
     "text": [
      "{\"level\":\"signalLv0\",\"label\":\"Không có thông tin\",\"colorCode\":\"000000\"}\n",
      "https://opennetwork.viettel.vn/user-ws/troubleshoot/tile/stats/l4/15.518965/107.5337506\n"
     ]
    },
    {
     "name": "stderr",
     "output_type": "stream",
     "text": [
      " 74%|███████████████████████████████████████████████████████████▌                    | 427/574 [03:31<00:52,  2.78it/s]"
     ]
    },
    {
     "name": "stdout",
     "output_type": "stream",
     "text": [
      "{\"level\":\"signalLv0\",\"label\":\"Không có thông tin\",\"colorCode\":\"000000\"}\n",
      "https://opennetwork.viettel.vn/user-ws/troubleshoot/tile/stats/l4/15.5007985/107.6121139\n"
     ]
    },
    {
     "name": "stderr",
     "output_type": "stream",
     "text": [
      " 75%|███████████████████████████████████████████████████████████▋                    | 428/574 [03:32<00:52,  2.76it/s]"
     ]
    },
    {
     "name": "stdout",
     "output_type": "stream",
     "text": [
      "{\"level\":\"signalLv0\",\"label\":\"Không có thông tin\",\"colorCode\":\"000000\"}\n",
      "https://opennetwork.viettel.vn/user-ws/troubleshoot/tile/stats/l4/15.5081466/107.773554\n"
     ]
    },
    {
     "name": "stderr",
     "output_type": "stream",
     "text": [
      " 75%|███████████████████████████████████████████████████████████▊                    | 429/574 [03:32<00:52,  2.78it/s]"
     ]
    },
    {
     "name": "stdout",
     "output_type": "stream",
     "text": [
      "{\"level\":\"signalLv0\",\"label\":\"Không có thông tin\",\"colorCode\":\"000000\"}\n",
      "https://opennetwork.viettel.vn/user-ws/troubleshoot/tile/stats/l4/15.4802068/108.1038595\n"
     ]
    },
    {
     "name": "stderr",
     "output_type": "stream",
     "text": [
      " 75%|███████████████████████████████████████████████████████████▉                    | 430/574 [03:33<01:21,  1.77it/s]"
     ]
    },
    {
     "name": "stdout",
     "output_type": "stream",
     "text": [
      "{\"level\":\"signalLv0\",\"label\":\"Không có thông tin\",\"colorCode\":\"000000\"}\n",
      "https://opennetwork.viettel.vn/user-ws/troubleshoot/tile/stats/l4/15.3191375/108.254587\n"
     ]
    },
    {
     "name": "stderr",
     "output_type": "stream",
     "text": [
      " 75%|████████████████████████████████████████████████████████████                    | 431/574 [03:33<01:07,  2.11it/s]"
     ]
    },
    {
     "name": "stdout",
     "output_type": "stream",
     "text": [
      "{\"x\":419801,\"y\":239563,\"level\":\"layout4signalLv3\",\"label\":\"Khá\",\"colorCode\":\"FDB863\"}\n",
      "https://opennetwork.viettel.vn/user-ws/troubleshoot/tile/stats/l4/15.2346885/108.018114\n"
     ]
    },
    {
     "name": "stderr",
     "output_type": "stream",
     "text": [
      " 75%|████████████████████████████████████████████████████████████▏                   | 432/574 [03:34<01:03,  2.24it/s]"
     ]
    },
    {
     "name": "stdout",
     "output_type": "stream",
     "text": [
      "{\"level\":\"signalLv0\",\"label\":\"Không có thông tin\",\"colorCode\":\"000000\"}\n",
      "https://opennetwork.viettel.vn/user-ws/troubleshoot/tile/stats/l4/15.0059581/108.090084\n"
     ]
    },
    {
     "name": "stderr",
     "output_type": "stream",
     "text": [
      " 75%|████████████████████████████████████████████████████████████▎                   | 433/574 [03:34<00:58,  2.39it/s]"
     ]
    },
    {
     "name": "stdout",
     "output_type": "stream",
     "text": [
      "{\"level\":\"signalLv0\",\"label\":\"Không có thông tin\",\"colorCode\":\"000000\"}\n",
      "https://opennetwork.viettel.vn/user-ws/troubleshoot/tile/stats/l4/15.6708064/107.9903052\n"
     ]
    },
    {
     "name": "stderr",
     "output_type": "stream",
     "text": [
      " 76%|████████████████████████████████████████████████████████████▍                   | 434/574 [03:35<01:07,  2.08it/s]"
     ]
    },
    {
     "name": "stdout",
     "output_type": "stream",
     "text": [
      "{\"x\":419416,\"y\":239031,\"level\":\"layout4signalLv1\",\"label\":\"Rất tốt\",\"colorCode\":\"008837\"}\n",
      "https://opennetwork.viettel.vn/user-ws/troubleshoot/tile/stats/l4/15.5851699/107.9457105\n"
     ]
    },
    {
     "name": "stderr",
     "output_type": "stream",
     "text": [
      " 76%|████████████████████████████████████████████████████████████▋                   | 435/574 [03:35<01:01,  2.26it/s]"
     ]
    },
    {
     "name": "stdout",
     "output_type": "stream",
     "text": [
      "{\"level\":\"signalLv0\",\"label\":\"Không có thông tin\",\"colorCode\":\"000000\"}\n",
      "https://opennetwork.viettel.vn/user-ws/troubleshoot/tile/stats/l4/15.305762/108.5744635\n"
     ]
    },
    {
     "name": "stderr",
     "output_type": "stream",
     "text": [
      " 76%|████████████████████████████████████████████████████████████▊                   | 436/574 [03:35<00:57,  2.38it/s]"
     ]
    },
    {
     "name": "stdout",
     "output_type": "stream",
     "text": [
      "{\"level\":\"signalLv0\",\"label\":\"Không có thông tin\",\"colorCode\":\"000000\"}\n",
      "https://opennetwork.viettel.vn/user-ws/troubleshoot/tile/stats/l4/15.1907801/108.54221\n"
     ]
    },
    {
     "name": "stderr",
     "output_type": "stream",
     "text": [
      " 76%|████████████████████████████████████████████████████████████▉                   | 437/574 [03:36<00:56,  2.42it/s]"
     ]
    },
    {
     "name": "stdout",
     "output_type": "stream",
     "text": [
      "{\"level\":\"signalLv0\",\"label\":\"Không có thông tin\",\"colorCode\":\"000000\"}\n",
      "https://opennetwork.viettel.vn/user-ws/troubleshoot/tile/stats/l4/15.1373195/108.5150734\n"
     ]
    },
    {
     "name": "stderr",
     "output_type": "stream",
     "text": [
      " 76%|█████████████████████████████████████████████████████████████                   | 438/574 [03:36<00:53,  2.55it/s]"
     ]
    },
    {
     "name": "stdout",
     "output_type": "stream",
     "text": [
      "{\"level\":\"signalLv0\",\"label\":\"Không có thông tin\",\"colorCode\":\"000000\"}\n",
      "https://opennetwork.viettel.vn/user-ws/troubleshoot/tile/stats/l4/15.124442/108.3191279\n"
     ]
    },
    {
     "name": "stderr",
     "output_type": "stream",
     "text": [
      " 76%|█████████████████████████████████████████████████████████████▏                  | 439/574 [03:36<00:52,  2.58it/s]"
     ]
    },
    {
     "name": "stdout",
     "output_type": "stream",
     "text": [
      "{\"level\":\"signalLv0\",\"label\":\"Không có thông tin\",\"colorCode\":\"000000\"}\n",
      "https://opennetwork.viettel.vn/user-ws/troubleshoot/tile/stats/l4/15.0095245/108.2842185\n"
     ]
    },
    {
     "name": "stderr",
     "output_type": "stream",
     "text": [
      " 77%|█████████████████████████████████████████████████████████████▎                  | 440/574 [03:37<00:49,  2.69it/s]"
     ]
    },
    {
     "name": "stdout",
     "output_type": "stream",
     "text": [
      "{\"level\":\"signalLv0\",\"label\":\"Không có thông tin\",\"colorCode\":\"000000\"}\n",
      "https://opennetwork.viettel.vn/user-ws/troubleshoot/tile/stats/l4/14.8527341/108.6537552\n"
     ]
    },
    {
     "name": "stderr",
     "output_type": "stream",
     "text": [
      " 77%|█████████████████████████████████████████████████████████████▍                  | 441/574 [03:37<01:00,  2.18it/s]"
     ]
    },
    {
     "name": "stdout",
     "output_type": "stream",
     "text": [
      "{\"x\":420382,\"y\":240266,\"level\":\"layout4signalLv3\",\"label\":\"Khá\",\"colorCode\":\"FDB863\"}\n",
      "https://opennetwork.viettel.vn/user-ws/troubleshoot/tile/stats/l4/14.791264/108.814044\n"
     ]
    },
    {
     "name": "stderr",
     "output_type": "stream",
     "text": [
      " 77%|█████████████████████████████████████████████████████████████▌                  | 442/574 [03:38<00:55,  2.38it/s]"
     ]
    },
    {
     "name": "stdout",
     "output_type": "stream",
     "text": [
      "{\"level\":\"signalLv0\",\"label\":\"Không có thông tin\",\"colorCode\":\"000000\"}\n",
      "https://opennetwork.viettel.vn/user-ws/troubleshoot/tile/stats/l4/14.639647/108.7133616\n"
     ]
    },
    {
     "name": "stderr",
     "output_type": "stream",
     "text": [
      " 77%|█████████████████████████████████████████████████████████████▋                  | 443/574 [03:38<00:52,  2.49it/s]"
     ]
    },
    {
     "name": "stdout",
     "output_type": "stream",
     "text": [
      "{\"level\":\"signalLv0\",\"label\":\"Không có thông tin\",\"colorCode\":\"000000\"}\n",
      "https://opennetwork.viettel.vn/user-ws/troubleshoot/tile/stats/l4/14.610489/108.6199225\n"
     ]
    },
    {
     "name": "stderr",
     "output_type": "stream",
     "text": [
      " 77%|█████████████████████████████████████████████████████████████▉                  | 444/574 [03:38<00:49,  2.64it/s]"
     ]
    },
    {
     "name": "stdout",
     "output_type": "stream",
     "text": [
      "{\"level\":\"signalLv0\",\"label\":\"Không có thông tin\",\"colorCode\":\"000000\"}\n",
      "https://opennetwork.viettel.vn/user-ws/troubleshoot/tile/stats/l4/14.5338105/108.7855305\n"
     ]
    },
    {
     "name": "stderr",
     "output_type": "stream",
     "text": [
      " 78%|██████████████████████████████████████████████████████████████                  | 445/574 [03:39<00:47,  2.70it/s]"
     ]
    },
    {
     "name": "stdout",
     "output_type": "stream",
     "text": [
      "{\"level\":\"signalLv0\",\"label\":\"Không có thông tin\",\"colorCode\":\"000000\"}\n",
      "https://opennetwork.viettel.vn/user-ws/troubleshoot/tile/stats/l4/14.4889685/108.691976\n"
     ]
    },
    {
     "name": "stderr",
     "output_type": "stream",
     "text": [
      " 78%|██████████████████████████████████████████████████████████████▏                 | 446/574 [03:39<00:54,  2.36it/s]"
     ]
    },
    {
     "name": "stdout",
     "output_type": "stream",
     "text": [
      "{\"level\":\"signalLv0\",\"label\":\"Không có thông tin\",\"colorCode\":\"000000\"}\n",
      "https://opennetwork.viettel.vn/user-ws/troubleshoot/tile/stats/l4/14.5307045/108.8197634\n"
     ]
    },
    {
     "name": "stderr",
     "output_type": "stream",
     "text": [
      " 78%|██████████████████████████████████████████████████████████████▎                 | 447/574 [03:40<00:51,  2.49it/s]"
     ]
    },
    {
     "name": "stdout",
     "output_type": "stream",
     "text": [
      "{\"level\":\"signalLv0\",\"label\":\"Không có thông tin\",\"colorCode\":\"000000\"}\n",
      "https://opennetwork.viettel.vn/user-ws/troubleshoot/tile/stats/l4/14.4349685/108.8720495\n"
     ]
    },
    {
     "name": "stderr",
     "output_type": "stream",
     "text": [
      " 78%|██████████████████████████████████████████████████████████████▍                 | 448/574 [03:40<00:47,  2.64it/s]"
     ]
    },
    {
     "name": "stdout",
     "output_type": "stream",
     "text": [
      "{\"level\":\"signalLv0\",\"label\":\"Không có thông tin\",\"colorCode\":\"000000\"}\n",
      "https://opennetwork.viettel.vn/user-ws/troubleshoot/tile/stats/l4/14.4086085/108.8302016\n"
     ]
    },
    {
     "name": "stderr",
     "output_type": "stream",
     "text": [
      " 78%|██████████████████████████████████████████████████████████████▌                 | 449/574 [03:40<00:46,  2.71it/s]"
     ]
    },
    {
     "name": "stdout",
     "output_type": "stream",
     "text": [
      "{\"level\":\"signalLv0\",\"label\":\"Không có thông tin\",\"colorCode\":\"000000\"}\n",
      "https://opennetwork.viettel.vn/user-ws/troubleshoot/tile/stats/l4/14.3646609/108.680825\n"
     ]
    },
    {
     "name": "stderr",
     "output_type": "stream",
     "text": [
      " 78%|██████████████████████████████████████████████████████████████▋                 | 450/574 [03:41<00:54,  2.27it/s]"
     ]
    },
    {
     "name": "stdout",
     "output_type": "stream",
     "text": [
      "{\"x\":420421,\"y\":241001,\"level\":\"layout4signalLv1\",\"label\":\"Rất tốt\",\"colorCode\":\"008837\"}\n",
      "https://opennetwork.viettel.vn/user-ws/troubleshoot/tile/stats/l4/14.3066193/108.7480402\n"
     ]
    },
    {
     "name": "stderr",
     "output_type": "stream",
     "text": [
      " 79%|██████████████████████████████████████████████████████████████▊                 | 451/574 [03:42<01:02,  1.96it/s]"
     ]
    },
    {
     "name": "stdout",
     "output_type": "stream",
     "text": [
      "{\"level\":\"signalLv0\",\"label\":\"Không có thông tin\",\"colorCode\":\"000000\"}\n",
      "https://opennetwork.viettel.vn/user-ws/troubleshoot/tile/stats/l4/14.1639844/108.8100151\n"
     ]
    },
    {
     "name": "stderr",
     "output_type": "stream",
     "text": [
      " 79%|██████████████████████████████████████████████████████████████▉                 | 452/574 [03:42<00:55,  2.19it/s]"
     ]
    },
    {
     "name": "stdout",
     "output_type": "stream",
     "text": [
      "{\"level\":\"signalLv0\",\"label\":\"Không có thông tin\",\"colorCode\":\"000000\"}\n",
      "https://opennetwork.viettel.vn/user-ws/troubleshoot/tile/stats/l4/14.18513/108.7275425\n"
     ]
    },
    {
     "name": "stderr",
     "output_type": "stream",
     "text": [
      " 79%|███████████████████████████████████████████████████████████████▏                | 453/574 [03:42<00:51,  2.34it/s]"
     ]
    },
    {
     "name": "stdout",
     "output_type": "stream",
     "text": [
      "{\"level\":\"signalLv0\",\"label\":\"Không có thông tin\",\"colorCode\":\"000000\"}\n",
      "https://opennetwork.viettel.vn/user-ws/troubleshoot/tile/stats/l4/13.841607/108.809506\n"
     ]
    },
    {
     "name": "stderr",
     "output_type": "stream",
     "text": [
      " 79%|███████████████████████████████████████████████████████████████▎                | 454/574 [03:43<00:47,  2.52it/s]"
     ]
    },
    {
     "name": "stdout",
     "output_type": "stream",
     "text": [
      "{\"level\":\"signalLv0\",\"label\":\"Không có thông tin\",\"colorCode\":\"000000\"}\n",
      "https://opennetwork.viettel.vn/user-ws/troubleshoot/tile/stats/l4/13.448085/108.846721\n"
     ]
    },
    {
     "name": "stderr",
     "output_type": "stream",
     "text": [
      " 79%|███████████████████████████████████████████████████████████████▍                | 455/574 [03:43<00:46,  2.54it/s]"
     ]
    },
    {
     "name": "stdout",
     "output_type": "stream",
     "text": [
      "{\"level\":\"signalLv0\",\"label\":\"Không có thông tin\",\"colorCode\":\"000000\"}\n",
      "https://opennetwork.viettel.vn/user-ws/troubleshoot/tile/stats/l4/13.3124825/108.870742\n"
     ]
    },
    {
     "name": "stderr",
     "output_type": "stream",
     "text": [
      " 79%|███████████████████████████████████████████████████████████████▌                | 456/574 [03:43<00:45,  2.60it/s]"
     ]
    },
    {
     "name": "stdout",
     "output_type": "stream",
     "text": [
      "{\"level\":\"signalLv0\",\"label\":\"Không có thông tin\",\"colorCode\":\"000000\"}\n",
      "https://opennetwork.viettel.vn/user-ws/troubleshoot/tile/stats/l4/13.1219744/109.030633\n"
     ]
    },
    {
     "name": "stderr",
     "output_type": "stream",
     "text": [
      " 80%|███████████████████████████████████████████████████████████████▋                | 457/574 [03:44<00:48,  2.42it/s]"
     ]
    },
    {
     "name": "stdout",
     "output_type": "stream",
     "text": [
      "{\"level\":\"signalLv0\",\"label\":\"Không có thông tin\",\"colorCode\":\"000000\"}\n",
      "https://opennetwork.viettel.vn/user-ws/troubleshoot/tile/stats/l4/12.8906854/108.893685\n"
     ]
    },
    {
     "name": "stderr",
     "output_type": "stream",
     "text": [
      " 80%|███████████████████████████████████████████████████████████████▊                | 458/574 [03:44<00:45,  2.56it/s]"
     ]
    },
    {
     "name": "stdout",
     "output_type": "stream",
     "text": [
      "{\"level\":\"signalLv0\",\"label\":\"Không có thông tin\",\"colorCode\":\"000000\"}\n",
      "https://opennetwork.viettel.vn/user-ws/troubleshoot/tile/stats/l4/12.8780066/109.149888\n"
     ]
    },
    {
     "name": "stderr",
     "output_type": "stream",
     "text": [
      " 80%|███████████████████████████████████████████████████████████████▉                | 459/574 [03:46<01:16,  1.51it/s]"
     ]
    },
    {
     "name": "stdout",
     "output_type": "stream",
     "text": [
      "{\"level\":\"signalLv0\",\"label\":\"Không có thông tin\",\"colorCode\":\"000000\"}\n",
      "https://opennetwork.viettel.vn/user-ws/troubleshoot/tile/stats/l4/12.8841024/109.2626945\n"
     ]
    },
    {
     "name": "stderr",
     "output_type": "stream",
     "text": [
      " 80%|████████████████████████████████████████████████████████████████                | 460/574 [03:46<01:04,  1.78it/s]"
     ]
    },
    {
     "name": "stdout",
     "output_type": "stream",
     "text": [
      "{\"level\":\"signalLv0\",\"label\":\"Không có thông tin\",\"colorCode\":\"000000\"}\n",
      "https://opennetwork.viettel.vn/user-ws/troubleshoot/tile/stats/l4/12.063365/109.050374\n"
     ]
    },
    {
     "name": "stderr",
     "output_type": "stream",
     "text": [
      " 80%|████████████████████████████████████████████████████████████████▎               | 461/574 [03:46<00:56,  2.01it/s]"
     ]
    },
    {
     "name": "stdout",
     "output_type": "stream",
     "text": [
      "{\"level\":\"signalLv0\",\"label\":\"Không có thông tin\",\"colorCode\":\"000000\"}\n",
      "https://opennetwork.viettel.vn/user-ws/troubleshoot/tile/stats/l4/12.7676605/109.2023046\n"
     ]
    },
    {
     "name": "stderr",
     "output_type": "stream",
     "text": [
      " 80%|████████████████████████████████████████████████████████████████▍               | 462/574 [03:47<00:50,  2.21it/s]"
     ]
    },
    {
     "name": "stdout",
     "output_type": "stream",
     "text": [
      "{\"level\":\"signalLv0\",\"label\":\"Không có thông tin\",\"colorCode\":\"000000\"}\n",
      "https://opennetwork.viettel.vn/user-ws/troubleshoot/tile/stats/l4/12.748987/109.1649055\n"
     ]
    },
    {
     "name": "stderr",
     "output_type": "stream",
     "text": [
      " 81%|████████████████████████████████████████████████████████████████▌               | 463/574 [03:47<00:46,  2.37it/s]"
     ]
    },
    {
     "name": "stdout",
     "output_type": "stream",
     "text": [
      "{\"level\":\"signalLv0\",\"label\":\"Không có thông tin\",\"colorCode\":\"000000\"}\n",
      "https://opennetwork.viettel.vn/user-ws/troubleshoot/tile/stats/l4/12.7157905/109.1520795\n"
     ]
    },
    {
     "name": "stderr",
     "output_type": "stream",
     "text": [
      " 81%|████████████████████████████████████████████████████████████████▋               | 464/574 [03:48<01:09,  1.58it/s]"
     ]
    },
    {
     "name": "stdout",
     "output_type": "stream",
     "text": [
      "{\"level\":\"signalLv0\",\"label\":\"Không có thông tin\",\"colorCode\":\"000000\"}\n",
      "https://opennetwork.viettel.vn/user-ws/troubleshoot/tile/stats/l4/12.6667451/109.0810204\n"
     ]
    },
    {
     "name": "stderr",
     "output_type": "stream",
     "text": [
      " 81%|████████████████████████████████████████████████████████████████▊               | 465/574 [03:48<00:59,  1.82it/s]"
     ]
    },
    {
     "name": "stdout",
     "output_type": "stream",
     "text": [
      "{\"level\":\"signalLv0\",\"label\":\"Không có thông tin\",\"colorCode\":\"000000\"}\n",
      "https://opennetwork.viettel.vn/user-ws/troubleshoot/tile/stats/l4/12.576765/108.9474545\n"
     ]
    },
    {
     "name": "stderr",
     "output_type": "stream",
     "text": [
      " 81%|████████████████████████████████████████████████████████████████▉               | 466/574 [03:49<00:59,  1.83it/s]"
     ]
    },
    {
     "name": "stdout",
     "output_type": "stream",
     "text": [
      "{\"level\":\"signalLv0\",\"label\":\"Không có thông tin\",\"colorCode\":\"000000\"}\n",
      "https://opennetwork.viettel.vn/user-ws/troubleshoot/tile/stats/l4/12.4484693/109.20246\n"
     ]
    },
    {
     "name": "stderr",
     "output_type": "stream",
     "text": [
      " 81%|█████████████████████████████████████████████████████████████████               | 467/574 [03:49<00:52,  2.04it/s]"
     ]
    },
    {
     "name": "stdout",
     "output_type": "stream",
     "text": [
      "{\"level\":\"signalLv0\",\"label\":\"Không có thông tin\",\"colorCode\":\"000000\"}\n",
      "https://opennetwork.viettel.vn/user-ws/troubleshoot/tile/stats/l4/12.4197375/108.836982\n"
     ]
    },
    {
     "name": "stderr",
     "output_type": "stream",
     "text": [
      " 82%|█████████████████████████████████████████████████████████████████▏              | 468/574 [03:50<00:50,  2.11it/s]"
     ]
    },
    {
     "name": "stdout",
     "output_type": "stream",
     "text": [
      "{\"level\":\"signalLv0\",\"label\":\"Không có thông tin\",\"colorCode\":\"000000\"}\n",
      "https://opennetwork.viettel.vn/user-ws/troubleshoot/tile/stats/l4/12.3959585/108.802644\n"
     ]
    },
    {
     "name": "stderr",
     "output_type": "stream",
     "text": [
      " 82%|█████████████████████████████████████████████████████████████████▎              | 469/574 [03:50<00:51,  2.03it/s]"
     ]
    },
    {
     "name": "stdout",
     "output_type": "stream",
     "text": [
      "{\"level\":\"signalLv0\",\"label\":\"Không có thông tin\",\"colorCode\":\"000000\"}\n",
      "https://opennetwork.viettel.vn/user-ws/troubleshoot/tile/stats/l4/12.3283475/108.7653075\n"
     ]
    },
    {
     "name": "stderr",
     "output_type": "stream",
     "text": [
      " 82%|█████████████████████████████████████████████████████████████████▌              | 470/574 [03:51<00:47,  2.21it/s]"
     ]
    },
    {
     "name": "stdout",
     "output_type": "stream",
     "text": [
      "{\"level\":\"signalLv0\",\"label\":\"Không có thông tin\",\"colorCode\":\"000000\"}\n",
      "https://opennetwork.viettel.vn/user-ws/troubleshoot/tile/stats/l4/12.2036176/108.8669304\n"
     ]
    },
    {
     "name": "stderr",
     "output_type": "stream",
     "text": [
      " 82%|█████████████████████████████████████████████████████████████████▋              | 471/574 [03:51<00:43,  2.35it/s]"
     ]
    },
    {
     "name": "stdout",
     "output_type": "stream",
     "text": [
      "{\"level\":\"signalLv0\",\"label\":\"Không có thông tin\",\"colorCode\":\"000000\"}\n",
      "https://opennetwork.viettel.vn/user-ws/troubleshoot/tile/stats/l4/12.1737085/108.9056054\n"
     ]
    },
    {
     "name": "stderr",
     "output_type": "stream",
     "text": [
      " 82%|█████████████████████████████████████████████████████████████████▊              | 472/574 [03:51<00:38,  2.67it/s]"
     ]
    },
    {
     "name": "stdout",
     "output_type": "stream",
     "text": [
      "{\"x\":420749,\"y\":244279,\"level\":\"layout4signalLv3\",\"label\":\"Khá\",\"colorCode\":\"FDB863\"}\n",
      "https://opennetwork.viettel.vn/user-ws/troubleshoot/tile/stats/l4/11.428843/114.3312021\n"
     ]
    },
    {
     "name": "stderr",
     "output_type": "stream",
     "text": [
      " 82%|█████████████████████████████████████████████████████████████████▉              | 473/574 [03:52<00:37,  2.72it/s]"
     ]
    },
    {
     "name": "stdout",
     "output_type": "stream",
     "text": [
      "{\"level\":\"signalLv0\",\"label\":\"Không có thông tin\",\"colorCode\":\"000000\"}\n",
      "https://opennetwork.viettel.vn/user-ws/troubleshoot/tile/stats/l4/11.3753043/111.5005666\n"
     ]
    },
    {
     "name": "stderr",
     "output_type": "stream",
     "text": [
      " 83%|██████████████████████████████████████████████████████████████████              | 474/574 [03:52<00:35,  2.81it/s]"
     ]
    },
    {
     "name": "stdout",
     "output_type": "stream",
     "text": [
      "{\"level\":\"signalLv0\",\"label\":\"Không có thông tin\",\"colorCode\":\"000000\"}\n",
      "https://opennetwork.viettel.vn/user-ws/troubleshoot/tile/stats/l4/12.055875/108.765582\n"
     ]
    },
    {
     "name": "stderr",
     "output_type": "stream",
     "text": [
      " 83%|██████████████████████████████████████████████████████████████████▏             | 475/574 [03:52<00:34,  2.84it/s]"
     ]
    },
    {
     "name": "stdout",
     "output_type": "stream",
     "text": [
      "{\"level\":\"signalLv0\",\"label\":\"Không có thông tin\",\"colorCode\":\"000000\"}\n",
      "https://opennetwork.viettel.vn/user-ws/troubleshoot/tile/stats/l4/11.9144625/108.736851\n"
     ]
    },
    {
     "name": "stderr",
     "output_type": "stream",
     "text": [
      " 83%|██████████████████████████████████████████████████████████████████▎             | 476/574 [03:53<00:33,  2.89it/s]"
     ]
    },
    {
     "name": "stdout",
     "output_type": "stream",
     "text": [
      "{\"level\":\"signalLv0\",\"label\":\"Không có thông tin\",\"colorCode\":\"000000\"}\n",
      "https://opennetwork.viettel.vn/user-ws/troubleshoot/tile/stats/l4/11.738062/108.8921164\n"
     ]
    },
    {
     "name": "stderr",
     "output_type": "stream",
     "text": [
      " 83%|██████████████████████████████████████████████████████████████████▍             | 477/574 [03:53<00:39,  2.46it/s]"
     ]
    },
    {
     "name": "stdout",
     "output_type": "stream",
     "text": [
      "{\"level\":\"signalLv0\",\"label\":\"Không có thông tin\",\"colorCode\":\"000000\"}\n",
      "https://opennetwork.viettel.vn/user-ws/troubleshoot/tile/stats/l4/11.4576335/108.6592251\n"
     ]
    },
    {
     "name": "stderr",
     "output_type": "stream",
     "text": [
      " 83%|██████████████████████████████████████████████████████████████████▌             | 478/574 [03:53<00:36,  2.60it/s]"
     ]
    },
    {
     "name": "stdout",
     "output_type": "stream",
     "text": [
      "{\"level\":\"signalLv0\",\"label\":\"Không có thông tin\",\"colorCode\":\"000000\"}\n",
      "https://opennetwork.viettel.vn/user-ws/troubleshoot/tile/stats/l4/11.3051039/108.621974\n"
     ]
    },
    {
     "name": "stderr",
     "output_type": "stream",
     "text": [
      " 83%|██████████████████████████████████████████████████████████████████▊             | 479/574 [03:54<00:35,  2.67it/s]"
     ]
    },
    {
     "name": "stdout",
     "output_type": "stream",
     "text": [
      "{\"level\":\"signalLv0\",\"label\":\"Không có thông tin\",\"colorCode\":\"000000\"}\n",
      "https://opennetwork.viettel.vn/user-ws/troubleshoot/tile/stats/l4/11.4120954/108.2920201\n"
     ]
    },
    {
     "name": "stderr",
     "output_type": "stream",
     "text": [
      " 84%|██████████████████████████████████████████████████████████████████▉             | 480/574 [03:54<00:39,  2.39it/s]"
     ]
    },
    {
     "name": "stdout",
     "output_type": "stream",
     "text": [
      "{\"level\":\"signalLv0\",\"label\":\"Không có thông tin\",\"colorCode\":\"000000\"}\n",
      "https://opennetwork.viettel.vn/user-ws/troubleshoot/tile/stats/l4/11.420552/108.4321724\n"
     ]
    },
    {
     "name": "stderr",
     "output_type": "stream",
     "text": [
      " 84%|███████████████████████████████████████████████████████████████████             | 481/574 [03:55<00:36,  2.52it/s]"
     ]
    },
    {
     "name": "stdout",
     "output_type": "stream",
     "text": [
      "{\"level\":\"signalLv0\",\"label\":\"Không có thông tin\",\"colorCode\":\"000000\"}\n",
      "https://opennetwork.viettel.vn/user-ws/troubleshoot/tile/stats/l4/11.3327715/108.5533064\n"
     ]
    },
    {
     "name": "stderr",
     "output_type": "stream",
     "text": [
      " 84%|███████████████████████████████████████████████████████████████████▏            | 482/574 [03:55<00:35,  2.58it/s]"
     ]
    },
    {
     "name": "stdout",
     "output_type": "stream",
     "text": [
      "{\"level\":\"signalLv0\",\"label\":\"Không có thông tin\",\"colorCode\":\"000000\"}\n",
      "https://opennetwork.viettel.vn/user-ws/troubleshoot/tile/stats/l4/11.2739265/107.9902725\n"
     ]
    },
    {
     "name": "stderr",
     "output_type": "stream",
     "text": [
      " 84%|███████████████████████████████████████████████████████████████████▎            | 483/574 [03:55<00:34,  2.66it/s]"
     ]
    },
    {
     "name": "stdout",
     "output_type": "stream",
     "text": [
      "{\"level\":\"signalLv0\",\"label\":\"Không có thông tin\",\"colorCode\":\"000000\"}\n",
      "https://opennetwork.viettel.vn/user-ws/troubleshoot/tile/stats/l4/11.1997775/108.126068\n"
     ]
    },
    {
     "name": "stderr",
     "output_type": "stream",
     "text": [
      " 84%|███████████████████████████████████████████████████████████████████▍            | 484/574 [03:56<00:33,  2.67it/s]"
     ]
    },
    {
     "name": "stdout",
     "output_type": "stream",
     "text": [
      "{\"level\":\"signalLv0\",\"label\":\"Không có thông tin\",\"colorCode\":\"000000\"}\n",
      "https://opennetwork.viettel.vn/user-ws/troubleshoot/tile/stats/l4/11.200689/107.946631\n"
     ]
    },
    {
     "name": "stderr",
     "output_type": "stream",
     "text": [
      " 84%|███████████████████████████████████████████████████████████████████▌            | 485/574 [03:56<00:34,  2.55it/s]"
     ]
    },
    {
     "name": "stdout",
     "output_type": "stream",
     "text": [
      "{\"level\":\"signalLv0\",\"label\":\"Không có thông tin\",\"colorCode\":\"000000\"}\n",
      "https://opennetwork.viettel.vn/user-ws/troubleshoot/tile/stats/l4/11.1426586/108.0504165\n"
     ]
    },
    {
     "name": "stderr",
     "output_type": "stream",
     "text": [
      " 85%|███████████████████████████████████████████████████████████████████▋            | 486/574 [03:57<00:32,  2.69it/s]"
     ]
    },
    {
     "name": "stdout",
     "output_type": "stream",
     "text": [
      "{\"level\":\"signalLv0\",\"label\":\"Không có thông tin\",\"colorCode\":\"000000\"}\n",
      "https://opennetwork.viettel.vn/user-ws/troubleshoot/tile/stats/l4/11.1072325/108.018679\n"
     ]
    },
    {
     "name": "stderr",
     "output_type": "stream",
     "text": [
      " 85%|███████████████████████████████████████████████████████████████████▊            | 487/574 [03:57<00:31,  2.74it/s]"
     ]
    },
    {
     "name": "stdout",
     "output_type": "stream",
     "text": [
      "{\"level\":\"signalLv0\",\"label\":\"Không có thông tin\",\"colorCode\":\"000000\"}\n",
      "https://opennetwork.viettel.vn/user-ws/troubleshoot/tile/stats/l4/11.028811/108.196984\n"
     ]
    },
    {
     "name": "stderr",
     "output_type": "stream",
     "text": [
      " 85%|████████████████████████████████████████████████████████████████████            | 488/574 [03:57<00:28,  3.02it/s]"
     ]
    },
    {
     "name": "stdout",
     "output_type": "stream",
     "text": [
      "{\"x\":419717,\"y\":245982,\"level\":\"layout4signalLv3\",\"label\":\"Khá\",\"colorCode\":\"FDB863\"}\n",
      "https://opennetwork.viettel.vn/user-ws/troubleshoot/tile/stats/l4/11.084001/107.8527116\n"
     ]
    },
    {
     "name": "stderr",
     "output_type": "stream",
     "text": [
      " 85%|████████████████████████████████████████████████████████████████████▏           | 489/574 [03:57<00:28,  2.98it/s]"
     ]
    },
    {
     "name": "stdout",
     "output_type": "stream",
     "text": [
      "{\"level\":\"signalLv0\",\"label\":\"Không có thông tin\",\"colorCode\":\"000000\"}\n",
      "https://opennetwork.viettel.vn/user-ws/troubleshoot/tile/stats/l4/11.2639465/107.7397391\n"
     ]
    },
    {
     "name": "stderr",
     "output_type": "stream",
     "text": [
      " 85%|████████████████████████████████████████████████████████████████████▎           | 490/574 [03:58<00:27,  3.01it/s]"
     ]
    },
    {
     "name": "stdout",
     "output_type": "stream",
     "text": [
      "{\"level\":\"signalLv0\",\"label\":\"Không có thông tin\",\"colorCode\":\"000000\"}\n",
      "https://opennetwork.viettel.vn/user-ws/troubleshoot/tile/stats/l4/11.277175/107.7245819\n"
     ]
    },
    {
     "name": "stderr",
     "output_type": "stream",
     "text": [
      " 86%|████████████████████████████████████████████████████████████████████▍           | 491/574 [03:58<00:29,  2.83it/s]"
     ]
    },
    {
     "name": "stdout",
     "output_type": "stream",
     "text": [
      "{\"level\":\"signalLv0\",\"label\":\"Không có thông tin\",\"colorCode\":\"000000\"}\n",
      "https://opennetwork.viettel.vn/user-ws/troubleshoot/tile/stats/l4/11.219499/107.803622\n"
     ]
    },
    {
     "name": "stderr",
     "output_type": "stream",
     "text": [
      " 86%|████████████████████████████████████████████████████████████████████▌           | 492/574 [03:59<00:28,  2.89it/s]"
     ]
    },
    {
     "name": "stdout",
     "output_type": "stream",
     "text": [
      "{\"level\":\"signalLv0\",\"label\":\"Không có thông tin\",\"colorCode\":\"000000\"}\n",
      "https://opennetwork.viettel.vn/user-ws/troubleshoot/tile/stats/l4/11.141118/107.7328563\n"
     ]
    },
    {
     "name": "stderr",
     "output_type": "stream",
     "text": [
      " 86%|████████████████████████████████████████████████████████████████████▋           | 493/574 [03:59<00:36,  2.22it/s]"
     ]
    },
    {
     "name": "stdout",
     "output_type": "stream",
     "text": [
      "{\"x\":419041,\"y\":245815,\"level\":\"layout4signalLv1\",\"label\":\"Rất tốt\",\"colorCode\":\"008837\"}\n",
      "https://opennetwork.viettel.vn/user-ws/troubleshoot/tile/stats/l4/11.0882895/107.7639975\n"
     ]
    },
    {
     "name": "stderr",
     "output_type": "stream",
     "text": [
      " 86%|████████████████████████████████████████████████████████████████████▊           | 494/574 [04:00<00:33,  2.40it/s]"
     ]
    },
    {
     "name": "stdout",
     "output_type": "stream",
     "text": [
      "{\"level\":\"signalLv0\",\"label\":\"Không có thông tin\",\"colorCode\":\"000000\"}\n",
      "https://opennetwork.viettel.vn/user-ws/troubleshoot/tile/stats/l4/10.9621395/107.734386\n"
     ]
    },
    {
     "name": "stderr",
     "output_type": "stream",
     "text": [
      " 86%|████████████████████████████████████████████████████████████████████▉           | 495/574 [04:00<00:31,  2.53it/s]"
     ]
    },
    {
     "name": "stdout",
     "output_type": "stream",
     "text": [
      "{\"level\":\"signalLv0\",\"label\":\"Không có thông tin\",\"colorCode\":\"000000\"}\n",
      "https://opennetwork.viettel.vn/user-ws/troubleshoot/tile/stats/l4/15.286519/107.656512\n"
     ]
    },
    {
     "name": "stderr",
     "output_type": "stream",
     "text": [
      " 86%|█████████████████████████████████████████████████████████████████████▏          | 496/574 [04:00<00:29,  2.67it/s]"
     ]
    },
    {
     "name": "stdout",
     "output_type": "stream",
     "text": [
      "{\"level\":\"signalLv0\",\"label\":\"Không có thông tin\",\"colorCode\":\"000000\"}\n",
      "https://opennetwork.viettel.vn/user-ws/troubleshoot/tile/stats/l4/15.1248014/107.6443863\n"
     ]
    },
    {
     "name": "stderr",
     "output_type": "stream",
     "text": [
      " 87%|█████████████████████████████████████████████████████████████████████▎          | 497/574 [04:01<00:28,  2.73it/s]"
     ]
    },
    {
     "name": "stdout",
     "output_type": "stream",
     "text": [
      "{\"level\":\"signalLv0\",\"label\":\"Không có thông tin\",\"colorCode\":\"000000\"}\n",
      "https://opennetwork.viettel.vn/user-ws/troubleshoot/tile/stats/l4/15.167902/107.835617\n"
     ]
    },
    {
     "name": "stderr",
     "output_type": "stream",
     "text": [
      " 87%|█████████████████████████████████████████████████████████████████████▍          | 498/574 [04:01<00:27,  2.77it/s]"
     ]
    },
    {
     "name": "stdout",
     "output_type": "stream",
     "text": [
      "{\"level\":\"signalLv0\",\"label\":\"Không có thông tin\",\"colorCode\":\"000000\"}\n",
      "https://opennetwork.viettel.vn/user-ws/troubleshoot/tile/stats/l4/15.0780785/107.8328705\n"
     ]
    },
    {
     "name": "stderr",
     "output_type": "stream",
     "text": [
      " 87%|█████████████████████████████████████████████████████████████████████▌          | 499/574 [04:01<00:26,  2.82it/s]"
     ]
    },
    {
     "name": "stdout",
     "output_type": "stream",
     "text": [
      "{\"level\":\"signalLv0\",\"label\":\"Không có thông tin\",\"colorCode\":\"000000\"}\n",
      "https://opennetwork.viettel.vn/user-ws/troubleshoot/tile/stats/l4/15.148003/107.9438354\n"
     ]
    },
    {
     "name": "stderr",
     "output_type": "stream",
     "text": [
      " 87%|█████████████████████████████████████████████████████████████████████▋          | 500/574 [04:02<00:26,  2.84it/s]"
     ]
    },
    {
     "name": "stdout",
     "output_type": "stream",
     "text": [
      "{\"level\":\"signalLv0\",\"label\":\"Không có thông tin\",\"colorCode\":\"000000\"}\n",
      "https://opennetwork.viettel.vn/user-ws/troubleshoot/tile/stats/l4/14.956758/107.5650205\n"
     ]
    },
    {
     "name": "stderr",
     "output_type": "stream",
     "text": [
      " 87%|█████████████████████████████████████████████████████████████████████▊          | 501/574 [04:03<00:51,  1.41it/s]"
     ]
    },
    {
     "name": "stdout",
     "output_type": "stream",
     "text": [
      "{\"level\":\"signalLv0\",\"label\":\"Không có thông tin\",\"colorCode\":\"000000\"}\n",
      "https://opennetwork.viettel.vn/user-ws/troubleshoot/tile/stats/l4/14.9179329/107.6762715\n"
     ]
    },
    {
     "name": "stderr",
     "output_type": "stream",
     "text": [
      " 87%|█████████████████████████████████████████████████████████████████████▉          | 502/574 [04:04<00:44,  1.62it/s]"
     ]
    },
    {
     "name": "stdout",
     "output_type": "stream",
     "text": [
      "{\"level\":\"signalLv0\",\"label\":\"Không có thông tin\",\"colorCode\":\"000000\"}\n",
      "https://opennetwork.viettel.vn/user-ws/troubleshoot/tile/stats/l4/14.7823462/107.6052475\n"
     ]
    },
    {
     "name": "stderr",
     "output_type": "stream",
     "text": [
      " 88%|██████████████████████████████████████████████████████████████████████          | 503/574 [04:04<00:38,  1.86it/s]"
     ]
    },
    {
     "name": "stdout",
     "output_type": "stream",
     "text": [
      "{\"level\":\"signalLv0\",\"label\":\"Không có thông tin\",\"colorCode\":\"000000\"}\n",
      "https://opennetwork.viettel.vn/user-ws/troubleshoot/tile/stats/l4/14.771416/107.755765\n"
     ]
    },
    {
     "name": "stderr",
     "output_type": "stream",
     "text": [
      " 88%|██████████████████████████████████████████████████████████████████████▏         | 504/574 [04:04<00:33,  2.12it/s]"
     ]
    },
    {
     "name": "stdout",
     "output_type": "stream",
     "text": [
      "{\"level\":\"signalLv0\",\"label\":\"Không có thông tin\",\"colorCode\":\"000000\"}\n",
      "https://opennetwork.viettel.vn/user-ws/troubleshoot/tile/stats/l4/14.6576393/108.1521606\n"
     ]
    },
    {
     "name": "stderr",
     "output_type": "stream",
     "text": [
      " 88%|██████████████████████████████████████████████████████████████████████▍         | 505/574 [04:05<00:31,  2.18it/s]"
     ]
    },
    {
     "name": "stdout",
     "output_type": "stream",
     "text": [
      "{\"level\":\"signalLv0\",\"label\":\"Không có thông tin\",\"colorCode\":\"000000\"}\n",
      "https://opennetwork.viettel.vn/user-ws/troubleshoot/tile/stats/l4/14.5387159/108.1567955\n"
     ]
    },
    {
     "name": "stderr",
     "output_type": "stream",
     "text": [
      " 88%|██████████████████████████████████████████████████████████████████████▌         | 506/574 [04:05<00:30,  2.24it/s]"
     ]
    },
    {
     "name": "stdout",
     "output_type": "stream",
     "text": [
      "{\"level\":\"signalLv0\",\"label\":\"Không có thông tin\",\"colorCode\":\"000000\"}\n",
      "https://opennetwork.viettel.vn/user-ws/troubleshoot/tile/stats/l4/14.4755554/108.2936096\n"
     ]
    },
    {
     "name": "stderr",
     "output_type": "stream",
     "text": [
      " 88%|██████████████████████████████████████████████████████████████████████▋         | 507/574 [04:05<00:28,  2.38it/s]"
     ]
    },
    {
     "name": "stdout",
     "output_type": "stream",
     "text": [
      "{\"level\":\"signalLv0\",\"label\":\"Không có thông tin\",\"colorCode\":\"000000\"}\n",
      "https://opennetwork.viettel.vn/user-ws/troubleshoot/tile/stats/l4/14.7343391/108.0177499\n"
     ]
    },
    {
     "name": "stderr",
     "output_type": "stream",
     "text": [
      " 89%|██████████████████████████████████████████████████████████████████████▊         | 508/574 [04:06<00:25,  2.55it/s]"
     ]
    },
    {
     "name": "stdout",
     "output_type": "stream",
     "text": [
      "{\"level\":\"signalLv0\",\"label\":\"Không có thông tin\",\"colorCode\":\"000000\"}\n",
      "https://opennetwork.viettel.vn/user-ws/troubleshoot/tile/stats/l4/14.603592/108.0116805\n"
     ]
    },
    {
     "name": "stderr",
     "output_type": "stream",
     "text": [
      " 89%|██████████████████████████████████████████████████████████████████████▉         | 509/574 [04:06<00:24,  2.61it/s]"
     ]
    },
    {
     "name": "stdout",
     "output_type": "stream",
     "text": [
      "{\"level\":\"signalLv0\",\"label\":\"Không có thông tin\",\"colorCode\":\"000000\"}\n",
      "https://opennetwork.viettel.vn/user-ws/troubleshoot/tile/stats/l4/14.5277409/107.6512527\n"
     ]
    },
    {
     "name": "stderr",
     "output_type": "stream",
     "text": [
      " 89%|███████████████████████████████████████████████████████████████████████         | 510/574 [04:06<00:23,  2.71it/s]"
     ]
    },
    {
     "name": "stdout",
     "output_type": "stream",
     "text": [
      "{\"level\":\"signalLv0\",\"label\":\"Không có thông tin\",\"colorCode\":\"000000\"}\n",
      "https://opennetwork.viettel.vn/user-ws/troubleshoot/tile/stats/l4/14.328085/107.8311539\n"
     ]
    },
    {
     "name": "stderr",
     "output_type": "stream",
     "text": [
      " 89%|███████████████████████████████████████████████████████████████████████▏        | 511/574 [04:07<00:28,  2.18it/s]"
     ]
    },
    {
     "name": "stdout",
     "output_type": "stream",
     "text": [
      "{\"x\":419184,\"y\":241056,\"level\":\"layout4signalLv1\",\"label\":\"Rất tốt\",\"colorCode\":\"008837\"}\n",
      "https://opennetwork.viettel.vn/user-ws/troubleshoot/tile/stats/l4/14.877191/108.0855379\n"
     ]
    },
    {
     "name": "stderr",
     "output_type": "stream",
     "text": [
      " 89%|███████████████████████████████████████████████████████████████████████▎        | 512/574 [04:07<00:26,  2.38it/s]"
     ]
    },
    {
     "name": "stdout",
     "output_type": "stream",
     "text": [
      "{\"level\":\"signalLv0\",\"label\":\"Không có thông tin\",\"colorCode\":\"000000\"}\n",
      "https://opennetwork.viettel.vn/user-ws/troubleshoot/tile/stats/l4/14.909237/108.051785\n"
     ]
    },
    {
     "name": "stderr",
     "output_type": "stream",
     "text": [
      " 89%|███████████████████████████████████████████████████████████████████████▍        | 513/574 [04:08<00:24,  2.51it/s]"
     ]
    },
    {
     "name": "stdout",
     "output_type": "stream",
     "text": [
      "{\"level\":\"signalLv0\",\"label\":\"Không có thông tin\",\"colorCode\":\"000000\"}\n",
      "https://opennetwork.viettel.vn/user-ws/troubleshoot/tile/stats/l4/13.2664005/108.4409609\n"
     ]
    },
    {
     "name": "stderr",
     "output_type": "stream",
     "text": [
      " 90%|███████████████████████████████████████████████████████████████████████▋        | 514/574 [04:08<00:22,  2.65it/s]"
     ]
    },
    {
     "name": "stdout",
     "output_type": "stream",
     "text": [
      "{\"level\":\"signalLv0\",\"label\":\"Không có thông tin\",\"colorCode\":\"000000\"}\n",
      "https://opennetwork.viettel.vn/user-ws/troubleshoot/tile/stats/l4/14.3654056/108.346013\n"
     ]
    },
    {
     "name": "stderr",
     "output_type": "stream",
     "text": [
      " 90%|███████████████████████████████████████████████████████████████████████▊        | 515/574 [04:09<00:22,  2.62it/s]"
     ]
    },
    {
     "name": "stdout",
     "output_type": "stream",
     "text": [
      "{\"level\":\"signalLv0\",\"label\":\"Không có thông tin\",\"colorCode\":\"000000\"}\n",
      "https://opennetwork.viettel.vn/user-ws/troubleshoot/tile/stats/l4/14.4855154/108.4458939\n"
     ]
    },
    {
     "name": "stderr",
     "output_type": "stream",
     "text": [
      " 90%|███████████████████████████████████████████████████████████████████████▉        | 516/574 [04:09<00:21,  2.74it/s]"
     ]
    },
    {
     "name": "stdout",
     "output_type": "stream",
     "text": [
      "{\"level\":\"signalLv0\",\"label\":\"Không có thông tin\",\"colorCode\":\"000000\"}\n",
      "https://opennetwork.viettel.vn/user-ws/troubleshoot/tile/stats/l4/14.2658775/108.430876\n"
     ]
    },
    {
     "name": "stderr",
     "output_type": "stream",
     "text": [
      " 90%|████████████████████████████████████████████████████████████████████████        | 517/574 [04:10<00:32,  1.74it/s]"
     ]
    },
    {
     "name": "stdout",
     "output_type": "stream",
     "text": [
      "{\"level\":\"signalLv0\",\"label\":\"Không có thông tin\",\"colorCode\":\"000000\"}\n",
      "https://opennetwork.viettel.vn/user-ws/troubleshoot/tile/stats/l4/14.1287505/108.6578215\n"
     ]
    },
    {
     "name": "stderr",
     "output_type": "stream",
     "text": [
      " 90%|████████████████████████████████████████████████████████████████████████▏       | 518/574 [04:10<00:28,  1.96it/s]"
     ]
    },
    {
     "name": "stdout",
     "output_type": "stream",
     "text": [
      "{\"level\":\"signalLv0\",\"label\":\"Không có thông tin\",\"colorCode\":\"000000\"}\n",
      "https://opennetwork.viettel.vn/user-ws/troubleshoot/tile/stats/l4/14.0683095/108.5029715\n"
     ]
    },
    {
     "name": "stderr",
     "output_type": "stream",
     "text": [
      " 90%|████████████████████████████████████████████████████████████████████████▎       | 519/574 [04:12<00:41,  1.33it/s]"
     ]
    },
    {
     "name": "stdout",
     "output_type": "stream",
     "text": [
      "{\"level\":\"signalLv0\",\"label\":\"Không có thông tin\",\"colorCode\":\"000000\"}\n",
      "https://opennetwork.viettel.vn/user-ws/troubleshoot/tile/stats/l4/14.1716784/107.7361174\n"
     ]
    },
    {
     "name": "stderr",
     "output_type": "stream",
     "text": [
      " 91%|████████████████████████████████████████████████████████████████████████▍       | 520/574 [04:12<00:34,  1.59it/s]"
     ]
    },
    {
     "name": "stdout",
     "output_type": "stream",
     "text": [
      "{\"level\":\"signalLv0\",\"label\":\"Không có thông tin\",\"colorCode\":\"000000\"}\n",
      "https://opennetwork.viettel.vn/user-ws/troubleshoot/tile/stats/l4/14.0026471/107.7630043\n"
     ]
    },
    {
     "name": "stderr",
     "output_type": "stream",
     "text": [
      " 91%|████████████████████████████████████████████████████████████████████████▌       | 521/574 [04:13<00:35,  1.50it/s]"
     ]
    },
    {
     "name": "stdout",
     "output_type": "stream",
     "text": [
      "{\"x\":419085,\"y\":241545,\"level\":\"layout4signalLv4\",\"label\":\"Yếu\",\"colorCode\":\"E66101\"}\n",
      "https://opennetwork.viettel.vn/user-ws/troubleshoot/tile/stats/l4/13.8030649/108.210922\n"
     ]
    },
    {
     "name": "stderr",
     "output_type": "stream",
     "text": [
      " 91%|████████████████████████████████████████████████████████████████████████▊       | 522/574 [04:13<00:29,  1.76it/s]"
     ]
    },
    {
     "name": "stdout",
     "output_type": "stream",
     "text": [
      "{\"level\":\"signalLv0\",\"label\":\"Không có thông tin\",\"colorCode\":\"000000\"}\n",
      "https://opennetwork.viettel.vn/user-ws/troubleshoot/tile/stats/l4/13.771883/108.3124374\n"
     ]
    },
    {
     "name": "stderr",
     "output_type": "stream",
     "text": [
      " 91%|████████████████████████████████████████████████████████████████████████▉       | 523/574 [04:13<00:27,  1.89it/s]"
     ]
    },
    {
     "name": "stdout",
     "output_type": "stream",
     "text": [
      "{\"level\":\"signalLv0\",\"label\":\"Không có thông tin\",\"colorCode\":\"000000\"}\n",
      "https://opennetwork.viettel.vn/user-ws/troubleshoot/tile/stats/l4/13.8352777/108.5928369\n"
     ]
    },
    {
     "name": "stderr",
     "output_type": "stream",
     "text": [
      " 91%|█████████████████████████████████████████████████████████████████████████       | 524/574 [04:14<00:27,  1.82it/s]"
     ]
    },
    {
     "name": "stdout",
     "output_type": "stream",
     "text": [
      "{\"x\":420293,\"y\":241796,\"level\":\"layout4signalLv1\",\"label\":\"Rất tốt\",\"colorCode\":\"008837\"}\n",
      "https://opennetwork.viettel.vn/user-ws/troubleshoot/tile/stats/l4/13.7592525/108.6040635\n"
     ]
    },
    {
     "name": "stderr",
     "output_type": "stream",
     "text": [
      " 91%|█████████████████████████████████████████████████████████████████████████▏      | 525/574 [04:14<00:24,  2.04it/s]"
     ]
    },
    {
     "name": "stdout",
     "output_type": "stream",
     "text": [
      "{\"level\":\"signalLv0\",\"label\":\"Không có thông tin\",\"colorCode\":\"000000\"}\n",
      "https://opennetwork.viettel.vn/user-ws/troubleshoot/tile/stats/l4/13.6857475/108.80128\n"
     ]
    },
    {
     "name": "stderr",
     "output_type": "stream",
     "text": [
      " 92%|█████████████████████████████████████████████████████████████████████████▎      | 526/574 [04:15<00:21,  2.26it/s]"
     ]
    },
    {
     "name": "stdout",
     "output_type": "stream",
     "text": [
      "{\"level\":\"signalLv0\",\"label\":\"Không có thông tin\",\"colorCode\":\"000000\"}\n",
      "https://opennetwork.viettel.vn/user-ws/troubleshoot/tile/stats/l4/13.6199705/108.2289355\n"
     ]
    },
    {
     "name": "stderr",
     "output_type": "stream",
     "text": [
      " 92%|█████████████████████████████████████████████████████████████████████████▍      | 527/574 [04:15<00:20,  2.29it/s]"
     ]
    },
    {
     "name": "stdout",
     "output_type": "stream",
     "text": [
      "{\"level\":\"signalLv0\",\"label\":\"Không có thông tin\",\"colorCode\":\"000000\"}\n",
      "https://opennetwork.viettel.vn/user-ws/troubleshoot/tile/stats/l4/13.86923/108.697855\n"
     ]
    },
    {
     "name": "stderr",
     "output_type": "stream",
     "text": [
      " 92%|█████████████████████████████████████████████████████████████████████████▌      | 528/574 [04:16<00:18,  2.48it/s]"
     ]
    },
    {
     "name": "stdout",
     "output_type": "stream",
     "text": [
      "{\"level\":\"signalLv0\",\"label\":\"Không có thông tin\",\"colorCode\":\"000000\"}\n",
      "https://opennetwork.viettel.vn/user-ws/troubleshoot/tile/stats/l4/13.5453215/108.5037071\n"
     ]
    },
    {
     "name": "stderr",
     "output_type": "stream",
     "text": [
      " 92%|█████████████████████████████████████████████████████████████████████████▋      | 529/574 [04:16<00:17,  2.56it/s]"
     ]
    },
    {
     "name": "stdout",
     "output_type": "stream",
     "text": [
      "{\"level\":\"signalLv0\",\"label\":\"Không có thông tin\",\"colorCode\":\"000000\"}\n",
      "https://opennetwork.viettel.vn/user-ws/troubleshoot/tile/stats/l4/13.5194685/108.5487455\n"
     ]
    },
    {
     "name": "stderr",
     "output_type": "stream",
     "text": [
      " 92%|█████████████████████████████████████████████████████████████████████████▊      | 530/574 [04:16<00:17,  2.53it/s]"
     ]
    },
    {
     "name": "stdout",
     "output_type": "stream",
     "text": [
      "{\"level\":\"signalLv0\",\"label\":\"Không có thông tin\",\"colorCode\":\"000000\"}\n",
      "https://opennetwork.viettel.vn/user-ws/troubleshoot/tile/stats/l4/13.4930385/108.5897345\n"
     ]
    },
    {
     "name": "stderr",
     "output_type": "stream",
     "text": [
      " 93%|██████████████████████████████████████████████████████████████████████████      | 531/574 [04:17<00:18,  2.34it/s]"
     ]
    },
    {
     "name": "stdout",
     "output_type": "stream",
     "text": [
      "{\"level\":\"signalLv0\",\"label\":\"Không có thông tin\",\"colorCode\":\"000000\"}\n",
      "https://opennetwork.viettel.vn/user-ws/troubleshoot/tile/stats/l4/13.3903589/108.6497375\n"
     ]
    },
    {
     "name": "stderr",
     "output_type": "stream",
     "text": [
      " 93%|██████████████████████████████████████████████████████████████████████████▏     | 532/574 [04:17<00:16,  2.48it/s]"
     ]
    },
    {
     "name": "stdout",
     "output_type": "stream",
     "text": [
      "{\"level\":\"signalLv0\",\"label\":\"Không có thông tin\",\"colorCode\":\"000000\"}\n",
      "https://opennetwork.viettel.vn/user-ws/troubleshoot/tile/stats/l4/13.3078405/108.5913134\n"
     ]
    },
    {
     "name": "stderr",
     "output_type": "stream",
     "text": [
      " 93%|██████████████████████████████████████████████████████████████████████████▎     | 533/574 [04:18<00:20,  1.97it/s]"
     ]
    },
    {
     "name": "stdout",
     "output_type": "stream",
     "text": [
      "{\"x\":420291,\"y\":242586,\"level\":\"layout4signalLv1\",\"label\":\"Rất tốt\",\"colorCode\":\"008837\"}\n",
      "https://opennetwork.viettel.vn/user-ws/troubleshoot/tile/stats/l4/13.2606791/108.664447\n"
     ]
    },
    {
     "name": "stderr",
     "output_type": "stream",
     "text": [
      " 93%|██████████████████████████████████████████████████████████████████████████▍     | 534/574 [04:18<00:18,  2.13it/s]"
     ]
    },
    {
     "name": "stdout",
     "output_type": "stream",
     "text": [
      "{\"level\":\"signalLv0\",\"label\":\"Không có thông tin\",\"colorCode\":\"000000\"}\n",
      "https://opennetwork.viettel.vn/user-ws/troubleshoot/tile/stats/l4/13.2901904/108.8229735\n"
     ]
    },
    {
     "name": "stderr",
     "output_type": "stream",
     "text": [
      " 93%|██████████████████████████████████████████████████████████████████████████▌     | 535/574 [04:19<00:16,  2.31it/s]"
     ]
    },
    {
     "name": "stdout",
     "output_type": "stream",
     "text": [
      "{\"level\":\"signalLv0\",\"label\":\"Không có thông tin\",\"colorCode\":\"000000\"}\n",
      "https://opennetwork.viettel.vn/user-ws/troubleshoot/tile/stats/l4/13.084401/108.6358026\n"
     ]
    },
    {
     "name": "stderr",
     "output_type": "stream",
     "text": [
      " 93%|██████████████████████████████████████████████████████████████████████████▋     | 536/574 [04:19<00:15,  2.49it/s]"
     ]
    },
    {
     "name": "stdout",
     "output_type": "stream",
     "text": [
      "{\"level\":\"signalLv0\",\"label\":\"Không có thông tin\",\"colorCode\":\"000000\"}\n",
      "https://opennetwork.viettel.vn/user-ws/troubleshoot/tile/stats/l4/13.1189469/108.6000875\n"
     ]
    },
    {
     "name": "stderr",
     "output_type": "stream",
     "text": [
      " 94%|██████████████████████████████████████████████████████████████████████████▊     | 537/574 [04:19<00:14,  2.55it/s]"
     ]
    },
    {
     "name": "stdout",
     "output_type": "stream",
     "text": [
      "{\"level\":\"signalLv0\",\"label\":\"Không có thông tin\",\"colorCode\":\"000000\"}\n",
      "https://opennetwork.viettel.vn/user-ws/troubleshoot/tile/stats/l4/13.231729/108.5341655\n"
     ]
    },
    {
     "name": "stderr",
     "output_type": "stream",
     "text": [
      " 94%|██████████████████████████████████████████████████████████████████████████▉     | 538/574 [04:20<00:14,  2.40it/s]"
     ]
    },
    {
     "name": "stdout",
     "output_type": "stream",
     "text": [
      "{\"level\":\"signalLv0\",\"label\":\"Không có thông tin\",\"colorCode\":\"000000\"}\n",
      "https://opennetwork.viettel.vn/user-ws/troubleshoot/tile/stats/l4/13.3710415/108.698856\n"
     ]
    },
    {
     "name": "stderr",
     "output_type": "stream",
     "text": [
      " 94%|███████████████████████████████████████████████████████████████████████████     | 539/574 [04:20<00:14,  2.38it/s]"
     ]
    },
    {
     "name": "stdout",
     "output_type": "stream",
     "text": [
      "{\"level\":\"signalLv0\",\"label\":\"Không có thông tin\",\"colorCode\":\"000000\"}\n",
      "https://opennetwork.viettel.vn/user-ws/troubleshoot/tile/stats/l4/13.048934/108.667119\n"
     ]
    },
    {
     "name": "stderr",
     "output_type": "stream",
     "text": [
      " 94%|███████████████████████████████████████████████████████████████████████████▎    | 540/574 [04:21<00:13,  2.48it/s]"
     ]
    },
    {
     "name": "stdout",
     "output_type": "stream",
     "text": [
      "{\"level\":\"signalLv0\",\"label\":\"Không có thông tin\",\"colorCode\":\"000000\"}\n",
      "https://opennetwork.viettel.vn/user-ws/troubleshoot/tile/stats/l4/13.6334611/108.2327854\n"
     ]
    },
    {
     "name": "stderr",
     "output_type": "stream",
     "text": [
      " 94%|███████████████████████████████████████████████████████████████████████████▍    | 541/574 [04:21<00:12,  2.60it/s]"
     ]
    },
    {
     "name": "stdout",
     "output_type": "stream",
     "text": [
      "{\"level\":\"signalLv0\",\"label\":\"Không có thông tin\",\"colorCode\":\"000000\"}\n",
      "https://opennetwork.viettel.vn/user-ws/troubleshoot/tile/stats/l4/13.4464385/108.2952736\n"
     ]
    },
    {
     "name": "stderr",
     "output_type": "stream",
     "text": [
      " 94%|███████████████████████████████████████████████████████████████████████████▌    | 542/574 [04:21<00:11,  2.72it/s]"
     ]
    },
    {
     "name": "stdout",
     "output_type": "stream",
     "text": [
      "{\"level\":\"signalLv0\",\"label\":\"Không có thông tin\",\"colorCode\":\"000000\"}\n",
      "https://opennetwork.viettel.vn/user-ws/troubleshoot/tile/stats/l4/13.4057686/108.3500433\n"
     ]
    },
    {
     "name": "stderr",
     "output_type": "stream",
     "text": [
      " 95%|███████████████████████████████████████████████████████████████████████████▋    | 543/574 [04:22<00:14,  2.10it/s]"
     ]
    },
    {
     "name": "stdout",
     "output_type": "stream",
     "text": [
      "{\"x\":419940,\"y\":242439,\"level\":\"layout4signalLv4\",\"label\":\"Yếu\",\"colorCode\":\"E66101\"}\n",
      "https://opennetwork.viettel.vn/user-ws/troubleshoot/tile/stats/l4/13.3146192/107.7185441\n"
     ]
    },
    {
     "name": "stderr",
     "output_type": "stream",
     "text": [
      " 95%|███████████████████████████████████████████████████████████████████████████▊    | 544/574 [04:23<00:15,  1.94it/s]"
     ]
    },
    {
     "name": "stdout",
     "output_type": "stream",
     "text": [
      "{\"x\":419020,\"y\":242576,\"level\":\"layout4signalLv3\",\"label\":\"Khá\",\"colorCode\":\"FDB863\"}\n",
      "https://opennetwork.viettel.vn/user-ws/troubleshoot/tile/stats/l4/13.2988845/107.8660875\n"
     ]
    },
    {
     "name": "stderr",
     "output_type": "stream",
     "text": [
      " 95%|███████████████████████████████████████████████████████████████████████████▉    | 545/574 [04:23<00:13,  2.15it/s]"
     ]
    },
    {
     "name": "stdout",
     "output_type": "stream",
     "text": [
      "{\"level\":\"signalLv0\",\"label\":\"Không có thông tin\",\"colorCode\":\"000000\"}\n",
      "https://opennetwork.viettel.vn/user-ws/troubleshoot/tile/stats/l4/12.933266/107.7282215\n"
     ]
    },
    {
     "name": "stderr",
     "output_type": "stream",
     "text": [
      " 95%|████████████████████████████████████████████████████████████████████████████    | 546/574 [04:23<00:12,  2.25it/s]"
     ]
    },
    {
     "name": "stdout",
     "output_type": "stream",
     "text": [
      "{\"level\":\"signalLv0\",\"label\":\"Không có thông tin\",\"colorCode\":\"000000\"}\n",
      "https://opennetwork.viettel.vn/user-ws/troubleshoot/tile/stats/l4/12.944745/108.59979\n"
     ]
    },
    {
     "name": "stderr",
     "output_type": "stream",
     "text": [
      " 95%|████████████████████████████████████████████████████████████████████████████▏   | 547/574 [04:24<00:11,  2.41it/s]"
     ]
    },
    {
     "name": "stdout",
     "output_type": "stream",
     "text": [
      "{\"level\":\"signalLv0\",\"label\":\"Không có thông tin\",\"colorCode\":\"000000\"}\n",
      "https://opennetwork.viettel.vn/user-ws/troubleshoot/tile/stats/l4/12.804338/108.8815734\n"
     ]
    },
    {
     "name": "stderr",
     "output_type": "stream",
     "text": [
      " 95%|████████████████████████████████████████████████████████████████████████████▍   | 548/574 [04:24<00:10,  2.56it/s]"
     ]
    },
    {
     "name": "stdout",
     "output_type": "stream",
     "text": [
      "{\"level\":\"signalLv0\",\"label\":\"Không có thông tin\",\"colorCode\":\"000000\"}\n",
      "https://opennetwork.viettel.vn/user-ws/troubleshoot/tile/stats/l4/12.3621256/108.3471679\n"
     ]
    },
    {
     "name": "stderr",
     "output_type": "stream",
     "text": [
      " 96%|████████████████████████████████████████████████████████████████████████████▌   | 549/574 [04:24<00:09,  2.64it/s]"
     ]
    },
    {
     "name": "stdout",
     "output_type": "stream",
     "text": [
      "{\"level\":\"signalLv0\",\"label\":\"Không có thông tin\",\"colorCode\":\"000000\"}\n",
      "https://opennetwork.viettel.vn/user-ws/troubleshoot/tile/stats/l4/12.3188644/108.2589339\n"
     ]
    },
    {
     "name": "stderr",
     "output_type": "stream",
     "text": [
      " 96%|████████████████████████████████████████████████████████████████████████████▋   | 550/574 [04:25<00:08,  2.77it/s]"
     ]
    },
    {
     "name": "stdout",
     "output_type": "stream",
     "text": [
      "{\"level\":\"signalLv0\",\"label\":\"Không có thông tin\",\"colorCode\":\"000000\"}\n",
      "https://opennetwork.viettel.vn/user-ws/troubleshoot/tile/stats/l4/12.3134948/108.1634903\n"
     ]
    },
    {
     "name": "stderr",
     "output_type": "stream",
     "text": [
      " 96%|████████████████████████████████████████████████████████████████████████████▊   | 551/574 [04:25<00:08,  2.76it/s]"
     ]
    },
    {
     "name": "stdout",
     "output_type": "stream",
     "text": [
      "{\"level\":\"signalLv0\",\"label\":\"Không có thông tin\",\"colorCode\":\"000000\"}\n",
      "https://opennetwork.viettel.vn/user-ws/troubleshoot/tile/stats/l4/12.23655/108.2540325\n"
     ]
    },
    {
     "name": "stderr",
     "output_type": "stream",
     "text": [
      " 96%|████████████████████████████████████████████████████████████████████████████▉   | 552/574 [04:25<00:07,  2.82it/s]"
     ]
    },
    {
     "name": "stdout",
     "output_type": "stream",
     "text": [
      "{\"level\":\"signalLv0\",\"label\":\"Không có thông tin\",\"colorCode\":\"000000\"}\n",
      "https://opennetwork.viettel.vn/user-ws/troubleshoot/tile/stats/l4/12.0023023/107.938266\n"
     ]
    },
    {
     "name": "stderr",
     "output_type": "stream",
     "text": [
      " 96%|█████████████████████████████████████████████████████████████████████████████   | 553/574 [04:27<00:13,  1.58it/s]"
     ]
    },
    {
     "name": "stdout",
     "output_type": "stream",
     "text": [
      "{\"level\":\"signalLv0\",\"label\":\"Không có thông tin\",\"colorCode\":\"000000\"}\n",
      "https://opennetwork.viettel.vn/user-ws/troubleshoot/tile/stats/l4/11.890011/108.0204963\n"
     ]
    },
    {
     "name": "stderr",
     "output_type": "stream",
     "text": [
      " 97%|█████████████████████████████████████████████████████████████████████████████▏  | 554/574 [04:27<00:10,  1.85it/s]"
     ]
    },
    {
     "name": "stdout",
     "output_type": "stream",
     "text": [
      "{\"level\":\"signalLv0\",\"label\":\"Không có thông tin\",\"colorCode\":\"000000\"}\n",
      "https://opennetwork.viettel.vn/user-ws/troubleshoot/tile/stats/l4/12.431088/107.8847701\n"
     ]
    },
    {
     "name": "stderr",
     "output_type": "stream",
     "text": [
      " 97%|█████████████████████████████████████████████████████████████████████████████▎  | 555/574 [04:28<00:11,  1.68it/s]"
     ]
    },
    {
     "name": "stdout",
     "output_type": "stream",
     "text": [
      "{\"x\":419262,\"y\":243896,\"level\":\"layout4signalLv1\",\"label\":\"Rất tốt\",\"colorCode\":\"008837\"}\n",
      "https://opennetwork.viettel.vn/user-ws/troubleshoot/tile/stats/l4/12.345904/107.695155\n"
     ]
    },
    {
     "name": "stderr",
     "output_type": "stream",
     "text": [
      " 97%|█████████████████████████████████████████████████████████████████████████████▍  | 556/574 [04:28<00:09,  1.86it/s]"
     ]
    },
    {
     "name": "stdout",
     "output_type": "stream",
     "text": [
      "{\"level\":\"signalLv0\",\"label\":\"Không có thông tin\",\"colorCode\":\"000000\"}\n",
      "https://opennetwork.viettel.vn/user-ws/troubleshoot/tile/stats/l4/12.123262/108.309278\n"
     ]
    },
    {
     "name": "stderr",
     "output_type": "stream",
     "text": [
      " 97%|█████████████████████████████████████████████████████████████████████████████▋  | 557/574 [04:28<00:08,  2.06it/s]"
     ]
    },
    {
     "name": "stdout",
     "output_type": "stream",
     "text": [
      "{\"level\":\"signalLv0\",\"label\":\"Không có thông tin\",\"colorCode\":\"000000\"}\n",
      "https://opennetwork.viettel.vn/user-ws/troubleshoot/tile/stats/l4/12.1207355/108.2394454\n"
     ]
    },
    {
     "name": "stderr",
     "output_type": "stream",
     "text": [
      " 97%|█████████████████████████████████████████████████████████████████████████████▊  | 558/574 [04:29<00:07,  2.08it/s]"
     ]
    },
    {
     "name": "stdout",
     "output_type": "stream",
     "text": [
      "{\"level\":\"signalLv0\",\"label\":\"Không có thông tin\",\"colorCode\":\"000000\"}\n",
      "https://opennetwork.viettel.vn/user-ws/troubleshoot/tile/stats/l4/12.1528674/108.3312205\n"
     ]
    },
    {
     "name": "stderr",
     "output_type": "stream",
     "text": [
      " 97%|█████████████████████████████████████████████████████████████████████████████▉  | 559/574 [04:29<00:06,  2.26it/s]"
     ]
    },
    {
     "name": "stdout",
     "output_type": "stream",
     "text": [
      "{\"level\":\"signalLv0\",\"label\":\"Không có thông tin\",\"colorCode\":\"000000\"}\n",
      "https://opennetwork.viettel.vn/user-ws/troubleshoot/tile/stats/l4/12.0654715/108.077716\n"
     ]
    },
    {
     "name": "stderr",
     "output_type": "stream",
     "text": [
      " 98%|██████████████████████████████████████████████████████████████████████████████  | 560/574 [04:31<00:09,  1.45it/s]"
     ]
    },
    {
     "name": "stdout",
     "output_type": "stream",
     "text": [
      "{\"level\":\"signalLv0\",\"label\":\"Không có thông tin\",\"colorCode\":\"000000\"}\n",
      "https://opennetwork.viettel.vn/user-ws/troubleshoot/tile/stats/l4/12.1740702/108.5396003\n"
     ]
    },
    {
     "name": "stderr",
     "output_type": "stream",
     "text": [
      " 98%|██████████████████████████████████████████████████████████████████████████████▏ | 561/574 [04:31<00:09,  1.44it/s]"
     ]
    },
    {
     "name": "stdout",
     "output_type": "stream",
     "text": [
      "{\"x\":420216,\"y\":244279,\"level\":\"layout4signalLv2\",\"label\":\"Tốt\",\"colorCode\":\"A6DBA0\"}\n",
      "https://opennetwork.viettel.vn/user-ws/troubleshoot/tile/stats/l4/12.228085/108.4344205\n"
     ]
    },
    {
     "name": "stderr",
     "output_type": "stream",
     "text": [
      " 98%|██████████████████████████████████████████████████████████████████████████████▎ | 562/574 [04:32<00:07,  1.57it/s]"
     ]
    },
    {
     "name": "stdout",
     "output_type": "stream",
     "text": [
      "{\"level\":\"signalLv0\",\"label\":\"Không có thông tin\",\"colorCode\":\"000000\"}\n",
      "https://opennetwork.viettel.vn/user-ws/troubleshoot/tile/stats/l4/12.0325125/108.5694019\n"
     ]
    },
    {
     "name": "stderr",
     "output_type": "stream",
     "text": [
      " 98%|██████████████████████████████████████████████████████████████████████████████▍ | 563/574 [04:32<00:06,  1.82it/s]"
     ]
    },
    {
     "name": "stdout",
     "output_type": "stream",
     "text": [
      "{\"level\":\"signalLv0\",\"label\":\"Không có thông tin\",\"colorCode\":\"000000\"}\n",
      "https://opennetwork.viettel.vn/user-ws/troubleshoot/tile/stats/l4/11.9293079/108.2854095\n"
     ]
    },
    {
     "name": "stderr",
     "output_type": "stream",
     "text": [
      " 98%|██████████████████████████████████████████████████████████████████████████████▌ | 564/574 [04:32<00:04,  2.08it/s]"
     ]
    },
    {
     "name": "stdout",
     "output_type": "stream",
     "text": [
      "{\"level\":\"signalLv0\",\"label\":\"Không có thông tin\",\"colorCode\":\"000000\"}\n",
      "https://opennetwork.viettel.vn/user-ws/troubleshoot/tile/stats/l4/11.7807589/108.612233\n"
     ]
    },
    {
     "name": "stderr",
     "output_type": "stream",
     "text": [
      " 98%|██████████████████████████████████████████████████████████████████████████████▋ | 565/574 [04:33<00:03,  2.26it/s]"
     ]
    },
    {
     "name": "stdout",
     "output_type": "stream",
     "text": [
      "{\"level\":\"signalLv0\",\"label\":\"Không có thông tin\",\"colorCode\":\"000000\"}\n",
      "https://opennetwork.viettel.vn/user-ws/troubleshoot/tile/stats/l4/11.72276/108.6041265\n"
     ]
    },
    {
     "name": "stderr",
     "output_type": "stream",
     "text": [
      " 99%|██████████████████████████████████████████████████████████████████████████████▉ | 566/574 [04:33<00:03,  2.46it/s]"
     ]
    },
    {
     "name": "stdout",
     "output_type": "stream",
     "text": [
      "{\"level\":\"signalLv0\",\"label\":\"Không có thông tin\",\"colorCode\":\"000000\"}\n",
      "https://opennetwork.viettel.vn/user-ws/troubleshoot/tile/stats/l4/11.68469/108.5930925\n"
     ]
    },
    {
     "name": "stderr",
     "output_type": "stream",
     "text": [
      " 99%|███████████████████████████████████████████████████████████████████████████████ | 567/574 [04:33<00:02,  2.54it/s]"
     ]
    },
    {
     "name": "stdout",
     "output_type": "stream",
     "text": [
      "{\"level\":\"signalLv0\",\"label\":\"Không có thông tin\",\"colorCode\":\"000000\"}\n",
      "https://opennetwork.viettel.vn/user-ws/troubleshoot/tile/stats/l4/11.5187895/108.0904865\n"
     ]
    },
    {
     "name": "stderr",
     "output_type": "stream",
     "text": [
      " 99%|███████████████████████████████████████████████████████████████████████████████▏| 568/574 [04:34<00:02,  2.67it/s]"
     ]
    },
    {
     "name": "stdout",
     "output_type": "stream",
     "text": [
      "{\"level\":\"signalLv0\",\"label\":\"Không có thông tin\",\"colorCode\":\"000000\"}\n",
      "https://opennetwork.viettel.vn/user-ws/troubleshoot/tile/stats/l4/11.760671/107.9516664\n"
     ]
    },
    {
     "name": "stderr",
     "output_type": "stream",
     "text": [
      " 99%|███████████████████████████████████████████████████████████████████████████████▎| 569/574 [04:34<00:02,  2.20it/s]"
     ]
    },
    {
     "name": "stdout",
     "output_type": "stream",
     "text": [
      "{\"level\":\"signalLv0\",\"label\":\"Không có thông tin\",\"colorCode\":\"000000\"}\n",
      "https://opennetwork.viettel.vn/user-ws/troubleshoot/tile/stats/l4/11.5082425/108.2328415\n"
     ]
    },
    {
     "name": "stderr",
     "output_type": "stream",
     "text": [
      " 99%|███████████████████████████████████████████████████████████████████████████████▍| 570/574 [04:35<00:01,  2.11it/s]"
     ]
    },
    {
     "name": "stdout",
     "output_type": "stream",
     "text": [
      "{\"level\":\"signalLv0\",\"label\":\"Không có thông tin\",\"colorCode\":\"000000\"}\n",
      "https://opennetwork.viettel.vn/user-ws/troubleshoot/tile/stats/l4/11.429937/108.1615039\n"
     ]
    },
    {
     "name": "stderr",
     "output_type": "stream",
     "text": [
      " 99%|███████████████████████████████████████████████████████████████████████████████▌| 571/574 [04:35<00:01,  2.27it/s]"
     ]
    },
    {
     "name": "stdout",
     "output_type": "stream",
     "text": [
      "{\"level\":\"signalLv0\",\"label\":\"Không có thông tin\",\"colorCode\":\"000000\"}\n",
      "https://opennetwork.viettel.vn/user-ws/troubleshoot/tile/stats/l4/11.3161066/108.1075287\n"
     ]
    },
    {
     "name": "stderr",
     "output_type": "stream",
     "text": [
      "100%|███████████████████████████████████████████████████████████████████████████████▋| 572/574 [04:36<00:00,  2.44it/s]"
     ]
    },
    {
     "name": "stdout",
     "output_type": "stream",
     "text": [
      "{\"level\":\"signalLv0\",\"label\":\"Không có thông tin\",\"colorCode\":\"000000\"}\n",
      "https://opennetwork.viettel.vn/user-ws/troubleshoot/tile/stats/l4/10.880017/107.5472229\n"
     ]
    },
    {
     "name": "stderr",
     "output_type": "stream",
     "text": [
      "100%|███████████████████████████████████████████████████████████████████████████████▊| 573/574 [04:36<00:00,  2.43it/s]"
     ]
    },
    {
     "name": "stdout",
     "output_type": "stream",
     "text": [
      "{\"level\":\"signalLv0\",\"label\":\"Không có thông tin\",\"colorCode\":\"000000\"}\n",
      "https://opennetwork.viettel.vn/user-ws/troubleshoot/tile/stats/l4/10.3369549/104.0205229\n"
     ]
    },
    {
     "name": "stderr",
     "output_type": "stream",
     "text": [
      "100%|████████████████████████████████████████████████████████████████████████████████| 574/574 [04:37<00:00,  2.07it/s]"
     ]
    },
    {
     "name": "stdout",
     "output_type": "stream",
     "text": [
      "{\"x\":413634,\"y\":247007,\"level\":\"layout4signalLv3\",\"label\":\"Khá\",\"colorCode\":\"FDB863\"}\n"
     ]
    },
    {
     "name": "stderr",
     "output_type": "stream",
     "text": [
      "\n"
     ]
    }
   ],
   "source": [
    "import time\n",
    "import requests\n",
    "from tqdm import tqdm\n",
    "session = requests.Session()\n",
    "\n",
    "def get_signals(lat, long):\n",
    "  n = 1\n",
    "  while n<300:\n",
    "    try:\n",
    "      print(f\"https://opennetwork.viettel.vn/user-ws/troubleshoot/tile/stats/l4/{lat}/{long}\")\n",
    "      response = session.get(\n",
    "          f\"https://opennetwork.viettel.vn/user-ws/troubleshoot/tile/stats/l4/{lat}/{long}\",\n",
    "          timeout=10\n",
    "      )\n",
    "      #time.sleep(1)\n",
    "      print(response.text)\n",
    "      return response.text\n",
    "    except KeyboardInterrupt:\n",
    "        raise\n",
    "    except Exception as e:\n",
    "      print(e)\n",
    "      n = n * 1.5\n",
    "      time.sleep(n)\n",
    "  raise\n",
    "signals = [None] * len(df_x)\n",
    "for i,(lat, lon) in enumerate(tqdm(df_x[[\"lat\", \"lon\"]].values)):\n",
    "    if signals[i] is None:\n",
    "        signals[i] = get_signals(lat, lon)\n",
    "    \n",
    "    "
   ]
  },
  {
   "cell_type": "code",
   "execution_count": 59,
   "id": "2dc34a55-f696-451f-998f-47e5167c32c7",
   "metadata": {
    "tags": []
   },
   "outputs": [
    {
     "data": {
      "text/html": [
       "<div>\n",
       "<style scoped>\n",
       "    .dataframe tbody tr th:only-of-type {\n",
       "        vertical-align: middle;\n",
       "    }\n",
       "\n",
       "    .dataframe tbody tr th {\n",
       "        vertical-align: top;\n",
       "    }\n",
       "\n",
       "    .dataframe thead th {\n",
       "        text-align: right;\n",
       "    }\n",
       "</style>\n",
       "<table border=\"1\" class=\"dataframe\">\n",
       "  <thead>\n",
       "    <tr style=\"text-align: right;\">\n",
       "      <th></th>\n",
       "      <th>lat</th>\n",
       "      <th>lon</th>\n",
       "    </tr>\n",
       "  </thead>\n",
       "  <tbody>\n",
       "    <tr>\n",
       "      <th>137</th>\n",
       "      <td>21.278081</td>\n",
       "      <td>105.899904</td>\n",
       "    </tr>\n",
       "    <tr>\n",
       "      <th>244</th>\n",
       "      <td>21.1694837</td>\n",
       "      <td>105.6851291</td>\n",
       "    </tr>\n",
       "    <tr>\n",
       "      <th>251</th>\n",
       "      <td>21.2012169</td>\n",
       "      <td>105.6273007</td>\n",
       "    </tr>\n",
       "    <tr>\n",
       "      <th>256</th>\n",
       "      <td>21.161498</td>\n",
       "      <td>105.684461</td>\n",
       "    </tr>\n",
       "    <tr>\n",
       "      <th>622</th>\n",
       "      <td>23.1534326</td>\n",
       "      <td>105.3875629</td>\n",
       "    </tr>\n",
       "    <tr>\n",
       "      <th>...</th>\n",
       "      <td>...</td>\n",
       "      <td>...</td>\n",
       "    </tr>\n",
       "    <tr>\n",
       "      <th>8627</th>\n",
       "      <td>11.5082425</td>\n",
       "      <td>108.2328415</td>\n",
       "    </tr>\n",
       "    <tr>\n",
       "      <th>8631</th>\n",
       "      <td>11.429937</td>\n",
       "      <td>108.1615039</td>\n",
       "    </tr>\n",
       "    <tr>\n",
       "      <th>8637</th>\n",
       "      <td>11.3161066</td>\n",
       "      <td>108.1075287</td>\n",
       "    </tr>\n",
       "    <tr>\n",
       "      <th>9133</th>\n",
       "      <td>10.880017</td>\n",
       "      <td>107.5472229</td>\n",
       "    </tr>\n",
       "    <tr>\n",
       "      <th>10699</th>\n",
       "      <td>10.3369549</td>\n",
       "      <td>104.0205229</td>\n",
       "    </tr>\n",
       "  </tbody>\n",
       "</table>\n",
       "<p>574 rows × 2 columns</p>\n",
       "</div>"
      ],
      "text/plain": [
       "              lat          lon\n",
       "137     21.278081   105.899904\n",
       "244    21.1694837  105.6851291\n",
       "251    21.2012169  105.6273007\n",
       "256     21.161498   105.684461\n",
       "622    23.1534326  105.3875629\n",
       "...           ...          ...\n",
       "8627   11.5082425  108.2328415\n",
       "8631    11.429937  108.1615039\n",
       "8637   11.3161066  108.1075287\n",
       "9133    10.880017  107.5472229\n",
       "10699  10.3369549  104.0205229\n",
       "\n",
       "[574 rows x 2 columns]"
      ]
     },
     "execution_count": 59,
     "metadata": {},
     "output_type": "execute_result"
    }
   ],
   "source": [
    "df_x"
   ]
  },
  {
   "cell_type": "code",
   "execution_count": 85,
   "id": "b51090da-8e04-45d4-96db-2cc57cacfe4f",
   "metadata": {
    "tags": []
   },
   "outputs": [
    {
     "data": {
      "text/html": [
       "<div>\n",
       "<style scoped>\n",
       "    .dataframe tbody tr th:only-of-type {\n",
       "        vertical-align: middle;\n",
       "    }\n",
       "\n",
       "    .dataframe tbody tr th {\n",
       "        vertical-align: top;\n",
       "    }\n",
       "\n",
       "    .dataframe thead th {\n",
       "        text-align: right;\n",
       "    }\n",
       "</style>\n",
       "<table border=\"1\" class=\"dataframe\">\n",
       "  <thead>\n",
       "    <tr style=\"text-align: right;\">\n",
       "      <th></th>\n",
       "      <th>x</th>\n",
       "      <th>y</th>\n",
       "      <th>level</th>\n",
       "      <th>label</th>\n",
       "      <th>colorCode</th>\n",
       "    </tr>\n",
       "  </thead>\n",
       "  <tbody>\n",
       "    <tr>\n",
       "      <th>0</th>\n",
       "      <td>416371.0</td>\n",
       "      <td>230417.0</td>\n",
       "      <td>layout4signalLv2</td>\n",
       "      <td>Tốt</td>\n",
       "      <td>A6DBA0</td>\n",
       "    </tr>\n",
       "    <tr>\n",
       "      <th>1</th>\n",
       "      <td>416059.0</td>\n",
       "      <td>230587.0</td>\n",
       "      <td>layout4signalLv3</td>\n",
       "      <td>Khá</td>\n",
       "      <td>FDB863</td>\n",
       "    </tr>\n",
       "    <tr>\n",
       "      <th>2</th>\n",
       "      <td>415974.0</td>\n",
       "      <td>230537.0</td>\n",
       "      <td>layout4signalLv3</td>\n",
       "      <td>Khá</td>\n",
       "      <td>FDB863</td>\n",
       "    </tr>\n",
       "    <tr>\n",
       "      <th>3</th>\n",
       "      <td>416058.0</td>\n",
       "      <td>230599.0</td>\n",
       "      <td>layout4signalLv1</td>\n",
       "      <td>Rất tốt</td>\n",
       "      <td>008837</td>\n",
       "    </tr>\n",
       "    <tr>\n",
       "      <th>4</th>\n",
       "      <td>NaN</td>\n",
       "      <td>NaN</td>\n",
       "      <td>signalLv0</td>\n",
       "      <td>Không có thông tin</td>\n",
       "      <td>000000</td>\n",
       "    </tr>\n",
       "    <tr>\n",
       "      <th>...</th>\n",
       "      <td>...</td>\n",
       "      <td>...</td>\n",
       "      <td>...</td>\n",
       "      <td>...</td>\n",
       "      <td>...</td>\n",
       "    </tr>\n",
       "    <tr>\n",
       "      <th>569</th>\n",
       "      <td>NaN</td>\n",
       "      <td>NaN</td>\n",
       "      <td>signalLv0</td>\n",
       "      <td>Không có thông tin</td>\n",
       "      <td>000000</td>\n",
       "    </tr>\n",
       "    <tr>\n",
       "      <th>570</th>\n",
       "      <td>NaN</td>\n",
       "      <td>NaN</td>\n",
       "      <td>signalLv0</td>\n",
       "      <td>Không có thông tin</td>\n",
       "      <td>000000</td>\n",
       "    </tr>\n",
       "    <tr>\n",
       "      <th>571</th>\n",
       "      <td>NaN</td>\n",
       "      <td>NaN</td>\n",
       "      <td>signalLv0</td>\n",
       "      <td>Không có thông tin</td>\n",
       "      <td>000000</td>\n",
       "    </tr>\n",
       "    <tr>\n",
       "      <th>572</th>\n",
       "      <td>NaN</td>\n",
       "      <td>NaN</td>\n",
       "      <td>signalLv0</td>\n",
       "      <td>Không có thông tin</td>\n",
       "      <td>000000</td>\n",
       "    </tr>\n",
       "    <tr>\n",
       "      <th>573</th>\n",
       "      <td>413634.0</td>\n",
       "      <td>247007.0</td>\n",
       "      <td>layout4signalLv3</td>\n",
       "      <td>Khá</td>\n",
       "      <td>FDB863</td>\n",
       "    </tr>\n",
       "  </tbody>\n",
       "</table>\n",
       "<p>574 rows × 5 columns</p>\n",
       "</div>"
      ],
      "text/plain": [
       "            x         y             level               label colorCode\n",
       "0    416371.0  230417.0  layout4signalLv2                 Tốt    A6DBA0\n",
       "1    416059.0  230587.0  layout4signalLv3                 Khá    FDB863\n",
       "2    415974.0  230537.0  layout4signalLv3                 Khá    FDB863\n",
       "3    416058.0  230599.0  layout4signalLv1             Rất tốt    008837\n",
       "4         NaN       NaN         signalLv0  Không có thông tin    000000\n",
       "..        ...       ...               ...                 ...       ...\n",
       "569       NaN       NaN         signalLv0  Không có thông tin    000000\n",
       "570       NaN       NaN         signalLv0  Không có thông tin    000000\n",
       "571       NaN       NaN         signalLv0  Không có thông tin    000000\n",
       "572       NaN       NaN         signalLv0  Không có thông tin    000000\n",
       "573  413634.0  247007.0  layout4signalLv3                 Khá    FDB863\n",
       "\n",
       "[574 rows x 5 columns]"
      ]
     },
     "execution_count": 85,
     "metadata": {},
     "output_type": "execute_result"
    }
   ],
   "source": [
    "pd.DataFrame([ast.literal_eval(signal) for signal in signals])\n"
   ]
  },
  {
   "cell_type": "code",
   "execution_count": 9,
   "id": "be30b8d7-b7cc-4c05-9194-58347b3b04a2",
   "metadata": {
    "tags": []
   },
   "outputs": [],
   "source": [
    "import json\n",
    "json.dump(signals, open(\"all_signals.json\", \"w\"))"
   ]
  },
  {
   "cell_type": "code",
   "execution_count": 19,
   "id": "04ce7b1d-130f-43d1-8369-49087a65989a",
   "metadata": {
    "tags": []
   },
   "outputs": [
    {
     "data": {
      "text/html": [
       "<div>\n",
       "<style scoped>\n",
       "    .dataframe tbody tr th:only-of-type {\n",
       "        vertical-align: middle;\n",
       "    }\n",
       "\n",
       "    .dataframe tbody tr th {\n",
       "        vertical-align: top;\n",
       "    }\n",
       "\n",
       "    .dataframe thead th {\n",
       "        text-align: right;\n",
       "    }\n",
       "</style>\n",
       "<table border=\"1\" class=\"dataframe\">\n",
       "  <thead>\n",
       "    <tr style=\"text-align: right;\">\n",
       "      <th></th>\n",
       "      <th>Unnamed: 0</th>\n",
       "      <th>ADM1</th>\n",
       "      <th>ADM2</th>\n",
       "      <th>ADM3</th>\n",
       "      <th>Pop</th>\n",
       "      <th>Mã</th>\n",
       "      <th>Tên Tiếng Anh</th>\n",
       "      <th>Cấp</th>\n",
       "      <th>Mã QH</th>\n",
       "      <th>Mã TP</th>\n",
       "      <th>lat</th>\n",
       "      <th>lon</th>\n",
       "      <th>most_similar</th>\n",
       "      <th>level</th>\n",
       "      <th>most_similar_d</th>\n",
       "      <th>lat_m</th>\n",
       "      <th>lon_m</th>\n",
       "      <th>closest_distance</th>\n",
       "    </tr>\n",
       "  </thead>\n",
       "  <tbody>\n",
       "    <tr>\n",
       "      <th>0</th>\n",
       "      <td>0</td>\n",
       "      <td>Thành phố Hà Nội</td>\n",
       "      <td>Quận Ba Đình</td>\n",
       "      <td>Phúc Xá</td>\n",
       "      <td>21946</td>\n",
       "      <td>1.0</td>\n",
       "      <td>NaN</td>\n",
       "      <td>Phường</td>\n",
       "      <td>1.0</td>\n",
       "      <td>1.0</td>\n",
       "      <td>21.045694</td>\n",
       "      <td>105.848250</td>\n",
       "      <td>5282</td>\n",
       "      <td>Rất tốt</td>\n",
       "      <td>5.556097e-07</td>\n",
       "      <td>21.04640</td>\n",
       "      <td>105.84849</td>\n",
       "      <td>82.329302</td>\n",
       "    </tr>\n",
       "    <tr>\n",
       "      <th>1</th>\n",
       "      <td>1</td>\n",
       "      <td>Thành phố Hà Nội</td>\n",
       "      <td>Quận Ba Đình</td>\n",
       "      <td>Trúc Bạch</td>\n",
       "      <td>7065</td>\n",
       "      <td>4.0</td>\n",
       "      <td>NaN</td>\n",
       "      <td>Phường</td>\n",
       "      <td>1.0</td>\n",
       "      <td>1.0</td>\n",
       "      <td>21.046050</td>\n",
       "      <td>105.841893</td>\n",
       "      <td>5327</td>\n",
       "      <td>Rất tốt</td>\n",
       "      <td>3.171918e-06</td>\n",
       "      <td>21.04564</td>\n",
       "      <td>105.84016</td>\n",
       "      <td>185.549463</td>\n",
       "    </tr>\n",
       "    <tr>\n",
       "      <th>2</th>\n",
       "      <td>2</td>\n",
       "      <td>Thành phố Hà Nội</td>\n",
       "      <td>Quận Ba Đình</td>\n",
       "      <td>Vĩnh Phúc</td>\n",
       "      <td>23867</td>\n",
       "      <td>6.0</td>\n",
       "      <td>Vinh Phuc Commune</td>\n",
       "      <td>Phường</td>\n",
       "      <td>1.0</td>\n",
       "      <td>1.0</td>\n",
       "      <td>21.042169</td>\n",
       "      <td>105.810142</td>\n",
       "      <td>5281</td>\n",
       "      <td>Rất tốt</td>\n",
       "      <td>5.449572e-05</td>\n",
       "      <td>21.03480</td>\n",
       "      <td>105.80971</td>\n",
       "      <td>820.673751</td>\n",
       "    </tr>\n",
       "    <tr>\n",
       "      <th>3</th>\n",
       "      <td>3</td>\n",
       "      <td>Thành phố Hà Nội</td>\n",
       "      <td>Quận Ba Đình</td>\n",
       "      <td>Cống Vị</td>\n",
       "      <td>15979</td>\n",
       "      <td>7.0</td>\n",
       "      <td>NaN</td>\n",
       "      <td>Phường</td>\n",
       "      <td>1.0</td>\n",
       "      <td>1.0</td>\n",
       "      <td>21.035040</td>\n",
       "      <td>105.810184</td>\n",
       "      <td>5281</td>\n",
       "      <td>Rất tốt</td>\n",
       "      <td>2.826074e-07</td>\n",
       "      <td>21.03480</td>\n",
       "      <td>105.80971</td>\n",
       "      <td>55.997682</td>\n",
       "    </tr>\n",
       "    <tr>\n",
       "      <th>4</th>\n",
       "      <td>4</td>\n",
       "      <td>Thành phố Hà Nội</td>\n",
       "      <td>Quận Ba Đình</td>\n",
       "      <td>Liễu Giai</td>\n",
       "      <td>21084</td>\n",
       "      <td>8.0</td>\n",
       "      <td>Lieu Giai Commune</td>\n",
       "      <td>Phường</td>\n",
       "      <td>1.0</td>\n",
       "      <td>1.0</td>\n",
       "      <td>21.037584</td>\n",
       "      <td>105.817420</td>\n",
       "      <td>5323</td>\n",
       "      <td>Rất tốt</td>\n",
       "      <td>1.279355e-06</td>\n",
       "      <td>21.03762</td>\n",
       "      <td>105.81629</td>\n",
       "      <td>117.396739</td>\n",
       "    </tr>\n",
       "    <tr>\n",
       "      <th>...</th>\n",
       "      <td>...</td>\n",
       "      <td>...</td>\n",
       "      <td>...</td>\n",
       "      <td>...</td>\n",
       "      <td>...</td>\n",
       "      <td>...</td>\n",
       "      <td>...</td>\n",
       "      <td>...</td>\n",
       "      <td>...</td>\n",
       "      <td>...</td>\n",
       "      <td>...</td>\n",
       "      <td>...</td>\n",
       "      <td>...</td>\n",
       "      <td>...</td>\n",
       "      <td>...</td>\n",
       "      <td>...</td>\n",
       "      <td>...</td>\n",
       "      <td>...</td>\n",
       "    </tr>\n",
       "    <tr>\n",
       "      <th>11141</th>\n",
       "      <td>11141</td>\n",
       "      <td>Tỉnh Cà Mau</td>\n",
       "      <td>Huyện Ngọc Hiển</td>\n",
       "      <td>Viên An Đông</td>\n",
       "      <td>10011</td>\n",
       "      <td>32239.0</td>\n",
       "      <td>NaN</td>\n",
       "      <td>Xã</td>\n",
       "      <td>973.0</td>\n",
       "      <td>96.0</td>\n",
       "      <td>8.694454</td>\n",
       "      <td>104.931278</td>\n",
       "      <td>9341</td>\n",
       "      <td>Khá</td>\n",
       "      <td>1.848137e-03</td>\n",
       "      <td>8.72456</td>\n",
       "      <td>104.90059</td>\n",
       "      <td>4752.256568</td>\n",
       "    </tr>\n",
       "    <tr>\n",
       "      <th>11142</th>\n",
       "      <td>11142</td>\n",
       "      <td>Tỉnh Cà Mau</td>\n",
       "      <td>Huyện Ngọc Hiển</td>\n",
       "      <td>Viên An</td>\n",
       "      <td>10464</td>\n",
       "      <td>32242.0</td>\n",
       "      <td>NaN</td>\n",
       "      <td>Xã</td>\n",
       "      <td>973.0</td>\n",
       "      <td>96.0</td>\n",
       "      <td>8.687688</td>\n",
       "      <td>104.874308</td>\n",
       "      <td>9341</td>\n",
       "      <td>Khá</td>\n",
       "      <td>2.050312e-03</td>\n",
       "      <td>8.72456</td>\n",
       "      <td>104.90059</td>\n",
       "      <td>5015.478027</td>\n",
       "    </tr>\n",
       "    <tr>\n",
       "      <th>11143</th>\n",
       "      <td>11143</td>\n",
       "      <td>Tỉnh Cà Mau</td>\n",
       "      <td>Huyện Ngọc Hiển</td>\n",
       "      <td>Rạch Gốc</td>\n",
       "      <td>11498</td>\n",
       "      <td>32244.0</td>\n",
       "      <td>NaN</td>\n",
       "      <td>Thị trấn</td>\n",
       "      <td>973.0</td>\n",
       "      <td>96.0</td>\n",
       "      <td>8.626764</td>\n",
       "      <td>105.018288</td>\n",
       "      <td>9353</td>\n",
       "      <td>Tốt</td>\n",
       "      <td>1.918482e-04</td>\n",
       "      <td>8.63618</td>\n",
       "      <td>105.00813</td>\n",
       "      <td>1530.795229</td>\n",
       "    </tr>\n",
       "    <tr>\n",
       "      <th>11144</th>\n",
       "      <td>11144</td>\n",
       "      <td>Tỉnh Cà Mau</td>\n",
       "      <td>Huyện Ngọc Hiển</td>\n",
       "      <td>Tân Ân</td>\n",
       "      <td>5229</td>\n",
       "      <td>32245.0</td>\n",
       "      <td>NaN</td>\n",
       "      <td>Xã</td>\n",
       "      <td>973.0</td>\n",
       "      <td>96.0</td>\n",
       "      <td>8.621078</td>\n",
       "      <td>105.022387</td>\n",
       "      <td>9353</td>\n",
       "      <td>Tốt</td>\n",
       "      <td>4.313558e-04</td>\n",
       "      <td>8.63618</td>\n",
       "      <td>105.00813</td>\n",
       "      <td>2297.138261</td>\n",
       "    </tr>\n",
       "    <tr>\n",
       "      <th>11145</th>\n",
       "      <td>11145</td>\n",
       "      <td>Tỉnh Cà Mau</td>\n",
       "      <td>Huyện Ngọc Hiển</td>\n",
       "      <td>Đất Mũi</td>\n",
       "      <td>12906</td>\n",
       "      <td>32248.0</td>\n",
       "      <td>NaN</td>\n",
       "      <td>Xã</td>\n",
       "      <td>973.0</td>\n",
       "      <td>96.0</td>\n",
       "      <td>8.599488</td>\n",
       "      <td>104.758050</td>\n",
       "      <td>9347</td>\n",
       "      <td>Khá</td>\n",
       "      <td>1.684943e-03</td>\n",
       "      <td>8.60812</td>\n",
       "      <td>104.79818</td>\n",
       "      <td>4515.254011</td>\n",
       "    </tr>\n",
       "  </tbody>\n",
       "</table>\n",
       "<p>11146 rows × 18 columns</p>\n",
       "</div>"
      ],
      "text/plain": [
       "       Unnamed: 0              ADM1             ADM2  ...     lat_m      lon_m  closest_distance\n",
       "0               0  Thành phố Hà Nội     Quận Ba Đình  ...  21.04640  105.84849         82.329302\n",
       "1               1  Thành phố Hà Nội     Quận Ba Đình  ...  21.04564  105.84016        185.549463\n",
       "2               2  Thành phố Hà Nội     Quận Ba Đình  ...  21.03480  105.80971        820.673751\n",
       "3               3  Thành phố Hà Nội     Quận Ba Đình  ...  21.03480  105.80971         55.997682\n",
       "4               4  Thành phố Hà Nội     Quận Ba Đình  ...  21.03762  105.81629        117.396739\n",
       "...           ...               ...              ...  ...       ...        ...               ...\n",
       "11141       11141       Tỉnh Cà Mau  Huyện Ngọc Hiển  ...   8.72456  104.90059       4752.256568\n",
       "11142       11142       Tỉnh Cà Mau  Huyện Ngọc Hiển  ...   8.72456  104.90059       5015.478027\n",
       "11143       11143       Tỉnh Cà Mau  Huyện Ngọc Hiển  ...   8.63618  105.00813       1530.795229\n",
       "11144       11144       Tỉnh Cà Mau  Huyện Ngọc Hiển  ...   8.63618  105.00813       2297.138261\n",
       "11145       11145       Tỉnh Cà Mau  Huyện Ngọc Hiển  ...   8.60812  104.79818       4515.254011\n",
       "\n",
       "[11146 rows x 18 columns]"
      ]
     },
     "execution_count": 19,
     "metadata": {},
     "output_type": "execute_result"
    }
   ],
   "source": [
    "df"
   ]
  },
  {
   "cell_type": "code",
   "execution_count": 30,
   "id": "90299fc5-7099-40fc-bbb9-435e2a1ce9ef",
   "metadata": {
    "tags": []
   },
   "outputs": [
    {
     "data": {
      "text/plain": [
       "574"
      ]
     },
     "execution_count": 30,
     "metadata": {},
     "output_type": "execute_result"
    }
   ],
   "source": [
    "import ast\n",
    "\n",
    "df_ds_signals = pd.concat([df, df_signals],  axis=1)\n",
    "df_ds_signals[df_ds_signals[\"label\"]==\"Không có thông tin\"]\n",
    "to_be_done = df_ds_signals[df_ds_signals[\"label\"]==\"Không có thông tin\"].apply(\n",
    "    lambda x: f\"{x['ADM3']}, {x['ADM2']}, {x['ADM1']}\",\n",
    "    axis=1\n",
    ").values\n",
    "len(to_be_done)"
   ]
  },
  {
   "cell_type": "code",
   "execution_count": 87,
   "id": "5845220b-bd0c-41d9-943f-f2e2296cee4c",
   "metadata": {
    "tags": []
   },
   "outputs": [
    {
     "data": {
      "text/plain": [
       "array(['Tốt', 'Khá', 'Khá', 'Rất tốt', 'Không có thông tin',\n",
       "       'Không có thông tin', 'Không có thông tin', 'Khá',\n",
       "       'Không có thông tin', 'Tốt', 'Không có thông tin',\n",
       "       'Không có thông tin', 'Không có thông tin', 'Khá',\n",
       "       'Không có thông tin', 'Khá', 'Không có thông tin',\n",
       "       'Không có thông tin', 'Khá', 'Không có thông tin', 'Khá', 'Khá',\n",
       "       'Không có thông tin', 'Không có thông tin', 'Khá', 'Khá',\n",
       "       'Không có thông tin', 'Không có thông tin', 'Khá',\n",
       "       'Không có thông tin', 'Không có thông tin', 'Tốt',\n",
       "       'Không có thông tin', 'Không có thông tin', 'Không có thông tin',\n",
       "       'Không có thông tin', 'Không có thông tin', 'Không có thông tin',\n",
       "       'Không có thông tin', 'Tốt', 'Không có thông tin', 'Tốt',\n",
       "       'Không có thông tin', 'Không có thông tin', 'Không có thông tin',\n",
       "       'Không có thông tin', 'Không có thông tin', 'Không có thông tin',\n",
       "       'Không có thông tin', 'Không có thông tin', 'Không có thông tin',\n",
       "       'Không có thông tin', 'Không có thông tin', 'Không có thông tin',\n",
       "       'Không có thông tin', 'Không có thông tin', 'Không có thông tin',\n",
       "       'Không có thông tin', 'Không có thông tin', 'Không có thông tin',\n",
       "       'Không có thông tin', 'Không có thông tin', 'Không có thông tin',\n",
       "       'Không có thông tin', 'Tốt', 'Không có thông tin', 'Khá',\n",
       "       'Không có thông tin', 'Không có thông tin', 'Không có thông tin',\n",
       "       'Không có thông tin', 'Không có thông tin', 'Không có thông tin',\n",
       "       'Không có thông tin', 'Không có thông tin', 'Không có thông tin',\n",
       "       'Khá', 'Không có thông tin', 'Không có thông tin',\n",
       "       'Không có thông tin', 'Không có thông tin', 'Không có thông tin',\n",
       "       'Không có thông tin', 'Không có thông tin', 'Không có thông tin',\n",
       "       'Không có thông tin', 'Không có thông tin', 'Không có thông tin',\n",
       "       'Khá', 'Không có thông tin', 'Không có thông tin',\n",
       "       'Không có thông tin', 'Không có thông tin', 'Không có thông tin',\n",
       "       'Không có thông tin', 'Không có thông tin', 'Khá',\n",
       "       'Không có thông tin', 'Khá', 'Không có thông tin',\n",
       "       'Không có thông tin', 'Không có thông tin', 'Khá',\n",
       "       'Không có thông tin', 'Không có thông tin', 'Không có thông tin',\n",
       "       'Không có thông tin', 'Khá', 'Không có thông tin',\n",
       "       'Không có thông tin', 'Không có thông tin', 'Tốt',\n",
       "       'Không có thông tin', 'Không có thông tin', 'Không có thông tin',\n",
       "       'Không có thông tin', 'Không có thông tin', 'Không có thông tin',\n",
       "       'Không có thông tin', 'Không có thông tin', 'Không có thông tin',\n",
       "       'Không có thông tin', 'Không có thông tin', 'Không có thông tin',\n",
       "       'Không có thông tin', 'Không có thông tin', 'Tốt',\n",
       "       'Không có thông tin', 'Không có thông tin', 'Không có thông tin',\n",
       "       'Rất tốt', 'Khá', 'Không có thông tin', 'Rất tốt',\n",
       "       'Không có thông tin', 'Không có thông tin', 'Không có thông tin',\n",
       "       'Không có thông tin', 'Không có thông tin', 'Không có thông tin',\n",
       "       'Không có thông tin', 'Không có thông tin', 'Không có thông tin',\n",
       "       'Không có thông tin', 'Không có thông tin', 'Khá',\n",
       "       'Không có thông tin', 'Không có thông tin', 'Không có thông tin',\n",
       "       'Không có thông tin', 'Không có thông tin', 'Khá',\n",
       "       'Không có thông tin', 'Không có thông tin', 'Không có thông tin',\n",
       "       'Không có thông tin', 'Yếu', 'Không có thông tin',\n",
       "       'Không có thông tin', 'Không có thông tin', 'Không có thông tin',\n",
       "       'Yếu', 'Không có thông tin', 'Khá', 'Không có thông tin',\n",
       "       'Không có thông tin', 'Không có thông tin', 'Không có thông tin',\n",
       "       'Không có thông tin', 'Khá', 'Không có thông tin', 'Tốt',\n",
       "       'Không có thông tin', 'Yếu', 'Không có thông tin',\n",
       "       'Không có thông tin', 'Không có thông tin', 'Không có thông tin',\n",
       "       'Không có thông tin', 'Không có thông tin', 'Không có thông tin',\n",
       "       'Không có thông tin', 'Không có thông tin', 'Không có thông tin',\n",
       "       'Không có thông tin', 'Không có thông tin', 'Không có thông tin',\n",
       "       'Không có thông tin', 'Không có thông tin', 'Không có thông tin',\n",
       "       'Không có thông tin', 'Không có thông tin', 'Không có thông tin',\n",
       "       'Không có thông tin', 'Không có thông tin', 'Không có thông tin',\n",
       "       'Không có thông tin', 'Không có thông tin', 'Không có thông tin',\n",
       "       'Không có thông tin', 'Không có thông tin', 'Không có thông tin',\n",
       "       'Không có thông tin', 'Không có thông tin', 'Không có thông tin',\n",
       "       'Không có thông tin', 'Không có thông tin', 'Không có thông tin',\n",
       "       'Không có thông tin', 'Không có thông tin', 'Không có thông tin',\n",
       "       'Không có thông tin', 'Không có thông tin', 'Không có thông tin',\n",
       "       'Không có thông tin', 'Không có thông tin', 'Khá',\n",
       "       'Không có thông tin', 'Không có thông tin', 'Khá', 'Khá',\n",
       "       'Không có thông tin', 'Khá', 'Không có thông tin',\n",
       "       'Không có thông tin', 'Không có thông tin', 'Không có thông tin',\n",
       "       'Không có thông tin', 'Không có thông tin', 'Không có thông tin',\n",
       "       'Không có thông tin', 'Không có thông tin', 'Không có thông tin',\n",
       "       'Không có thông tin', 'Không có thông tin', 'Khá',\n",
       "       'Không có thông tin', 'Không có thông tin', 'Không có thông tin',\n",
       "       'Không có thông tin', 'Không có thông tin', 'Không có thông tin',\n",
       "       'Không có thông tin', 'Không có thông tin', 'Không có thông tin',\n",
       "       'Không có thông tin', 'Không có thông tin', 'Không có thông tin',\n",
       "       'Không có thông tin', 'Không có thông tin', 'Không có thông tin',\n",
       "       'Không có thông tin', 'Không có thông tin', 'Không có thông tin',\n",
       "       'Tốt', 'Không có thông tin', 'Không có thông tin',\n",
       "       'Không có thông tin', 'Tốt', 'Rất tốt', 'Không có thông tin',\n",
       "       'Khá', 'Tốt', 'Không có thông tin', 'Không có thông tin',\n",
       "       'Không có thông tin', 'Không có thông tin', 'Không có thông tin',\n",
       "       'Không có thông tin', 'Không có thông tin', 'Không có thông tin',\n",
       "       'Không có thông tin', 'Không có thông tin', 'Không có thông tin',\n",
       "       'Không có thông tin', 'Không có thông tin', 'Không có thông tin',\n",
       "       'Không có thông tin', 'Không có thông tin', 'Không có thông tin',\n",
       "       'Không có thông tin', 'Không có thông tin', 'Không có thông tin',\n",
       "       'Không có thông tin', 'Không có thông tin', 'Không có thông tin',\n",
       "       'Không có thông tin', 'Không có thông tin', 'Không có thông tin',\n",
       "       'Không có thông tin', 'Không có thông tin', 'Không có thông tin',\n",
       "       'Không có thông tin', 'Không có thông tin', 'Không có thông tin',\n",
       "       'Không có thông tin', 'Không có thông tin', 'Không có thông tin',\n",
       "       'Không có thông tin', 'Không có thông tin', 'Khá',\n",
       "       'Không có thông tin', 'Khá', 'Không có thông tin', 'Yếu',\n",
       "       'Không có thông tin', 'Khá', 'Không có thông tin',\n",
       "       'Không có thông tin', 'Không có thông tin', 'Không có thông tin',\n",
       "       'Không có thông tin', 'Không có thông tin', 'Tốt',\n",
       "       'Không có thông tin', 'Không có thông tin', 'Khá',\n",
       "       'Không có thông tin', 'Không có thông tin', 'Không có thông tin',\n",
       "       'Không có thông tin', 'Không có thông tin', 'Khá',\n",
       "       'Không có thông tin', 'Khá', 'Không có thông tin',\n",
       "       'Không có thông tin', 'Không có thông tin', 'Không có thông tin',\n",
       "       'Không có thông tin', 'Không có thông tin', 'Tốt',\n",
       "       'Không có thông tin', 'Rất tốt', 'Không có thông tin',\n",
       "       'Không có thông tin', 'Không có thông tin', 'Không có thông tin',\n",
       "       'Không có thông tin', 'Không có thông tin', 'Khá',\n",
       "       'Không có thông tin', 'Không có thông tin', 'Không có thông tin',\n",
       "       'Không có thông tin', 'Không có thông tin', 'Không có thông tin',\n",
       "       'Không có thông tin', 'Không có thông tin', 'Không có thông tin',\n",
       "       'Không có thông tin', 'Không có thông tin', 'Không có thông tin',\n",
       "       'Không có thông tin', 'Không có thông tin', 'Rất tốt',\n",
       "       'Không có thông tin', 'Không có thông tin', 'Không có thông tin',\n",
       "       'Không có thông tin', 'Không có thông tin', 'Không có thông tin',\n",
       "       'Không có thông tin', 'Không có thông tin', 'Không có thông tin',\n",
       "       'Khá', 'Không có thông tin', 'Không có thông tin',\n",
       "       'Không có thông tin', 'Không có thông tin', 'Không có thông tin',\n",
       "       'Không có thông tin', 'Không có thông tin', 'Không có thông tin',\n",
       "       'Không có thông tin', 'Khá', 'Không có thông tin',\n",
       "       'Không có thông tin', 'Không có thông tin', 'Không có thông tin',\n",
       "       'Không có thông tin', 'Không có thông tin', 'Không có thông tin',\n",
       "       'Không có thông tin', 'Không có thông tin', 'Không có thông tin',\n",
       "       'Không có thông tin', 'Không có thông tin', 'Không có thông tin',\n",
       "       'Không có thông tin', 'Không có thông tin', 'Yếu',\n",
       "       'Không có thông tin', 'Không có thông tin', 'Không có thông tin',\n",
       "       'Không có thông tin', 'Không có thông tin', 'Không có thông tin',\n",
       "       'Không có thông tin', 'Yếu', 'Không có thông tin',\n",
       "       'Không có thông tin', 'Không có thông tin', 'Không có thông tin',\n",
       "       'Không có thông tin', 'Khá', 'Không có thông tin',\n",
       "       'Không có thông tin', 'Không có thông tin', 'Không có thông tin',\n",
       "       'Không có thông tin', 'Không có thông tin', 'Không có thông tin',\n",
       "       'Không có thông tin', 'Không có thông tin', 'Không có thông tin',\n",
       "       'Không có thông tin', 'Không có thông tin', 'Không có thông tin',\n",
       "       'Không có thông tin', 'Không có thông tin', 'Không có thông tin',\n",
       "       'Không có thông tin', 'Không có thông tin', 'Không có thông tin',\n",
       "       'Không có thông tin', 'Không có thông tin', 'Không có thông tin',\n",
       "       'Không có thông tin', 'Không có thông tin', 'Khá',\n",
       "       'Không có thông tin', 'Không có thông tin', 'Rất tốt',\n",
       "       'Không có thông tin', 'Không có thông tin', 'Không có thông tin',\n",
       "       'Không có thông tin', 'Không có thông tin', 'Không có thông tin',\n",
       "       'Khá', 'Không có thông tin', 'Không có thông tin',\n",
       "       'Không có thông tin', 'Không có thông tin', 'Không có thông tin',\n",
       "       'Không có thông tin', 'Không có thông tin', 'Không có thông tin',\n",
       "       'Rất tốt', 'Không có thông tin', 'Không có thông tin',\n",
       "       'Không có thông tin', 'Không có thông tin', 'Không có thông tin',\n",
       "       'Không có thông tin', 'Không có thông tin', 'Không có thông tin',\n",
       "       'Không có thông tin', 'Không có thông tin', 'Không có thông tin',\n",
       "       'Không có thông tin', 'Không có thông tin', 'Không có thông tin',\n",
       "       'Không có thông tin', 'Không có thông tin', 'Không có thông tin',\n",
       "       'Không có thông tin', 'Không có thông tin', 'Không có thông tin',\n",
       "       'Không có thông tin', 'Khá', 'Không có thông tin',\n",
       "       'Không có thông tin', 'Không có thông tin', 'Không có thông tin',\n",
       "       'Không có thông tin', 'Không có thông tin', 'Không có thông tin',\n",
       "       'Không có thông tin', 'Không có thông tin', 'Không có thông tin',\n",
       "       'Không có thông tin', 'Không có thông tin', 'Không có thông tin',\n",
       "       'Không có thông tin', 'Không có thông tin', 'Khá',\n",
       "       'Không có thông tin', 'Không có thông tin', 'Không có thông tin',\n",
       "       'Không có thông tin', 'Rất tốt', 'Không có thông tin',\n",
       "       'Không có thông tin', 'Không có thông tin', 'Không có thông tin',\n",
       "       'Không có thông tin', 'Không có thông tin', 'Không có thông tin',\n",
       "       'Không có thông tin', 'Không có thông tin', 'Không có thông tin',\n",
       "       'Không có thông tin', 'Không có thông tin', 'Không có thông tin',\n",
       "       'Không có thông tin', 'Không có thông tin', 'Không có thông tin',\n",
       "       'Không có thông tin', 'Rất tốt', 'Không có thông tin',\n",
       "       'Không có thông tin', 'Không có thông tin', 'Không có thông tin',\n",
       "       'Không có thông tin', 'Không có thông tin', 'Không có thông tin',\n",
       "       'Không có thông tin', 'Không có thông tin', 'Yếu',\n",
       "       'Không có thông tin', 'Không có thông tin', 'Rất tốt',\n",
       "       'Không có thông tin', 'Không có thông tin', 'Không có thông tin',\n",
       "       'Không có thông tin', 'Không có thông tin', 'Không có thông tin',\n",
       "       'Không có thông tin', 'Không có thông tin', 'Rất tốt',\n",
       "       'Không có thông tin', 'Không có thông tin', 'Không có thông tin',\n",
       "       'Không có thông tin', 'Không có thông tin', 'Không có thông tin',\n",
       "       'Không có thông tin', 'Không có thông tin', 'Không có thông tin',\n",
       "       'Yếu', 'Khá', 'Không có thông tin', 'Không có thông tin',\n",
       "       'Không có thông tin', 'Không có thông tin', 'Không có thông tin',\n",
       "       'Không có thông tin', 'Không có thông tin', 'Không có thông tin',\n",
       "       'Không có thông tin', 'Không có thông tin', 'Rất tốt',\n",
       "       'Không có thông tin', 'Không có thông tin', 'Không có thông tin',\n",
       "       'Không có thông tin', 'Không có thông tin', 'Tốt',\n",
       "       'Không có thông tin', 'Không có thông tin', 'Không có thông tin',\n",
       "       'Không có thông tin', 'Không có thông tin', 'Không có thông tin',\n",
       "       'Không có thông tin', 'Không có thông tin', 'Không có thông tin',\n",
       "       'Không có thông tin', 'Không có thông tin', 'Không có thông tin',\n",
       "       'Khá'], dtype=object)"
      ]
     },
     "execution_count": 87,
     "metadata": {},
     "output_type": "execute_result"
    }
   ],
   "source": []
  },
  {
   "cell_type": "code",
   "execution_count": 99,
   "id": "bccebf05-36d9-4412-899c-e50235b7578c",
   "metadata": {
    "tags": []
   },
   "outputs": [
    {
     "data": {
      "text/html": [
       "<div>\n",
       "<style scoped>\n",
       "    .dataframe tbody tr th:only-of-type {\n",
       "        vertical-align: middle;\n",
       "    }\n",
       "\n",
       "    .dataframe tbody tr th {\n",
       "        vertical-align: top;\n",
       "    }\n",
       "\n",
       "    .dataframe thead th {\n",
       "        text-align: right;\n",
       "    }\n",
       "</style>\n",
       "<table border=\"1\" class=\"dataframe\">\n",
       "  <thead>\n",
       "    <tr style=\"text-align: right;\">\n",
       "      <th></th>\n",
       "      <th>Unnamed: 0</th>\n",
       "      <th>ADM1</th>\n",
       "      <th>ADM2</th>\n",
       "      <th>ADM3</th>\n",
       "      <th>Pop</th>\n",
       "      <th>Mã</th>\n",
       "      <th>Tên Tiếng Anh</th>\n",
       "      <th>Cấp</th>\n",
       "      <th>Mã QH</th>\n",
       "      <th>Mã TP</th>\n",
       "      <th>lat</th>\n",
       "      <th>lon</th>\n",
       "      <th>most_similar</th>\n",
       "      <th>level</th>\n",
       "      <th>most_similar_d</th>\n",
       "      <th>lat_m</th>\n",
       "      <th>lon_m</th>\n",
       "      <th>closest_distance</th>\n",
       "      <th>x</th>\n",
       "      <th>y</th>\n",
       "      <th>level</th>\n",
       "      <th>label</th>\n",
       "      <th>colorCode</th>\n",
       "    </tr>\n",
       "  </thead>\n",
       "  <tbody>\n",
       "    <tr>\n",
       "      <th>137</th>\n",
       "      <td>137</td>\n",
       "      <td>Thành phố Hà Nội</td>\n",
       "      <td>Huyện Sóc Sơn</td>\n",
       "      <td>Bắc Phú</td>\n",
       "      <td>11572</td>\n",
       "      <td>403.0</td>\n",
       "      <td>NaN</td>\n",
       "      <td>Xã</td>\n",
       "      <td>16.0</td>\n",
       "      <td>1.0</td>\n",
       "      <td>21.276478</td>\n",
       "      <td>105.891739</td>\n",
       "      <td>5178</td>\n",
       "      <td>Rất tốt</td>\n",
       "      <td>0.001598</td>\n",
       "      <td>21.24911</td>\n",
       "      <td>105.92088</td>\n",
       "      <td>4287.129874</td>\n",
       "      <td>416371.0</td>\n",
       "      <td>230417.0</td>\n",
       "      <td>signalLv0</td>\n",
       "      <td>Tốt</td>\n",
       "      <td>A6DBA0</td>\n",
       "    </tr>\n",
       "    <tr>\n",
       "      <th>244</th>\n",
       "      <td>244</td>\n",
       "      <td>Thành phố Hà Nội</td>\n",
       "      <td>Huyện Mê Linh</td>\n",
       "      <td>Thạch Đà</td>\n",
       "      <td>14267</td>\n",
       "      <td>8980.0</td>\n",
       "      <td>NaN</td>\n",
       "      <td>Xã</td>\n",
       "      <td>250.0</td>\n",
       "      <td>1.0</td>\n",
       "      <td>21.177471</td>\n",
       "      <td>105.677090</td>\n",
       "      <td>4838</td>\n",
       "      <td>Không có thông tin</td>\n",
       "      <td>0.000037</td>\n",
       "      <td>21.17185</td>\n",
       "      <td>105.67476</td>\n",
       "      <td>670.107336</td>\n",
       "      <td>416059.0</td>\n",
       "      <td>230587.0</td>\n",
       "      <td>signalLv0</td>\n",
       "      <td>Khá</td>\n",
       "      <td>FDB863</td>\n",
       "    </tr>\n",
       "    <tr>\n",
       "      <th>251</th>\n",
       "      <td>251</td>\n",
       "      <td>Thành phố Hà Nội</td>\n",
       "      <td>Huyện Mê Linh</td>\n",
       "      <td>Vạn Yên</td>\n",
       "      <td>5184</td>\n",
       "      <td>9001.0</td>\n",
       "      <td>NaN</td>\n",
       "      <td>Xã</td>\n",
       "      <td>250.0</td>\n",
       "      <td>1.0</td>\n",
       "      <td>21.202220</td>\n",
       "      <td>106.625280</td>\n",
       "      <td>1158</td>\n",
       "      <td>Khá</td>\n",
       "      <td>0.000152</td>\n",
       "      <td>21.21456</td>\n",
       "      <td>106.62511</td>\n",
       "      <td>1372.258558</td>\n",
       "      <td>415974.0</td>\n",
       "      <td>230537.0</td>\n",
       "      <td>signalLv0</td>\n",
       "      <td>Khá</td>\n",
       "      <td>FDB863</td>\n",
       "    </tr>\n",
       "    <tr>\n",
       "      <th>256</th>\n",
       "      <td>256</td>\n",
       "      <td>Thành phố Hà Nội</td>\n",
       "      <td>Huyện Mê Linh</td>\n",
       "      <td>Hoàng Kim</td>\n",
       "      <td>6132</td>\n",
       "      <td>9016.0</td>\n",
       "      <td>NaN</td>\n",
       "      <td>Xã</td>\n",
       "      <td>250.0</td>\n",
       "      <td>1.0</td>\n",
       "      <td>21.168415</td>\n",
       "      <td>105.688573</td>\n",
       "      <td>4839</td>\n",
       "      <td>Không có thông tin</td>\n",
       "      <td>0.000059</td>\n",
       "      <td>21.16081</td>\n",
       "      <td>105.68960</td>\n",
       "      <td>852.306909</td>\n",
       "      <td>416058.0</td>\n",
       "      <td>230599.0</td>\n",
       "      <td>signalLv0</td>\n",
       "      <td>Rất tốt</td>\n",
       "      <td>008837</td>\n",
       "    </tr>\n",
       "    <tr>\n",
       "      <th>622</th>\n",
       "      <td>622</td>\n",
       "      <td>Tỉnh Hà Giang</td>\n",
       "      <td>Huyện Mèo Vạc</td>\n",
       "      <td>Tả Lủng</td>\n",
       "      <td>3008</td>\n",
       "      <td>796.0</td>\n",
       "      <td>NaN</td>\n",
       "      <td>Xã</td>\n",
       "      <td>27.0</td>\n",
       "      <td>2.0</td>\n",
       "      <td>23.153889</td>\n",
       "      <td>105.386111</td>\n",
       "      <td>1827</td>\n",
       "      <td>Không có thông tin</td>\n",
       "      <td>0.000014</td>\n",
       "      <td>23.15536</td>\n",
       "      <td>105.38272</td>\n",
       "      <td>383.351581</td>\n",
       "      <td>NaN</td>\n",
       "      <td>NaN</td>\n",
       "      <td>signalLv0</td>\n",
       "      <td>Không có thông tin</td>\n",
       "      <td>000000</td>\n",
       "    </tr>\n",
       "    <tr>\n",
       "      <th>...</th>\n",
       "      <td>...</td>\n",
       "      <td>...</td>\n",
       "      <td>...</td>\n",
       "      <td>...</td>\n",
       "      <td>...</td>\n",
       "      <td>...</td>\n",
       "      <td>...</td>\n",
       "      <td>...</td>\n",
       "      <td>...</td>\n",
       "      <td>...</td>\n",
       "      <td>...</td>\n",
       "      <td>...</td>\n",
       "      <td>...</td>\n",
       "      <td>...</td>\n",
       "      <td>...</td>\n",
       "      <td>...</td>\n",
       "      <td>...</td>\n",
       "      <td>...</td>\n",
       "      <td>...</td>\n",
       "      <td>...</td>\n",
       "      <td>...</td>\n",
       "      <td>...</td>\n",
       "      <td>...</td>\n",
       "    </tr>\n",
       "    <tr>\n",
       "      <th>8627</th>\n",
       "      <td>8627</td>\n",
       "      <td>Tỉnh Lâm Đồng</td>\n",
       "      <td>Huyện Di Linh</td>\n",
       "      <td>Tam Bố</td>\n",
       "      <td>6777</td>\n",
       "      <td>25021.0</td>\n",
       "      <td>NaN</td>\n",
       "      <td>Xã</td>\n",
       "      <td>679.0</td>\n",
       "      <td>68.0</td>\n",
       "      <td>11.508610</td>\n",
       "      <td>108.230830</td>\n",
       "      <td>7949</td>\n",
       "      <td>Không có thông tin</td>\n",
       "      <td>0.001055</td>\n",
       "      <td>11.47926</td>\n",
       "      <td>108.21691</td>\n",
       "      <td>3598.827131</td>\n",
       "      <td>NaN</td>\n",
       "      <td>NaN</td>\n",
       "      <td>signalLv0</td>\n",
       "      <td>Không có thông tin</td>\n",
       "      <td>000000</td>\n",
       "    </tr>\n",
       "    <tr>\n",
       "      <th>8631</th>\n",
       "      <td>8631</td>\n",
       "      <td>Tỉnh Lâm Đồng</td>\n",
       "      <td>Huyện Di Linh</td>\n",
       "      <td>Bảo Thuận</td>\n",
       "      <td>7374</td>\n",
       "      <td>25033.0</td>\n",
       "      <td>NaN</td>\n",
       "      <td>Xã</td>\n",
       "      <td>679.0</td>\n",
       "      <td>68.0</td>\n",
       "      <td>11.447220</td>\n",
       "      <td>108.162500</td>\n",
       "      <td>7684</td>\n",
       "      <td>Không có thông tin</td>\n",
       "      <td>0.000114</td>\n",
       "      <td>11.45455</td>\n",
       "      <td>108.15473</td>\n",
       "      <td>1175.316721</td>\n",
       "      <td>NaN</td>\n",
       "      <td>NaN</td>\n",
       "      <td>signalLv0</td>\n",
       "      <td>Không có thông tin</td>\n",
       "      <td>000000</td>\n",
       "    </tr>\n",
       "    <tr>\n",
       "      <th>8637</th>\n",
       "      <td>8637</td>\n",
       "      <td>Tỉnh Lâm Đồng</td>\n",
       "      <td>Huyện Di Linh</td>\n",
       "      <td>Gia Bắc</td>\n",
       "      <td>3165</td>\n",
       "      <td>25051.0</td>\n",
       "      <td>NaN</td>\n",
       "      <td>Xã</td>\n",
       "      <td>679.0</td>\n",
       "      <td>68.0</td>\n",
       "      <td>11.316670</td>\n",
       "      <td>108.105830</td>\n",
       "      <td>7950</td>\n",
       "      <td>Không có thông tin</td>\n",
       "      <td>0.000452</td>\n",
       "      <td>11.33601</td>\n",
       "      <td>108.09699</td>\n",
       "      <td>2356.616352</td>\n",
       "      <td>NaN</td>\n",
       "      <td>NaN</td>\n",
       "      <td>signalLv0</td>\n",
       "      <td>Không có thông tin</td>\n",
       "      <td>000000</td>\n",
       "    </tr>\n",
       "    <tr>\n",
       "      <th>9133</th>\n",
       "      <td>9133</td>\n",
       "      <td>Tỉnh Đồng Nai</td>\n",
       "      <td>Huyện Xuân Lộc</td>\n",
       "      <td>Xuân Hòa</td>\n",
       "      <td>11737</td>\n",
       "      <td>26443.0</td>\n",
       "      <td>NaN</td>\n",
       "      <td>Xã</td>\n",
       "      <td>741.0</td>\n",
       "      <td>75.0</td>\n",
       "      <td>10.878441</td>\n",
       "      <td>107.548230</td>\n",
       "      <td>8262</td>\n",
       "      <td>Không có thông tin</td>\n",
       "      <td>0.000181</td>\n",
       "      <td>10.86499</td>\n",
       "      <td>107.54764</td>\n",
       "      <td>1497.053007</td>\n",
       "      <td>NaN</td>\n",
       "      <td>NaN</td>\n",
       "      <td>signalLv0</td>\n",
       "      <td>Không có thông tin</td>\n",
       "      <td>000000</td>\n",
       "    </tr>\n",
       "    <tr>\n",
       "      <th>10699</th>\n",
       "      <td>10699</td>\n",
       "      <td>Tỉnh Kiên Giang</td>\n",
       "      <td>Huyện Phú Quốc</td>\n",
       "      <td>Bãi Thơm</td>\n",
       "      <td>4051</td>\n",
       "      <td>NaN</td>\n",
       "      <td>NaN</td>\n",
       "      <td>NaN</td>\n",
       "      <td>NaN</td>\n",
       "      <td>NaN</td>\n",
       "      <td>10.341129</td>\n",
       "      <td>104.013512</td>\n",
       "      <td>-1</td>\n",
       "      <td>Khá</td>\n",
       "      <td>NaN</td>\n",
       "      <td>21.15035</td>\n",
       "      <td>107.36734</td>\n",
       "      <td>NaN</td>\n",
       "      <td>413634.0</td>\n",
       "      <td>247007.0</td>\n",
       "      <td>signalLv0</td>\n",
       "      <td>Khá</td>\n",
       "      <td>FDB863</td>\n",
       "    </tr>\n",
       "  </tbody>\n",
       "</table>\n",
       "<p>574 rows × 23 columns</p>\n",
       "</div>"
      ],
      "text/plain": [
       "       Unnamed: 0              ADM1            ADM2       ADM3  ...         y      level               label colorCode\n",
       "137           137  Thành phố Hà Nội   Huyện Sóc Sơn    Bắc Phú  ...  230417.0  signalLv0                 Tốt    A6DBA0\n",
       "244           244  Thành phố Hà Nội   Huyện Mê Linh   Thạch Đà  ...  230587.0  signalLv0                 Khá    FDB863\n",
       "251           251  Thành phố Hà Nội   Huyện Mê Linh    Vạn Yên  ...  230537.0  signalLv0                 Khá    FDB863\n",
       "256           256  Thành phố Hà Nội   Huyện Mê Linh  Hoàng Kim  ...  230599.0  signalLv0             Rất tốt    008837\n",
       "622           622     Tỉnh Hà Giang   Huyện Mèo Vạc    Tả Lủng  ...       NaN  signalLv0  Không có thông tin    000000\n",
       "...           ...               ...             ...        ...  ...       ...        ...                 ...       ...\n",
       "8627         8627     Tỉnh Lâm Đồng   Huyện Di Linh     Tam Bố  ...       NaN  signalLv0  Không có thông tin    000000\n",
       "8631         8631     Tỉnh Lâm Đồng   Huyện Di Linh  Bảo Thuận  ...       NaN  signalLv0  Không có thông tin    000000\n",
       "8637         8637     Tỉnh Lâm Đồng   Huyện Di Linh    Gia Bắc  ...       NaN  signalLv0  Không có thông tin    000000\n",
       "9133         9133     Tỉnh Đồng Nai  Huyện Xuân Lộc   Xuân Hòa  ...       NaN  signalLv0  Không có thông tin    000000\n",
       "10699       10699   Tỉnh Kiên Giang  Huyện Phú Quốc   Bãi Thơm  ...  247007.0  signalLv0                 Khá    FDB863\n",
       "\n",
       "[574 rows x 23 columns]"
      ]
     },
     "execution_count": 99,
     "metadata": {},
     "output_type": "execute_result"
    }
   ],
   "source": [
    "#df_ds_signals[df_ds_signals[\"label\"]==\"Không có thông tin\"][[\"lat\",\"lon\"]] = results_google\n",
    "df_x = df_ds_signals.copy()\n",
    "df_x.loc[df_ds_signals[\"label\"]==\"Không có thông tin\", \"x\"] = pd.DataFrame([ast.literal_eval(signal) for signal in signals])[[\"x\", \"y\", \"level\", \"label\", \"colorCode\"]].values[:,0]\n",
    "df_x.loc[df_ds_signals[\"label\"]==\"Không có thông tin\", \"y\"] = pd.DataFrame([ast.literal_eval(signal) for signal in signals])[[\"x\", \"y\", \"level\", \"label\", \"colorCode\"]].values[:,1]\n",
    "#df_x.loc[df_ds_signals[\"label\"]==\"Không có thông tin\", \"level\"] = pd.DataFrame([ast.literal_eval(signal) for signal in signals])[[\"x\", \"y\", \"level\", \"label\", \"colorCode\"]].values[:,2]\n",
    "df_x.loc[df_ds_signals[\"label\"]==\"Không có thông tin\", \"label\"] = pd.DataFrame([ast.literal_eval(signal) for signal in signals])[[\"x\", \"y\", \"level\", \"label\", \"colorCode\"]].values[:,3]\n",
    "df_x.loc[df_ds_signals[\"label\"]==\"Không có thông tin\", \"colorCode\"] = pd.DataFrame([ast.literal_eval(signal) for signal in signals])[[\"x\", \"y\", \"level\", \"label\", \"colorCode\"]].values[:,4]\n",
    "\n",
    "\n",
    "\n",
    "df_x[df_ds_signals[\"label\"]==\"Không có thông tin\"]"
   ]
  },
  {
   "cell_type": "code",
   "execution_count": 100,
   "id": "0264fcfc-d73f-4524-ba37-5d14f90f4b87",
   "metadata": {
    "tags": []
   },
   "outputs": [
    {
     "data": {
      "text/plain": [
       "label\n",
       "Khá                   11033203\n",
       "Không có thông tin     1913121\n",
       "Rất tốt               59264147\n",
       "Tốt                   21847390\n",
       "Yếu                     514791\n",
       "Name: Pop, dtype: int64"
      ]
     },
     "execution_count": 100,
     "metadata": {},
     "output_type": "execute_result"
    }
   ],
   "source": [
    "df_x.drop_duplicates(subset=[\"ADM1\", \"ADM2\", \"ADM3\", \"Pop\"]).groupby(\"label\").Pop.sum()"
   ]
  },
  {
   "cell_type": "code",
   "execution_count": 102,
   "id": "8722cd65-aa35-4555-ab90-451572cf9a10",
   "metadata": {
    "tags": []
   },
   "outputs": [],
   "source": [
    "df_x.to_csv(\"ds_toado_signal_final_10_11_2023.csv\", index=None)"
   ]
  },
  {
   "cell_type": "code",
   "execution_count": 103,
   "id": "8c428f43-bd81-4f9e-98b7-03c36c754844",
   "metadata": {
    "tags": []
   },
   "outputs": [
    {
     "data": {
      "text/html": [
       "<div>\n",
       "<style scoped>\n",
       "    .dataframe tbody tr th:only-of-type {\n",
       "        vertical-align: middle;\n",
       "    }\n",
       "\n",
       "    .dataframe tbody tr th {\n",
       "        vertical-align: top;\n",
       "    }\n",
       "\n",
       "    .dataframe thead th {\n",
       "        text-align: right;\n",
       "    }\n",
       "</style>\n",
       "<table border=\"1\" class=\"dataframe\">\n",
       "  <thead>\n",
       "    <tr style=\"text-align: right;\">\n",
       "      <th></th>\n",
       "      <th>Unnamed: 0</th>\n",
       "      <th>ADM1</th>\n",
       "      <th>ADM2</th>\n",
       "      <th>ADM3</th>\n",
       "      <th>Pop</th>\n",
       "      <th>Mã</th>\n",
       "      <th>Tên Tiếng Anh</th>\n",
       "      <th>Cấp</th>\n",
       "      <th>Mã QH</th>\n",
       "      <th>Mã TP</th>\n",
       "      <th>lat</th>\n",
       "      <th>lon</th>\n",
       "      <th>most_similar</th>\n",
       "      <th>level</th>\n",
       "      <th>most_similar_d</th>\n",
       "      <th>lat_m</th>\n",
       "      <th>lon_m</th>\n",
       "      <th>closest_distance</th>\n",
       "      <th>x</th>\n",
       "      <th>y</th>\n",
       "      <th>level</th>\n",
       "      <th>label</th>\n",
       "      <th>colorCode</th>\n",
       "    </tr>\n",
       "  </thead>\n",
       "  <tbody>\n",
       "    <tr>\n",
       "      <th>622</th>\n",
       "      <td>622</td>\n",
       "      <td>Tỉnh Hà Giang</td>\n",
       "      <td>Huyện Mèo Vạc</td>\n",
       "      <td>Tả Lủng</td>\n",
       "      <td>3008</td>\n",
       "      <td>796.0</td>\n",
       "      <td>NaN</td>\n",
       "      <td>Xã</td>\n",
       "      <td>27.0</td>\n",
       "      <td>2.0</td>\n",
       "      <td>23.153889</td>\n",
       "      <td>105.386111</td>\n",
       "      <td>1827</td>\n",
       "      <td>Không có thông tin</td>\n",
       "      <td>0.000014</td>\n",
       "      <td>23.15536</td>\n",
       "      <td>105.38272</td>\n",
       "      <td>383.351581</td>\n",
       "      <td>NaN</td>\n",
       "      <td>NaN</td>\n",
       "      <td>signalLv0</td>\n",
       "      <td>Không có thông tin</td>\n",
       "      <td>000000</td>\n",
       "    </tr>\n",
       "    <tr>\n",
       "      <th>644</th>\n",
       "      <td>644</td>\n",
       "      <td>Tỉnh Hà Giang</td>\n",
       "      <td>Huyện Yên Minh</td>\n",
       "      <td>Ngọc Long</td>\n",
       "      <td>9058</td>\n",
       "      <td>859.0</td>\n",
       "      <td>NaN</td>\n",
       "      <td>Xã</td>\n",
       "      <td>28.0</td>\n",
       "      <td>2.0</td>\n",
       "      <td>22.989167</td>\n",
       "      <td>105.323333</td>\n",
       "      <td>453</td>\n",
       "      <td>Không có thông tin</td>\n",
       "      <td>0.000083</td>\n",
       "      <td>22.99185</td>\n",
       "      <td>105.33202</td>\n",
       "      <td>937.918875</td>\n",
       "      <td>NaN</td>\n",
       "      <td>NaN</td>\n",
       "      <td>signalLv0</td>\n",
       "      <td>Không có thông tin</td>\n",
       "      <td>000000</td>\n",
       "    </tr>\n",
       "    <tr>\n",
       "      <th>647</th>\n",
       "      <td>647</td>\n",
       "      <td>Tỉnh Hà Giang</td>\n",
       "      <td>Huyện Yên Minh</td>\n",
       "      <td>Du Tiến</td>\n",
       "      <td>4821</td>\n",
       "      <td>868.0</td>\n",
       "      <td>NaN</td>\n",
       "      <td>Xã</td>\n",
       "      <td>28.0</td>\n",
       "      <td>2.0</td>\n",
       "      <td>22.921667</td>\n",
       "      <td>105.290000</td>\n",
       "      <td>1835</td>\n",
       "      <td>Không có thông tin</td>\n",
       "      <td>0.000027</td>\n",
       "      <td>22.92396</td>\n",
       "      <td>105.28531</td>\n",
       "      <td>543.816951</td>\n",
       "      <td>NaN</td>\n",
       "      <td>NaN</td>\n",
       "      <td>signalLv0</td>\n",
       "      <td>Không có thông tin</td>\n",
       "      <td>000000</td>\n",
       "    </tr>\n",
       "    <tr>\n",
       "      <th>667</th>\n",
       "      <td>667</td>\n",
       "      <td>Tỉnh Hà Giang</td>\n",
       "      <td>Huyện Vị Xuyên</td>\n",
       "      <td>Minh Tân</td>\n",
       "      <td>6602</td>\n",
       "      <td>919.0</td>\n",
       "      <td>NaN</td>\n",
       "      <td>Xã</td>\n",
       "      <td>30.0</td>\n",
       "      <td>2.0</td>\n",
       "      <td>22.968889</td>\n",
       "      <td>104.907222</td>\n",
       "      <td>1851</td>\n",
       "      <td>Khá</td>\n",
       "      <td>0.004578</td>\n",
       "      <td>23.01506</td>\n",
       "      <td>104.85776</td>\n",
       "      <td>7210.557048</td>\n",
       "      <td>NaN</td>\n",
       "      <td>NaN</td>\n",
       "      <td>signalLv0</td>\n",
       "      <td>Không có thông tin</td>\n",
       "      <td>000000</td>\n",
       "    </tr>\n",
       "    <tr>\n",
       "      <th>684</th>\n",
       "      <td>684</td>\n",
       "      <td>Tỉnh Hà Giang</td>\n",
       "      <td>Huyện Vị Xuyên</td>\n",
       "      <td>Bạch Ngọc</td>\n",
       "      <td>4215</td>\n",
       "      <td>976.0</td>\n",
       "      <td>NaN</td>\n",
       "      <td>Xã</td>\n",
       "      <td>30.0</td>\n",
       "      <td>2.0</td>\n",
       "      <td>22.564444</td>\n",
       "      <td>105.059167</td>\n",
       "      <td>449</td>\n",
       "      <td>Không có thông tin</td>\n",
       "      <td>0.000147</td>\n",
       "      <td>22.57049</td>\n",
       "      <td>105.06966</td>\n",
       "      <td>1269.966849</td>\n",
       "      <td>NaN</td>\n",
       "      <td>NaN</td>\n",
       "      <td>signalLv0</td>\n",
       "      <td>Không có thông tin</td>\n",
       "      <td>000000</td>\n",
       "    </tr>\n",
       "    <tr>\n",
       "      <th>...</th>\n",
       "      <td>...</td>\n",
       "      <td>...</td>\n",
       "      <td>...</td>\n",
       "      <td>...</td>\n",
       "      <td>...</td>\n",
       "      <td>...</td>\n",
       "      <td>...</td>\n",
       "      <td>...</td>\n",
       "      <td>...</td>\n",
       "      <td>...</td>\n",
       "      <td>...</td>\n",
       "      <td>...</td>\n",
       "      <td>...</td>\n",
       "      <td>...</td>\n",
       "      <td>...</td>\n",
       "      <td>...</td>\n",
       "      <td>...</td>\n",
       "      <td>...</td>\n",
       "      <td>...</td>\n",
       "      <td>...</td>\n",
       "      <td>...</td>\n",
       "      <td>...</td>\n",
       "      <td>...</td>\n",
       "    </tr>\n",
       "    <tr>\n",
       "      <th>8620</th>\n",
       "      <td>8620</td>\n",
       "      <td>Tỉnh Lâm Đồng</td>\n",
       "      <td>Huyện Di Linh</td>\n",
       "      <td>Đinh Trang Thượng</td>\n",
       "      <td>3571</td>\n",
       "      <td>25003.0</td>\n",
       "      <td>NaN</td>\n",
       "      <td>Xã</td>\n",
       "      <td>679.0</td>\n",
       "      <td>68.0</td>\n",
       "      <td>11.762780</td>\n",
       "      <td>107.950280</td>\n",
       "      <td>7942</td>\n",
       "      <td>Không có thông tin</td>\n",
       "      <td>0.000018</td>\n",
       "      <td>11.76003</td>\n",
       "      <td>107.94708</td>\n",
       "      <td>463.524617</td>\n",
       "      <td>NaN</td>\n",
       "      <td>NaN</td>\n",
       "      <td>signalLv0</td>\n",
       "      <td>Không có thông tin</td>\n",
       "      <td>000000</td>\n",
       "    </tr>\n",
       "    <tr>\n",
       "      <th>8627</th>\n",
       "      <td>8627</td>\n",
       "      <td>Tỉnh Lâm Đồng</td>\n",
       "      <td>Huyện Di Linh</td>\n",
       "      <td>Tam Bố</td>\n",
       "      <td>6777</td>\n",
       "      <td>25021.0</td>\n",
       "      <td>NaN</td>\n",
       "      <td>Xã</td>\n",
       "      <td>679.0</td>\n",
       "      <td>68.0</td>\n",
       "      <td>11.508610</td>\n",
       "      <td>108.230830</td>\n",
       "      <td>7949</td>\n",
       "      <td>Không có thông tin</td>\n",
       "      <td>0.001055</td>\n",
       "      <td>11.47926</td>\n",
       "      <td>108.21691</td>\n",
       "      <td>3598.827131</td>\n",
       "      <td>NaN</td>\n",
       "      <td>NaN</td>\n",
       "      <td>signalLv0</td>\n",
       "      <td>Không có thông tin</td>\n",
       "      <td>000000</td>\n",
       "    </tr>\n",
       "    <tr>\n",
       "      <th>8631</th>\n",
       "      <td>8631</td>\n",
       "      <td>Tỉnh Lâm Đồng</td>\n",
       "      <td>Huyện Di Linh</td>\n",
       "      <td>Bảo Thuận</td>\n",
       "      <td>7374</td>\n",
       "      <td>25033.0</td>\n",
       "      <td>NaN</td>\n",
       "      <td>Xã</td>\n",
       "      <td>679.0</td>\n",
       "      <td>68.0</td>\n",
       "      <td>11.447220</td>\n",
       "      <td>108.162500</td>\n",
       "      <td>7684</td>\n",
       "      <td>Không có thông tin</td>\n",
       "      <td>0.000114</td>\n",
       "      <td>11.45455</td>\n",
       "      <td>108.15473</td>\n",
       "      <td>1175.316721</td>\n",
       "      <td>NaN</td>\n",
       "      <td>NaN</td>\n",
       "      <td>signalLv0</td>\n",
       "      <td>Không có thông tin</td>\n",
       "      <td>000000</td>\n",
       "    </tr>\n",
       "    <tr>\n",
       "      <th>8637</th>\n",
       "      <td>8637</td>\n",
       "      <td>Tỉnh Lâm Đồng</td>\n",
       "      <td>Huyện Di Linh</td>\n",
       "      <td>Gia Bắc</td>\n",
       "      <td>3165</td>\n",
       "      <td>25051.0</td>\n",
       "      <td>NaN</td>\n",
       "      <td>Xã</td>\n",
       "      <td>679.0</td>\n",
       "      <td>68.0</td>\n",
       "      <td>11.316670</td>\n",
       "      <td>108.105830</td>\n",
       "      <td>7950</td>\n",
       "      <td>Không có thông tin</td>\n",
       "      <td>0.000452</td>\n",
       "      <td>11.33601</td>\n",
       "      <td>108.09699</td>\n",
       "      <td>2356.616352</td>\n",
       "      <td>NaN</td>\n",
       "      <td>NaN</td>\n",
       "      <td>signalLv0</td>\n",
       "      <td>Không có thông tin</td>\n",
       "      <td>000000</td>\n",
       "    </tr>\n",
       "    <tr>\n",
       "      <th>9133</th>\n",
       "      <td>9133</td>\n",
       "      <td>Tỉnh Đồng Nai</td>\n",
       "      <td>Huyện Xuân Lộc</td>\n",
       "      <td>Xuân Hòa</td>\n",
       "      <td>11737</td>\n",
       "      <td>26443.0</td>\n",
       "      <td>NaN</td>\n",
       "      <td>Xã</td>\n",
       "      <td>741.0</td>\n",
       "      <td>75.0</td>\n",
       "      <td>10.878441</td>\n",
       "      <td>107.548230</td>\n",
       "      <td>8262</td>\n",
       "      <td>Không có thông tin</td>\n",
       "      <td>0.000181</td>\n",
       "      <td>10.86499</td>\n",
       "      <td>107.54764</td>\n",
       "      <td>1497.053007</td>\n",
       "      <td>NaN</td>\n",
       "      <td>NaN</td>\n",
       "      <td>signalLv0</td>\n",
       "      <td>Không có thông tin</td>\n",
       "      <td>000000</td>\n",
       "    </tr>\n",
       "  </tbody>\n",
       "</table>\n",
       "<p>493 rows × 23 columns</p>\n",
       "</div>"
      ],
      "text/plain": [
       "      Unnamed: 0           ADM1            ADM2               ADM3  ...    y      level               label colorCode\n",
       "622          622  Tỉnh Hà Giang   Huyện Mèo Vạc            Tả Lủng  ...  NaN  signalLv0  Không có thông tin    000000\n",
       "644          644  Tỉnh Hà Giang  Huyện Yên Minh          Ngọc Long  ...  NaN  signalLv0  Không có thông tin    000000\n",
       "647          647  Tỉnh Hà Giang  Huyện Yên Minh            Du Tiến  ...  NaN  signalLv0  Không có thông tin    000000\n",
       "667          667  Tỉnh Hà Giang  Huyện Vị Xuyên           Minh Tân  ...  NaN  signalLv0  Không có thông tin    000000\n",
       "684          684  Tỉnh Hà Giang  Huyện Vị Xuyên          Bạch Ngọc  ...  NaN  signalLv0  Không có thông tin    000000\n",
       "...          ...            ...             ...                ...  ...  ...        ...                 ...       ...\n",
       "8620        8620  Tỉnh Lâm Đồng   Huyện Di Linh  Đinh Trang Thượng  ...  NaN  signalLv0  Không có thông tin    000000\n",
       "8627        8627  Tỉnh Lâm Đồng   Huyện Di Linh             Tam Bố  ...  NaN  signalLv0  Không có thông tin    000000\n",
       "8631        8631  Tỉnh Lâm Đồng   Huyện Di Linh          Bảo Thuận  ...  NaN  signalLv0  Không có thông tin    000000\n",
       "8637        8637  Tỉnh Lâm Đồng   Huyện Di Linh            Gia Bắc  ...  NaN  signalLv0  Không có thông tin    000000\n",
       "9133        9133  Tỉnh Đồng Nai  Huyện Xuân Lộc           Xuân Hòa  ...  NaN  signalLv0  Không có thông tin    000000\n",
       "\n",
       "[493 rows x 23 columns]"
      ]
     },
     "execution_count": 103,
     "metadata": {},
     "output_type": "execute_result"
    }
   ],
   "source": [
    "df_x[df_x[\"label\"] == \"Không có thông tin\"]"
   ]
  },
  {
   "cell_type": "code",
   "execution_count": null,
   "id": "42404d6e-351f-4c43-a4db-ca8833bba8e9",
   "metadata": {},
   "outputs": [],
   "source": [
    "import math\n",
    "\n",
    "def haversine_df(df, lat2, lon2):\n",
    "    return df.apply(\n",
    "        lambda x: haversine(x[\"lat\"], x[\"long\"], lat2, lon2),\n",
    "        axis=1\n",
    "    )\n",
    "\n",
    "def haversine(lat1, lon1, lat2, lon2):\n",
    "    # Radius of the Earth in km\n",
    "    R = 6371.0\n",
    "\n",
    "    # Convert latitude and longitude from degrees to radians\n",
    "    lat1_rad = math.radians(lat1)\n",
    "    lon1_rad = math.radians(lon1)\n",
    "    lat2_rad = math.radians(lat2)\n",
    "    lon2_rad = math.radians(lon2)\n",
    "\n",
    "    # Difference in coordinates\n",
    "    dlat = lat2_rad - lat1_rad\n",
    "    dlon = lon2_rad - lon1_rad\n",
    "\n",
    "    # Haversine formula\n",
    "    a = math.sin(dlat / 2)**2 + math.cos(lat1_rad) * math.cos(lat2_rad) * math.sin(dlon / 2)**2\n",
    "    c = 2 * math.atan2(math.sqrt(a), math.sqrt(1 - a))\n",
    "    distance = R * c\n",
    "\n",
    "    # Convert distance from km to meters\n",
    "    return distance * 1000\n",
    "\n",
    "df_finally[\"most_similar_d\"] = df_finally[[\"lat\",\"lon\"]].apply(\n",
    "    lambda x: haversine_df(\n",
    "        df_signals_lat_long,\n",
    "        x[\"lat\"], x[\"lon\"]\n",
    "    ).min(),\n",
    "    axis=1\n",
    ")\n"
   ]
  }
 ],
 "metadata": {
  "kernelspec": {
   "display_name": "Python 3 (ipykernel)",
   "language": "python",
   "name": "python3"
  },
  "language_info": {
   "codemirror_mode": {
    "name": "ipython",
    "version": 3
   },
   "file_extension": ".py",
   "mimetype": "text/x-python",
   "name": "python",
   "nbconvert_exporter": "python",
   "pygments_lexer": "ipython3",
   "version": "3.8.0"
  }
 },
 "nbformat": 4,
 "nbformat_minor": 5
}
